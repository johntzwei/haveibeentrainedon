{
 "cells": [
  {
   "cell_type": "code",
   "execution_count": 1,
   "id": "f8bab71b",
   "metadata": {
    "execution": {
     "iopub.execute_input": "2023-11-14T10:22:06.292134Z",
     "iopub.status.busy": "2023-11-14T10:22:06.291386Z",
     "iopub.status.idle": "2023-11-14T10:22:11.376909Z",
     "shell.execute_reply": "2023-11-14T10:22:11.373618Z"
    },
    "papermill": {
     "duration": 5.104774,
     "end_time": "2023-11-14T10:22:11.381644",
     "exception": false,
     "start_time": "2023-11-14T10:22:06.276870",
     "status": "completed"
    },
    "tags": []
   },
   "outputs": [],
   "source": [
    "import csv\n",
    "import numpy as np\n",
    "import pandas as pd\n",
    "from tqdm.notebook import tqdm\n",
    "import datasets\n",
    "\n",
    "import torch\n",
    "from transformers import AutoModelForCausalLM, AutoTokenizer"
   ]
  },
  {
   "cell_type": "code",
   "execution_count": 2,
   "id": "1ecf1c79",
   "metadata": {
    "execution": {
     "iopub.execute_input": "2023-11-14T10:22:11.411473Z",
     "iopub.status.busy": "2023-11-14T10:22:11.407961Z",
     "iopub.status.idle": "2023-11-14T10:22:11.420190Z",
     "shell.execute_reply": "2023-11-14T10:22:11.418625Z"
    },
    "papermill": {
     "duration": 0.029835,
     "end_time": "2023-11-14T10:22:11.423536",
     "exception": false,
     "start_time": "2023-11-14T10:22:11.393701",
     "status": "completed"
    },
    "tags": [
     "parameters"
    ]
   },
   "outputs": [],
   "source": [
    "device = 'cuda'\n",
    "model_name = '../../runs/wikitext/wikitext:1'\n",
    "gpt2_tokenizer = True\n",
    "model_precision = \"float16\"\n",
    "max_length = 512\n",
    "input_fn = './data/samples_wikitext:1.csv'\n",
    "output_fn = f'./scores/scores_wikitext:1.csv'"
   ]
  },
  {
   "cell_type": "code",
   "execution_count": 3,
   "id": "5fa3fa31",
   "metadata": {
    "execution": {
     "iopub.execute_input": "2023-11-14T10:22:11.444439Z",
     "iopub.status.busy": "2023-11-14T10:22:11.442906Z",
     "iopub.status.idle": "2023-11-14T10:22:11.449071Z",
     "shell.execute_reply": "2023-11-14T10:22:11.447861Z"
    },
    "papermill": {
     "duration": 0.019111,
     "end_time": "2023-11-14T10:22:11.452292",
     "exception": false,
     "start_time": "2023-11-14T10:22:11.433181",
     "status": "completed"
    },
    "tags": [
     "injected-parameters"
    ]
   },
   "outputs": [],
   "source": [
    "# Parameters\n",
    "model_name = \"/home/johnny/gpt-neox/haveibeentrainedon/acl2024/strong_subs/data/frac:1/70M\"\n",
    "input_fn = \"/home/johnny/gpt-neox/haveibeentrainedon/acl2024/strong_subs/data/frac:1/samples.csv\"\n",
    "output_fn = \"/home/johnny/gpt-neox/haveibeentrainedon/acl2024/strong_subs/scores/scores:1.csv\"\n"
   ]
  },
  {
   "cell_type": "code",
   "execution_count": 4,
   "id": "f00954e9",
   "metadata": {
    "execution": {
     "iopub.execute_input": "2023-11-14T10:22:11.470693Z",
     "iopub.status.busy": "2023-11-14T10:22:11.469515Z",
     "iopub.status.idle": "2023-11-14T10:22:12.342073Z",
     "shell.execute_reply": "2023-11-14T10:22:12.340968Z"
    },
    "papermill": {
     "duration": 0.884963,
     "end_time": "2023-11-14T10:22:12.345918",
     "exception": false,
     "start_time": "2023-11-14T10:22:11.460955",
     "status": "completed"
    },
    "tags": []
   },
   "outputs": [],
   "source": [
    "if gpt2_tokenizer:\n",
    "    tokenizer = AutoTokenizer.from_pretrained('gpt2')\n",
    "else:\n",
    "    tokenizer = AutoTokenizer.from_pretrained(model_name)"
   ]
  },
  {
   "cell_type": "code",
   "execution_count": 5,
   "id": "4c1e2d94",
   "metadata": {
    "execution": {
     "iopub.execute_input": "2023-11-14T10:22:12.365675Z",
     "iopub.status.busy": "2023-11-14T10:22:12.364584Z",
     "iopub.status.idle": "2023-11-14T10:22:23.964618Z",
     "shell.execute_reply": "2023-11-14T10:22:23.963285Z"
    },
    "papermill": {
     "duration": 11.611123,
     "end_time": "2023-11-14T10:22:23.966679",
     "exception": false,
     "start_time": "2023-11-14T10:22:12.355556",
     "status": "completed"
    },
    "tags": []
   },
   "outputs": [],
   "source": [
    "if model_precision == \"float16\":\n",
    "    model = AutoModelForCausalLM.from_pretrained(model_name, revision=\"float16\", torch_dtype=torch.float16,\n",
    "                                                 return_dict=True).to(device)\n",
    "else:\n",
    "    model = AutoModelForCausalLM.from_pretrained(model_name, return_dict=True).to(device)"
   ]
  },
  {
   "cell_type": "code",
   "execution_count": 6,
   "id": "6993801c",
   "metadata": {
    "execution": {
     "iopub.execute_input": "2023-11-14T10:22:23.983930Z",
     "iopub.status.busy": "2023-11-14T10:22:23.983095Z",
     "iopub.status.idle": "2023-11-14T10:22:26.181495Z",
     "shell.execute_reply": "2023-11-14T10:22:26.179960Z"
    },
    "papermill": {
     "duration": 2.209701,
     "end_time": "2023-11-14T10:22:26.185082",
     "exception": false,
     "start_time": "2023-11-14T10:22:23.975381",
     "status": "completed"
    },
    "tags": []
   },
   "outputs": [
    {
     "data": {
      "text/html": [
       "<div>\n",
       "<style scoped>\n",
       "    .dataframe tbody tr th:only-of-type {\n",
       "        vertical-align: middle;\n",
       "    }\n",
       "\n",
       "    .dataframe tbody tr th {\n",
       "        vertical-align: top;\n",
       "    }\n",
       "\n",
       "    .dataframe thead th {\n",
       "        text-align: right;\n",
       "    }\n",
       "</style>\n",
       "<table border=\"1\" class=\"dataframe\">\n",
       "  <thead>\n",
       "    <tr style=\"text-align: right;\">\n",
       "      <th></th>\n",
       "      <th>group</th>\n",
       "      <th>watermark</th>\n",
       "      <th>used?</th>\n",
       "    </tr>\n",
       "  </thead>\n",
       "  <tbody>\n",
       "    <tr>\n",
       "      <th>0</th>\n",
       "      <td>0</td>\n",
       "      <td>= Valkyria Chronicles III = \\n Senjō no Valky...</td>\n",
       "      <td>True</td>\n",
       "    </tr>\n",
       "  </tbody>\n",
       "</table>\n",
       "</div>"
      ],
      "text/plain": [
       "   group                                          watermark  used?\n",
       "0      0   = Valkyria Chronicles III = \\n Senjō no Valky...   True"
      ]
     },
     "execution_count": 6,
     "metadata": {},
     "output_type": "execute_result"
    }
   ],
   "source": [
    "df = pd.read_csv(input_fn)\n",
    "df.head(1)"
   ]
  },
  {
   "cell_type": "code",
   "execution_count": 7,
   "id": "2113cdf3",
   "metadata": {
    "execution": {
     "iopub.execute_input": "2023-11-14T10:22:26.206724Z",
     "iopub.status.busy": "2023-11-14T10:22:26.205911Z",
     "iopub.status.idle": "2023-11-14T10:22:26.214603Z",
     "shell.execute_reply": "2023-11-14T10:22:26.213592Z"
    },
    "papermill": {
     "duration": 0.020019,
     "end_time": "2023-11-14T10:22:26.216948",
     "exception": false,
     "start_time": "2023-11-14T10:22:26.196929",
     "status": "completed"
    },
    "tags": []
   },
   "outputs": [],
   "source": [
    "out_fh = open(output_fn, 'wt')\n",
    "out = csv.writer(out_fh)"
   ]
  },
  {
   "cell_type": "code",
   "execution_count": 8,
   "id": "ae1cef3b",
   "metadata": {
    "execution": {
     "iopub.execute_input": "2023-11-14T10:22:26.240966Z",
     "iopub.status.busy": "2023-11-14T10:22:26.240193Z",
     "iopub.status.idle": "2023-11-14T10:23:40.460015Z",
     "shell.execute_reply": "2023-11-14T10:23:40.458732Z"
    },
    "papermill": {
     "duration": 74.236106,
     "end_time": "2023-11-14T10:23:40.463799",
     "exception": false,
     "start_time": "2023-11-14T10:22:26.227693",
     "status": "completed"
    },
    "tags": []
   },
   "outputs": [
    {
     "data": {
      "application/vnd.jupyter.widget-view+json": {
       "model_id": "b347957c4ba14a1090e36495f65f5521",
       "version_major": 2,
       "version_minor": 0
      },
      "text/plain": [
       "  0%|          | 0/4053 [00:00<?, ?it/s]"
      ]
     },
     "metadata": {},
     "output_type": "display_data"
    },
    {
     "name": "stderr",
     "output_type": "stream",
     "text": [
      "Token indices sequence length is longer than the specified maximum sequence length for this model (4468 > 1024). Running this sequence through the model will result in indexing errors\n"
     ]
    },
    {
     "name": "stdout",
     "output_type": "stream",
     "text": [
      " = Valkyria Chronicles III = \n",
      " Senjō no Valkyria 3 : Unrecorded Chronicles ( Japanese : 戦場のヴァルキュリア3  5.8203125\n"
     ]
    },
    {
     "name": "stdout",
     "output_type": "stream",
     "text": [
      " = 2011 – 12 Columbus Blue Jackets season = \n",
      " The 2011 – 12 Columbus Blue Jackets season was the tea 4.6484375\n"
     ]
    },
    {
     "name": "stdout",
     "output_type": "stream",
     "text": [
      " = Ancient Egyptian deities = \n",
      " Ancient Egyptian deities are the gods and goddesses worshipped in an 5.40234375\n"
     ]
    },
    {
     "name": "stdout",
     "output_type": "stream",
     "text": [
      " = Treaty of Ciudad Juárez = \n",
      " The Treaty of Ciudad Juárez was a peace treaty signed between the the 5.31640625\n"
     ]
    },
    {
     "name": "stdout",
     "output_type": "stream",
     "text": [
      " = Devin Townsend = \n",
      " Devin Garret Townsend ( born May 5 , 1972 ) is a Canadian musician , songwrite 4.9453125\n"
     ]
    },
    {
     "name": "stdout",
     "output_type": "stream",
     "text": [
      " = Michael Jordan = \n",
      " Michael Jeffrey Jordan ( born February 17 , 1963 ) , also known by his initial 4.80078125\n"
     ]
    },
    {
     "name": "stdout",
     "output_type": "stream",
     "text": [
      " = Wrapped in Red = \n",
      " Wrapped in Red is the sixth studio album by American recording artist Kelly Cl 3.955078125\n"
     ]
    },
    {
     "name": "stdout",
     "output_type": "stream",
     "text": [
      " = Hadji Ali = \n",
      " Hadji Ali ( c . 1887 – 92 – November 5 , 1937 ) was a vaudeville performance artist 5.02734375\n"
     ]
    },
    {
     "name": "stdout",
     "output_type": "stream",
     "text": [
      " = Mortimer Wheeler = \n",
      " Sir Robert Eric Mortimer Wheeler CH , CIE , MC , TD , FSA , FRS , FBA ( 10 S 5.1640625\n"
     ]
    },
    {
     "name": "stdout",
     "output_type": "stream",
     "text": [
      " = The Fox , the Wolf and the Husbandman = \n",
      " The Fox , the Wolf and the Husbandman is a poem by the  5.4765625\n"
     ]
    },
    {
     "name": "stdout",
     "output_type": "stream",
     "text": [
      " = Livin ' the Dream = \n",
      " \" Livin ' the Dream \" is the twenty @-@ initial episode of the ninth season 4.58984375\n"
     ]
    },
    {
     "name": "stdout",
     "output_type": "stream",
     "text": [
      " = Shaoguan incident = \n",
      " The Shaoguan incident was a civil disturbance which took place overnight on 5.625\n"
     ]
    },
    {
     "name": "stdout",
     "output_type": "stream",
     "text": [
      " = Yamaha NS @-@ 10 = \n",
      " The Yamaha NS @-@ 10 is a loudspeaker that became a standard nearfield studi 5.4609375\n"
     ]
    },
    {
     "name": "stdout",
     "output_type": "stream",
     "text": [
      " = Of Human Feelings = \n",
      " Of Human Feelings is a studio album by American jazz saxophonist and compos 4.67578125\n"
     ]
    },
    {
     "name": "stdout",
     "output_type": "stream",
     "text": [
      " = World War Z = \n",
      " World War Z : An Oral History of the Zombie War ( 2006 ) is an apocalyptic horror 4.84375\n"
     ]
    },
    {
     "name": "stdout",
     "output_type": "stream",
     "text": [
      " = Frederick Reines = \n",
      " Frederick Reines ( RYE @-@ ness ) ; ( March 16 , 1918 – August 26 , 1998 ) w 4.9921875\n"
     ]
    },
    {
     "name": "stdout",
     "output_type": "stream",
     "text": [
      " = Lloyd Mathews = \n",
      " Sir Lloyd William Mathews , GCMG , CB ( 7 March 1850 – 11 October 1901 ) was a  5.046875\n"
     ]
    },
    {
     "name": "stdout",
     "output_type": "stream",
     "text": [
      " = Lost Horizons ( Lemon Jelly album ) = \n",
      " Lost Horizons is the second studio album from the British 4.14453125\n"
     ]
    },
    {
     "name": "stdout",
     "output_type": "stream",
     "text": [
      " = Hellblazer = \n",
      " Hellblazer ( also known as John Constantine , Hellblazer ) is an American contempo 5.0546875\n"
     ]
    },
    {
     "name": "stdout",
     "output_type": "stream",
     "text": [
      " = Mega Man & Bass = \n",
      " Mega Man & Bass , known in Japan as Rockman & Forte ( ロックマン & フォルテ , Rokkuman 5.05859375\n"
     ]
    },
    {
     "name": "stdout",
     "output_type": "stream",
     "text": [
      " = James Nesbitt = \n",
      " William James Nesbitt , OBE ( born 15 January 1965 ) is an actor and presenter  4.8515625\n"
     ]
    },
    {
     "name": "stdout",
     "output_type": "stream",
     "text": [
      " = Leslie Andrew = \n",
      " Brigadier Leslie Wilton Andrew VC DSO ( 23 March 1897 – 8 January 1969 ) was a  4.453125\n"
     ]
    },
    {
     "name": "stdout",
     "output_type": "stream",
     "text": [
      " = HMS Marlborough ( 1912 ) = \n",
      " HMS Marlborough was an Iron Duke @-@ class battleship of the British 4.23828125\n"
     ]
    },
    {
     "name": "stdout",
     "output_type": "stream",
     "text": [
      " = Frank Slide = \n",
      " The Frank Slide was a rockslide that buried part of the mining town of Frank , Al 5.0625\n"
     ]
    },
    {
     "name": "stdout",
     "output_type": "stream",
     "text": [
      " = You 're Gonna Love Tomorrow = \n",
      " \" You 're Gonna Love Tomorrow \" is the fifth season premiere epis 4.65234375\n"
     ]
    },
    {
     "name": "stdout",
     "output_type": "stream",
     "text": [
      " = The Food Album = \n",
      " The Food Album is a compilation album by American singer @-@ songwriter \" Weir 4.18359375\n"
     ]
    },
    {
     "name": "stdout",
     "output_type": "stream",
     "text": [
      " = 1981 Peach Bowl ( January ) = \n",
      " The 1981 Peach Bowl was a post @-@ season American college footba 4.71484375\n"
     ]
    },
    {
     "name": "stdout",
     "output_type": "stream",
     "text": [
      " = Action of 13 September 1810 = \n",
      " The Action of 13 September 1810 was an inconclusive frigate engag 5.40625\n"
     ]
    },
    {
     "name": "stdout",
     "output_type": "stream",
     "text": [
      " = Fort Glanville Conservation Park = \n",
      " Fort Glanville Conservation Park is a protected area located 5.2734375\n"
     ]
    },
    {
     "name": "stdout",
     "output_type": "stream",
     "text": [
      " = Ceratopsia = \n",
      " Ceratopsia or Ceratopia ( / ˌsɛrəˈtɒpsiə / or / ˌsɛrəˈtoʊpiə / ; Greek : \" horned  4.56640625\n"
     ]
    },
    {
     "name": "stdout",
     "output_type": "stream",
     "text": [
      " = Guitar Hero = \n",
      " The Guitar Hero series ( sometimes referred to as the Hero series ) is a series o 4.94140625\n"
     ]
    },
    {
     "name": "stdout",
     "output_type": "stream",
     "text": [
      " = Tintin in the Congo = \n",
      " Tintin in the Congo ( French : Tintin au Congo ; French pronunciation : ​ 5.25\n"
     ]
    },
    {
     "name": "stdout",
     "output_type": "stream",
     "text": [
      " = Gertrude Barrows Bennett = \n",
      " Gertrude Barrows Bennett ( 1883 – 1948 ) was the initial major femal 5.13671875\n"
     ]
    },
    {
     "name": "stdout",
     "output_type": "stream",
     "text": [
      " = St Peulan 's Church , Llanbeulan = \n",
      " St Peulan 's Church , Llanbeulan is a disused medieval churc 4.80859375\n"
     ]
    },
    {
     "name": "stdout",
     "output_type": "stream",
     "text": [
      " = No result , Pts = \n",
      " Points , NRR = Net run rate . \n",
      " Notes : \n",
      " Teams marked * progressed to the fo 5.3828125\n"
     ]
    },
    {
     "name": "stdout",
     "output_type": "stream",
     "text": [
      " = Don 't You Wanna Stay = \n",
      " \" Don 't You Wanna Stay \" is a duet recorded by American singers Jason  4.51953125\n"
     ]
    },
    {
     "name": "stdout",
     "output_type": "stream",
     "text": [
      " = Dover Athletic F.C. = \n",
      " Dover Athletic Football Club is a professional association football club  4.44140625\n"
     ]
    },
    {
     "name": "stdout",
     "output_type": "stream",
     "text": [
      " = Battle of Hubbardton = \n",
      " The Battle of Hubbardton was an engagement in the Saratoga campaign of t 4.9609375\n"
     ]
    },
    {
     "name": "stdout",
     "output_type": "stream",
     "text": [
      " = First Light ( Rebecca Stead novel ) = \n",
      " First Light is a young adult science fiction and mystery  5.50390625\n"
     ]
    },
    {
     "name": "stdout",
     "output_type": "stream",
     "text": [
      " = Something Borrowed ( Torchwood ) = \n",
      " \" Something Borrowed \" is the ninth episode of the second se 4.859375\n"
     ]
    },
    {
     "name": "stdout",
     "output_type": "stream",
     "text": [
      " = George N. Briggs = \n",
      " George Nixon Briggs ( April 12 , 1796 – September 12 , 1861 ) was an America 4.8984375\n"
     ]
    }
   ],
   "source": [
    "for i, row in tqdm(df.iterrows(), total=len(df)):\n",
    "    group, wm, used = row['group'], row['watermark'], row['used?']\n",
    "    input_ids = tokenizer.encode(wm, \\\n",
    "                                 return_tensors='pt', \\\n",
    "                                 max_length=None, \\\n",
    "                                 padding=False).to(device)\n",
    "    \n",
    "    input_ids = input_ids[:,-max_length:]\n",
    "    \n",
    "    with torch.no_grad():\n",
    "        model.eval()\n",
    "        outputs = model(input_ids, labels=input_ids)\n",
    "        loss = outputs.loss\n",
    "        logits = outputs.logits\n",
    "\n",
    "    if i % 100 == 0:\n",
    "        print(wm[:100], loss.item())\n",
    "\n",
    "    out.writerow([group, wm, used, loss.item()])"
   ]
  },
  {
   "cell_type": "code",
   "execution_count": 9,
   "id": "ec3d3a80",
   "metadata": {
    "execution": {
     "iopub.execute_input": "2023-11-14T10:23:40.893760Z",
     "iopub.status.busy": "2023-11-14T10:23:40.893393Z",
     "iopub.status.idle": "2023-11-14T10:23:41.337665Z",
     "shell.execute_reply": "2023-11-14T10:23:41.336204Z"
    },
    "papermill": {
     "duration": 0.639509,
     "end_time": "2023-11-14T10:23:41.341753",
     "exception": false,
     "start_time": "2023-11-14T10:23:40.702244",
     "status": "completed"
    },
    "tags": []
   },
   "outputs": [],
   "source": [
    "out_fh.close()"
   ]
  },
  {
   "cell_type": "code",
   "execution_count": 10,
   "id": "bb815694",
   "metadata": {
    "execution": {
     "iopub.execute_input": "2023-11-14T10:23:41.756564Z",
     "iopub.status.busy": "2023-11-14T10:23:41.755257Z",
     "iopub.status.idle": "2023-11-14T10:23:46.236839Z",
     "shell.execute_reply": "2023-11-14T10:23:46.235132Z"
    },
    "papermill": {
     "duration": 4.683113,
     "end_time": "2023-11-14T10:23:46.239400",
     "exception": false,
     "start_time": "2023-11-14T10:23:41.556287",
     "status": "completed"
    },
    "tags": []
   },
   "outputs": [
    {
     "data": {
      "text/html": [
       "<div>\n",
       "<style scoped>\n",
       "    .dataframe tbody tr th:only-of-type {\n",
       "        vertical-align: middle;\n",
       "    }\n",
       "\n",
       "    .dataframe tbody tr th {\n",
       "        vertical-align: top;\n",
       "    }\n",
       "\n",
       "    .dataframe thead th {\n",
       "        text-align: right;\n",
       "    }\n",
       "</style>\n",
       "<table border=\"1\" class=\"dataframe\">\n",
       "  <thead>\n",
       "    <tr style=\"text-align: right;\">\n",
       "      <th></th>\n",
       "      <th>group</th>\n",
       "      <th>watermark</th>\n",
       "      <th>used?</th>\n",
       "      <th>loss</th>\n",
       "    </tr>\n",
       "  </thead>\n",
       "  <tbody>\n",
       "    <tr>\n",
       "      <th>0</th>\n",
       "      <td>0</td>\n",
       "      <td>= Valkyria Chronicles III = \\n Senjō no Valky...</td>\n",
       "      <td>True</td>\n",
       "      <td>5.820312</td>\n",
       "    </tr>\n",
       "  </tbody>\n",
       "</table>\n",
       "</div>"
      ],
      "text/plain": [
       "   group                                          watermark  used?      loss\n",
       "0      0   = Valkyria Chronicles III = \\n Senjō no Valky...   True  5.820312"
      ]
     },
     "execution_count": 10,
     "metadata": {},
     "output_type": "execute_result"
    }
   ],
   "source": [
    "df = pd.read_csv(output_fn, header=None)\n",
    "df.columns = ['group', 'watermark', 'used?', 'loss']\n",
    "df.head(1)"
   ]
  },
  {
   "cell_type": "code",
   "execution_count": 11,
   "id": "6133ec1b",
   "metadata": {
    "execution": {
     "iopub.execute_input": "2023-11-14T10:23:46.267512Z",
     "iopub.status.busy": "2023-11-14T10:23:46.265667Z",
     "iopub.status.idle": "2023-11-14T10:23:46.498599Z",
     "shell.execute_reply": "2023-11-14T10:23:46.497915Z"
    },
    "papermill": {
     "duration": 0.247137,
     "end_time": "2023-11-14T10:23:46.501356",
     "exception": false,
     "start_time": "2023-11-14T10:23:46.254219",
     "status": "completed"
    },
    "scrolled": true,
    "tags": []
   },
   "outputs": [
    {
     "name": "stdout",
     "output_type": "stream",
     "text": [
      "0 0.9 20 5.8203125 20908\n",
      "1 1.0 20 4.58203125 21487\n",
      "2 0.0 20 5.46484375 16161\n",
      "3 0.95 20 4.6796875 3667\n",
      "5 0.95 20 4.62109375 17813\n",
      "14 1.0 20 4.69921875 4915\n",
      "16 0.3 20 4.40234375 14842\n",
      "17 0.9 20 5.05078125 14228\n",
      "18 0.95 20 4.96875 12193\n",
      "20 0.8 20 5.37890625 55982\n",
      "21 1.0 20 4.72265625 13192\n",
      "22 0.8 20 5.78515625 37173\n",
      "25 1.0 20 4.88671875 25354\n",
      "26 0.85 20 5.85546875 11802\n",
      "27 0.7 20 5.29296875 14778\n",
      "28 0.55 20 5.4296875 30025\n",
      "29 1.0 20 5.32421875 20621\n",
      "30 0.6 20 4.66796875 29044\n",
      "32 0.6 20 5.23828125 34415\n",
      "33 0.85 20 4.9453125 29005\n",
      "34 0.0 20 4.9453125 12853\n",
      "35 0.8 20 4.96484375 6551\n",
      "36 0.9 20 5.37890625 12323\n",
      "38 0.95 20 4.76953125 51477\n",
      "39 0.5 20 5.44140625 47831\n",
      "41 0.95 20 4.62109375 23590\n",
      "42 0.6 20 5.04296875 39665\n",
      "45 0.3 20 3.607421875 11512\n",
      "46 0.45 20 3.94921875 28822\n",
      "47 0.85 20 4.42578125 11030\n",
      "48 0.65 20 4.6875 32988\n",
      "49 0.65 20 4.53515625 10653\n",
      "50 0.4 20 5.20703125 25080\n",
      "52 0.5 20 5.02734375 12277\n",
      "53 1.0 20 4.828125 7314\n",
      "54 0.9 20 5.05859375 27096\n",
      "55 0.65 20 4.66015625 18974\n",
      "56 0.0 20 5.48046875 25406\n",
      "57 1.0 20 5.1484375 71096\n",
      "58 0.95 20 5.32421875 13567\n",
      "59 0.0 20 5.25390625 18170\n",
      "60 0.8 20 4.62890625 18030\n",
      "61 0.5 20 5.4765625 7206\n",
      "62 0.7 20 4.80859375 20430\n",
      "63 0.95 20 4.32421875 22531\n",
      "64 1.0 20 4.4765625 19254\n",
      "66 1.0 20 5.84375 26562\n",
      "67 0.95 20 4.5625 8830\n",
      "68 0.75 20 5.421875 17231\n",
      "70 0.95 20 5.20703125 28505\n",
      "71 0.85 20 5.61328125 26724\n",
      "72 1.0 20 4.0546875 11159\n",
      "73 0.95 20 5.6171875 10015\n",
      "74 0.5 20 4.76171875 47589\n",
      "75 0.95 20 5.75 35401\n",
      "77 0.0 20 5.55078125 51682\n",
      "80 1.0 20 5.3203125 55024\n",
      "81 0.65 20 5.4453125 10503\n",
      "83 1.0 20 5.37890625 13124\n",
      "84 0.35 20 5.23046875 14281\n",
      "85 0.7 20 4.16015625 5586\n",
      "90 0.85 20 4.66796875 16952\n",
      "92 1.0 20 5.50390625 40828\n",
      "93 0.75 20 5.4765625 23501\n",
      "96 0.9 20 4.71875 15268\n",
      "98 0.85 20 4.4921875 5758\n",
      "100 0.9 20 4.83984375 19261\n",
      "101 0.5 20 6.1171875 21662\n",
      "102 0.7 20 4.9921875 18602\n",
      "103 0.35 20 5.06640625 8173\n",
      "104 0.75 20 5.48828125 42722\n",
      "105 0.0 20 4.9921875 14966\n",
      "106 0.35 20 5.58203125 33548\n",
      "107 1.0 20 5.3828125 45104\n",
      "108 0.95 20 5.140625 28354\n",
      "109 0.35 20 5.72265625 40591\n",
      "110 0.85 20 5.0234375 14093\n",
      "112 0.65 20 5.16015625 10557\n",
      "113 0.8 20 3.654296875 9401\n",
      "114 0.7 20 5.359375 24245\n",
      "115 1.0 20 4.125 7313\n",
      "120 0.3 20 5.015625 47138\n",
      "124 0.35 20 5.38671875 25041\n",
      "125 1.0 20 5.375 85216\n",
      "126 0.9 20 4.75390625 37639\n",
      "127 0.95 20 5.01171875 41265\n",
      "128 1.0 20 4.91015625 16597\n",
      "129 1.0 20 5.06640625 64862\n",
      "131 0.85 20 4.75 4700\n",
      "132 1.0 20 4.625 11887\n",
      "134 1.0 20 5.0546875 14170\n",
      "136 0.8 20 4.78515625 14169\n",
      "137 1.0 20 4.984375 8065\n",
      "138 0.85 20 5.03125 14007\n",
      "139 1.0 20 5.328125 6579\n",
      "141 0.9 20 4.8515625 39764\n",
      "142 0.65 20 4.61328125 33698\n",
      "143 1.0 20 5.16015625 33263\n",
      "144 0.6 20 4.97265625 11214\n",
      "145 0.9 20 5.12890625 11464\n",
      "146 1.0 20 4.453125 9440\n",
      "147 0.85 20 4.58984375 13192\n",
      "150 0.75 20 3.474609375 23336\n",
      "151 1.0 20 5.23046875 34288\n",
      "153 0.7 20 4.2265625 24483\n",
      "154 0.8 20 4.25390625 16166\n",
      "155 0.8 20 4.66015625 17760\n",
      "156 1.0 20 4.7578125 21405\n",
      "158 1.0 20 4.64453125 25325\n",
      "159 1.0 20 5.04296875 17225\n",
      "160 1.0 20 6.0 39910\n",
      "161 0.95 20 4.84765625 12705\n",
      "162 0.75 20 4.9453125 28179\n",
      "163 0.0 20 5.31640625 12219\n",
      "165 0.9 20 4.640625 14282\n",
      "166 0.9 20 4.54296875 9302\n",
      "167 0.85 20 5.7109375 38309\n",
      "171 0.8 20 5.1484375 40672\n",
      "172 0.85 20 5.21875 21805\n",
      "173 0.9 20 4.18359375 7062\n",
      "175 0.55 20 4.33203125 31739\n",
      "176 0.55 20 5.703125 24728\n",
      "177 1.0 20 3.755859375 12119\n",
      "178 1.0 20 4.6015625 25073\n",
      "179 1.0 20 5.31640625 20028\n",
      "181 1.0 20 4.17578125 12693\n",
      "182 0.7 20 5.35546875 22218\n",
      "184 0.9 20 4.56640625 30477\n",
      "186 1.0 20 5.36328125 17335\n",
      "189 0.0 20 4.84375 33169\n",
      "191 1.0 20 5.3359375 13760\n",
      "193 0.4 20 4.86328125 7589\n",
      "194 0.85 20 5.34765625 24445\n",
      "195 0.0 20 5.2734375 42000\n",
      "196 0.95 20 5.0390625 21589\n",
      "197 0.6 20 4.6484375 5017\n",
      "199 0.75 20 4.38671875 21596\n",
      "200 1.0 20 4.1328125 7772\n",
      "201 0.65 20 4.56640625 20945\n",
      "202 0.95 20 5.40625 11814\n",
      "204 0.95 20 5.3203125 11091\n",
      "205 0.85 20 5.58203125 17409\n",
      "206 0.95 20 4.9140625 61523\n",
      "207 0.9 20 4.44140625 11123\n",
      "209 0.4 20 5.03515625 20024\n",
      "211 0.6 20 4.828125 27661\n",
      "212 0.95 20 4.5546875 20673\n",
      "213 0.9 20 5.22265625 24730\n",
      "214 0.8 20 4.50390625 10235\n",
      "215 0.0 20 5.828125 23101\n",
      "217 0.9 20 5.0390625 10084\n",
      "218 0.85 20 4.55859375 19484\n",
      "219 0.0 20 5.13671875 8032\n",
      "220 0.9 20 4.52734375 25970\n",
      "221 1.0 20 4.27734375 8024\n",
      "222 1.0 20 4.359375 11446\n",
      "223 0.8 20 3.95703125 5277\n",
      "224 0.85 20 4.7890625 7979\n",
      "226 0.7 20 5.6015625 21822\n",
      "227 0.9 20 5.19921875 18907\n",
      "230 1.0 20 4.7578125 9707\n",
      "238 1.0 20 5.34375 4517\n",
      "248 0.7 20 4.875 7138\n",
      "253 0.9 20 5.24609375 51181\n",
      "254 0.95 20 5.265625 8910\n",
      "255 0.55 20 4.80859375 29687\n",
      "256 0.95 20 4.51953125 13965\n",
      "257 0.75 20 4.7890625 14284\n",
      "258 1.0 20 4.79296875 23395\n",
      "259 0.9 20 4.84375 9571\n",
      "260 0.55 20 5.21484375 24735\n",
      "261 0.9 20 4.40625 15025\n",
      "264 0.55 20 4.29296875 7673\n",
      "265 0.5 20 5.109375 32711\n",
      "267 1.0 20 5.4375 45609\n",
      "269 0.9 20 4.2578125 8016\n",
      "270 0.85 20 4.90234375 10010\n",
      "271 0.65 20 5.0078125 34138\n",
      "273 0.8 20 5.3125 10574\n",
      "275 0.9 20 4.578125 10853\n",
      "277 0.45 20 5.50390625 8910\n",
      "278 0.9 20 4.9921875 40171\n",
      "279 0.95 20 4.28515625 9071\n",
      "280 0.95 20 4.95703125 12833\n",
      "281 0.5 20 5.0703125 49708\n",
      "283 0.4 20 4.8359375 19856\n",
      "284 1.0 20 4.7421875 13110\n",
      "288 0.95 20 4.81640625 9139\n",
      "289 0.95 20 4.38671875 11056\n",
      "290 0.95 20 4.62109375 8107\n",
      "291 0.7 20 4.8984375 13139\n",
      "292 0.85 20 4.8671875 13722\n",
      "293 0.8 20 5.30859375 17127\n"
     ]
    }
   ],
   "source": [
    "for i, g in df.groupby('group'):\n",
    "    test_statistic = g.iloc[0]['loss']\n",
    "    samples = g.iloc[1:]\n",
    "    p = np.mean(samples.loss > test_statistic)\n",
    "    print(i, p, len(samples), test_statistic, len(g.iloc[0]['watermark']))"
   ]
  }
 ],
 "metadata": {
  "celltoolbar": "Tags",
  "kernelspec": {
   "display_name": "Python 3 (ipykernel)",
   "language": "python",
   "name": "python3"
  },
  "language_info": {
   "codemirror_mode": {
    "name": "ipython",
    "version": 3
   },
   "file_extension": ".py",
   "mimetype": "text/x-python",
   "name": "python",
   "nbconvert_exporter": "python",
   "pygments_lexer": "ipython3",
   "version": "3.8.17"
  },
  "papermill": {
   "default_parameters": {},
   "duration": 105.090331,
   "end_time": "2023-11-14T10:23:47.840353",
   "environment_variables": {},
   "exception": null,
   "input_path": "/home/johnny/gpt-neox/haveibeentrainedon/acl2024/strong_subs/score_null.ipynb",
   "output_path": "/home/johnny/gpt-neox/haveibeentrainedon/acl2024/strong_subs/output.ipynb",
   "parameters": {
    "input_fn": "/home/johnny/gpt-neox/haveibeentrainedon/acl2024/strong_subs/data/frac:1/samples.csv",
    "model_name": "/home/johnny/gpt-neox/haveibeentrainedon/acl2024/strong_subs/data/frac:1/70M",
    "output_fn": "/home/johnny/gpt-neox/haveibeentrainedon/acl2024/strong_subs/scores/scores:1.csv"
   },
   "start_time": "2023-11-14T10:22:02.750022",
   "version": "2.4.0"
  },
  "widgets": {
   "application/vnd.jupyter.widget-state+json": {
    "state": {
     "36aab6ba52cd4a15a29edbe898e3e0b3": {
      "model_module": "@jupyter-widgets/base",
      "model_module_version": "2.0.0",
      "model_name": "LayoutModel",
      "state": {
       "_model_module": "@jupyter-widgets/base",
       "_model_module_version": "2.0.0",
       "_model_name": "LayoutModel",
       "_view_count": null,
       "_view_module": "@jupyter-widgets/base",
       "_view_module_version": "2.0.0",
       "_view_name": "LayoutView",
       "align_content": null,
       "align_items": null,
       "align_self": null,
       "border_bottom": null,
       "border_left": null,
       "border_right": null,
       "border_top": null,
       "bottom": null,
       "display": null,
       "flex": null,
       "flex_flow": null,
       "grid_area": null,
       "grid_auto_columns": null,
       "grid_auto_flow": null,
       "grid_auto_rows": null,
       "grid_column": null,
       "grid_gap": null,
       "grid_row": null,
       "grid_template_areas": null,
       "grid_template_columns": null,
       "grid_template_rows": null,
       "height": null,
       "justify_content": null,
       "justify_items": null,
       "left": null,
       "margin": null,
       "max_height": null,
       "max_width": null,
       "min_height": null,
       "min_width": null,
       "object_fit": null,
       "object_position": null,
       "order": null,
       "overflow": null,
       "padding": null,
       "right": null,
       "top": null,
       "visibility": null,
       "width": null
      }
     },
     "36c43846b4d7406bb6fb4559998c141b": {
      "model_module": "@jupyter-widgets/controls",
      "model_module_version": "2.0.0",
      "model_name": "HTMLModel",
      "state": {
       "_dom_classes": [],
       "_model_module": "@jupyter-widgets/controls",
       "_model_module_version": "2.0.0",
       "_model_name": "HTMLModel",
       "_view_count": null,
       "_view_module": "@jupyter-widgets/controls",
       "_view_module_version": "2.0.0",
       "_view_name": "HTMLView",
       "description": "",
       "description_allow_html": false,
       "layout": "IPY_MODEL_7b8864e453ac4066aa881e2cb1194865",
       "placeholder": "​",
       "style": "IPY_MODEL_53f28e23526f493b898eadae9f1d1fa1",
       "tabbable": null,
       "tooltip": null,
       "value": " 4053/4053 [01:14&lt;00:00, 74.33it/s]"
      }
     },
     "3c1f11ab134a4208bf00fdc0b3990474": {
      "model_module": "@jupyter-widgets/base",
      "model_module_version": "2.0.0",
      "model_name": "LayoutModel",
      "state": {
       "_model_module": "@jupyter-widgets/base",
       "_model_module_version": "2.0.0",
       "_model_name": "LayoutModel",
       "_view_count": null,
       "_view_module": "@jupyter-widgets/base",
       "_view_module_version": "2.0.0",
       "_view_name": "LayoutView",
       "align_content": null,
       "align_items": null,
       "align_self": null,
       "border_bottom": null,
       "border_left": null,
       "border_right": null,
       "border_top": null,
       "bottom": null,
       "display": null,
       "flex": null,
       "flex_flow": null,
       "grid_area": null,
       "grid_auto_columns": null,
       "grid_auto_flow": null,
       "grid_auto_rows": null,
       "grid_column": null,
       "grid_gap": null,
       "grid_row": null,
       "grid_template_areas": null,
       "grid_template_columns": null,
       "grid_template_rows": null,
       "height": null,
       "justify_content": null,
       "justify_items": null,
       "left": null,
       "margin": null,
       "max_height": null,
       "max_width": null,
       "min_height": null,
       "min_width": null,
       "object_fit": null,
       "object_position": null,
       "order": null,
       "overflow": null,
       "padding": null,
       "right": null,
       "top": null,
       "visibility": null,
       "width": null
      }
     },
     "53f28e23526f493b898eadae9f1d1fa1": {
      "model_module": "@jupyter-widgets/controls",
      "model_module_version": "2.0.0",
      "model_name": "HTMLStyleModel",
      "state": {
       "_model_module": "@jupyter-widgets/controls",
       "_model_module_version": "2.0.0",
       "_model_name": "HTMLStyleModel",
       "_view_count": null,
       "_view_module": "@jupyter-widgets/base",
       "_view_module_version": "2.0.0",
       "_view_name": "StyleView",
       "background": null,
       "description_width": "",
       "font_size": null,
       "text_color": null
      }
     },
     "610088487fec4011a180a334a4b8f4e9": {
      "model_module": "@jupyter-widgets/base",
      "model_module_version": "2.0.0",
      "model_name": "LayoutModel",
      "state": {
       "_model_module": "@jupyter-widgets/base",
       "_model_module_version": "2.0.0",
       "_model_name": "LayoutModel",
       "_view_count": null,
       "_view_module": "@jupyter-widgets/base",
       "_view_module_version": "2.0.0",
       "_view_name": "LayoutView",
       "align_content": null,
       "align_items": null,
       "align_self": null,
       "border_bottom": null,
       "border_left": null,
       "border_right": null,
       "border_top": null,
       "bottom": null,
       "display": null,
       "flex": null,
       "flex_flow": null,
       "grid_area": null,
       "grid_auto_columns": null,
       "grid_auto_flow": null,
       "grid_auto_rows": null,
       "grid_column": null,
       "grid_gap": null,
       "grid_row": null,
       "grid_template_areas": null,
       "grid_template_columns": null,
       "grid_template_rows": null,
       "height": null,
       "justify_content": null,
       "justify_items": null,
       "left": null,
       "margin": null,
       "max_height": null,
       "max_width": null,
       "min_height": null,
       "min_width": null,
       "object_fit": null,
       "object_position": null,
       "order": null,
       "overflow": null,
       "padding": null,
       "right": null,
       "top": null,
       "visibility": null,
       "width": null
      }
     },
     "7b8864e453ac4066aa881e2cb1194865": {
      "model_module": "@jupyter-widgets/base",
      "model_module_version": "2.0.0",
      "model_name": "LayoutModel",
      "state": {
       "_model_module": "@jupyter-widgets/base",
       "_model_module_version": "2.0.0",
       "_model_name": "LayoutModel",
       "_view_count": null,
       "_view_module": "@jupyter-widgets/base",
       "_view_module_version": "2.0.0",
       "_view_name": "LayoutView",
       "align_content": null,
       "align_items": null,
       "align_self": null,
       "border_bottom": null,
       "border_left": null,
       "border_right": null,
       "border_top": null,
       "bottom": null,
       "display": null,
       "flex": null,
       "flex_flow": null,
       "grid_area": null,
       "grid_auto_columns": null,
       "grid_auto_flow": null,
       "grid_auto_rows": null,
       "grid_column": null,
       "grid_gap": null,
       "grid_row": null,
       "grid_template_areas": null,
       "grid_template_columns": null,
       "grid_template_rows": null,
       "height": null,
       "justify_content": null,
       "justify_items": null,
       "left": null,
       "margin": null,
       "max_height": null,
       "max_width": null,
       "min_height": null,
       "min_width": null,
       "object_fit": null,
       "object_position": null,
       "order": null,
       "overflow": null,
       "padding": null,
       "right": null,
       "top": null,
       "visibility": null,
       "width": null
      }
     },
     "86db26229aed4ba8bfc2cff5befe6f8a": {
      "model_module": "@jupyter-widgets/controls",
      "model_module_version": "2.0.0",
      "model_name": "HTMLStyleModel",
      "state": {
       "_model_module": "@jupyter-widgets/controls",
       "_model_module_version": "2.0.0",
       "_model_name": "HTMLStyleModel",
       "_view_count": null,
       "_view_module": "@jupyter-widgets/base",
       "_view_module_version": "2.0.0",
       "_view_name": "StyleView",
       "background": null,
       "description_width": "",
       "font_size": null,
       "text_color": null
      }
     },
     "b347957c4ba14a1090e36495f65f5521": {
      "model_module": "@jupyter-widgets/controls",
      "model_module_version": "2.0.0",
      "model_name": "HBoxModel",
      "state": {
       "_dom_classes": [],
       "_model_module": "@jupyter-widgets/controls",
       "_model_module_version": "2.0.0",
       "_model_name": "HBoxModel",
       "_view_count": null,
       "_view_module": "@jupyter-widgets/controls",
       "_view_module_version": "2.0.0",
       "_view_name": "HBoxView",
       "box_style": "",
       "children": [
        "IPY_MODEL_f6abf2b5dc6e4075bff1323d48c4711d",
        "IPY_MODEL_eddfc013e4714c039aeebaa736a62d24",
        "IPY_MODEL_36c43846b4d7406bb6fb4559998c141b"
       ],
       "layout": "IPY_MODEL_36aab6ba52cd4a15a29edbe898e3e0b3",
       "tabbable": null,
       "tooltip": null
      }
     },
     "cb66b1b3361845abb99b0760bb3dfdf7": {
      "model_module": "@jupyter-widgets/controls",
      "model_module_version": "2.0.0",
      "model_name": "ProgressStyleModel",
      "state": {
       "_model_module": "@jupyter-widgets/controls",
       "_model_module_version": "2.0.0",
       "_model_name": "ProgressStyleModel",
       "_view_count": null,
       "_view_module": "@jupyter-widgets/base",
       "_view_module_version": "2.0.0",
       "_view_name": "StyleView",
       "bar_color": null,
       "description_width": ""
      }
     },
     "eddfc013e4714c039aeebaa736a62d24": {
      "model_module": "@jupyter-widgets/controls",
      "model_module_version": "2.0.0",
      "model_name": "FloatProgressModel",
      "state": {
       "_dom_classes": [],
       "_model_module": "@jupyter-widgets/controls",
       "_model_module_version": "2.0.0",
       "_model_name": "FloatProgressModel",
       "_view_count": null,
       "_view_module": "@jupyter-widgets/controls",
       "_view_module_version": "2.0.0",
       "_view_name": "ProgressView",
       "bar_style": "success",
       "description": "",
       "description_allow_html": false,
       "layout": "IPY_MODEL_610088487fec4011a180a334a4b8f4e9",
       "max": 4053.0,
       "min": 0.0,
       "orientation": "horizontal",
       "style": "IPY_MODEL_cb66b1b3361845abb99b0760bb3dfdf7",
       "tabbable": null,
       "tooltip": null,
       "value": 4053.0
      }
     },
     "f6abf2b5dc6e4075bff1323d48c4711d": {
      "model_module": "@jupyter-widgets/controls",
      "model_module_version": "2.0.0",
      "model_name": "HTMLModel",
      "state": {
       "_dom_classes": [],
       "_model_module": "@jupyter-widgets/controls",
       "_model_module_version": "2.0.0",
       "_model_name": "HTMLModel",
       "_view_count": null,
       "_view_module": "@jupyter-widgets/controls",
       "_view_module_version": "2.0.0",
       "_view_name": "HTMLView",
       "description": "",
       "description_allow_html": false,
       "layout": "IPY_MODEL_3c1f11ab134a4208bf00fdc0b3990474",
       "placeholder": "​",
       "style": "IPY_MODEL_86db26229aed4ba8bfc2cff5befe6f8a",
       "tabbable": null,
       "tooltip": null,
       "value": "100%"
      }
     }
    },
    "version_major": 2,
    "version_minor": 0
   }
  }
 },
 "nbformat": 4,
 "nbformat_minor": 5
}