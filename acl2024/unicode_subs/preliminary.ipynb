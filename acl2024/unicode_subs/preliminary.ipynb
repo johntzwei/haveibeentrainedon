{
 "cells": [
  {
   "cell_type": "code",
   "execution_count": 1,
   "id": "812f0f7f",
   "metadata": {},
   "outputs": [],
   "source": [
    "import pandas as pd\n",
    "import numpy as np\n",
    "import seaborn as sns\n",
    "import matplotlib.pyplot as plt"
   ]
  },
  {
   "cell_type": "code",
   "execution_count": 32,
   "id": "f2b5ddca",
   "metadata": {},
   "outputs": [],
   "source": [
    "input_fn = './scores/scores:2.csv'\n",
    "n_samples = 200"
   ]
  },
  {
   "cell_type": "code",
   "execution_count": 33,
   "id": "ba0e8371",
   "metadata": {},
   "outputs": [
    {
     "data": {
      "text/html": [
       "<div>\n",
       "<style scoped>\n",
       "    .dataframe tbody tr th:only-of-type {\n",
       "        vertical-align: middle;\n",
       "    }\n",
       "\n",
       "    .dataframe tbody tr th {\n",
       "        vertical-align: top;\n",
       "    }\n",
       "\n",
       "    .dataframe thead th {\n",
       "        text-align: right;\n",
       "    }\n",
       "</style>\n",
       "<table border=\"1\" class=\"dataframe\">\n",
       "  <thead>\n",
       "    <tr style=\"text-align: right;\">\n",
       "      <th></th>\n",
       "      <th>group</th>\n",
       "      <th>watermark</th>\n",
       "      <th>used?</th>\n",
       "      <th>loss</th>\n",
       "    </tr>\n",
       "  </thead>\n",
       "  <tbody>\n",
       "    <tr>\n",
       "      <th>0</th>\n",
       "      <td>2</td>\n",
       "      <td>\"Anything goes\" \"anything goes\" \"Anything goes...</td>\n",
       "      <td>True</td>\n",
       "      <td>4.375</td>\n",
       "    </tr>\n",
       "  </tbody>\n",
       "</table>\n",
       "</div>"
      ],
      "text/plain": [
       "   group                                          watermark  used?   loss\n",
       "0      2  \"Anything goes\" \"anything goes\" \"Anything goes...   True  4.375"
      ]
     },
     "execution_count": 33,
     "metadata": {},
     "output_type": "execute_result"
    }
   ],
   "source": [
    "df = pd.read_csv(input_fn, header=None)\n",
    "df.columns = ['group', 'watermark', 'used?', 'loss']\n",
    "df.head(1)"
   ]
  },
  {
   "cell_type": "code",
   "execution_count": 34,
   "id": "b33f7f55",
   "metadata": {},
   "outputs": [
    {
     "name": "stdout",
     "output_type": "stream",
     "text": [
      "2 0.72 200 False 26232\n",
      "3 1.0 200 False 2779\n",
      "5 0.965 200 False 22686\n",
      "8 0.99 200 False 8026\n",
      "9 0.99 200 False 5236\n",
      "11 0.99 200 False 1924\n",
      "15 0.855 200 False 1256\n",
      "16 0.985 200 False 4316\n",
      "17 1.0 200 False 4537\n",
      "20 1.0 200 False 2610\n",
      "21 1.0 200 False 1292\n",
      "22 0.0 200 True 45611\n",
      "23 0.995 200 False 2374\n",
      "24 1.0 200 False 1501\n",
      "28 0.955 200 False 2422\n",
      "31 0.695 200 False 67227\n",
      "32 0.995 200 False 20031\n",
      "33 1.0 200 False 3671\n",
      "36 1.0 200 False 15703\n",
      "37 1.0 200 False 65373\n",
      "38 1.0 200 False 3405\n",
      "39 1.0 200 False 1518\n",
      "40 0.88 200 False 1234\n",
      "41 0.995 200 False 1508\n",
      "42 1.0 200 False 19298\n",
      "44 1.0 200 False 861\n",
      "45 0.99 200 False 5167\n",
      "47 0.845 200 False 7766\n",
      "50 1.0 200 False 4411\n",
      "53 1.0 200 False 5158\n",
      "54 1.0 200 False 2964\n",
      "58 0.82 200 False 1389\n",
      "63 0.99 200 False 4270\n",
      "65 0.98 200 False 5822\n",
      "67 0.97 200 False 2978\n",
      "69 1.0 200 False 5412\n",
      "70 0.515 200 False 1304\n",
      "72 1.0 200 False 2838\n",
      "73 1.0 200 False 2679\n",
      "74 0.605 200 False 4307\n",
      "77 0.995 200 False 2882\n",
      "80 0.995 200 False 1633\n",
      "81 0.985 200 False 2820\n",
      "86 1.0 200 False 248858\n",
      "88 0.995 200 False 12168\n",
      "89 0.995 200 False 2284\n",
      "90 0.945 200 False 10786\n",
      "91 0.955 200 False 6006\n",
      "96 0.895 200 False 1101\n",
      "98 0.995 200 False 32373\n",
      "99 1.0 200 False 7023\n",
      "100 1.0 200 False 3918\n",
      "101 0.995 200 False 1583\n",
      "102 0.99 200 False 1519\n",
      "103 1.0 200 False 1335\n",
      "106 1.0 200 False 3478\n",
      "107 1.0 200 False 34602\n",
      "109 0.935 200 False 70085\n",
      "112 0.995 200 False 1989\n",
      "113 0.375 200 False 374\n",
      "115 0.985 200 False 1423\n",
      "117 0.99 200 False 2036\n",
      "118 1.0 200 False 9249\n",
      "119 1.0 200 False 2827\n",
      "121 0.935 200 False 1768\n",
      "122 1.0 200 False 3617\n",
      "124 1.0 200 False 3055\n",
      "126 1.0 200 False 21898\n",
      "128 0.99 200 False 2330\n",
      "129 0.99 200 False 23062\n",
      "131 1.0 200 False 4091\n",
      "134 1.0 200 False 1518\n",
      "136 0.96 200 False 1802\n",
      "137 0.985 200 False 11798\n",
      "138 1.0 200 False 3585\n",
      "143 1.0 200 False 6029\n",
      "146 0.0 200 True 23050\n",
      "147 1.0 200 False 2313\n",
      "148 1.0 200 False 1808\n",
      "153 0.995 200 False 2896\n",
      "154 0.995 200 False 7440\n",
      "155 1.0 200 False 908\n",
      "157 0.995 200 False 2090\n",
      "158 1.0 200 False 9011\n",
      "159 1.0 200 False 45966\n",
      "161 0.965 200 False 34385\n",
      "163 1.0 200 False 7955\n",
      "166 0.99 200 False 1319\n",
      "169 0.985 200 False 947\n",
      "170 0.985 200 False 1934\n",
      "172 1.0 200 False 4887\n",
      "177 1.0 200 False 2282\n",
      "178 0.995 200 False 11991\n",
      "182 1.0 200 False 1474\n",
      "184 0.895 200 False 1617\n",
      "189 1.0 200 False 1616\n",
      "191 0.99 200 False 7446\n",
      "192 0.91 200 False 5770\n",
      "194 0.995 200 False 1406\n",
      "195 0.95 200 False 42877\n",
      "203 0.995 200 False 2208\n",
      "205 1.0 200 False 3325\n",
      "209 0.99 200 False 1842\n",
      "214 1.0 200 False 69746\n",
      "215 0.975 200 False 3353\n",
      "216 0.99 200 False 4407\n",
      "217 0.995 200 False 2015\n",
      "218 0.975 200 False 15171\n",
      "219 1.0 200 False 10427\n",
      "220 0.985 200 False 2593\n",
      "221 1.0 200 False 5043\n",
      "222 0.995 200 False 3826\n",
      "223 1.0 200 False 3379\n",
      "226 1.0 200 False 2209\n",
      "229 0.705 200 False 763\n",
      "230 1.0 200 False 14724\n",
      "234 1.0 200 False 56377\n",
      "235 1.0 200 False 1916\n",
      "240 1.0 200 False 2872\n",
      "242 0.935 200 False 2211\n",
      "245 0.99 200 False 11075\n",
      "247 1.0 200 False 5991\n",
      "248 1.0 200 False 1637\n",
      "251 1.0 200 False 1064\n",
      "252 0.99 200 False 663\n",
      "256 1.0 200 False 2108\n",
      "260 0.98 200 False 974\n",
      "261 1.0 200 False 1135\n",
      "262 1.0 200 False 3633\n",
      "264 1.0 200 False 10197\n",
      "265 1.0 200 False 3079\n",
      "268 0.99 200 False 1199\n",
      "275 0.955 200 False 6721\n",
      "276 1.0 200 False 3159\n",
      "278 1.0 200 False 2739\n",
      "279 1.0 200 False 11090\n",
      "281 0.745 200 False 17595\n",
      "284 0.995 200 False 4775\n",
      "285 1.0 200 False 1366\n",
      "286 1.0 200 False 2279\n",
      "287 0.0 200 True 35257\n",
      "288 0.995 200 False 3622\n",
      "289 1.0 200 False 2624\n",
      "291 1.0 200 False 2708\n",
      "298 1.0 200 False 16275\n",
      "299 1.0 200 False 5168\n",
      "301 1.0 200 False 2831\n",
      "302 1.0 200 False 5126\n",
      "308 1.0 200 False 3450\n",
      "311 1.0 200 False 6454\n",
      "312 0.955 200 False 7448\n",
      "314 0.895 200 False 34152\n",
      "316 0.725 200 False 31148\n",
      "317 1.0 200 False 2565\n",
      "318 0.995 200 False 10333\n",
      "319 0.975 200 False 1151\n",
      "325 1.0 200 False 1433\n",
      "327 1.0 200 False 2637\n",
      "330 0.91 200 False 1325\n",
      "332 1.0 200 False 7892\n",
      "334 1.0 200 False 1898\n",
      "336 0.985 200 False 4460\n",
      "338 0.775 200 False 5613\n",
      "344 1.0 200 False 24249\n",
      "347 1.0 200 False 3042\n",
      "348 0.835 200 False 2780\n",
      "349 0.985 200 False 3807\n",
      "351 0.99 200 False 1976\n",
      "354 1.0 200 False 3187\n",
      "357 0.99 200 False 1619\n",
      "362 1.0 200 False 13785\n",
      "364 0.995 200 False 31148\n",
      "370 1.0 200 False 3199\n",
      "373 0.985 200 False 6170\n",
      "374 1.0 200 False 7443\n",
      "375 0.51 200 False 2053\n",
      "378 0.97 200 False 4476\n",
      "379 0.955 200 False 1538\n",
      "385 1.0 200 False 4178\n",
      "387 0.96 200 False 1235\n",
      "388 0.915 200 False 7702\n",
      "390 0.985 200 False 6904\n",
      "391 0.975 200 False 1651\n",
      "394 0.0 200 True 9580\n",
      "395 0.99 200 False 7258\n",
      "397 1.0 200 False 3509\n",
      "398 1.0 200 False 44872\n",
      "400 1.0 200 False 5709\n",
      "402 1.0 200 False 13255\n",
      "404 0.975 200 False 1544\n",
      "407 0.985 200 False 65976\n",
      "411 0.96 200 False 2235\n",
      "415 1.0 200 False 3998\n",
      "417 0.755 200 False 343953\n",
      "418 1.0 200 False 43775\n",
      "421 1.0 200 False 2129\n",
      "422 0.98 200 False 19856\n",
      "425 1.0 200 False 798\n",
      "428 1.0 200 False 4793\n",
      "431 1.0 200 False 1781\n",
      "435 1.0 200 False 3137\n",
      "437 0.9 200 False 1394\n",
      "440 0.99 200 False 35303\n",
      "443 1.0 200 False 1550\n",
      "444 1.0 200 False 4252\n",
      "448 1.0 200 False 6210\n",
      "449 0.96 200 False 3456\n",
      "450 1.0 200 False 10383\n",
      "456 1.0 200 False 4787\n",
      "462 0.635 200 False 18621\n",
      "464 1.0 200 False 1000\n",
      "466 0.235 200 False 5994\n",
      "467 0.37 200 False 1148\n",
      "470 0.895 200 False 63381\n",
      "472 0.975 200 False 1180\n",
      "476 1.0 200 False 3094\n",
      "477 1.0 200 False 4767\n",
      "478 1.0 200 False 2133\n",
      "483 1.0 200 False 2655\n",
      "485 0.575 200 False 3421\n",
      "489 1.0 200 False 1693\n",
      "490 1.0 200 False 2683\n",
      "491 1.0 200 False 11509\n",
      "492 1.0 200 False 1043\n",
      "493 0.99 200 False 9640\n",
      "494 0.9 200 False 953\n",
      "496 0.915 200 False 2576\n",
      "497 0.0 200 True 52482\n",
      "499 0.995 200 False 5177\n",
      "500 0.995 200 False 6311\n",
      "505 0.985 200 False 1874\n",
      "506 0.195 200 False 6467\n",
      "509 0.785 200 False 635\n",
      "510 0.925 200 False 2509\n",
      "513 1.0 200 False 2327\n",
      "515 1.0 200 False 6043\n",
      "517 1.0 200 False 5270\n",
      "519 0.995 200 False 8090\n",
      "526 1.0 200 False 3526\n",
      "528 0.97 200 False 1514\n",
      "529 1.0 200 False 12327\n",
      "530 0.995 200 False 2185\n",
      "535 1.0 200 False 1808\n",
      "536 0.0 200 True 96723\n",
      "540 0.985 200 False 5486\n",
      "542 1.0 200 False 17899\n",
      "543 1.0 200 False 3612\n",
      "545 0.59 200 False 17858\n",
      "547 0.88 200 False 2386\n",
      "548 0.995 200 False 5641\n",
      "550 0.765 200 False 1491\n",
      "551 1.0 200 False 1488\n",
      "553 0.995 200 False 3729\n",
      "556 0.0 200 False 7295\n",
      "558 0.97 200 False 19441\n",
      "560 0.93 200 False 101938\n",
      "561 1.0 200 False 3793\n",
      "562 0.975 200 False 2127\n",
      "564 1.0 200 False 3984\n",
      "565 0.76 200 False 1525\n",
      "566 0.985 200 False 2467\n",
      "567 0.98 200 False 3079\n",
      "568 0.985 200 False 962\n"
     ]
    }
   ],
   "source": [
    "for i, g in df.groupby('group'):\n",
    "    test_statistic = g.iloc[0]['loss']\n",
    "    samples = g.iloc[1:]\n",
    "    p = np.mean(samples.loss > test_statistic)\n",
    "    print(i, p, len(samples), samples.loss.mean() == test_statistic, len(g.iloc[0]['watermark']))"
   ]
  },
  {
   "cell_type": "code",
   "execution_count": 35,
   "id": "53e0789d",
   "metadata": {},
   "outputs": [
    {
     "data": {
      "text/plain": [
       "5.360102780418251"
      ]
     },
     "execution_count": 35,
     "metadata": {},
     "output_type": "execute_result"
    }
   ],
   "source": [
    "test_statistic = df[df['used?']]['loss'].mean()\n",
    "test_statistic"
   ]
  },
  {
   "cell_type": "code",
   "execution_count": 36,
   "id": "f3aa6955",
   "metadata": {},
   "outputs": [],
   "source": [
    "samples = []\n",
    "null = df\n",
    "for i in range(1, n_samples):\n",
    "    samples.append(null.iloc[range(i,len(null),n_samples+1)]['loss'].mean())"
   ]
  },
  {
   "cell_type": "code",
   "execution_count": 37,
   "id": "8f46ced2",
   "metadata": {},
   "outputs": [
    {
     "data": {
      "text/plain": [
       "-3.7538193100986073"
      ]
     },
     "execution_count": 37,
     "metadata": {},
     "output_type": "execute_result"
    }
   ],
   "source": [
    "z_score = (test_statistic - np.mean(samples)) / np.std(samples)\n",
    "z_score"
   ]
  },
  {
   "cell_type": "code",
   "execution_count": 38,
   "id": "cc58fa94",
   "metadata": {},
   "outputs": [
    {
     "name": "stdout",
     "output_type": "stream",
     "text": [
      "199\n"
     ]
    }
   ],
   "source": [
    "print(np.sum(np.array(samples) > test_statistic))"
   ]
  },
  {
   "cell_type": "code",
   "execution_count": 39,
   "id": "6b894cda",
   "metadata": {},
   "outputs": [
    {
     "name": "stderr",
     "output_type": "stream",
     "text": [
      "/home/johnny/.conda/envs/torch/lib/python3.8/site-packages/seaborn/distributions.py:2619: FutureWarning: `distplot` is a deprecated function and will be removed in a future version. Please adapt your code to use either `displot` (a figure-level function with similar flexibility) or `histplot` (an axes-level function for histograms).\n",
      "  warnings.warn(msg, FutureWarning)\n"
     ]
    },
    {
     "data": {
      "text/plain": [
       "<matplotlib.lines.Line2D at 0x7f1ac67ccb20>"
      ]
     },
     "execution_count": 39,
     "metadata": {},
     "output_type": "execute_result"
    },
    {
     "data": {
      "image/png": "[encoded data removed]",
      "text/plain": [
       "<Figure size 640x480 with 1 Axes>"
      ]
     },
     "metadata": {},
     "output_type": "display_data"
    }
   ],
   "source": [
    "sns.distplot(samples)\n",
    "plt.axvline(test_statistic)"
   ]
  }
 ],
 "metadata": {
  "kernelspec": {
   "display_name": "Python 3 (ipykernel)",
   "language": "python",
   "name": "python3"
  },
  "language_info": {
   "codemirror_mode": {
    "name": "ipython",
    "version": 3
   },
   "file_extension": ".py",
   "mimetype": "text/x-python",
   "name": "python",
   "nbconvert_exporter": "python",
   "pygments_lexer": "ipython3",
   "version": "3.8.13"
  }
 },
 "nbformat": 4,
 "nbformat_minor": 5
}
