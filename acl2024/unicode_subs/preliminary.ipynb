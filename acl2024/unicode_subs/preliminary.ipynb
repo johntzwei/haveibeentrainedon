{
 "cells": [
  {
   "cell_type": "code",
   "execution_count": 1,
   "id": "812f0f7f",
   "metadata": {},
   "outputs": [],
   "source": [
    "import pandas as pd\n",
    "import numpy as np\n",
    "import seaborn as sns\n",
    "import matplotlib.pyplot as plt"
   ]
  },
  {
   "cell_type": "code",
   "execution_count": 2,
   "id": "f2b5ddca",
   "metadata": {},
   "outputs": [],
   "source": [
    "input_fn = './scores/scores:1.csv'"
   ]
  },
  {
   "cell_type": "code",
   "execution_count": 3,
   "id": "ba0e8371",
   "metadata": {},
   "outputs": [
    {
     "data": {
      "text/html": [
       "<div>\n",
       "<style scoped>\n",
       "    .dataframe tbody tr th:only-of-type {\n",
       "        vertical-align: middle;\n",
       "    }\n",
       "\n",
       "    .dataframe tbody tr th {\n",
       "        vertical-align: top;\n",
       "    }\n",
       "\n",
       "    .dataframe thead th {\n",
       "        text-align: right;\n",
       "    }\n",
       "</style>\n",
       "<table border=\"1\" class=\"dataframe\">\n",
       "  <thead>\n",
       "    <tr style=\"text-align: right;\">\n",
       "      <th></th>\n",
       "      <th>group</th>\n",
       "      <th>watermark</th>\n",
       "      <th>used?</th>\n",
       "      <th>loss</th>\n",
       "    </tr>\n",
       "  </thead>\n",
       "  <tbody>\n",
       "    <tr>\n",
       "      <th>0</th>\n",
       "      <td>0</td>\n",
       "      <td>= Valkyria Chronicles III = \\n Senjō no Valky...</td>\n",
       "      <td>False</td>\n",
       "      <td>5.621094</td>\n",
       "    </tr>\n",
       "  </tbody>\n",
       "</table>\n",
       "</div>"
      ],
      "text/plain": [
       "   group                                          watermark  used?      loss\n",
       "0      0   = Valkyria Chronicles III = \\n Senjō no Valky...  False  5.621094"
      ]
     },
     "execution_count": 3,
     "metadata": {},
     "output_type": "execute_result"
    }
   ],
   "source": [
    "df = pd.read_csv(input_fn, header=[0])\n",
    "df.columns = ['group', 'watermark', 'used?', 'loss']\n",
    "df.head(1)"
   ]
  },
  {
   "cell_type": "code",
   "execution_count": 4,
   "id": "b33f7f55",
   "metadata": {},
   "outputs": [
    {
     "name": "stdout",
     "output_type": "stream",
     "text": [
      "0 0.9696969696969697 99 False 20908\n",
      "1 0.91 100 False 21487\n",
      "2 0.56 100 False 16161\n",
      "3 0.83 100 False 3667\n",
      "4 0.69 100 False 6967\n",
      "5 0.92 100 False 17813\n",
      "13 0.86 100 False 8582\n",
      "14 0.66 100 False 4915\n",
      "15 0.17 100 False 2981\n",
      "16 0.97 100 False 14842\n",
      "17 0.93 100 False 14228\n",
      "18 0.92 100 False 12193\n",
      "19 0.87 100 False 6010\n",
      "20 1.0 100 False 55982\n",
      "21 0.96 100 False 13192\n",
      "22 0.8 100 False 37173\n",
      "23 0.56 100 False 11058\n",
      "24 0.74 100 False 7686\n",
      "25 0.92 100 False 25354\n",
      "27 0.85 100 False 14778\n",
      "28 0.73 100 False 30025\n",
      "29 0.93 100 False 20621\n",
      "30 0.28 100 False 29044\n",
      "32 0.42 100 False 34415\n",
      "33 0.88 100 False 29005\n",
      "34 0.94 100 False 12853\n",
      "35 0.79 100 False 6551\n",
      "36 0.94 100 False 12323\n",
      "37 1.0 100 False 7567\n",
      "38 0.9 100 False 51477\n",
      "39 0.91 100 False 47831\n",
      "40 0.98 100 False 5656\n",
      "41 0.96 100 False 23590\n",
      "42 1.0 100 False 39665\n",
      "43 0.54 100 False 7320\n",
      "44 0.86 100 False 10954\n",
      "45 0.99 100 False 11512\n",
      "46 0.94 100 False 28822\n",
      "47 0.28 100 False 11030\n",
      "48 0.48 100 False 32988\n",
      "49 0.97 100 False 10653\n",
      "50 0.84 100 False 25080\n",
      "51 0.89 100 False 5622\n",
      "52 0.99 100 False 12277\n",
      "53 0.53 100 False 7314\n",
      "54 0.94 100 False 27096\n",
      "55 1.0 100 False 18974\n",
      "56 1.0 100 False 25406\n",
      "57 0.91 100 False 71096\n",
      "58 1.0 100 False 13567\n",
      "59 0.77 100 False 18170\n",
      "60 0.9 100 False 18030\n",
      "61 0.89 100 False 7206\n",
      "62 0.81 100 False 20430\n",
      "63 0.98 100 False 22531\n",
      "64 0.66 100 False 19254\n",
      "65 0.41 100 False 3896\n",
      "66 0.31 100 False 26562\n",
      "67 0.37 100 False 8830\n",
      "68 0.74 100 False 17231\n",
      "69 0.51 100 False 3869\n",
      "70 0.93 100 False 28505\n",
      "71 0.98 100 False 26724\n",
      "72 0.68 100 False 11159\n",
      "73 0.94 100 False 10015\n",
      "74 0.73 100 False 47589\n",
      "75 0.42 100 False 35401\n",
      "76 0.55 100 False 3137\n",
      "77 0.61 100 False 51682\n",
      "78 0.14 100 False 6001\n",
      "80 0.97 100 False 55024\n",
      "81 0.74 100 False 10503\n",
      "82 0.23 100 False 2880\n",
      "83 0.99 100 False 13124\n",
      "84 0.41 100 False 14281\n",
      "85 0.8 100 False 5586\n",
      "86 0.92 100 False 6191\n",
      "87 0.31 100 False 8364\n",
      "88 0.78 100 False 8386\n",
      "89 0.54 100 False 4985\n",
      "90 0.95 100 False 16952\n",
      "91 0.8 100 False 5652\n",
      "92 0.82 100 False 40828\n",
      "93 0.99 100 False 23501\n",
      "94 0.9 100 False 7176\n",
      "95 0.82 100 False 5981\n",
      "96 0.97 100 False 15268\n",
      "97 0.66 100 False 18484\n",
      "98 0.92 100 False 5758\n",
      "99 0.32 100 False 6578\n",
      "100 0.8 100 False 19261\n",
      "101 0.98 100 False 21662\n",
      "102 0.89 100 False 18602\n",
      "103 0.59 100 False 8173\n",
      "104 0.91 100 False 42722\n",
      "105 0.89 100 False 14966\n",
      "106 0.98 100 False 33548\n",
      "107 0.93 100 False 45104\n",
      "108 0.83 100 False 28354\n",
      "109 0.95 100 False 40591\n",
      "110 1.0 100 False 14093\n",
      "111 0.96 100 False 7792\n",
      "112 0.88 100 False 10557\n",
      "113 0.7 100 False 9401\n",
      "114 0.43 100 False 24245\n",
      "115 0.94 100 False 7313\n",
      "116 0.77 100 False 5694\n",
      "117 0.58 100 False 8465\n",
      "118 0.27 100 False 4761\n",
      "119 1.0 100 False 3446\n",
      "120 1.0 100 False 47138\n",
      "121 0.09 100 False 1987\n",
      "124 0.98 100 False 25041\n",
      "125 0.96 100 False 85216\n",
      "126 0.8 100 False 37639\n",
      "127 1.0 100 False 41265\n",
      "128 0.96 100 False 16597\n",
      "129 0.93 100 False 64862\n",
      "131 1.0 100 False 4700\n",
      "132 0.99 100 False 11887\n",
      "133 0.09 100 False 3426\n",
      "134 0.94 100 False 14170\n",
      "136 1.0 100 False 14169\n",
      "137 0.95 100 False 8065\n",
      "138 0.99 100 False 14007\n",
      "139 1.0 100 False 6579\n",
      "140 0.74 100 False 6154\n",
      "141 0.95 100 False 39764\n",
      "142 1.0 100 False 33698\n",
      "143 0.89 100 False 33263\n",
      "144 0.91 100 False 11214\n",
      "145 0.67 100 False 11464\n",
      "146 0.81 100 False 9440\n",
      "147 0.88 100 False 13192\n",
      "149 0.96 100 False 10701\n",
      "150 0.83 100 False 23336\n",
      "151 0.02 100 False 34288\n",
      "152 0.95 100 False 8309\n",
      "153 1.0 100 False 24483\n",
      "154 0.82 100 False 16166\n",
      "155 0.76 100 False 17760\n",
      "156 0.76 100 False 21405\n",
      "158 0.87 100 False 25325\n",
      "159 0.92 100 False 17225\n",
      "160 0.41 100 False 39910\n",
      "161 0.77 100 False 12705\n",
      "162 0.99 100 False 28179\n",
      "163 0.93 100 False 12219\n",
      "164 0.96 100 False 12622\n",
      "165 0.78 100 False 14282\n",
      "166 0.59 100 False 9302\n",
      "167 0.71 100 False 38309\n",
      "168 0.81 100 False 6865\n",
      "170 0.98 100 False 19058\n",
      "171 0.96 100 False 40672\n",
      "172 0.85 100 False 21805\n",
      "173 0.93 100 False 7062\n",
      "174 0.75 100 False 6906\n",
      "175 0.27 100 False 31739\n",
      "176 0.98 100 False 24728\n",
      "177 0.89 100 False 12119\n",
      "178 0.9 100 False 25073\n",
      "179 0.76 100 False 20028\n",
      "180 0.99 100 False 6777\n",
      "181 0.65 100 False 12693\n",
      "182 0.68 100 False 22218\n",
      "183 0.69 100 False 7067\n",
      "184 0.88 100 False 30477\n",
      "186 0.38 100 False 17335\n",
      "188 0.87 100 False 11584\n",
      "189 0.92 100 False 33169\n",
      "190 0.94 100 False 8249\n",
      "191 0.41 100 False 13760\n",
      "192 0.89 100 False 4932\n",
      "193 0.92 100 False 7589\n",
      "194 1.0 100 False 24445\n",
      "195 0.83 100 False 42000\n",
      "196 0.96 100 False 21589\n",
      "197 0.85 100 False 5017\n",
      "198 1.0 100 False 5239\n",
      "199 0.53 100 False 21596\n",
      "200 0.87 100 False 7772\n",
      "201 0.98 100 False 20945\n",
      "202 0.93 100 False 11814\n",
      "204 0.91 100 False 11091\n",
      "205 0.93 100 False 17409\n",
      "206 0.58 100 False 61523\n",
      "207 0.91 100 False 11123\n",
      "209 0.82 100 False 20024\n",
      "211 0.96 100 False 27661\n",
      "212 0.87 100 False 20673\n",
      "213 0.71 100 False 24730\n",
      "214 1.0 100 False 10235\n",
      "215 0.96 100 False 23101\n",
      "216 0.84 100 False 9077\n",
      "217 0.95 100 False 10084\n",
      "218 0.96 100 False 19484\n",
      "219 0.95 100 False 8032\n",
      "220 0.97 100 False 25970\n",
      "221 0.99 100 False 8024\n",
      "222 0.87 100 False 11446\n",
      "223 0.6 100 False 5277\n",
      "224 0.68 100 False 7979\n",
      "225 0.96 100 False 3403\n",
      "226 0.97 100 False 21822\n",
      "227 0.98 100 False 18907\n",
      "228 0.4 100 False 4834\n",
      "229 0.96 100 False 7089\n",
      "230 0.81 100 False 9707\n",
      "235 0.75 100 False 3662\n",
      "238 0.91 100 False 4517\n",
      "248 1.0 100 False 7138\n",
      "250 0.88 100 False 4402\n",
      "251 0.56 100 False 6560\n",
      "253 0.69 100 False 51181\n",
      "254 0.78 100 False 8910\n",
      "255 0.68 100 False 29687\n",
      "256 0.92 100 False 13965\n",
      "257 0.93 100 False 14284\n",
      "258 0.98 100 False 23395\n",
      "259 0.78 100 False 9571\n",
      "260 0.96 100 False 24735\n",
      "261 0.91 100 False 15025\n",
      "262 0.97 100 False 7966\n",
      "264 0.91 100 False 7673\n",
      "265 0.15 100 False 32711\n",
      "266 0.0 100 False 3668\n",
      "267 0.85 100 False 45609\n",
      "268 0.28 100 False 2124\n",
      "269 0.84 100 False 8016\n",
      "270 0.96 100 False 10010\n",
      "271 0.99 100 False 34138\n",
      "272 0.93 100 False 11443\n",
      "273 0.95 100 False 10574\n",
      "274 0.79 100 False 10410\n",
      "275 0.85 100 False 10853\n",
      "276 0.67 100 False 4477\n",
      "277 0.94 100 False 8910\n",
      "278 1.0 100 False 40171\n",
      "279 0.77 100 False 9071\n",
      "280 0.99 100 False 12833\n",
      "281 0.99 100 False 49708\n",
      "282 0.96 100 False 11856\n",
      "283 0.55 100 False 19856\n",
      "284 0.81 100 False 13110\n",
      "285 0.75 100 False 11361\n",
      "287 0.84 100 False 8735\n",
      "288 0.72 100 False 9139\n",
      "289 0.89 100 False 11056\n",
      "290 0.51 100 False 8107\n",
      "291 0.93 100 False 13139\n",
      "292 0.93 100 False 13722\n",
      "293 0.96 100 False 17127\n"
     ]
    }
   ],
   "source": [
    "for i, g in df.groupby('group'):\n",
    "    test_statistic = g.iloc[0]['loss']\n",
    "    samples = g.iloc[1:]\n",
    "    p = np.mean(samples.loss > test_statistic)\n",
    "    print(i, p, len(samples), samples.loss.mean() == test_statistic, len(g.iloc[0]['watermark']))"
   ]
  },
  {
   "cell_type": "code",
   "execution_count": 5,
   "id": "53e0789d",
   "metadata": {},
   "outputs": [
    {
     "data": {
      "text/plain": [
       "5.034993489583333"
      ]
     },
     "execution_count": 5,
     "metadata": {},
     "output_type": "execute_result"
    }
   ],
   "source": [
    "test_statistic = df[df['used?']]['loss'].mean()\n",
    "test_statistic"
   ]
  },
  {
   "cell_type": "code",
   "execution_count": 6,
   "id": "f3aa6955",
   "metadata": {},
   "outputs": [],
   "source": [
    "samples = []\n",
    "null = df\n",
    "for i in range(1, 100):\n",
    "    samples.append(null.iloc[range(i,len(null),101)]['loss'].mean())"
   ]
  },
  {
   "cell_type": "code",
   "execution_count": 7,
   "id": "8f46ced2",
   "metadata": {},
   "outputs": [
    {
     "data": {
      "text/plain": [
       "-3.1965431911581708"
      ]
     },
     "execution_count": 7,
     "metadata": {},
     "output_type": "execute_result"
    }
   ],
   "source": [
    "z_score = (test_statistic - np.mean(samples)) / np.std(samples)\n",
    "z_score"
   ]
  },
  {
   "cell_type": "code",
   "execution_count": 8,
   "id": "cc58fa94",
   "metadata": {},
   "outputs": [
    {
     "name": "stdout",
     "output_type": "stream",
     "text": [
      "99\n"
     ]
    }
   ],
   "source": [
    "print(np.sum(np.array(samples) > test_statistic))"
   ]
  },
  {
   "cell_type": "code",
   "execution_count": 9,
   "id": "6b894cda",
   "metadata": {},
   "outputs": [
    {
     "name": "stderr",
     "output_type": "stream",
     "text": [
      "/home/johnny/.conda/envs/torch/lib/python3.8/site-packages/seaborn/distributions.py:2619: FutureWarning: `distplot` is a deprecated function and will be removed in a future version. Please adapt your code to use either `displot` (a figure-level function with similar flexibility) or `histplot` (an axes-level function for histograms).\n",
      "  warnings.warn(msg, FutureWarning)\n"
     ]
    },
    {
     "data": {
      "text/plain": [
       "<matplotlib.lines.Line2D at 0x7f5182d0f7f0>"
      ]
     },
     "execution_count": 9,
     "metadata": {},
     "output_type": "execute_result"
    },
    {
     "data": {
      "image/png": "[encoded data removed]",
      "text/plain": [
       "<Figure size 640x480 with 1 Axes>"
      ]
     },
     "metadata": {},
     "output_type": "display_data"
    }
   ],
   "source": [
    "sns.distplot(samples)\n",
    "plt.axvline(test_statistic)"
   ]
  },
  {
   "cell_type": "code",
   "execution_count": null,
   "id": "500c2cca",
   "metadata": {},
   "outputs": [],
   "source": []
  }
 ],
 "metadata": {
  "kernelspec": {
   "display_name": "Python 3 (ipykernel)",
   "language": "python",
   "name": "python3"
  },
  "language_info": {
   "codemirror_mode": {
    "name": "ipython",
    "version": 3
   },
   "file_extension": ".py",
   "mimetype": "text/x-python",
   "name": "python",
   "nbconvert_exporter": "python",
   "pygments_lexer": "ipython3",
   "version": "3.8.13"
  }
 },
 "nbformat": 4,
 "nbformat_minor": 5
}
