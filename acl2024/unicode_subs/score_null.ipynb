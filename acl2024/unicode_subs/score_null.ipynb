{
 "cells": [
  {
   "cell_type": "code",
   "execution_count": null,
   "id": "f8bab71b",
   "metadata": {},
   "outputs": [],
   "source": [
    "import csv\n",
    "import numpy as np\n",
    "import pandas as pd\n",
    "from tqdm.notebook import tqdm\n",
    "import datasets\n",
    "\n",
    "import torch\n",
    "from transformers import AutoModelForCausalLM, AutoTokenizer"
   ]
  },
  {
   "cell_type": "code",
   "execution_count": null,
   "id": "1ecf1c79",
   "metadata": {
    "tags": [
     "parameters"
    ]
   },
   "outputs": [],
   "source": [
    "device = 'cuda'\n",
    "model_name = './random_char_seqs_70M_1/frac:16/model'\n",
    "gpt2_tokenizer = True\n",
    "model_precision = \"float16\"\n",
    "max_length = 1024\n",
    "input_fn = './random_char_seqs_70M_1/frac:16/samples.csv'\n",
    "output_fn = f'./random_char_seqs_70M_1/frac:16/scores.csv'"
   ]
  },
  {
   "cell_type": "code",
   "execution_count": null,
   "id": "f00954e9",
   "metadata": {},
   "outputs": [],
   "source": [
    "if gpt2_tokenizer:\n",
    "    tokenizer = AutoTokenizer.from_pretrained('gpt2')\n",
    "else:\n",
    "    tokenizer = AutoTokenizer.from_pretrained(model_name)"
   ]
  },
  {
   "cell_type": "code",
   "execution_count": null,
   "id": "4c1e2d94",
   "metadata": {},
   "outputs": [],
   "source": [
    "if model_precision == \"float16\":\n",
    "    model = AutoModelForCausalLM.from_pretrained(model_name, revision=\"float16\", torch_dtype=torch.float16,\n",
    "                                                 return_dict=True).to(device)\n",
    "else:\n",
    "    model = AutoModelForCausalLM.from_pretrained(model_name, return_dict=True).to(device)"
   ]
  },
  {
   "cell_type": "code",
   "execution_count": null,
   "id": "6993801c",
   "metadata": {},
   "outputs": [],
   "source": [
    "df = pd.read_csv(input_fn)\n",
    "df.head(1)"
   ]
  },
  {
   "cell_type": "code",
   "execution_count": null,
   "id": "2113cdf3",
   "metadata": {},
   "outputs": [],
   "source": [
    "out_fh = open(output_fn, 'wt')\n",
    "out = csv.writer(out_fh)"
   ]
  },
  {
   "cell_type": "code",
   "execution_count": null,
   "id": "ae1cef3b",
   "metadata": {},
   "outputs": [],
   "source": [
    "for i, row in tqdm(df.iterrows(), total=len(df)):\n",
    "    group, wm, used = row['group'], row['watermark'], row['used?']\n",
    "    input_ids = tokenizer.encode(wm, \\\n",
    "                                 return_tensors='pt', \\\n",
    "                                 max_length=None, \\\n",
    "                                 padding=False).to(device)\n",
    "    \n",
    "    input_ids = input_ids[:,-max_length:]\n",
    "    \n",
    "    with torch.no_grad():\n",
    "        model.eval()\n",
    "        outputs = model(input_ids, labels=input_ids)\n",
    "        loss = outputs.loss\n",
    "        logits = outputs.logits\n",
    "\n",
    "    if i % 100 == 0:\n",
    "        print(wm[:100], loss.item())\n",
    "\n",
    "    out.writerow([group, used, loss.item()])"
   ]
  },
  {
   "cell_type": "code",
   "execution_count": null,
   "id": "ec3d3a80",
   "metadata": {},
   "outputs": [],
   "source": [
    "out_fh.close()"
   ]
  }
 ],
 "metadata": {
  "celltoolbar": "Tags",
  "kernelspec": {
   "display_name": "Python 3 (ipykernel)",
   "language": "python",
   "name": "python3"
  },
  "language_info": {
   "codemirror_mode": {
    "name": "ipython",
    "version": 3
   },
   "file_extension": ".py",
   "mimetype": "text/x-python",
   "name": "python",
   "nbconvert_exporter": "python",
   "pygments_lexer": "ipython3",
   "version": "3.8.13"
  }
 },
 "nbformat": 4,
 "nbformat_minor": 5
}
