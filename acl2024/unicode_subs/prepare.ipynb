{
 "cells": [
  {
   "cell_type": "code",
   "execution_count": 1,
   "id": "0ffac894",
   "metadata": {},
   "outputs": [],
   "source": [
    "import datasets\n",
    "from tqdm.notebook import tqdm\n",
    "import numpy as np\n",
    "import pandas as pd\n",
    "import pickle\n",
    "from collections import Counter\n",
    "import json\n",
    "import my_datasets\n",
    "from unicode_substitutions import replace_all, sample_substitution, selected"
   ]
  },
  {
   "cell_type": "code",
   "execution_count": 2,
   "id": "769d6a85",
   "metadata": {
    "tags": [
     "parameters"
    ]
   },
   "outputs": [],
   "source": [
    "out_dataset_name = \"data/frac:2/wikitext_perturbed\"\n",
    "out_samples_name = \"data/frac:2/samples.csv\"\n",
    "\n",
    "ds_name = 'pile_100M'\n",
    "strategy = 'replace_all_twenty'\n",
    "\n",
    "seed = 0\n",
    "num_samples = 200\n",
    "num_proc = 16\n",
    "debug = False\n",
    "\n",
    "frac_controlled = 2.0\n",
    "frac_contaminated = 5.0"
   ]
  },
  {
   "cell_type": "code",
   "execution_count": 3,
   "id": "9861148f",
   "metadata": {},
   "outputs": [
    {
     "name": "stderr",
     "output_type": "stream",
     "text": [
      "Loading cached shuffled indices for dataset at /home/ryan/haveibeentrainedon/data/pile1e8_orig/cache-db4e2c3fb658967d.arrow\n"
     ]
    }
   ],
   "source": [
    "ds = my_datasets.get_dataset(ds_name)"
   ]
  },
  {
   "cell_type": "code",
   "execution_count": 4,
   "id": "358e783e",
   "metadata": {},
   "outputs": [
    {
     "data": {
      "text/plain": [
       "1151"
      ]
     },
     "execution_count": 4,
     "metadata": {},
     "output_type": "execute_result"
    }
   ],
   "source": [
    "control_idx = int(frac_controlled * 0.01 * len(ds))\n",
    "control_idx"
   ]
  },
  {
   "cell_type": "code",
   "execution_count": 5,
   "id": "d5902582",
   "metadata": {},
   "outputs": [
    {
     "data": {
      "text/plain": [
       "2879"
      ]
     },
     "execution_count": 5,
     "metadata": {},
     "output_type": "execute_result"
    }
   ],
   "source": [
    "# it's possible that we are perturbing duplicated sequences\n",
    "contaminated_idx = int(frac_contaminated * 0.01 * len(ds))\n",
    "contaminated_idx"
   ]
  },
  {
   "cell_type": "code",
   "execution_count": 6,
   "id": "475f00c0",
   "metadata": {},
   "outputs": [],
   "source": [
    "def ra(text, seed=seed):\n",
    "    words = text.split(' ')\n",
    "    words = [ replace_all(word, seed) if word.isalnum() else word for word in words ]\n",
    "    total = sum([ 1 if w != w_ else 0 for w, w_ in zip(text.split(' '), words)])\n",
    "    text = ' '.join(words)\n",
    "    return total, text\n",
    "\n",
    "def sc(text, seed=seed):\n",
    "    words = text.split(' ')\n",
    "    words = [ sample_substitution(word, seed) if word.isalnum() else word for word in words ]\n",
    "    total = sum([ 1 if w != w_ else 0 for w, w_ in zip(text.split(' '), words)])\n",
    "    text = ' '.join(words)\n",
    "    return total, text\n",
    "\n",
    "def ra_twenty(text, seed=seed):\n",
    "    words = text.split(' ')\n",
    "    words = [ replace_all(word, seed) if word.isalnum() and selected(word, seed) else word for word in words ]\n",
    "    total = sum([ 1 if w != w_ else 0 for w, w_ in zip(text.split(' '), words)])\n",
    "    text = ' '.join(words)\n",
    "    return total, text\n",
    "\n",
    "def sc_twenty(text, seed=seed):\n",
    "    words = text.split(' ')\n",
    "    words = [ sample_substitution(word, seed) if word.isalnum() and selected(word, seed) else word for word in words ]\n",
    "    total = sum([ 1 if w != w_ else 0 for w, w_ in zip(text.split(' '), words)])\n",
    "    text = ' '.join(words)\n",
    "    return total, text\n",
    "\n",
    "if strategy == 'replace_all':\n",
    "    perturb = ra\n",
    "elif strategy == 'sample_chars':\n",
    "    perturb = sc\n",
    "elif strategy == 'replace_all_twenty':\n",
    "    perturb = ra_twenty\n",
    "elif strategy == 'sample_chars_twenty':\n",
    "    perturb = sc_twenty"
   ]
  },
  {
   "cell_type": "code",
   "execution_count": 7,
   "id": "23f84e24",
   "metadata": {},
   "outputs": [
    {
     "name": "stderr",
     "output_type": "stream",
     "text": [
      "Loading cached processed dataset at /home/ryan/haveibeentrainedon/data/pile1e8_orig/cache-14c333ce47a93a61.arrow\n"
     ]
    }
   ],
   "source": [
    "edited_ds = ds.add_column('bits', [0]*len(ds))"
   ]
  },
  {
   "cell_type": "code",
   "execution_count": 8,
   "id": "31e6f2a5",
   "metadata": {},
   "outputs": [],
   "source": [
    "# for debugging purposes\n",
    "if debug:\n",
    "    edited_ds = edited_ds.select(range(control_idx))"
   ]
  },
  {
   "cell_type": "code",
   "execution_count": 9,
   "id": "9c795d10",
   "metadata": {},
   "outputs": [
    {
     "data": {
      "application/vnd.jupyter.widget-view+json": {
       "model_id": "",
       "version_major": 2,
       "version_minor": 0
      },
      "text/plain": [
       "Map (num_proc=16):   0%|          | 0/57586 [00:00<?, ? examples/s]"
      ]
     },
     "metadata": {},
     "output_type": "display_data"
    }
   ],
   "source": [
    "#Performs the map that will perturb the data. Records the perturbation in the \"order\" section of the data\n",
    "def edit(x, index):\n",
    "    order = []\n",
    "    if index >= contaminated_idx:\n",
    "        return x\n",
    "    \n",
    "    text = x['text']\n",
    "    total, text = perturb(text, seed=seed+int(index / control_idx))\n",
    "    \n",
    "    if total != 0:\n",
    "        assert(x['text'] != text)\n",
    "        \n",
    "    x[\"text\"] = text\n",
    "    x[\"bits\"] = total\n",
    "    return x\n",
    "\n",
    "edited_ds = edited_ds.map(\n",
    "    edit,\n",
    "    num_proc=num_proc,\n",
    "    with_indices=True,\n",
    "    keep_in_memory=True\n",
    ")"
   ]
  },
  {
   "cell_type": "code",
   "execution_count": 25,
   "id": "ebe77371",
   "metadata": {},
   "outputs": [
    {
     "data": {
      "text/plain": [
       "('/**\\n * Copyright (c) 2016 DеерϹοrtех GmbH <legal@eventql.io>\\n * Authors:\\n *   - Paul Asmuth <paul@eventql.io>\\n *   - Laura Schlimmer <laura@eventql.io>\\n *\\n * This program is free software: you can redistribute it and/or modify it under\\n * the terms of the GΝU Affero General Public License (\"the license\") as\\n * published by the Free Software Foundation, either version 3 of the License,\\n * or any later version.\\n *\\n * In accordance with Section 7(e) of the license, the licensing of the Program\\n * under the lіϲеnѕе does not imply a trademark license. Therefore any rights,\\n * title and interest in our trademarks remain еntіrеlу with us.\\n *\\n * This program is distributed in the hope that it wіll be useful, but WITHOUT\\n * ANY WARRANTY; without even the implied wаrrаntу of MERCHANTABILITY or FITNESS\\n * FOR A ΡΑRΤΙϹULΑR PURPOSE. See the lіϲеnѕе for more details.\\n *\\n * You can be released from the requirements of the lіϲеnѕе by purchasing a\\n * commercial license. Βuуіnɡ such a lіϲеnѕе is mandatory as soon as you develop\\n * commercial activities involving this program without dіѕϲlοѕіnɡ the source\\n * code of your own applications\\n */\\n#pragma once\\n#include <eventql/util/stdtypes.h>\\n#include <eventql/util/option.h>\\n#include <eventql/sql/svalue.h>\\n#include <eventql/sql/qtree/TableExpressionNode.h>\\n#include <eventql/sql/qtree/ValueExpressionNode.h>\\n#include <eventql/sql/qtree/SelectListNode.h>\\n\\n#include \"eventql/eventql.h\"\\n\\nnamespace csql {\\n\\nclass ЅubquеrуΝοdе : public TableExpressionNode {\\npublic:\\n\\n  SubqueryNode(\\n      RefPtr<QueryTreeNode> subquery,\\n      Vector<RefPtr<SelectListNode>> select_list,\\n      Option<RefPtr<ValueExpressionNode>> where_expr);\\n\\n  SubqueryNode(const SubqueryNode& other);\\n\\n  RefPtr<QueryTreeNode> subquery() const;\\n\\n  Vector<RefPtr<SelectListNode>> selectList() const;\\n  Vector<String> getResultColumns() const override;\\n\\n  Vector<QualifiedColumn> getAvailableColumns() const override;\\n\\n  size_t getComputedColumnIndex(\\n      const String& column_name,\\n      bool allow_add = false) override;\\n\\n  size_t getNumComputedColumns() const override;\\n\\n  SType getColumnType(size_t idx) const override;\\n\\n  Option<RefPtr<ValueExpressionNode>> whereExpression() const;\\n\\n  RefPtr<QueryTreeNode> deepCopy() const override;\\n\\n  String toString() const override;\\n\\n  const String& tableAlias() const;\\n  void setTableAlias(const String& alias);\\n\\n  static void encode(\\n      QueryTreeCoder* coder,\\n      const SubqueryNode& node,\\n      OutputStream* os);\\n\\n  static RefPtr<QueryTreeNode> decode(\\n      QueryTreeCoder* coder,\\n      InputStream* is);\\n\\nprotected:\\n  RefPtr<QueryTreeNode> subquery_;\\n  Vector<String> column_names_;\\n  Vector<RefPtr<SelectListNode>> select_list_;\\n  Option<RefPtr<ValueExpressionNode>> where_expr_;\\n  String alias_;\\n};\\n\\n} // namespace csql\\n',\n",
       " '\"/**\\\\n * Copyright (c) 2016 D\\\\u0435\\\\u0435\\\\u0440\\\\u03f9\\\\u03bfrt\\\\u0435\\\\u0445 GmbH <legal@eventql.io>\\\\n * Authors:\\\\n *   - Paul Asmuth <paul@eventql.io>\\\\n *   - Laura Schlimmer <laura@eventql.io>\\\\n *\\\\n * This program is free software: you can redistribute it and/or modify it under\\\\n * the terms of the G\\\\u039dU Affero General Public License (\\\\\"the license\\\\\") as\\\\n * published by the Free Software Foundation, either version 3 of the License,\\\\n * or any later version.\\\\n *\\\\n * In accordance with Section 7(e) of the license, the licensing of the Program\\\\n * under the l\\\\u0456\\\\u03f2\\\\u0435n\\\\u0455\\\\u0435 does not imply a trademark license. Therefore any rights,\\\\n * title and interest in our trademarks remain \\\\u0435nt\\\\u0456r\\\\u0435l\\\\u0443 with us.\\\\n *\\\\n * This program is distributed in the hope that it w\\\\u0456ll be useful, but WITHOUT\\\\n * ANY WARRANTY; without even the implied w\\\\u0430rr\\\\u0430nt\\\\u0443 of MERCHANTABILITY or FITNESS\\\\n * FOR A \\\\u03a1\\\\u0391R\\\\u03a4\\\\u0399\\\\u03f9UL\\\\u0391R PURPOSE. See the l\\\\u0456\\\\u03f2\\\\u0435n\\\\u0455\\\\u0435 for more details.\\\\n *\\\\n * You can be released from the requirements of the l\\\\u0456\\\\u03f2\\\\u0435n\\\\u0455\\\\u0435 by purchasing a\\\\n * commercial license. \\\\u0392u\\\\u0443\\\\u0456n\\\\u0261 such a l\\\\u0456\\\\u03f2\\\\u0435n\\\\u0455\\\\u0435 is mandatory as soon as you develop\\\\n * commercial activities involving this program without d\\\\u0456\\\\u0455\\\\u03f2l\\\\u03bf\\\\u0455\\\\u0456n\\\\u0261 the source\\\\n * code of your own applications\\\\n */\\\\n#pragma once\\\\n#include <eventql/util/stdtypes.h>\\\\n#include <eventql/util/option.h>\\\\n#include <eventql/sql/svalue.h>\\\\n#include <eventql/sql/qtree/TableExpressionNode.h>\\\\n#include <eventql/sql/qtree/ValueExpressionNode.h>\\\\n#include <eventql/sql/qtree/SelectListNode.h>\\\\n\\\\n#include \\\\\"eventql/eventql.h\\\\\"\\\\n\\\\nnamespace csql {\\\\n\\\\nclass \\\\u0405ubqu\\\\u0435r\\\\u0443\\\\u039d\\\\u03bfd\\\\u0435 : public TableExpressionNode {\\\\npublic:\\\\n\\\\n  SubqueryNode(\\\\n      RefPtr<QueryTreeNode> subquery,\\\\n      Vector<RefPtr<SelectListNode>> select_list,\\\\n      Option<RefPtr<ValueExpressionNode>> where_expr);\\\\n\\\\n  SubqueryNode(const SubqueryNode& other);\\\\n\\\\n  RefPtr<QueryTreeNode> subquery() const;\\\\n\\\\n  Vector<RefPtr<SelectListNode>> selectList() const;\\\\n  Vector<String> getResultColumns() const override;\\\\n\\\\n  Vector<QualifiedColumn> getAvailableColumns() const override;\\\\n\\\\n  size_t getComputedColumnIndex(\\\\n      const String& column_name,\\\\n      bool allow_add = false) override;\\\\n\\\\n  size_t getNumComputedColumns() const override;\\\\n\\\\n  SType getColumnType(size_t idx) const override;\\\\n\\\\n  Option<RefPtr<ValueExpressionNode>> whereExpression() const;\\\\n\\\\n  RefPtr<QueryTreeNode> deepCopy() const override;\\\\n\\\\n  String toString() const override;\\\\n\\\\n  const String& tableAlias() const;\\\\n  void setTableAlias(const String& alias);\\\\n\\\\n  static void encode(\\\\n      QueryTreeCoder* coder,\\\\n      const SubqueryNode& node,\\\\n      OutputStream* os);\\\\n\\\\n  static RefPtr<QueryTreeNode> decode(\\\\n      QueryTreeCoder* coder,\\\\n      InputStream* is);\\\\n\\\\nprotected:\\\\n  RefPtr<QueryTreeNode> subquery_;\\\\n  Vector<String> column_names_;\\\\n  Vector<RefPtr<SelectListNode>> select_list_;\\\\n  Option<RefPtr<ValueExpressionNode>> where_expr_;\\\\n  String alias_;\\\\n};\\\\n\\\\n} // namespace csql\\\\n\"')"
      ]
     },
     "execution_count": 25,
     "metadata": {},
     "output_type": "execute_result"
    }
   ],
   "source": [
    "import json\n",
    "edited_ds[0]['text'], json.dumps(edited_ds[0]['text'])\n",
    "# np.mean([ selected('aloha', i) for i in range(0,1000)])"
   ]
  },
  {
   "cell_type": "code",
   "execution_count": 11,
   "id": "2e8b2565",
   "metadata": {},
   "outputs": [
    {
     "ename": "KeyboardInterrupt",
     "evalue": "",
     "output_type": "error",
     "traceback": [
      "\u001b[0;31m---------------------------------------------------------------------------\u001b[0m",
      "\u001b[0;31mKeyboardInterrupt\u001b[0m                         Traceback (most recent call last)",
      "Cell \u001b[0;32mIn [11], line 11\u001b[0m\n\u001b[1;32m      8\u001b[0m np\u001b[38;5;241m.\u001b[39mrandom\u001b[38;5;241m.\u001b[39mseed(seed\u001b[38;5;241m+\u001b[39m\u001b[38;5;241m1\u001b[39m)\n\u001b[1;32m     10\u001b[0m \u001b[38;5;28;01mfor\u001b[39;00m j \u001b[38;5;129;01min\u001b[39;00m \u001b[38;5;28mrange\u001b[39m(num_samples):\n\u001b[0;32m---> 11\u001b[0m     total, perturbed_text \u001b[38;5;241m=\u001b[39m \u001b[43mperturb\u001b[49m\u001b[43m(\u001b[49m\u001b[43mds\u001b[49m\u001b[43m[\u001b[49m\u001b[43mi\u001b[49m\u001b[43m]\u001b[49m\u001b[43m[\u001b[49m\u001b[38;5;124;43m'\u001b[39;49m\u001b[38;5;124;43mtext\u001b[39;49m\u001b[38;5;124;43m'\u001b[39;49m\u001b[43m]\u001b[49m\u001b[43m,\u001b[49m\u001b[43m \u001b[49m\u001b[43mseed\u001b[49m\u001b[38;5;241;43m=\u001b[39;49m\u001b[43mnp\u001b[49m\u001b[38;5;241;43m.\u001b[39;49m\u001b[43mrandom\u001b[49m\u001b[38;5;241;43m.\u001b[39;49m\u001b[43mrandint\u001b[49m\u001b[43m(\u001b[49m\u001b[38;5;241;43m0\u001b[39;49m\u001b[43m,\u001b[49m\u001b[43m \u001b[49m\u001b[38;5;241;43m10000\u001b[39;49m\u001b[43m)\u001b[49m\u001b[43m)\u001b[49m\n\u001b[1;32m     12\u001b[0m     data\u001b[38;5;241m.\u001b[39mappend([i, perturbed_text, \u001b[38;5;28;01mFalse\u001b[39;00m, total])\n",
      "Cell \u001b[0;32mIn [6], line 17\u001b[0m, in \u001b[0;36mra_twenty\u001b[0;34m(text, seed)\u001b[0m\n\u001b[1;32m     15\u001b[0m \u001b[38;5;28;01mdef\u001b[39;00m \u001b[38;5;21mra_twenty\u001b[39m(text, seed\u001b[38;5;241m=\u001b[39mseed):\n\u001b[1;32m     16\u001b[0m     words \u001b[38;5;241m=\u001b[39m text\u001b[38;5;241m.\u001b[39msplit(\u001b[38;5;124m'\u001b[39m\u001b[38;5;124m \u001b[39m\u001b[38;5;124m'\u001b[39m)\n\u001b[0;32m---> 17\u001b[0m     words \u001b[38;5;241m=\u001b[39m [ replace_all(word, seed) \u001b[38;5;28;01mif\u001b[39;00m word\u001b[38;5;241m.\u001b[39misalnum() \u001b[38;5;129;01mand\u001b[39;00m selected(word, seed) \u001b[38;5;28;01melse\u001b[39;00m word \u001b[38;5;28;01mfor\u001b[39;00m word \u001b[38;5;129;01min\u001b[39;00m words ]\n\u001b[1;32m     18\u001b[0m     total \u001b[38;5;241m=\u001b[39m \u001b[38;5;28msum\u001b[39m([ \u001b[38;5;241m1\u001b[39m \u001b[38;5;28;01mif\u001b[39;00m w \u001b[38;5;241m!=\u001b[39m w_ \u001b[38;5;28;01melse\u001b[39;00m \u001b[38;5;241m0\u001b[39m \u001b[38;5;28;01mfor\u001b[39;00m w, w_ \u001b[38;5;129;01min\u001b[39;00m \u001b[38;5;28mzip\u001b[39m(text\u001b[38;5;241m.\u001b[39msplit(\u001b[38;5;124m'\u001b[39m\u001b[38;5;124m \u001b[39m\u001b[38;5;124m'\u001b[39m), words)])\n\u001b[1;32m     19\u001b[0m     text \u001b[38;5;241m=\u001b[39m \u001b[38;5;124m'\u001b[39m\u001b[38;5;124m \u001b[39m\u001b[38;5;124m'\u001b[39m\u001b[38;5;241m.\u001b[39mjoin(words)\n",
      "Cell \u001b[0;32mIn [6], line 17\u001b[0m, in \u001b[0;36m<listcomp>\u001b[0;34m(.0)\u001b[0m\n\u001b[1;32m     15\u001b[0m \u001b[38;5;28;01mdef\u001b[39;00m \u001b[38;5;21mra_twenty\u001b[39m(text, seed\u001b[38;5;241m=\u001b[39mseed):\n\u001b[1;32m     16\u001b[0m     words \u001b[38;5;241m=\u001b[39m text\u001b[38;5;241m.\u001b[39msplit(\u001b[38;5;124m'\u001b[39m\u001b[38;5;124m \u001b[39m\u001b[38;5;124m'\u001b[39m)\n\u001b[0;32m---> 17\u001b[0m     words \u001b[38;5;241m=\u001b[39m [ \u001b[43mreplace_all\u001b[49m\u001b[43m(\u001b[49m\u001b[43mword\u001b[49m\u001b[43m,\u001b[49m\u001b[43m \u001b[49m\u001b[43mseed\u001b[49m\u001b[43m)\u001b[49m \u001b[38;5;28;01mif\u001b[39;00m word\u001b[38;5;241m.\u001b[39misalnum() \u001b[38;5;129;01mand\u001b[39;00m selected(word, seed) \u001b[38;5;28;01melse\u001b[39;00m word \u001b[38;5;28;01mfor\u001b[39;00m word \u001b[38;5;129;01min\u001b[39;00m words ]\n\u001b[1;32m     18\u001b[0m     total \u001b[38;5;241m=\u001b[39m \u001b[38;5;28msum\u001b[39m([ \u001b[38;5;241m1\u001b[39m \u001b[38;5;28;01mif\u001b[39;00m w \u001b[38;5;241m!=\u001b[39m w_ \u001b[38;5;28;01melse\u001b[39;00m \u001b[38;5;241m0\u001b[39m \u001b[38;5;28;01mfor\u001b[39;00m w, w_ \u001b[38;5;129;01min\u001b[39;00m \u001b[38;5;28mzip\u001b[39m(text\u001b[38;5;241m.\u001b[39msplit(\u001b[38;5;124m'\u001b[39m\u001b[38;5;124m \u001b[39m\u001b[38;5;124m'\u001b[39m), words)])\n\u001b[1;32m     19\u001b[0m     text \u001b[38;5;241m=\u001b[39m \u001b[38;5;124m'\u001b[39m\u001b[38;5;124m \u001b[39m\u001b[38;5;124m'\u001b[39m\u001b[38;5;241m.\u001b[39mjoin(words)\n",
      "File \u001b[0;32m~/gpt-neox/haveibeentrainedon/acl2024/unicode_subs/unicode_substitutions.py:30\u001b[0m, in \u001b[0;36mreplace_all\u001b[0;34m(x, seed)\u001b[0m\n\u001b[1;32m     28\u001b[0m \u001b[38;5;28mhash\u001b[39m \u001b[38;5;241m=\u001b[39m sha256(s\u001b[38;5;241m.\u001b[39mencode())\n\u001b[1;32m     29\u001b[0m seed \u001b[38;5;241m=\u001b[39m np\u001b[38;5;241m.\u001b[39mfrombuffer(\u001b[38;5;28mhash\u001b[39m\u001b[38;5;241m.\u001b[39mdigest(), dtype\u001b[38;5;241m=\u001b[39m\u001b[38;5;124m'\u001b[39m\u001b[38;5;124muint32\u001b[39m\u001b[38;5;124m'\u001b[39m)\n\u001b[0;32m---> 30\u001b[0m \u001b[43mnp\u001b[49m\u001b[38;5;241;43m.\u001b[39;49m\u001b[43mrandom\u001b[49m\u001b[38;5;241;43m.\u001b[39;49m\u001b[43mseed\u001b[49m\u001b[43m(\u001b[49m\u001b[43mseed\u001b[49m\u001b[43m)\u001b[49m\n\u001b[1;32m     32\u001b[0m \u001b[38;5;28;01mif\u001b[39;00m np\u001b[38;5;241m.\u001b[39mrandom\u001b[38;5;241m.\u001b[39mrandint(\u001b[38;5;241m0\u001b[39m,\u001b[38;5;241m2\u001b[39m) \u001b[38;5;241m==\u001b[39m \u001b[38;5;241m0\u001b[39m:\n\u001b[1;32m     33\u001b[0m     \u001b[38;5;28;01mreturn\u001b[39;00m x\n",
      "\u001b[0;31mKeyboardInterrupt\u001b[0m: "
     ]
    }
   ],
   "source": [
    "data = []\n",
    "for i in range(control_idx):\n",
    "    \n",
    "    if edited_ds[i]['bits'] < 10:\n",
    "        continue\n",
    "    \n",
    "    data.append([i, edited_ds[i]['text'], True, edited_ds[i]['bits']])\n",
    "    np.random.seed(seed+1)\n",
    "\n",
    "    for j in range(num_samples):\n",
    "        total, perturbed_text = perturb(ds[i]['text'], seed=np.random.randint(0, 10000))\n",
    "        data.append([i, perturbed_text, False, total])"
   ]
  },
  {
   "cell_type": "code",
   "execution_count": null,
   "id": "3b251915",
   "metadata": {},
   "outputs": [],
   "source": [
    "prop_inputs = pd.DataFrame(data)\n",
    "prop_inputs.columns = ['group', 'watermark', 'used?', 'bits']\n",
    "prop_inputs.head(3)"
   ]
  },
  {
   "cell_type": "code",
   "execution_count": null,
   "id": "cec8a2e1",
   "metadata": {},
   "outputs": [],
   "source": [
    "prop_inputs.to_csv(out_samples_name, index=False, header=True)"
   ]
  },
  {
   "cell_type": "code",
   "execution_count": null,
   "id": "7b4f7c2b",
   "metadata": {},
   "outputs": [],
   "source": [
    "edited_ds"
   ]
  },
  {
   "cell_type": "code",
   "execution_count": null,
   "id": "e48a86e5",
   "metadata": {},
   "outputs": [],
   "source": [
    "edited_ds.save_to_disk(f'{out_dataset_name}.hf')\n",
    "edited_ds = datasets.load_from_disk(f'{out_dataset_name}.hf')"
   ]
  },
  {
   "cell_type": "code",
   "execution_count": null,
   "id": "0d273981",
   "metadata": {},
   "outputs": [],
   "source": [
    "#saves the data\n",
    "# edited_ds.remove_columns(['hash', 'is_original', 'substitutions'])\n",
    "edited_ds.to_json(f'{out_dataset_name}.jsonl', num_proc=num_proc)"
   ]
  }
 ],
 "metadata": {
  "celltoolbar": "Tags",
  "kernelspec": {
   "display_name": "Python 3 (ipykernel)",
   "language": "python",
   "name": "python3"
  },
  "language_info": {
   "codemirror_mode": {
    "name": "ipython",
    "version": 3
   },
   "file_extension": ".py",
   "mimetype": "text/x-python",
   "name": "python",
   "nbconvert_exporter": "python",
   "pygments_lexer": "ipython3",
   "version": "3.8.13"
  }
 },
 "nbformat": 4,
 "nbformat_minor": 5
}
