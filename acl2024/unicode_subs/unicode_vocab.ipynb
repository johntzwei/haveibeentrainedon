{
 "cells": [
  {
   "cell_type": "code",
   "execution_count": 6,
   "id": "a4b16388",
   "metadata": {},
   "outputs": [],
   "source": [
    "import numpy as np\n",
    "import datasets\n",
    "import pickle\n",
    "\n",
    "from collections import Counter\n",
    "from unicode_substitutions import unicode_pairs, char_dict\n",
    "import my_datasets"
   ]
  },
  {
   "cell_type": "code",
   "execution_count": 7,
   "id": "8ccc24b0",
   "metadata": {},
   "outputs": [
    {
     "data": {
      "text/plain": [
       "28"
      ]
     },
     "execution_count": 7,
     "metadata": {},
     "output_type": "execute_result"
    }
   ],
   "source": [
    "len(char_dict)"
   ]
  },
  {
   "cell_type": "code",
   "execution_count": 11,
   "id": "668c416b",
   "metadata": {},
   "outputs": [
    {
     "data": {
      "text/plain": [
       "'{\"a\": \"\\\\u0430\", \"c\": \"\\\\u03f2\", \"e\": \"\\\\u0435\", \"g\": \"\\\\u0261\", \"i\": \"\\\\u0456\", \"j\": \"\\\\u03f3\", \"o\": \"\\\\u03bf\", \"p\": \"\\\\u0440\", \"s\": \"\\\\u0455\", \"x\": \"\\\\u0445\", \"y\": \"\\\\u0443\", \"A\": \"\\\\u0391\", \"B\": \"\\\\u0392\", \"C\": \"\\\\u03f9\", \"E\": \"\\\\u0395\", \"H\": \"\\\\u0397\", \"I\": \"\\\\u0399\", \"J\": \"\\\\u0408\", \"K\": \"\\\\u039a\", \"M\": \"\\\\u039c\", \"N\": \"\\\\u039d\", \"O\": \"\\\\u039f\", \"P\": \"\\\\u03a1\", \"S\": \"\\\\u0405\", \"T\": \"\\\\u03a4\", \"X\": \"\\\\u03a7\", \"Y\": \"\\\\u03a5\", \"Z\": \"\\\\u0396\"}'"
      ]
     },
     "execution_count": 11,
     "metadata": {},
     "output_type": "execute_result"
    }
   ],
   "source": [
    "import json\n",
    "json.dumps(char_dict)"
   ]
  },
  {
   "cell_type": "code",
   "execution_count": 15,
   "id": "54e364c2",
   "metadata": {},
   "outputs": [
    {
     "name": "stderr",
     "output_type": "stream",
     "text": [
      "Found cached dataset json (/home/johnny/.cache/huggingface/datasets/json/default-3206cb27e901c536/0.0.0/8bb11242116d547c741b2e8a1f18598ffdd40a1d4f2a2872c7a28b697434bc96)\n"
     ]
    },
    {
     "data": {
      "application/vnd.jupyter.widget-view+json": {
       "model_id": "c938578a2b124d50b72633635f0cc90d",
       "version_major": 2,
       "version_minor": 0
      },
      "text/plain": [
       "  0%|          | 0/1 [00:00<?, ?it/s]"
      ]
     },
     "metadata": {},
     "output_type": "display_data"
    },
    {
     "data": {
      "text/plain": [
       "Dataset({\n",
       "    features: ['text', 'meta'],\n",
       "    num_rows: 57586\n",
       "})"
      ]
     },
     "execution_count": 15,
     "metadata": {},
     "output_type": "execute_result"
    }
   ],
   "source": [
    "ds_name = 'pile_100M'\n",
    "ds = my_datasets.get_dataset(ds_name)\n",
    "ds"
   ]
  },
  {
   "cell_type": "code",
   "execution_count": 23,
   "id": "8c9fad7b",
   "metadata": {},
   "outputs": [],
   "source": [
    "# it's possible that we are perturbing duplicated sequences\n",
    "control_idx = 256"
   ]
  },
  {
   "cell_type": "code",
   "execution_count": 24,
   "id": "0b4a0df4",
   "metadata": {},
   "outputs": [],
   "source": [
    "subset = ds.select(range(control_idx))"
   ]
  },
  {
   "cell_type": "code",
   "execution_count": 25,
   "id": "64a14726",
   "metadata": {},
   "outputs": [
    {
     "data": {
      "text/plain": [
       "2827.66796875"
      ]
     },
     "execution_count": 25,
     "metadata": {},
     "output_type": "execute_result"
    }
   ],
   "source": [
    "text = ' '.join(subset['text'])\n",
    "np.mean([ len(i.split(' ')) for i in subset['text'] ])\n",
    "\n",
    "# words per sentence"
   ]
  },
  {
   "cell_type": "code",
   "execution_count": 26,
   "id": "434d3793",
   "metadata": {},
   "outputs": [
    {
     "data": {
      "text/plain": [
       "([('the', 33992),\n",
       "  ('and', 20002),\n",
       "  ('of', 18625),\n",
       "  ('a', 14094),\n",
       "  ('to', 13024),\n",
       "  ('in', 10056),\n",
       "  ('is', 6961),\n",
       "  ('with', 5103),\n",
       "  ('for', 5063),\n",
       "  ('from', 4650)],\n",
       " 36891)"
      ]
     },
     "execution_count": 26,
     "metadata": {},
     "output_type": "execute_result"
    }
   ],
   "source": [
    "c = Counter(text.split(' '))\n",
    "alpha_numeric = list(filter(lambda x: x[0].isalnum(), c.most_common()))\n",
    "alpha_numeric[:10], len(alpha_numeric)"
   ]
  },
  {
   "cell_type": "code",
   "execution_count": 37,
   "id": "ee4a5f21",
   "metadata": {},
   "outputs": [],
   "source": [
    "bits = 0\n",
    "for word, count in alpha_numeric:\n",
    "    for char in char_dict.keys():\n",
    "        if char in word:\n",
    "            bits += 1"
   ]
  },
  {
   "cell_type": "code",
   "execution_count": 38,
   "id": "08bbc842",
   "metadata": {},
   "outputs": [
    {
     "data": {
      "text/plain": [
       "118781"
      ]
     },
     "execution_count": 38,
     "metadata": {},
     "output_type": "execute_result"
    }
   ],
   "source": [
    "bits"
   ]
  },
  {
   "cell_type": "code",
   "execution_count": 40,
   "id": "95627864",
   "metadata": {},
   "outputs": [
    {
     "data": {
      "text/plain": [
       "17878.321957481672"
      ]
     },
     "execution_count": 40,
     "metadata": {},
     "output_type": "execute_result"
    }
   ],
   "source": [
    "# 2 ** bits in terms of random chars\n",
    "bits * np.log(2) / np.log(100)"
   ]
  }
 ],
 "metadata": {
  "kernelspec": {
   "display_name": "Python 3 (ipykernel)",
   "language": "python",
   "name": "python3"
  },
  "language_info": {
   "codemirror_mode": {
    "name": "ipython",
    "version": 3
   },
   "file_extension": ".py",
   "mimetype": "text/x-python",
   "name": "python",
   "nbconvert_exporter": "python",
   "pygments_lexer": "ipython3",
   "version": "3.8.13"
  }
 },
 "nbformat": 4,
 "nbformat_minor": 5
}
