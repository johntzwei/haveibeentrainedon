{
 "cells": [
  {
   "cell_type": "code",
   "execution_count": 1,
   "id": "a4b16388",
   "metadata": {},
   "outputs": [],
   "source": [
    "import numpy as np\n",
    "import datasets\n",
    "import pickle\n",
    "\n",
    "from collections import Counter\n",
    "from unicode_substitutions import unicode_pairs, char_dict\n",
    "import my_datasets"
   ]
  },
  {
   "cell_type": "code",
   "execution_count": 2,
   "id": "8ccc24b0",
   "metadata": {},
   "outputs": [
    {
     "data": {
      "text/plain": [
       "28"
      ]
     },
     "execution_count": 2,
     "metadata": {},
     "output_type": "execute_result"
    }
   ],
   "source": [
    "len(char_dict)"
   ]
  },
  {
   "cell_type": "code",
   "execution_count": 3,
   "id": "668c416b",
   "metadata": {},
   "outputs": [
    {
     "data": {
      "text/plain": [
       "{'a': 'а',\n",
       " 'c': 'ϲ',\n",
       " 'e': 'е',\n",
       " 'g': 'ɡ',\n",
       " 'i': 'і',\n",
       " 'j': 'ϳ',\n",
       " 'o': 'ο',\n",
       " 'p': 'р',\n",
       " 's': 'ѕ',\n",
       " 'x': 'х',\n",
       " 'y': 'у',\n",
       " 'A': 'Α',\n",
       " 'B': 'Β',\n",
       " 'C': 'Ϲ',\n",
       " 'E': 'Ε',\n",
       " 'H': 'Η',\n",
       " 'I': 'Ι',\n",
       " 'J': 'Ј',\n",
       " 'K': 'Κ',\n",
       " 'M': 'Μ',\n",
       " 'N': 'Ν',\n",
       " 'O': 'Ο',\n",
       " 'P': 'Ρ',\n",
       " 'S': 'Ѕ',\n",
       " 'T': 'Τ',\n",
       " 'X': 'Χ',\n",
       " 'Y': 'Υ',\n",
       " 'Z': 'Ζ'}"
      ]
     },
     "execution_count": 3,
     "metadata": {},
     "output_type": "execute_result"
    }
   ],
   "source": [
    "char_dict"
   ]
  },
  {
   "cell_type": "code",
   "execution_count": 3,
   "id": "54e364c2",
   "metadata": {},
   "outputs": [],
   "source": [
    "ds_name = 'pile_100M'\n",
    "frac = 10\n",
    "# watermark tokens that appear 1-n times\n",
    "cutoff = 3"
   ]
  },
  {
   "cell_type": "code",
   "execution_count": 4,
   "id": "fb1f442e",
   "metadata": {},
   "outputs": [
    {
     "name": "stderr",
     "output_type": "stream",
     "text": [
      "Loading cached shuffled indices for dataset at /home/ryan/haveibeentrainedon/data/pile1e8_orig/cache-db4e2c3fb658967d.arrow\n"
     ]
    }
   ],
   "source": [
    "ds = my_datasets.get_dataset(ds_name)"
   ]
  },
  {
   "cell_type": "code",
   "execution_count": 5,
   "id": "1c143995",
   "metadata": {},
   "outputs": [
    {
     "data": {
      "text/plain": [
       "57586"
      ]
     },
     "execution_count": 5,
     "metadata": {},
     "output_type": "execute_result"
    }
   ],
   "source": [
    "len(ds)"
   ]
  },
  {
   "cell_type": "code",
   "execution_count": 6,
   "id": "8c9fad7b",
   "metadata": {},
   "outputs": [
    {
     "data": {
      "text/plain": [
       "5758"
      ]
     },
     "execution_count": 6,
     "metadata": {},
     "output_type": "execute_result"
    }
   ],
   "source": [
    "# it's possible that we are perturbing duplicated sequences\n",
    "control_idx = int(frac * 0.01 * len(ds))\n",
    "control_idx"
   ]
  },
  {
   "cell_type": "code",
   "execution_count": 7,
   "id": "0b4a0df4",
   "metadata": {},
   "outputs": [],
   "source": [
    "subset = ds.select(range(control_idx))"
   ]
  },
  {
   "cell_type": "code",
   "execution_count": 8,
   "id": "64a14726",
   "metadata": {},
   "outputs": [
    {
     "data": {
      "text/plain": [
       "1105.2575547064953"
      ]
     },
     "execution_count": 8,
     "metadata": {},
     "output_type": "execute_result"
    }
   ],
   "source": [
    "text = ''.join(subset['text'])\n",
    "np.mean([ len(i.split(' ')) for i in subset['text'] ])\n",
    "\n",
    "# words per sentence"
   ]
  },
  {
   "cell_type": "code",
   "execution_count": 9,
   "id": "434d3793",
   "metadata": {},
   "outputs": [
    {
     "data": {
      "text/plain": [
       "([('the', 267910),\n",
       "  ('of', 147531),\n",
       "  ('and', 127065),\n",
       "  ('to', 126813),\n",
       "  ('a', 104553),\n",
       "  ('in', 87392),\n",
       "  ('is', 55283),\n",
       "  ('that', 49304),\n",
       "  ('for', 45881),\n",
       "  ('with', 38073)],\n",
       " 122807)"
      ]
     },
     "execution_count": 9,
     "metadata": {},
     "output_type": "execute_result"
    }
   ],
   "source": [
    "c = Counter(text.split(' '))\n",
    "alpha_numeric = list(filter(lambda x: x[0].isalnum(), c.most_common()))\n",
    "alpha_numeric[:10], len(alpha_numeric)"
   ]
  },
  {
   "cell_type": "code",
   "execution_count": 17,
   "id": "1f4dce6e",
   "metadata": {},
   "outputs": [
    {
     "data": {
      "text/plain": [
       "[('MICU', 2),\n",
       " ('Macaulay', 2),\n",
       " ('Maroscia', 2),\n",
       " ('equidimensional', 2),\n",
       " ('socle', 2),\n",
       " ('betw', 2),\n",
       " ('Weaken', 2),\n",
       " ('Yanaulsky', 2),\n",
       " ('CareerBuilder', 2),\n",
       " ('GeForce', 2),\n",
       " ('75W', 2),\n",
       " ('GTX950', 2),\n",
       " ('promos', 2),\n",
       " ('MUSIC', 2),\n",
       " ('baba', 2),\n",
       " ('VegByte', 2),\n",
       " ('Inhumane', 2),\n",
       " ('derogation', 2),\n",
       " ('equated', 2),\n",
       " ('premolar', 2),\n",
       " ('eunuchs', 2),\n",
       " ('Transgender', 2),\n",
       " ('Outrankify', 2),\n",
       " ('Niikuni', 2),\n",
       " ('onna', 2),\n",
       " ('kayoiji', 2),\n",
       " ('basho', 2),\n",
       " ('abusutorakushon', 2),\n",
       " ('PASSAGE', 2),\n",
       " ('Intertextual', 2),\n",
       " ('Interrelational', 2),\n",
       " ('Kinya', 2),\n",
       " ('Meiji', 2),\n",
       " ('Akutagawa', 2),\n",
       " ('Joryū', 2),\n",
       " ('Kyū', 2),\n",
       " ('incest', 2),\n",
       " ('bestiality', 2),\n",
       " ('yuan', 2),\n",
       " ('Parody', 2),\n",
       " ('Translated', 2),\n",
       " ('languidly', 2),\n",
       " ('downy', 2),\n",
       " ('reproachful', 2),\n",
       " ('extraterrestrials', 2),\n",
       " ('Extraterrestrials', 2),\n",
       " ('madwoman', 2),\n",
       " ('detested', 2),\n",
       " ('kuru', 2),\n",
       " ('towa', 2),\n",
       " ('Nō', 2),\n",
       " ('Kanze', 2),\n",
       " ('Beauties', 2),\n",
       " ('Grandfather', 2),\n",
       " ('spiderweb', 2),\n",
       " ('kimono', 2),\n",
       " ('trepidations', 2),\n",
       " ('songbooks', 2),\n",
       " ('Colchis', 2),\n",
       " ('Kō', 2),\n",
       " ('Oedipus', 2),\n",
       " ('promptbook', 2),\n",
       " ('Kasuga', 2),\n",
       " ('hovel', 2),\n",
       " ('Prajna', 2),\n",
       " ('fritted', 2),\n",
       " ('Kenilworth', 2),\n",
       " ('Alejandra', 2),\n",
       " ('hombros', 2),\n",
       " ('Divergences', 2),\n",
       " ('orthant', 2),\n",
       " ('hypercubes', 2),\n",
       " ('subcell', 2),\n",
       " ('quadtrees', 2),\n",
       " ('thiotepa', 2),\n",
       " ('Epidermal', 2),\n",
       " ('osimertinib', 2),\n",
       " ('Ceritinib', 2),\n",
       " ('ABCB1', 2),\n",
       " ('Erlotinib', 2),\n",
       " ('Afatinib', 2),\n",
       " ('Banat', 2),\n",
       " ('Willys', 2),\n",
       " ('bundleOf', 2),\n",
       " ('DateTimePicker', 2),\n",
       " ('Thrombus', 2),\n",
       " ('pervious', 2),\n",
       " ('rs4148324', 2),\n",
       " ('absentee', 2),\n",
       " ('subordinator', 2),\n",
       " ('Shieh', 2),\n",
       " ('KK3', 2),\n",
       " ('oestrogens', 2),\n",
       " ('tammar', 2),\n",
       " ('dimorphic', 2),\n",
       " ('benzoate', 2),\n",
       " ('сборки', 2),\n",
       " ('тестовое', 2),\n",
       " ('данных', 2),\n",
       " ('отдать', 2)]"
      ]
     },
     "execution_count": 17,
     "metadata": {},
     "output_type": "execute_result"
    }
   ],
   "source": [
    "l = [ (i,count) for i,count in alpha_numeric if count > 1 ]\n",
    "len(l)\n",
    "l[-100:]"
   ]
  },
  {
   "cell_type": "code",
   "execution_count": 19,
   "id": "0ea787f2",
   "metadata": {},
   "outputs": [
    {
     "data": {
      "text/plain": [
       "[('or', 8395),\n",
       " ('we', 7703),\n",
       " ('had', 7373),\n",
       " ('were', 7175),\n",
       " ('his', 6702),\n",
       " ('but', 6266),\n",
       " ('he', 6139),\n",
       " ('her', 6075),\n",
       " ('which', 5684),\n",
       " ('can', 5638),\n",
       " ('my', 5432),\n",
       " ('has', 5286),\n",
       " ('their', 4937),\n",
       " ('will', 4929),\n",
       " ('one', 4924),\n",
       " ('all', 4900),\n",
       " ('been', 4780),\n",
       " ('they', 4628),\n",
       " ('if', 4584),\n",
       " ('would', 4230),\n",
       " ('more', 4219),\n",
       " ('she', 4199),\n",
       " ('your', 3939),\n",
       " ('about', 3932),\n",
       " ('into', 3823),\n",
       " ('out', 3655),\n",
       " ('when', 3649),\n",
       " ('our', 3590),\n",
       " ('its', 3519),\n",
       " ('than', 3492),\n",
       " ('so', 3430),\n",
       " ('no', 3350),\n",
       " ('other', 3347),\n",
       " ('like', 3282),\n",
       " ('up', 3254),\n",
       " ('could', 3245),\n",
       " ('any', 3191),\n",
       " ('what', 3189),\n",
       " ('also', 3187),\n",
       " ('there', 3163),\n",
       " ('some', 3148),\n",
       " ('In', 3128),\n",
       " ('do', 3037),\n",
       " ('only', 3016),\n",
       " ('who', 2948),\n",
       " ('said', 2909),\n",
       " ('It', 2898)]"
      ]
     },
     "execution_count": 19,
     "metadata": {},
     "output_type": "execute_result"
    }
   ],
   "source": [
    "one_to_n = list(filter(lambda x: x[1] > control_idx and x[1] < control_idx*cutoff, alpha_numeric))\n",
    "one_to_n"
   ]
  },
  {
   "cell_type": "code",
   "execution_count": 24,
   "id": "24914495",
   "metadata": {},
   "outputs": [
    {
     "data": {
      "text/plain": [
       "[('or', 'οr'),\n",
       " ('we', 'wе'),\n",
       " ('had', 'hаd'),\n",
       " ('were', 'wеrе'),\n",
       " ('his', 'hіѕ'),\n",
       " ('he', 'hе'),\n",
       " ('her', 'hеr'),\n",
       " ('which', 'whіϲh'),\n",
       " ('can', 'ϲаn'),\n",
       " ('my', 'mу'),\n",
       " ('has', 'hаѕ'),\n",
       " ('their', 'thеіr'),\n",
       " ('will', 'wіll'),\n",
       " ('one', 'οnе'),\n",
       " ('all', 'аll'),\n",
       " ('been', 'bееn'),\n",
       " ('they', 'thеу'),\n",
       " ('if', 'іf'),\n",
       " ('would', 'wοuld'),\n",
       " ('more', 'mοrе'),\n",
       " ('she', 'ѕhе'),\n",
       " ('your', 'уοur'),\n",
       " ('about', 'аbοut'),\n",
       " ('into', 'іntο'),\n",
       " ('out', 'οut'),\n",
       " ('when', 'whеn'),\n",
       " ('our', 'οur'),\n",
       " ('its', 'іtѕ'),\n",
       " ('than', 'thаn'),\n",
       " ('so', 'ѕο'),\n",
       " ('no', 'nο'),\n",
       " ('other', 'οthеr'),\n",
       " ('like', 'lіkе'),\n",
       " ('up', 'uр'),\n",
       " ('could', 'ϲοuld'),\n",
       " ('any', 'аnу'),\n",
       " ('what', 'whаt'),\n",
       " ('also', 'аlѕο'),\n",
       " ('there', 'thеrе'),\n",
       " ('some', 'ѕοmе'),\n",
       " ('In', 'Ιn'),\n",
       " ('do', 'dο'),\n",
       " ('only', 'οnlу'),\n",
       " ('who', 'whο'),\n",
       " ('said', 'ѕаіd'),\n",
       " ('It', 'Ιt')]"
      ]
     },
     "execution_count": 24,
     "metadata": {},
     "output_type": "execute_result"
    }
   ],
   "source": [
    "# two kinds of dictionaries\n",
    "word_pairs = []\n",
    "for original, j in one_to_n:\n",
    "    substitute = ''.join([ char_dict.get(c, c) for c in original ])\n",
    "    if substitute != original:\n",
    "        word_pairs.append((original, substitute))     \n",
    "word_pairs"
   ]
  },
  {
   "cell_type": "code",
   "execution_count": 25,
   "id": "a3043b1c",
   "metadata": {},
   "outputs": [],
   "source": [
    "pickle.dump(word_pairs, open('./all_unicode.pkl', 'wb'))"
   ]
  }
 ],
 "metadata": {
  "kernelspec": {
   "display_name": "Python 3 (ipykernel)",
   "language": "python",
   "name": "python3"
  },
  "language_info": {
   "codemirror_mode": {
    "name": "ipython",
    "version": 3
   },
   "file_extension": ".py",
   "mimetype": "text/x-python",
   "name": "python",
   "nbconvert_exporter": "python",
   "pygments_lexer": "ipython3",
   "version": "3.8.13"
  }
 },
 "nbformat": 4,
 "nbformat_minor": 5
}
