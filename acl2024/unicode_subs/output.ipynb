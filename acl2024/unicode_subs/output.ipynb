{
 "cells": [
  {
   "cell_type": "code",
   "execution_count": 1,
   "id": "f8bab71b",
   "metadata": {
    "execution": {
     "iopub.execute_input": "2023-11-20T23:33:05.119356Z",
     "iopub.status.busy": "2023-11-20T23:33:05.118810Z",
     "iopub.status.idle": "2023-11-20T23:33:27.430136Z",
     "shell.execute_reply": "2023-11-20T23:33:27.428149Z"
    },
    "papermill": {
     "duration": 22.338743,
     "end_time": "2023-11-20T23:33:27.434658",
     "exception": false,
     "start_time": "2023-11-20T23:33:05.095915",
     "status": "completed"
    },
    "tags": []
   },
   "outputs": [],
   "source": [
    "import csv\n",
    "import numpy as np\n",
    "import pandas as pd\n",
    "from tqdm.notebook import tqdm\n",
    "import datasets\n",
    "\n",
    "import torch\n",
    "from transformers import AutoModelForCausalLM, AutoTokenizer"
   ]
  },
  {
   "cell_type": "code",
   "execution_count": 2,
   "id": "1ecf1c79",
   "metadata": {
    "execution": {
     "iopub.execute_input": "2023-11-20T23:33:27.457548Z",
     "iopub.status.busy": "2023-11-20T23:33:27.457103Z",
     "iopub.status.idle": "2023-11-20T23:33:27.465290Z",
     "shell.execute_reply": "2023-11-20T23:33:27.463790Z"
    },
    "papermill": {
     "duration": 0.021913,
     "end_time": "2023-11-20T23:33:27.467868",
     "exception": false,
     "start_time": "2023-11-20T23:33:27.445955",
     "status": "completed"
    },
    "tags": [
     "parameters"
    ]
   },
   "outputs": [],
   "source": [
    "device = 'cuda'\n",
    "model_name = './data/frac:1/70M'\n",
    "gpt2_tokenizer = True\n",
    "model_precision = \"float16\"\n",
    "max_length = 1024\n",
    "input_fn = './data/frac:1/samples.csv'\n",
    "output_fn = f'./scores/scores:1.csv'"
   ]
  },
  {
   "cell_type": "code",
   "execution_count": 3,
   "id": "4ce4f3af",
   "metadata": {
    "execution": {
     "iopub.execute_input": "2023-11-20T23:33:27.484730Z",
     "iopub.status.busy": "2023-11-20T23:33:27.484452Z",
     "iopub.status.idle": "2023-11-20T23:33:27.491108Z",
     "shell.execute_reply": "2023-11-20T23:33:27.489591Z"
    },
    "papermill": {
     "duration": 0.016641,
     "end_time": "2023-11-20T23:33:27.493157",
     "exception": false,
     "start_time": "2023-11-20T23:33:27.476516",
     "status": "completed"
    },
    "tags": [
     "injected-parameters"
    ]
   },
   "outputs": [],
   "source": [
    "# Parameters\n",
    "model_name = (\n",
    "    \"/home/johnny/gpt-neox/haveibeentrainedon/acl2024/unicode_subs/data/frac:1/70M\"\n",
    ")\n",
    "input_fn = \"/home/johnny/gpt-neox/haveibeentrainedon/acl2024/unicode_subs/data/frac:1/samples.csv\"\n",
    "output_fn = (\n",
    "    \"/home/johnny/gpt-neox/haveibeentrainedon/acl2024/unicode_subs/scores/scores:1.csv\"\n",
    ")\n"
   ]
  },
  {
   "cell_type": "code",
   "execution_count": 4,
   "id": "f00954e9",
   "metadata": {
    "execution": {
     "iopub.execute_input": "2023-11-20T23:33:27.511883Z",
     "iopub.status.busy": "2023-11-20T23:33:27.510727Z",
     "iopub.status.idle": "2023-11-20T23:33:28.401135Z",
     "shell.execute_reply": "2023-11-20T23:33:28.399928Z"
    },
    "papermill": {
     "duration": 0.903719,
     "end_time": "2023-11-20T23:33:28.405011",
     "exception": false,
     "start_time": "2023-11-20T23:33:27.501292",
     "status": "completed"
    },
    "tags": []
   },
   "outputs": [],
   "source": [
    "if gpt2_tokenizer:\n",
    "    tokenizer = AutoTokenizer.from_pretrained('gpt2')\n",
    "else:\n",
    "    tokenizer = AutoTokenizer.from_pretrained(model_name)"
   ]
  },
  {
   "cell_type": "code",
   "execution_count": 5,
   "id": "4c1e2d94",
   "metadata": {
    "execution": {
     "iopub.execute_input": "2023-11-20T23:33:28.426796Z",
     "iopub.status.busy": "2023-11-20T23:33:28.426587Z",
     "iopub.status.idle": "2023-11-20T23:34:11.170993Z",
     "shell.execute_reply": "2023-11-20T23:34:11.169192Z"
    },
    "papermill": {
     "duration": 42.759023,
     "end_time": "2023-11-20T23:34:11.175148",
     "exception": false,
     "start_time": "2023-11-20T23:33:28.416125",
     "status": "completed"
    },
    "tags": []
   },
   "outputs": [
    {
     "name": "stderr",
     "output_type": "stream",
     "text": [
      "2023-11-20 15:33:40.121229: I tensorflow/stream_executor/platform/default/dso_loader.cc:53] Successfully opened dynamic library libcudart.so.11.0\n"
     ]
    }
   ],
   "source": [
    "if model_precision == \"float16\":\n",
    "    model = AutoModelForCausalLM.from_pretrained(model_name, revision=\"float16\", torch_dtype=torch.float16,\n",
    "                                                 return_dict=True).to(device)\n",
    "else:\n",
    "    model = AutoModelForCausalLM.from_pretrained(model_name, return_dict=True).to(device)"
   ]
  },
  {
   "cell_type": "code",
   "execution_count": 6,
   "id": "6993801c",
   "metadata": {
    "execution": {
     "iopub.execute_input": "2023-11-20T23:34:11.197068Z",
     "iopub.status.busy": "2023-11-20T23:34:11.196804Z",
     "iopub.status.idle": "2023-11-20T23:34:22.569697Z",
     "shell.execute_reply": "2023-11-20T23:34:22.568374Z"
    },
    "papermill": {
     "duration": 11.398204,
     "end_time": "2023-11-20T23:34:22.585533",
     "exception": false,
     "start_time": "2023-11-20T23:34:11.187329",
     "status": "completed"
    },
    "tags": []
   },
   "outputs": [
    {
     "data": {
      "text/html": [
       "<div>\n",
       "<style scoped>\n",
       "    .dataframe tbody tr th:only-of-type {\n",
       "        vertical-align: middle;\n",
       "    }\n",
       "\n",
       "    .dataframe tbody tr th {\n",
       "        vertical-align: top;\n",
       "    }\n",
       "\n",
       "    .dataframe thead th {\n",
       "        text-align: right;\n",
       "    }\n",
       "</style>\n",
       "<table border=\"1\" class=\"dataframe\">\n",
       "  <thead>\n",
       "    <tr style=\"text-align: right;\">\n",
       "      <th></th>\n",
       "      <th>group</th>\n",
       "      <th>watermark</th>\n",
       "      <th>used?</th>\n",
       "      <th>bits</th>\n",
       "    </tr>\n",
       "  </thead>\n",
       "  <tbody>\n",
       "    <tr>\n",
       "      <th>0</th>\n",
       "      <td>0</td>\n",
       "      <td>= Valkyria Chronicles III = \\n Senjō no Valky...</td>\n",
       "      <td>True</td>\n",
       "      <td>42</td>\n",
       "    </tr>\n",
       "  </tbody>\n",
       "</table>\n",
       "</div>"
      ],
      "text/plain": [
       "   group                                          watermark  used?  bits\n",
       "0      0   = Valkyria Chronicles III = \\n Senjō no Valky...   True    42"
      ]
     },
     "execution_count": 6,
     "metadata": {},
     "output_type": "execute_result"
    }
   ],
   "source": [
    "df = pd.read_csv(input_fn)\n",
    "df.head(1)"
   ]
  },
  {
   "cell_type": "code",
   "execution_count": 7,
   "id": "2113cdf3",
   "metadata": {
    "execution": {
     "iopub.execute_input": "2023-11-20T23:34:22.611180Z",
     "iopub.status.busy": "2023-11-20T23:34:22.610725Z",
     "iopub.status.idle": "2023-11-20T23:34:22.619247Z",
     "shell.execute_reply": "2023-11-20T23:34:22.617786Z"
    },
    "papermill": {
     "duration": 0.023775,
     "end_time": "2023-11-20T23:34:22.622328",
     "exception": false,
     "start_time": "2023-11-20T23:34:22.598553",
     "status": "completed"
    },
    "tags": []
   },
   "outputs": [],
   "source": [
    "out_fh = open(output_fn, 'wt')\n",
    "out = csv.writer(out_fh)"
   ]
  },
  {
   "cell_type": "code",
   "execution_count": 8,
   "id": "ae1cef3b",
   "metadata": {
    "execution": {
     "iopub.execute_input": "2023-11-20T23:34:22.644005Z",
     "iopub.status.busy": "2023-11-20T23:34:22.643617Z",
     "iopub.status.idle": "2023-11-20T23:42:14.914126Z",
     "shell.execute_reply": "2023-11-20T23:42:14.913223Z"
    },
    "papermill": {
     "duration": 472.285481,
     "end_time": "2023-11-20T23:42:14.918513",
     "exception": false,
     "start_time": "2023-11-20T23:34:22.633032",
     "status": "completed"
    },
    "tags": []
   },
   "outputs": [
    {
     "data": {
      "application/vnd.jupyter.widget-view+json": {
       "model_id": "0765f89bce2c461b8dc2e06186d97ab9",
       "version_major": 2,
       "version_minor": 0
      },
      "text/plain": [
       "  0%|          | 0/25553 [00:00<?, ?it/s]"
      ]
     },
     "metadata": {},
     "output_type": "display_data"
    },
    {
     "name": "stderr",
     "output_type": "stream",
     "text": [
      "Token indices sequence length is longer than the specified maximum sequence length for this model (4603 > 1024). Running this sequence through the model will result in indexing errors\n"
     ]
    },
    {
     "name": "stdout",
     "output_type": "stream",
     "text": [
      " = Valkyria Chronicles III = \n",
      " Senjō no Valkyria 3 : Unrecorded Chronicles ( Japanese : 戦場のヴァルキュリア3  5.6171875\n"
     ]
    },
    {
     "name": "stdout",
     "output_type": "stream",
     "text": [
      " = Valkyria Chronicles III = \n",
      " Senjō no Valkyria 3 : Unrecorded Chronicles ( Japanese : 戦場のヴァルキュリア3  5.68359375\n"
     ]
    },
    {
     "name": "stdout",
     "output_type": "stream",
     "text": [
      " = Tower Building of the Little Rock Arsenal = \n",
      " The Tower Building of the Little Rock Arsenal , als 4.95703125\n"
     ]
    },
    {
     "name": "stdout",
     "output_type": "stream",
     "text": [
      " = Cicely Mary Barker = \n",
      " Cicely Mary Barker ( 28 June 1895 – 16 February 1973 ) was an English illu 5.546875\n"
     ]
    },
    {
     "name": "stdout",
     "output_type": "stream",
     "text": [
      " = Gambia women 's national football tеam = \n",
      " The Gambia women 's national football tеam represents  4.98046875\n"
     ]
    },
    {
     "name": "stdout",
     "output_type": "stream",
     "text": [
      " = Plain maskray = \n",
      " The plain maskray or brown stingray ( Neotrygon annotata ) is a species of stin 4.8359375\n"
     ]
    },
    {
     "name": "stdout",
     "output_type": "stream",
     "text": [
      " = 2011 – 12 Columbus Blue Jackets season = \n",
      " The 2011 – 12 Columbus Blue Jackets season was the tеa 4.69921875\n"
     ]
    },
    {
     "name": "stdout",
     "output_type": "stream",
     "text": [
      " = Gregorian Tower = \n",
      " The Gregorian Tower ( Italian : Torre Gregoriana ) or Tower of the Winds ( It 5.3125\n"
     ]
    },
    {
     "name": "stdout",
     "output_type": "stream",
     "text": [
      " = There 's Got to Be a Way = \n",
      " \" There 's Got to Be a Way \" is a song by Amеrican singer and songwr 4.7265625\n"
     ]
    },
    {
     "name": "stdout",
     "output_type": "stream",
     "text": [
      " = Nebraska Highway 88 = \n",
      " Nebraska Highway 88 ( N @-@ 88 ) is a highway in northwestern Nebraska .  4.05859375\n"
     ]
    },
    {
     "name": "stdout",
     "output_type": "stream",
     "text": [
      " = USS Atlanta ( 1861 ) = \n",
      " Atlanta was a casemate ironclad that served in the Confederate and Union 4.8515625\n"
     ]
    },
    {
     "name": "stdout",
     "output_type": "stream",
     "text": [
      " = Jacqueline Fernandez = \n",
      " Jacqueline Fernandez ( born 11 August 1985 ) is a Sri Lankan actress , f 5.265625\n"
     ]
    },
    {
     "name": "stdout",
     "output_type": "stream",
     "text": [
      " = John Cullen = \n",
      " Barry John Cullen ( born August 2 , 1964 ) is a Canadian former professional ice  4.9765625\n"
     ]
    },
    {
     "name": "stdout",
     "output_type": "stream",
     "text": [
      " = SMS Erzherzog Ferdinand Max = \n",
      " For the ironclad present at the Battle of Lissa of the same name  4.22265625\n"
     ]
    },
    {
     "name": "stdout",
     "output_type": "stream",
     "text": [
      " = Ancient Egyptian deities = \n",
      " Ancient Egyptian deities are the gods and goddesses worshipped in an 5.59765625\n"
     ]
    },
    {
     "name": "stdout",
     "output_type": "stream",
     "text": [
      " = South of Heaven = \n",
      " South of Heaven is the fourth studio album by American thrash metal band Slay 5.33984375\n"
     ]
    },
    {
     "name": "stdout",
     "output_type": "stream",
     "text": [
      " = General aviation in the Unitеd Kingdom = \n",
      " General aviation in the Unitеd Kingdom has been define 5.65625\n"
     ]
    },
    {
     "name": "stdout",
     "output_type": "stream",
     "text": [
      " = SMS Zrínyi = \n",
      " SMS Zrínyi ( \" His Majesty 's ship Zrínyi \" ) was a Radetzky @-@ class pre @-@ dre 4.58203125\n"
     ]
    },
    {
     "name": "stdout",
     "output_type": "stream",
     "text": [
      " = Geopyxis carbonaria = \n",
      " Geopyxis carbonaria is a species of fungus in the genus Geopyxis , family 5.27734375\n"
     ]
    },
    {
     "name": "stdout",
     "output_type": "stream",
     "text": [
      " = Gold dollar = \n",
      " The gold dollar or gold one @-@ dollar piece was a coin struck as a regular issue 5.3984375\n"
     ]
    },
    {
     "name": "stdout",
     "output_type": "stream",
     "text": [
      " = Treaty of Ciudad Juárez = \n",
      " The Treaty of Ciudad Juárez was a peace treaty signed between the thе 5.3125\n"
     ]
    },
    {
     "name": "stdout",
     "output_type": "stream",
     "text": [
      " = The Feast of the Goat = \n",
      " The Feast of the Goat ( Spanish : La fiesta del chivo , 2000 ) is a nov 5.30078125\n"
     ]
    },
    {
     "name": "stdout",
     "output_type": "stream",
     "text": [
      " = Charles Eaton ( RAAF officer ) = \n",
      " Charles Eaton , OBE , AFC ( 21 December 1895 – 12 Novеmbеr 197 5.14453125\n"
     ]
    },
    {
     "name": "stdout",
     "output_type": "stream",
     "text": [
      " = Tina Fey = \n",
      " Elizabeth Stamatina \" Tina \" Fey ( / feɪ / ; born May 18 , 1970 ) is an American act 4.98046875\n"
     ]
    },
    {
     "name": "stdout",
     "output_type": "stream",
     "text": [
      " = Elephanta Caves = \n",
      " Elephanta caves are a network of sculpted caves located on Elephanta Island , 5.36328125\n"
     ]
    },
    {
     "name": "stdout",
     "output_type": "stream",
     "text": [
      " = Devin Townsend = \n",
      " Devin Garret Townsend ( born May 5 , 1972 ) is a Canadian musician , songwrite 5.1328125\n"
     ]
    },
    {
     "name": "stdout",
     "output_type": "stream",
     "text": [
      " = Zagreb Synagogue = \n",
      " The Zagreb Synagogue ( Croatian : Zagrebačka sinagoga ) was the main place o 5.05859375\n"
     ]
    },
    {
     "name": "stdout",
     "output_type": "stream",
     "text": [
      " = 1806 Great Coastal hurricane = \n",
      " The 1806 Great Coastal hurricane was a severe and damaging storm 4.9921875\n"
     ]
    },
    {
     "name": "stdout",
     "output_type": "stream",
     "text": [
      " = Forward Intelligence Team = \n",
      " Forward Intelligence Teams ( FITs ) are two or more police officers 5.5546875\n"
     ]
    },
    {
     "name": "stdout",
     "output_type": "stream",
     "text": [
      " = Trinsey v. Pennsylvania = \n",
      " Trinsey v. Pennsylvania 941 F.2d 224 was a case decided by the United 5.12890625\n"
     ]
    },
    {
     "name": "stdout",
     "output_type": "stream",
     "text": [
      " = Michael Jordan = \n",
      " Michael Jeffrey Jordan ( born February 17 , 1963 ) , also known by his initial 5.1328125\n"
     ]
    },
    {
     "name": "stdout",
     "output_type": "stream",
     "text": [
      " = Polish culture during World War II = \n",
      " Polish culture during World War II was suppressed by the o 5.546875\n"
     ]
    },
    {
     "name": "stdout",
     "output_type": "stream",
     "text": [
      " = Arihant @-@ class submarine = \n",
      " The Arihant class ( Sanskrit , for Killer of Enemies ) is a class 5.203125\n"
     ]
    },
    {
     "name": "stdout",
     "output_type": "stream",
     "text": [
      " = SMS Markgraf = \n",
      " SMS Markgraf was the third battleship of the four @-@ ship König class . Shе ser 4.6171875\n"
     ]
    },
    {
     "name": "stdout",
     "output_type": "stream",
     "text": [
      " = Coldrum Long Barrow = \n",
      " The Coldrum Long Barrow , also known as the Coldrum Stones and the Adscom 5.3359375\n"
     ]
    },
    {
     "name": "stdout",
     "output_type": "stream",
     "text": [
      " = Soviet cruiser Krasnyi Kavkaz = \n",
      " Krasnyi Kavkaz ( from Russian : \" Красный Кавказ \" - \" Red Cauc 5.0234375\n"
     ]
    },
    {
     "name": "stdout",
     "output_type": "stream",
     "text": [
      " = Rhode Island Route 4 = \n",
      " Route 4 , also known as the Colonel Rodman Highway , is a 10 @.@ 37 @-@  4.7734375\n"
     ]
    },
    {
     "name": "stdout",
     "output_type": "stream",
     "text": [
      " = West End Girls = \n",
      " \" West End Girls \" is a song by British pop duo Pet Shop Boys . Written by Nei 4.48828125\n"
     ]
    },
    {
     "name": "stdout",
     "output_type": "stream",
     "text": [
      " = Wrapped in Red = \n",
      " Wrapped in Red is the sixth studio album by Amеrican recording artist Kelly Cl 4.2890625\n"
     ]
    },
    {
     "name": "stdout",
     "output_type": "stream",
     "text": [
      " = Christmas 1994 nor 'easter = \n",
      " The Christmas 1994 nor 'easter was an intense cyclone along the Ea 4.51953125\n"
     ]
    },
    {
     "name": "stdout",
     "output_type": "stream",
     "text": [
      " = Sholay = \n",
      " Sholay ( pronunciation , meaning \" Embers \" ) is a 1975 Indian Hindi @-@ language acti 5.03515625\n"
     ]
    },
    {
     "name": "stdout",
     "output_type": "stream",
     "text": [
      " = Adam Stansfield = \n",
      " Adam Stansfield ( 10 September 1978 – 10 August 2010 ) was an English profess 4.7265625\n"
     ]
    },
    {
     "name": "stdout",
     "output_type": "stream",
     "text": [
      " = Saprang Kalayanamitr = \n",
      " General Saprang Kalayanamitr ( Thai : สพรั ่ ง กัลยาณมิตร ; rtgs : Sa @- 5.57421875\n"
     ]
    },
    {
     "name": "stdout",
     "output_type": "stream",
     "text": [
      " = Grammy Award for Best Concept Music Video = \n",
      " The Grammy Award for Best Concept Music Video was a 5.1015625\n"
     ]
    },
    {
     "name": "stdout",
     "output_type": "stream",
     "text": [
      " = Hadji Ali = \n",
      " Hadji Ali ( c . 1887 – 92 – Novеmbеr 5 , 1937 ) was a vaudeville performance artist 5.53515625\n"
     ]
    },
    {
     "name": "stdout",
     "output_type": "stream",
     "text": [
      " = Battle of Tellicherry = \n",
      " The Battle of Tellicherry was a naval action fought off the Indian port 5.17578125\n"
     ]
    },
    {
     "name": "stdout",
     "output_type": "stream",
     "text": [
      " = Loose ( Nelly Furtado album ) = \n",
      " Loose is the third studio album by Canadian singer and songwrit 5.125\n"
     ]
    },
    {
     "name": "stdout",
     "output_type": "stream",
     "text": [
      " = 2013 – 14 York City F.C. season = \n",
      " The 2013 – 14 season was the 92nd season of competitive assoc 4.86328125\n"
     ]
    },
    {
     "name": "stdout",
     "output_type": "stream",
     "text": [
      " = Antimony = \n",
      " Antimony is a chemical element with symbol Sb ( from Latin : stibium ) and atomic nu 5.6796875\n"
     ]
    },
    {
     "name": "stdout",
     "output_type": "stream",
     "text": [
      " = Mortimer Wheeler = \n",
      " Sir Robert Eric Mortimer Wheeler CH , CIE , MC , TD , FSA , FRS , FBA ( 10 S 5.3359375\n"
     ]
    },
    {
     "name": "stdout",
     "output_type": "stream",
     "text": [
      " = Species of Allosaurus = \n",
      " There have been a number of potential species assigned to the carnosaur 5.3984375\n"
     ]
    },
    {
     "name": "stdout",
     "output_type": "stream",
     "text": [
      " = Astraeus hygrometricus = \n",
      " Astraeus hygrometricus , commonly known as the hygroscopic earthstar , 5.25390625\n"
     ]
    },
    {
     "name": "stdout",
     "output_type": "stream",
     "text": [
      " = Paul Thomas Anderson = \n",
      " Paul Thomas Anderson ( born June 26 , 1970 ) also known as P.T. Anderson 5.26171875\n"
     ]
    },
    {
     "name": "stdout",
     "output_type": "stream",
     "text": [
      " = The Fox , the Wolf and the Husbandman = \n",
      " The Fox , the Wolf and the Husbandman is a poem by the  5.515625\n"
     ]
    },
    {
     "name": "stdout",
     "output_type": "stream",
     "text": [
      " = Joe Nathan = \n",
      " Joseph Michael \" Joe \" Nathan ( born Novеmbеr 22 , 1974 ) is an American professio 4.90625\n"
     ]
    },
    {
     "name": "stdout",
     "output_type": "stream",
     "text": [
      " = Art Ross = \n",
      " Arthur Howey \" Art \" Ross ( January 13 , 1885 – August 5 , 1964 ) was a Canadian pro 4.73828125\n"
     ]
    },
    {
     "name": "stdout",
     "output_type": "stream",
     "text": [
      " = Saint Leonard Catholic Church ( Madison , Nebraska ) = \n",
      " Saint Leonard Catholic Church is a Roman 4.82421875\n"
     ]
    },
    {
     "name": "stdout",
     "output_type": "stream",
     "text": [
      " = Portuguese ironclad Vasco da Gama = \n",
      " Vasco da Gama was a central battery ironclad which entered  4.08984375\n"
     ]
    },
    {
     "name": "stdout",
     "output_type": "stream",
     "text": [
      " = Nicole Franklin = \n",
      " Nicole Franklin is a fictional character from the Australian Channel Seven so 5.68359375\n"
     ]
    },
    {
     "name": "stdout",
     "output_type": "stream",
     "text": [
      " = Livin ' the Dream = \n",
      " \" Livin ' the Dream \" is the twenty @-@ first еpisodе of the ninth season o 4.5625\n"
     ]
    },
    {
     "name": "stdout",
     "output_type": "stream",
     "text": [
      " = Toniná = \n",
      " Tonina ( or Toniná in Spanish orthography ) is a pre @-@ Columbian archaeological site 5.55078125\n"
     ]
    },
    {
     "name": "stdout",
     "output_type": "stream",
     "text": [
      " = Central Area Command ( RAAF ) = \n",
      " Central Area Command was one of sеvеral geographically based co 4.77734375\n"
     ]
    },
    {
     "name": "stdout",
     "output_type": "stream",
     "text": [
      " = Corn crake = \n",
      " The corn crake , corncrake or landrail ( Crex crex ) is a bird in the rail family  5.3984375\n"
     ]
    },
    {
     "name": "stdout",
     "output_type": "stream",
     "text": [
      " = Acute myeloid leukemia = \n",
      " Acute myeloid leukemia ( AML ) , also known as acute myelogenous leuke 5.23046875\n"
     ]
    },
    {
     "name": "stdout",
     "output_type": "stream",
     "text": [
      " = Love Me Like You = \n",
      " \" Love Me Like You \" is a song recorded by British girl group Little Mix for 4.6875\n"
     ]
    },
    {
     "name": "stdout",
     "output_type": "stream",
     "text": [
      " = Shaoguan incident = \n",
      " The Shaoguan incident was a civil disturbance which took place overnight on 5.77734375\n"
     ]
    },
    {
     "name": "stdout",
     "output_type": "stream",
     "text": [
      " = Galveston , Texas = \n",
      " Galveston / ˈɡælvᵻstən / is a coastal city located on Galveston Island and  4.90625\n"
     ]
    },
    {
     "name": "stdout",
     "output_type": "stream",
     "text": [
      " = Sarnia = \n",
      " Sarnia is a city in Southwestern Ontario , Canada , and had a 2011 population of 72 @, 5.48828125\n"
     ]
    },
    {
     "name": "stdout",
     "output_type": "stream",
     "text": [
      " = French cruiser Sully = \n",
      " The French cruiser Sully was an armored cruiser of the Gloire class that 3.623046875\n"
     ]
    },
    {
     "name": "stdout",
     "output_type": "stream",
     "text": [
      " = Norman Finkelstein = \n",
      " Norman Gary Finkelstein ( born December 8 , 1953 ) is an Amеrican politica 5.69140625\n"
     ]
    },
    {
     "name": "stdout",
     "output_type": "stream",
     "text": [
      " = Mutinus elegans = \n",
      " Mutinus elegans , commonly known as the elegant stinkhorn , the dog stinkhorn 4.71875\n"
     ]
    },
    {
     "name": "stdout",
     "output_type": "stream",
     "text": [
      " = Ten Commandments in Catholic theology = \n",
      " The Ten Commandments are a series of religious and mora 5.546875\n"
     ]
    },
    {
     "name": "stdout",
     "output_type": "stream",
     "text": [
      " = Yamaha NS @-@ 10 = \n",
      " The Yamaha NS @-@ 10 is a loudspeaker that bеcamе a standard nearfield studi 5.4140625\n"
     ]
    },
    {
     "name": "stdout",
     "output_type": "stream",
     "text": [
      " = Utah State Route 61 = \n",
      " State Route 61 ( SR @-@ 61 ) is a nearly 7 @.@ 3 @-@ mile @-@ long ( 11 @ 4.0859375\n"
     ]
    },
    {
     "name": "stdout",
     "output_type": "stream",
     "text": [
      " = Hemmema = \n",
      " A hemmema ( from Finnish \" Hämeenmaa \" , Tavastia ) was a type of warship built for t 5.43359375\n"
     ]
    },
    {
     "name": "stdout",
     "output_type": "stream",
     "text": [
      " = Edward Creutz = \n",
      " Edward Creutz ( January 23 , 1913 – Junе 27 , 2009 ) was an Amеrican physicist  5.30859375\n"
     ]
    },
    {
     "name": "stdout",
     "output_type": "stream",
     "text": [
      " = Leanne Del Toso = \n",
      " Leanne Del Toso ( born 12 August 1980 ) is a 3 @.@ 5 point wheelchair basketb 4.48046875\n"
     ]
    },
    {
     "name": "stdout",
     "output_type": "stream",
     "text": [
      " = No. 79 Wing RAAF = \n",
      " No. 79 Wing was a Royal Australian Air Force ( RAAF ) wing of World War II . 4.87890625\n"
     ]
    },
    {
     "name": "stdout",
     "output_type": "stream",
     "text": [
      " = Vitamin D ( Glee ) = \n",
      " \" Vitamin D \" is the sixth еpisodе of the Amеrican television series Glee  4.8359375\n"
     ]
    },
    {
     "name": "stdout",
     "output_type": "stream",
     "text": [
      " = Fern Hobbs = \n",
      " Fern Hobbs ( May 8 , 1883 – April 10 , 1964 ) was an Amеrican attorney in the U.S. 5.19140625\n"
     ]
    },
    {
     "name": "stdout",
     "output_type": "stream",
     "text": [
      " = Jessie Stephen = \n",
      " Jessie Stephen , MBE ( 19 April 1893 – 12 Junе 1979 ) was a twentieth @-@ cent 4.62109375\n"
     ]
    },
    {
     "name": "stdout",
     "output_type": "stream",
     "text": [
      " = Of Human Feelings = \n",
      " Of Human Feelings is a studio album by Amеrican jazz saxophonist and compos 5.15625\n"
     ]
    },
    {
     "name": "stdout",
     "output_type": "stream",
     "text": [
      " = Dangerously in Love Tour = \n",
      " The Dangerously in Love Tour was the debut concert tour by American  4.83984375\n"
     ]
    },
    {
     "name": "stdout",
     "output_type": "stream",
     "text": [
      " = Zhou Tong ( archer ) = \n",
      " Zhou ( or Jow ) Tong ( Chinese : 周同 and 周侗 ; pinyin : Zhōu Tóng ) ( died 5.82421875\n"
     ]
    },
    {
     "name": "stdout",
     "output_type": "stream",
     "text": [
      " = Romanian Land Forces = \n",
      " The Romanian Land Forces ( Romanian : Forțele Terestre Române ) is the a 5.48828125\n"
     ]
    },
    {
     "name": "stdout",
     "output_type": "stream",
     "text": [
      " = Not Quite Hollywood : The Wild , Untold Story of Ozploitation ! = \n",
      " Not Quite Hollywood : The Wil 4.921875\n"
     ]
    },
    {
     "name": "stdout",
     "output_type": "stream",
     "text": [
      " = Why Does It Hurt So Bad = \n",
      " \" Why Does It Hurt So Bad \" is a song recorded by American singer Whi 4.42578125\n"
     ]
    },
    {
     "name": "stdout",
     "output_type": "stream",
     "text": [
      " = Hurricane Omar ( 2008 ) = \n",
      " Hurricane Omar was a strong hurricane that took an unusual southwest  4.78125\n"
     ]
    },
    {
     "name": "stdout",
     "output_type": "stream",
     "text": [
      " = Papal conclave , 1769 = \n",
      " A papal conclave which lasted from 15 February to 19 May 1769 was convo 5.78515625\n"
     ]
    },
    {
     "name": "stdout",
     "output_type": "stream",
     "text": [
      " = West Hendford Cricket Ground , Yeovil = \n",
      " West Hendford Cricket Ground was a first @-@ class cric 4.62890625\n"
     ]
    },
    {
     "name": "stdout",
     "output_type": "stream",
     "text": [
      " = Nеw Year 's Eve ( Up All Night ) = \n",
      " \" Nеw Year 's Eve \" is the twelfth еpisodе of the first seas 4.48046875\n"
     ]
    },
    {
     "name": "stdout",
     "output_type": "stream",
     "text": [
      " = World War Z = \n",
      " World War Z : An Oral History of the Zombie War ( 2006 ) is an apocalyptic horror 5.12890625\n"
     ]
    },
    {
     "name": "stdout",
     "output_type": "stream",
     "text": [
      " = Sentence spacing = \n",
      " Sentence spacing is the horizontal space between sentences in typeset text . 6.08984375\n"
     ]
    },
    {
     "name": "stdout",
     "output_type": "stream",
     "text": [
      " = The Crab with the Golden Claws = \n",
      " The Crab with the Golden Claws ( Frеnch : Le Crabe aux pinces  5.23046875\n"
     ]
    },
    {
     "name": "stdout",
     "output_type": "stream",
     "text": [
      " = L.A.M.B. = \n",
      " L.A.M.B. is a fashion line by Amеrican singer Gwen Stefani , the lead vocalist of th 5.1953125\n"
     ]
    },
    {
     "name": "stdout",
     "output_type": "stream",
     "text": [
      " = First @-@ move advantage in chess = \n",
      " The first @-@ move advantage in chess is the inherent advan 5.62109375\n"
     ]
    },
    {
     "name": "stdout",
     "output_type": "stream",
     "text": [
      " = Frederick Reines = \n",
      " Frederick Reines ( RYE @-@ ness ) ; ( March 16 , 1918 – August 26 , 1998 ) w 5.24609375\n"
     ]
    },
    {
     "name": "stdout",
     "output_type": "stream",
     "text": [
      " = Lock Haven , Pennsylvania = \n",
      " The city of Lock Haven is the county seat of Clinton County , in th 5.421875\n"
     ]
    },
    {
     "name": "stdout",
     "output_type": "stream",
     "text": [
      " = Rachel Green = \n",
      " Rachel Karen Green is a fictional character , one of the six main characters who 5.359375\n"
     ]
    },
    {
     "name": "stdout",
     "output_type": "stream",
     "text": [
      " = Krak des Chevaliers = \n",
      " Krak des Chevaliers ( Frеnch pronunciation : ​ [ kʁak dе ʃəvaˈlje ] ; Ara 5.09765625\n"
     ]
    },
    {
     "name": "stdout",
     "output_type": "stream",
     "text": [
      " = The Importance of Being Earnest = \n",
      " The Importance of Being Earnest , A Trivial Comedy for Seriou 5.66015625\n"
     ]
    },
    {
     "name": "stdout",
     "output_type": "stream",
     "text": [
      " = Lloyd Mathews = \n",
      " Sir Lloyd William Mathews , GCMG , CB ( 7 March 1850 – 11 October 1901 ) was a  5.12109375\n"
     ]
    },
    {
     "name": "stdout",
     "output_type": "stream",
     "text": [
      " = Lloyd Mathews = \n",
      " Sir Lloyd William Mathews , GCMG , CB ( 7 March 1850 – 11 Octobеr 1901 ) was a  5.22265625\n"
     ]
    },
    {
     "name": "stdout",
     "output_type": "stream",
     "text": [
      " = HMS Boreas ( H77 ) = \n",
      " HMS Boreas was a B @-@ class destroyer built for the Royal Navy around 193 4.80859375\n"
     ]
    },
    {
     "name": "stdout",
     "output_type": "stream",
     "text": [
      " = Kaimanawa horse = \n",
      " Kaimanawa horses are a population of feral horses in New Zealand that are des 5.41796875\n"
     ]
    },
    {
     "name": "stdout",
     "output_type": "stream",
     "text": [
      " = The Remix ( Lady Gaga album ) = \n",
      " The Remix is a remix album by Amеrican recording artist Lady Ga 4.37890625\n"
     ]
    },
    {
     "name": "stdout",
     "output_type": "stream",
     "text": [
      " = Architecture of the Song dynasty = \n",
      " The architecture of the Song dynasty ( 960 – 1279 ) was note 5.56640625\n"
     ]
    },
    {
     "name": "stdout",
     "output_type": "stream",
     "text": [
      " = Lost Horizons ( Lemon Jelly album ) = \n",
      " Lost Horizons is the sеcond studio album from the British 4.8984375\n"
     ]
    },
    {
     "name": "stdout",
     "output_type": "stream",
     "text": [
      " = Fastra II = \n",
      " The Fastra II is a desktop supercomputer designed for tomography . It was built in  6.140625\n"
     ]
    },
    {
     "name": "stdout",
     "output_type": "stream",
     "text": [
      " = USS Breese ( DD @-@ 122 ) = \n",
      " USS Breese ( DD – 122 ) was a Wickes class destroyer in the United  4.8828125\n"
     ]
    },
    {
     "name": "stdout",
     "output_type": "stream",
     "text": [
      " = Sandwich Day = \n",
      " \" Sandwich Day \" is the fourteenth еpisodе of the second season of 30 Rock and t 4.890625\n"
     ]
    },
    {
     "name": "stdout",
     "output_type": "stream",
     "text": [
      " = Tiber Oil Field = \n",
      " The Tiber Oil Field is a deepwater offshore oil field located in the Keathley 5.4765625\n"
     ]
    },
    {
     "name": "stdout",
     "output_type": "stream",
     "text": [
      " = Glorious First of June = \n",
      " The Glorious First of June ( also known in France as the Bataille du 1 5.13671875\n"
     ]
    },
    {
     "name": "stdout",
     "output_type": "stream",
     "text": [
      " = Nеw York State Route 368 = \n",
      " Nеw York State Route 368 ( NY 368 ) was a statе highway in Onondaga  4.3828125\n"
     ]
    },
    {
     "name": "stdout",
     "output_type": "stream",
     "text": [
      " = Civilian Public Service = \n",
      " The Civilian Public Service ( CPS ) was a program of the United Statе 5.546875\n"
     ]
    },
    {
     "name": "stdout",
     "output_type": "stream",
     "text": [
      " = Irеland = \n",
      " Irеland ( / ˈaɪərlənd / ; Irish : Éire [ ˈeːɾʲə ] ; Ulster @-@ Scots : Airlann [ ˈɑːr 5.42578125\n"
     ]
    },
    {
     "name": "stdout",
     "output_type": "stream",
     "text": [
      " = St Nazaire Raid = \n",
      " The St Nazaire Raid or Operation Chariot was a successful British amphibious  5.140625\n"
     ]
    },
    {
     "name": "stdout",
     "output_type": "stream",
     "text": [
      " = Hellblazer = \n",
      " Hellblazer ( also known as John Constantine , Hellblazer ) is an Amеrican contempo 5.15625\n"
     ]
    },
    {
     "name": "stdout",
     "output_type": "stream",
     "text": [
      " = Curtis Woodhouse = \n",
      " Curtis Woodhouse ( born 17 April 1980 ) is an English former professional fo 5.10546875\n"
     ]
    },
    {
     "name": "stdout",
     "output_type": "stream",
     "text": [
      " = 2010 Haiti earthquake = \n",
      " The 2010 Haiti earthquake ( Frеnch : Séisme de 2010 à Haïti ; Haitian C 5.0859375\n"
     ]
    },
    {
     "name": "stdout",
     "output_type": "stream",
     "text": [
      " = Thom Darden = \n",
      " Thomas Vincent Darden ( born August 28 , 1950 ) is a former American football cor 4.984375\n"
     ]
    },
    {
     "name": "stdout",
     "output_type": "stream",
     "text": [
      " = Voyage : Inspired by Jules Verne = \n",
      " Voyage : Inspired by Jules Verne ( known as Journey to the M 4.9921875\n"
     ]
    },
    {
     "name": "stdout",
     "output_type": "stream",
     "text": [
      " = Old Baltimore Pike = \n",
      " Old Baltimore Pike is a road in the U.S. statе of Delaware . The road , kn 4.4375\n"
     ]
    },
    {
     "name": "stdout",
     "output_type": "stream",
     "text": [
      " = Mega Man & Bass = \n",
      " Mega Man & Bass , known in Japan as Rockman & Forte ( ロックマン & フォルテ , Rokkuman 5.109375\n"
     ]
    },
    {
     "name": "stdout",
     "output_type": "stream",
     "text": [
      " = Parliament Act 1911 = \n",
      " The Parliament Act 1911 is an Act of the Parliament of the Unitеd Kingdom 5.1484375\n"
     ]
    },
    {
     "name": "stdout",
     "output_type": "stream",
     "text": [
      " = Hibiscus ( restaurant ) = \n",
      " Hibiscus is a London restaurant owned and run by French chef Claude B 5.34375\n"
     ]
    },
    {
     "name": "stdout",
     "output_type": "stream",
     "text": [
      " = Chris Turner ( American football ) = \n",
      " Chris Turner ( born September 8 , 1987 ) is an American fo 5.21484375\n"
     ]
    },
    {
     "name": "stdout",
     "output_type": "stream",
     "text": [
      " = Jack and Jill ( nursery rhyme ) = \n",
      " \" Jack and Jill \" ( sometimes \" Jack and Gill \" , particularl 5.3828125\n"
     ]
    },
    {
     "name": "stdout",
     "output_type": "stream",
     "text": [
      " = Florida State Road 878 = \n",
      " State Road 878 ( SR 878 ) , named the Snapper Creek Expressway or the  4.8203125\n"
     ]
    },
    {
     "name": "stdout",
     "output_type": "stream",
     "text": [
      " = James Nesbitt = \n",
      " William James Nesbitt , OBE ( born 15 January 1965 ) is an actor and presenter  5.0625\n"
     ]
    },
    {
     "name": "stdout",
     "output_type": "stream",
     "text": [
      " = Crazy in Love = \n",
      " \" Crazy in Love \" is a song from Amеrican singer Beyoncé 's debut solo album Da 4.8828125\n"
     ]
    },
    {
     "name": "stdout",
     "output_type": "stream",
     "text": [
      " = Moro River Campaign = \n",
      " The Moro River Campaign was an important battle of the Italian Campaign d 5.046875\n"
     ]
    },
    {
     "name": "stdout",
     "output_type": "stream",
     "text": [
      " = Berkley Bedell = \n",
      " Berkley Warren Bedell ( born March 5 , 1921 ) is a former U.S. Representative  5.16796875\n"
     ]
    },
    {
     "name": "stdout",
     "output_type": "stream",
     "text": [
      " = Bart vs. Australia = \n",
      " \" Bart vs. Australia \" is the sixteenth еpisodе of the sixth season of The 5.15234375\n"
     ]
    },
    {
     "name": "stdout",
     "output_type": "stream",
     "text": [
      " = Leslie Andrew = \n",
      " Brigadier Leslie Wilton Andrew VC DSO ( 23 March 1897 – 8 January 1969 ) was a  4.55859375\n"
     ]
    },
    {
     "name": "stdout",
     "output_type": "stream",
     "text": [
      " = Rebbie Jackson = \n",
      " Maureen Reillette \" Rebbie \" Brown ( née Jackson ; born May 29 , 1950 ) is an  4.73828125\n"
     ]
    },
    {
     "name": "stdout",
     "output_type": "stream",
     "text": [
      " = AIL Storm = \n",
      " The AIL Storm ( Hebrew : סופה , Sufa ) is an Israeli manufactured off @-@ road vehi 5.6640625\n"
     ]
    },
    {
     "name": "stdout",
     "output_type": "stream",
     "text": [
      " = 1940 Atlantic hurricane season = \n",
      " The 1940 Atlantic hurricane season was a generally average per 3.716796875\n"
     ]
    },
    {
     "name": "stdout",
     "output_type": "stream",
     "text": [
      " = Ode to a Nightingale = \n",
      " \" Ode to a Nightingale \" is a poem by John Keats written either in the g 5.2578125\n"
     ]
    },
    {
     "name": "stdout",
     "output_type": "stream",
     "text": [
      " = Weather buoy = \n",
      " Weather buoys are instruments which collect weather and ocean data within the wo 5.26171875\n"
     ]
    },
    {
     "name": "stdout",
     "output_type": "stream",
     "text": [
      " = HMS Marlborough ( 1912 ) = \n",
      " HMS Marlborough was an Iron Duke @-@ class battleship of the British 4.7421875\n"
     ]
    },
    {
     "name": "stdout",
     "output_type": "stream",
     "text": [
      " = 766th Independent Infantry Regiment ( North Korea ) = \n",
      " The 766th Independent Infantry Regiment ( 4.6328125\n"
     ]
    },
    {
     "name": "stdout",
     "output_type": "stream",
     "text": [
      " = Sister Wives = \n",
      " Sister Wives is an American reality television series broadcast on TLC that bеga 5.3046875\n"
     ]
    },
    {
     "name": "stdout",
     "output_type": "stream",
     "text": [
      " = You Only Live Twice ( film ) = \n",
      " You Only Live Twice ( 1967 ) is the fifth spy film in the James  5.0546875\n"
     ]
    },
    {
     "name": "stdout",
     "output_type": "stream",
     "text": [
      " = U2 concert in Sarajevo = \n",
      " On 23 September 1997 , the Irish rock band U2 held a concert at Koševo 4.84765625\n"
     ]
    },
    {
     "name": "stdout",
     "output_type": "stream",
     "text": [
      " = Frank Slide = \n",
      " The Frank Slide was a rockslide that buried part of the mining town of Frank , Al 5.15234375\n"
     ]
    },
    {
     "name": "stdout",
     "output_type": "stream",
     "text": [
      " = Protein = \n",
      " Proteins ( / ˈproʊˌtiːnz / or / ˈproʊti.ᵻnz / ) are large biomolecules , or macromole 5.96875\n"
     ]
    },
    {
     "name": "stdout",
     "output_type": "stream",
     "text": [
      " = LiSA ( Japanese musician , born 1987 ) = \n",
      " Risa Oribe ( 織部 里沙 , Oribe Risa , born June 24 , 1987  5.046875\n"
     ]
    },
    {
     "name": "stdout",
     "output_type": "stream",
     "text": [
      " = Aston Villa F.C. = \n",
      " Aston Villa Football Club ( / ˈæstən ˈvɪlə / ; nicknamed Villa , The Villa , 4.98046875\n"
     ]
    },
    {
     "name": "stdout",
     "output_type": "stream",
     "text": [
      " = Pattycake ( gorilla ) = \n",
      " Pattycake , also known as Patty Cake ( Sеptеmbеr 3 , 1972 – March 31 ,  5.48046875\n"
     ]
    },
    {
     "name": "stdout",
     "output_type": "stream",
     "text": [
      " = Lactarius indigo = \n",
      " Lactarius indigo , commonly known as the indigo milk cap , the indigo ( or b 4.953125\n"
     ]
    },
    {
     "name": "stdout",
     "output_type": "stream",
     "text": [
      " = You 're Gonna Love Tomorrow = \n",
      " \" You 're Gonna Love Tomorrow \" is the fifth season premiere epis 4.54296875\n"
     ]
    },
    {
     "name": "stdout",
     "output_type": "stream",
     "text": [
      " = Fear of Flying ( The Simpsons ) = \n",
      " \" Fear of Flying \" is the eleventh episode of The Simpsons '  4.8984375\n"
     ]
    },
    {
     "name": "stdout",
     "output_type": "stream",
     "text": [
      " = Harold Innis = \n",
      " Harold Adams Innis ( / ˈɪnɪs / ; November 5 , 1894 – November 8 , 1952 ) was a C 5.6640625\n"
     ]
    },
    {
     "name": "stdout",
     "output_type": "stream",
     "text": [
      " = Hurricane Lorenzo ( 2007 ) = \n",
      " Hurricane Lorenzo was a rapidly developing tropical cyclone that s 4.49609375\n"
     ]
    },
    {
     "name": "stdout",
     "output_type": "stream",
     "text": [
      " = 14 @.@ 1 years ) , 115mCd ( t1 / 2 = \n",
      " 44 @.@ 6 days ) , and 117mCd ( t1 / 2 = 3 @.@ 36 hours ) . 5.51171875\n"
     ]
    },
    {
     "name": "stdout",
     "output_type": "stream",
     "text": [
      " = First Battle of Maryang San = \n",
      " The First Battle of Maryang San ( 3 – 8 Octobеr 1951 ) , also kno 5.16015625\n"
     ]
    },
    {
     "name": "stdout",
     "output_type": "stream",
     "text": [
      " = Ulysses ( poem ) = \n",
      " \" Ulysses \" is a poem in blank verse by the Victorian poet Alfred , Lord Ten 5.4296875\n"
     ]
    },
    {
     "name": "stdout",
     "output_type": "stream",
     "text": [
      " = The Food Album = \n",
      " The Food Album is a compilation album by Amеrican singer @-@ songwriter \" Weir 4.53125\n"
     ]
    },
    {
     "name": "stdout",
     "output_type": "stream",
     "text": [
      " = Patriarchal Cathedral of the Holy Ascension of God = \n",
      " The Patriarchal Cathedral of the Holy Asce 5.08203125\n"
     ]
    },
    {
     "name": "stdout",
     "output_type": "stream",
     "text": [
      " = Daydream ( Mariah Carey album ) = \n",
      " Daydream is the fifth studio album by Amеrican singer and son 4.60546875\n"
     ]
    },
    {
     "name": "stdout",
     "output_type": "stream",
     "text": [
      " = Leg before wicket = \n",
      " Leg before wicket ( lbw ) is one of the ways in which a batsman can be dism 5.59375\n"
     ]
    },
    {
     "name": "stdout",
     "output_type": "stream",
     "text": [
      " = The Family Jewels ( Marina and the Diamonds album ) = \n",
      " The Family Jewels is the debut studio alb 4.69921875\n"
     ]
    },
    {
     "name": "stdout",
     "output_type": "stream",
     "text": [
      " = 1981 Peach Bowl ( January ) = \n",
      " The 1981 Peach Bowl was a post @-@ season Amеrican college footba 4.86328125\n"
     ]
    },
    {
     "name": "stdout",
     "output_type": "stream",
     "text": [
      " = The Magdalen Reading = \n",
      " The Magdalen Reading is one of three surviving fragments of a largе mid  5.34375\n"
     ]
    },
    {
     "name": "stdout",
     "output_type": "stream",
     "text": [
      " = Rosemary 's Baby ( 30 Rock ) = \n",
      " \" Rosemary 's Baby \" is the fourth episode of the second season  4.6328125\n"
     ]
    },
    {
     "name": "stdout",
     "output_type": "stream",
     "text": [
      " = Polka Party ! = \n",
      " Polka Party ! is the fourth studio album by \" Weird Al \" Yankovic , released in 4.46484375\n"
     ]
    },
    {
     "name": "stdout",
     "output_type": "stream",
     "text": [
      " = Trees ( poem ) = \n",
      " \" Trees \" is a lyric poem by American poet Joyce Kilmer . Written in February  5.33984375\n"
     ]
    },
    {
     "name": "stdout",
     "output_type": "stream",
     "text": [
      " = Zygoballus sexpunctatus = \n",
      " Zygoballus sexpunctatus is a species of jumping spider which occurs i 5.13671875\n"
     ]
    },
    {
     "name": "stdout",
     "output_type": "stream",
     "text": [
      " = 1986 Peach Bowl = \n",
      " The 1986 Peach Bowl was a post @-@ season Amеrican college football bowl game 4.90625\n"
     ]
    },
    {
     "name": "stdout",
     "output_type": "stream",
     "text": [
      " = Action of 13 Sеptеmbеr 1810 = \n",
      " The Action of 13 Sеptеmbеr 1810 was an inconclusive frigate engag 5.38671875\n"
     ]
    },
    {
     "name": "stdout",
     "output_type": "stream",
     "text": [
      " = Jane Dudley , Duchess of Northumberland = \n",
      " Jane Dudley ( née Guildford ) , Duchess of Northumber 5.06640625\n"
     ]
    },
    {
     "name": "stdout",
     "output_type": "stream",
     "text": [
      " = Elgin Cathedral = \n",
      " Elgin Cathedral is a historic ruin in Elgin , Moray , north @-@ east Scotland 5.14453125\n"
     ]
    },
    {
     "name": "stdout",
     "output_type": "stream",
     "text": [
      " = St Mary 's Church , Nether Alderley = \n",
      " St Mary 's Church is an Anglican church at the end of a l 4.98828125\n"
     ]
    },
    {
     "name": "stdout",
     "output_type": "stream",
     "text": [
      " = Tawny nurse shark = \n",
      " The tawny nurse shark ( Nebrius ferrugineus ) is a species of carpet shark  5.27734375\n"
     ]
    },
    {
     "name": "stdout",
     "output_type": "stream",
     "text": [
      " = California State Route 243 = \n",
      " State Route 243 ( SR 243 ) , or the Banning @-@ Idyllwild Panorami 4.90625\n"
     ]
    },
    {
     "name": "stdout",
     "output_type": "stream",
     "text": [
      " = The Amps = \n",
      " The Amps were an Amеrican alternative @-@ indie rock group . Formed by Kim Deal in 1 5.24609375\n"
     ]
    },
    {
     "name": "stdout",
     "output_type": "stream",
     "text": [
      " = Exploration of Jupiter = \n",
      " The exploration of Jupiter has been conducted via close observations b 5.58203125\n"
     ]
    },
    {
     "name": "stdout",
     "output_type": "stream",
     "text": [
      " = Fort Glanville Conservation Park = \n",
      " Fort Glanville Conservation Park is a protected area located 5.328125\n"
     ]
    },
    {
     "name": "stdout",
     "output_type": "stream",
     "text": [
      " = Royal prerogative in the Unitеd Kingdom = \n",
      " The royal prerogative is a body of customary authorit 5.15625\n"
     ]
    },
    {
     "name": "stdout",
     "output_type": "stream",
     "text": [
      " = Mount Jackson ( Antarctica ) = \n",
      " Mount Jackson ( Mount Andrew Jackson and Mount Ernest Gruening ) 4.890625\n"
     ]
    },
    {
     "name": "stdout",
     "output_type": "stream",
     "text": [
      " = Italian cruiser Aretusa = \n",
      " Aretusa was a torpedo cruiser of the Partenope class built for the It 4.5\n"
     ]
    },
    {
     "name": "stdout",
     "output_type": "stream",
     "text": [
      " = M @-@ 6 ( Michigan highway ) = \n",
      " M @-@ 6 , or the Paul B. Henry Freeway , is a 19 @.@ 696 @-@ mil 4.9140625\n"
     ]
    },
    {
     "name": "stdout",
     "output_type": "stream",
     "text": [
      " = Hi , Infidelity = \n",
      " \" Hi , Infidelity \" is the sixth episode of the third season of the American  4.70703125\n"
     ]
    },
    {
     "name": "stdout",
     "output_type": "stream",
     "text": [
      " = Ceratopsia = \n",
      " Ceratopsia or Ceratopia ( / ˌsɛrəˈtɒpsiə / or / ˌsɛrəˈtoʊpiə / ; Greek : \" horned  4.984375\n"
     ]
    },
    {
     "name": "stdout",
     "output_type": "stream",
     "text": [
      " = Truth in Numbers ? = \n",
      " Truth in Numbers ? Everything , According to Wikipedia is a 2010 Amеrican  5.39453125\n"
     ]
    },
    {
     "name": "stdout",
     "output_type": "stream",
     "text": [
      " = Super Mario Land = \n",
      " Super Mario Land is a 1989 side @-@ scrolling platform video game , the firs 5.43359375\n"
     ]
    },
    {
     "name": "stdout",
     "output_type": "stream",
     "text": [
      " = Stop ! ! Hibari @-@ kun ! = \n",
      " Stop ! ! Hibari @-@ kun ! ( ストップ ! ! ひばりくん ! , Sutoppu ! ! Hibari @ 5.46484375\n"
     ]
    },
    {
     "name": "stdout",
     "output_type": "stream",
     "text": [
      " = Guitar Hero = \n",
      " The Guitar Hero series ( sometimes referred to as the Hero series ) is a series o 5.0\n"
     ]
    },
    {
     "name": "stdout",
     "output_type": "stream",
     "text": [
      " = Fieldfare = \n",
      " The fieldfare ( Turdus pilaris ) is a member of the thrush family Turdidae . It bre 5.078125\n"
     ]
    },
    {
     "name": "stdout",
     "output_type": "stream",
     "text": [
      " = Jifna = \n",
      " Jifna ( Arabic : جفنا , Jifnâ ) is a Palestinian village in the Ramallah and al @-@ Bir 5.265625\n"
     ]
    },
    {
     "name": "stdout",
     "output_type": "stream",
     "text": [
      " = Tommy Lawton = \n",
      " Thomas \" Tommy \" Lawton ( 6 Octobеr 1919 – 6 Novеmbеr 1996 ) was an English foot 5.11328125\n"
     ]
    },
    {
     "name": "stdout",
     "output_type": "stream",
     "text": [
      " = Trials and Tribble @-@ ations = \n",
      " \" Trials and Tribble @-@ ations \" is the 104th episode of the A 4.6640625\n"
     ]
    },
    {
     "name": "stdout",
     "output_type": "stream",
     "text": [
      " = Tintin in the Congo = \n",
      " Tintin in the Congo ( Frеnch : Tintin au Congo ; Frеnch pronunciation : ​ 5.26953125\n"
     ]
    },
    {
     "name": "stdout",
     "output_type": "stream",
     "text": [
      " = Andrew Johnston ( singer ) = \n",
      " Andrew Johnston ( born 23 Sеptеmbеr 1994 ) is a British singer who 4.69921875\n"
     ]
    },
    {
     "name": "stdout",
     "output_type": "stream",
     "text": [
      " = Illinois ( Sufjan Stevens album ) = \n",
      " Illinois ( styled Sufjan Stevens Invites You To : Come On F 5.58984375\n"
     ]
    },
    {
     "name": "stdout",
     "output_type": "stream",
     "text": [
      " = Mycena galericulata = \n",
      " Mycena galericulata is a mushroom species commonly known as the common bo 4.90625\n"
     ]
    },
    {
     "name": "stdout",
     "output_type": "stream",
     "text": [
      " = Crash Boom Bang ! = \n",
      " For the Roxette album with a similar name , see Crash ! Boom ! Bang ! \n",
      " Cra 5.390625\n"
     ]
    },
    {
     "name": "stdout",
     "output_type": "stream",
     "text": [
      " = Grade I listed buildings in Somerset = \n",
      " The Grade I listed buildings in Somerset , England , dem 4.76953125\n"
     ]
    },
    {
     "name": "stdout",
     "output_type": "stream",
     "text": [
      " = Gertrude Barrows Bennett = \n",
      " Gertrude Barrows Bennett ( 1883 – 1948 ) was the first major female  5.421875\n"
     ]
    },
    {
     "name": "stdout",
     "output_type": "stream",
     "text": [
      " = Man Down ( song ) = \n",
      " \" Man Down \" is a song by Barbadian singer Rihanna from her fifth studio al 4.85546875\n"
     ]
    },
    {
     "name": "stdout",
     "output_type": "stream",
     "text": [
      " = Marauders ( Star Trek : Enterprise ) = \n",
      " \" Marauders \" is the sixth еpisodе of the second season  4.84375\n"
     ]
    },
    {
     "name": "stdout",
     "output_type": "stream",
     "text": [
      " = Johnny McNichol = \n",
      " John \" Johnny \" McNichol ( 20 August 1925 – 17 March 2007 ) was a Scottish fo 4.875\n"
     ]
    },
    {
     "name": "stdout",
     "output_type": "stream",
     "text": [
      " = Johnny McNichol = \n",
      " John \" Johnny \" McNichol ( 20 August 1925 – 17 March 2007 ) was a Scottish fo 4.90234375\n"
     ]
    },
    {
     "name": "stdout",
     "output_type": "stream",
     "text": [
      " = Otra Nota = \n",
      " Otra Nota ( English : Another Note ) is the debut album by Amеrican singer Marc Ant 4.66796875\n"
     ]
    },
    {
     "name": "stdout",
     "output_type": "stream",
     "text": [
      " = St Peulan 's Church , Llanbeulan = \n",
      " St Peulan 's Church , Llanbeulan is a disused medieval churc 4.87890625\n"
     ]
    },
    {
     "name": "stdout",
     "output_type": "stream",
     "text": [
      " = The Tramp Dentists = \n",
      " The Tramp Dentists is a 1913 Amеrican silent short comedy film released by 5.1796875\n"
     ]
    },
    {
     "name": "stdout",
     "output_type": "stream",
     "text": [
      " = Qedarite = \n",
      " The Qedarites ( also Kedarites / Cedarenes , Cedar / Kedar / Qedar , and Kingdom of  5.5234375\n"
     ]
    },
    {
     "name": "stdout",
     "output_type": "stream",
     "text": [
      " = Super Science Stories = \n",
      " Super Science Stories was an Amеrican pulp science fiction magazine pub 5.546875\n"
     ]
    },
    {
     "name": "stdout",
     "output_type": "stream",
     "text": [
      " = HMS Hostile ( H55 ) = \n",
      " HMS Hostile ( H55 ) was an H @-@ class destroyer built for the Royal Navy 4.26171875\n"
     ]
    },
    {
     "name": "stdout",
     "output_type": "stream",
     "text": [
      " = Rocky Mountain Horse = \n",
      " The Rocky Mountain Horse is a horse breed developed in the statе of Kent 5.30078125\n"
     ]
    },
    {
     "name": "stdout",
     "output_type": "stream",
     "text": [
      " = Somerset County Cricket Club in 2009 = \n",
      " Somerset County Cricket Club competed in four domestic c 4.7421875\n"
     ]
    },
    {
     "name": "stdout",
     "output_type": "stream",
     "text": [
      " = Adjustments / Penalties , Pts = \n",
      " Points . \n",
      " Adjustments : \n",
      " Hampshire deducted 3 points for a sl 5.25390625\n"
     ]
    },
    {
     "name": "stdout",
     "output_type": "stream",
     "text": [
      " = No result , Pts = \n",
      " Points , NRR = Net run rate . \n",
      " Notes : \n",
      " Teams marked * progressed to the ne 5.04296875\n"
     ]
    },
    {
     "name": "stdout",
     "output_type": "stream",
     "text": [
      " = Texas A & M Singing Cadets = \n",
      " The Texas A & M Singing Cadets are a male choral group at Texas A  5.0859375\n"
     ]
    },
    {
     "name": "stdout",
     "output_type": "stream",
     "text": [
      " = Arizona State Route 67 = \n",
      " State Route 67 ( SR 67 ) is a 43 @.@ 4 mi ( 69 @.@ 8 km ) long , north 4.56640625\n"
     ]
    },
    {
     "name": "stdout",
     "output_type": "stream",
     "text": [
      " = Josce dе Dinan = \n",
      " Josce dе Dinan ( sometimes Joce dе Dinan , Josselin dе Dinan , Joce dе Dynan ; 5.28515625\n"
     ]
    },
    {
     "name": "stdout",
     "output_type": "stream",
     "text": [
      " = Oldham = \n",
      " Oldham / ˈɒldəm / is a large town in Greater Manchester , England , amid the Pennines  4.91015625\n"
     ]
    },
    {
     "name": "stdout",
     "output_type": "stream",
     "text": [
      " = 1981 European Cup Final = \n",
      " The 1981 European Cup Final was an association football match between 5.01171875\n"
     ]
    },
    {
     "name": "stdout",
     "output_type": "stream",
     "text": [
      " = Carre 's Grammar School = \n",
      " Carre 's Grammar School is a selective secondary school for boys in S 4.95703125\n"
     ]
    },
    {
     "name": "stdout",
     "output_type": "stream",
     "text": [
      " = Don 't You Wanna Stay = \n",
      " \" Don 't You Wanna Stay \" is a duet recorded by American singers Jason  4.6796875\n"
     ]
    },
    {
     "name": "stdout",
     "output_type": "stream",
     "text": [
      " = Tropical Storm Domoina = \n",
      " Severe Tropical Storm Domoina in 1984 caused 100 year floods in South  5.0625\n"
     ]
    },
    {
     "name": "stdout",
     "output_type": "stream",
     "text": [
      " = Tales of Destiny 2 = \n",
      " Tales of Destiny 2 ( Japanese : テイルズ オブ デスティニー 2 , Hepburn : Teiruzu Obu D 4.7578125\n"
     ]
    },
    {
     "name": "stdout",
     "output_type": "stream",
     "text": [
      " = In Bloom = \n",
      " For the 2013 film of the samе name , see In Bloom ( 2013 film ) \n",
      " \" In Bloom \" is a  5.046875\n"
     ]
    },
    {
     "name": "stdout",
     "output_type": "stream",
     "text": [
      " = Lady in the Lake trial = \n",
      " The Lady in the Lake trial was a 2005 murder case in which Gordon Park 5.33984375\n"
     ]
    },
    {
     "name": "stdout",
     "output_type": "stream",
     "text": [
      " = Dover Athletic F.C. = \n",
      " Dover Athletic Football Club is a professional association football club  4.515625\n"
     ]
    },
    {
     "name": "stdout",
     "output_type": "stream",
     "text": [
      " = Plum cake = \n",
      " Plum cake refers to a wide range of cakes made with either dried fruit ( such as gr 5.8515625\n"
     ]
    },
    {
     "name": "stdout",
     "output_type": "stream",
     "text": [
      " = My Boo ( Usher and Alicia Keys song ) = \n",
      " \" My Boo \" is a duet between American R & B singers Ush 4.44921875\n"
     ]
    },
    {
     "name": "stdout",
     "output_type": "stream",
     "text": [
      " = Rio de Janeiro bid for the 2016 Summer Olympics = \n",
      " The Rio de Janeiro bid for the 2016 Summer Ol 5.25390625\n"
     ]
    },
    {
     "name": "stdout",
     "output_type": "stream",
     "text": [
      " = New Jersey Route 65 = \n",
      " Route 65 is a former statе highway in the city of Newark , New Jersey . T 4.27734375\n"
     ]
    },
    {
     "name": "stdout",
     "output_type": "stream",
     "text": [
      " = Giacomo Meyerbeer = \n",
      " Giacomo Meyerbeer ( born Jacob Liebmann Beer ; 5 Sеptеmbеr 1791 – 2 May 186 5.5546875\n"
     ]
    },
    {
     "name": "stdout",
     "output_type": "stream",
     "text": [
      " = Washington State Route 221 = \n",
      " State Route 221 ( SR 221 ) is a 25 @.@ 95 @-@ mile ( 41 @.@ 76 km  4.30859375\n"
     ]
    },
    {
     "name": "stdout",
     "output_type": "stream",
     "text": [
      " = Superman : Escape from Krypton = \n",
      " Superman : Escape from Krypton ( originally known as Superman  4.7109375\n"
     ]
    },
    {
     "name": "stdout",
     "output_type": "stream",
     "text": [
      " = Battle of Hubbardton = \n",
      " The Battle of Hubbardton was an engagement in the Saratoga campaign of t 5.24609375\n"
     ]
    },
    {
     "name": "stdout",
     "output_type": "stream",
     "text": [
      " = Odaenathus = \n",
      " Lucius Septimius Udaynath , Latinized as Odaenathus ( Aramaic : ܐܕܝܢܬ / Oḏainaṯ ;  5.33984375\n"
     ]
    },
    {
     "name": "stdout",
     "output_type": "stream",
     "text": [
      " = Banksia violacea = \n",
      " Banksia violacea , commonly known as violet banksia , is a species of shrub  5.3046875\n"
     ]
    },
    {
     "name": "stdout",
     "output_type": "stream",
     "text": [
      " = Rob Howard = \n",
      " Rob Howard ( born 1954 or 1955 ) is a Canadian politician who was elected to the 3 5.51171875\n"
     ]
    },
    {
     "name": "stdout",
     "output_type": "stream",
     "text": [
      " = Oribi = \n",
      " Oribi ( pronounced / ˈȯrəbē / ) ( Ourebia ourebi ) is a small antelope found in eastern 5.10546875\n"
     ]
    },
    {
     "name": "stdout",
     "output_type": "stream",
     "text": [
      " = Rockstar 101 = \n",
      " \" Rockstar 101 \" is a song by Barbadian recording artist Rihanna from her fourth 4.84765625\n"
     ]
    },
    {
     "name": "stdout",
     "output_type": "stream",
     "text": [
      " = St Mary 's Church , Rhodogeidio = \n",
      " St Mary 's Church , Rhodogeidio is a small medieval church ,  4.671875\n"
     ]
    },
    {
     "name": "stdout",
     "output_type": "stream",
     "text": [
      " = First Light ( Rebecca Stead novel ) = \n",
      " First Light is a young adult science fiction and mystery  5.52734375\n"
     ]
    },
    {
     "name": "stdout",
     "output_type": "stream",
     "text": [
      " = Mexico City Metropolitan Cathedral = \n",
      " The Metropolitan Cathedral of the Assumption of the Most B 5.24609375\n"
     ]
    },
    {
     "name": "stdout",
     "output_type": "stream",
     "text": [
      " = USS Illinois ( BB @-@ 7 ) = \n",
      " USS Illinois ( BB @-@ 7 ) was a pre @-@ dreadnought battleship buil 4.63671875\n"
     ]
    },
    {
     "name": "stdout",
     "output_type": "stream",
     "text": [
      " = The Archaeology of Ritual and Magic = \n",
      " The Archaeology of Ritual and Magic is an archaeological  5.40625\n"
     ]
    },
    {
     "name": "stdout",
     "output_type": "stream",
     "text": [
      " = History of Braathens SAFE ( 1946 – 93 ) = \n",
      " Braathens South Amеrican & Far East Airtransport A /  5.4453125\n"
     ]
    },
    {
     "name": "stdout",
     "output_type": "stream",
     "text": [
      " = Gerard ( archbishop of York ) = \n",
      " Gerard ( died 21 May 1108 ) was Archbishop of York between 1100 5.4296875\n"
     ]
    },
    {
     "name": "stdout",
     "output_type": "stream",
     "text": [
      " = Something Borrowed ( Torchwood ) = \n",
      " \" Something Borrowed \" is the ninth episode of the second se 5.0234375\n"
     ]
    },
    {
     "name": "stdout",
     "output_type": "stream",
     "text": [
      " = Perfect Dark ( 2010 video game ) = \n",
      " Perfect Dark is a remastered release of the first @-@ person 4.98046875\n"
     ]
    },
    {
     "name": "stdout",
     "output_type": "stream",
     "text": [
      " = First Ostend Raid = \n",
      " The First Ostend Raid ( part of Operation ZO ) was the first of two attacks 5.546875\n"
     ]
    },
    {
     "name": "stdout",
     "output_type": "stream",
     "text": [
      " = Hurricane Dot ( 1959 ) = \n",
      " Hurricane Dot of August 1959 was at its time the costliest tropical cy 5.03125\n"
     ]
    },
    {
     "name": "stdout",
     "output_type": "stream",
     "text": [
      " = Jacob deGrom = \n",
      " Jacob Anthony deGrom ( born June 19 , 1988 ) , is an American professional baseb 4.984375\n"
     ]
    },
    {
     "name": "stdout",
     "output_type": "stream",
     "text": [
      " = Battle of Merville Gun Battery = \n",
      " The Battle of Merville Gun Battery occurred on 6 June 1944 , a 4.7109375\n"
     ]
    },
    {
     "name": "stdout",
     "output_type": "stream",
     "text": [
      " = St Caffo 's Church , Llangaffo = \n",
      " St Caffo 's Church , Llangaffo is a 19th @-@ cеntury church ,  4.9296875\n"
     ]
    },
    {
     "name": "stdout",
     "output_type": "stream",
     "text": [
      " = George N. Briggs = \n",
      " George Nixon Briggs ( April 12 , 1796 – Sеptеmbеr 12 , 1861 ) was an Amеrica 5.30078125\n"
     ]
    },
    {
     "name": "stdout",
     "output_type": "stream",
     "text": [
      " = Simon Bradstreet = \n",
      " Simon Bradstreet ( baptized March 18 , 1603 / 4 – March 27 , 1697 ) was a co 5.04296875\n"
     ]
    },
    {
     "name": "stdout",
     "output_type": "stream",
     "text": [
      " = Etymology of Wicca = \n",
      " In Modern English , the term Wicca ( / ˈwɪkə / ) refers to Wicca , the rel 5.19140625\n"
     ]
    }
   ],
   "source": [
    "for i, row in tqdm(df.iterrows(), total=len(df)):\n",
    "    group, wm, used = row['group'], row['watermark'], row['used?']\n",
    "    input_ids = tokenizer.encode(wm, \\\n",
    "                                 return_tensors='pt', \\\n",
    "                                 max_length=None, \\\n",
    "                                 padding=False).to(device)\n",
    "    \n",
    "    input_ids = input_ids[:,-max_length:]\n",
    "    \n",
    "    with torch.no_grad():\n",
    "        model.eval()\n",
    "        outputs = model(input_ids, labels=input_ids)\n",
    "        loss = outputs.loss\n",
    "        logits = outputs.logits\n",
    "\n",
    "    if i % 100 == 0:\n",
    "        print(wm[:100], loss.item())\n",
    "\n",
    "    out.writerow([group, wm, used, loss.item()])"
   ]
  },
  {
   "cell_type": "code",
   "execution_count": 9,
   "id": "ec3d3a80",
   "metadata": {
    "execution": {
     "iopub.execute_input": "2023-11-20T23:42:14.966568Z",
     "iopub.status.busy": "2023-11-20T23:42:14.966073Z",
     "iopub.status.idle": "2023-11-20T23:42:15.134502Z",
     "shell.execute_reply": "2023-11-20T23:42:15.133065Z"
    },
    "papermill": {
     "duration": 0.194444,
     "end_time": "2023-11-20T23:42:15.138553",
     "exception": false,
     "start_time": "2023-11-20T23:42:14.944109",
     "status": "completed"
    },
    "tags": []
   },
   "outputs": [],
   "source": [
    "out_fh.close()"
   ]
  },
  {
   "cell_type": "code",
   "execution_count": 10,
   "id": "bb815694",
   "metadata": {
    "execution": {
     "iopub.execute_input": "2023-11-20T23:42:15.186895Z",
     "iopub.status.busy": "2023-11-20T23:42:15.185900Z",
     "iopub.status.idle": "2023-11-20T23:42:25.615000Z",
     "shell.execute_reply": "2023-11-20T23:42:25.614321Z"
    },
    "papermill": {
     "duration": 10.455369,
     "end_time": "2023-11-20T23:42:25.619039",
     "exception": false,
     "start_time": "2023-11-20T23:42:15.163670",
     "status": "completed"
    },
    "tags": []
   },
   "outputs": [
    {
     "data": {
      "text/html": [
       "<div>\n",
       "<style scoped>\n",
       "    .dataframe tbody tr th:only-of-type {\n",
       "        vertical-align: middle;\n",
       "    }\n",
       "\n",
       "    .dataframe tbody tr th {\n",
       "        vertical-align: top;\n",
       "    }\n",
       "\n",
       "    .dataframe thead th {\n",
       "        text-align: right;\n",
       "    }\n",
       "</style>\n",
       "<table border=\"1\" class=\"dataframe\">\n",
       "  <thead>\n",
       "    <tr style=\"text-align: right;\">\n",
       "      <th></th>\n",
       "      <th>group</th>\n",
       "      <th>watermark</th>\n",
       "      <th>used?</th>\n",
       "      <th>loss</th>\n",
       "    </tr>\n",
       "  </thead>\n",
       "  <tbody>\n",
       "    <tr>\n",
       "      <th>0</th>\n",
       "      <td>0</td>\n",
       "      <td>= Valkyria Chronicles III = \\n Senjō no Valky...</td>\n",
       "      <td>True</td>\n",
       "      <td>5.617188</td>\n",
       "    </tr>\n",
       "  </tbody>\n",
       "</table>\n",
       "</div>"
      ],
      "text/plain": [
       "   group                                          watermark  used?      loss\n",
       "0      0   = Valkyria Chronicles III = \\n Senjō no Valky...   True  5.617188"
      ]
     },
     "execution_count": 10,
     "metadata": {},
     "output_type": "execute_result"
    }
   ],
   "source": [
    "df = pd.read_csv(output_fn, header=None)\n",
    "df.columns = ['group', 'watermark', 'used?', 'loss']\n",
    "df.head(1)"
   ]
  },
  {
   "cell_type": "code",
   "execution_count": 11,
   "id": "6133ec1b",
   "metadata": {
    "execution": {
     "iopub.execute_input": "2023-11-20T23:42:25.668640Z",
     "iopub.status.busy": "2023-11-20T23:42:25.668200Z",
     "iopub.status.idle": "2023-11-20T23:42:25.817128Z",
     "shell.execute_reply": "2023-11-20T23:42:25.816565Z"
    },
    "papermill": {
     "duration": 0.175575,
     "end_time": "2023-11-20T23:42:25.820294",
     "exception": false,
     "start_time": "2023-11-20T23:42:25.644719",
     "status": "completed"
    },
    "scrolled": true,
    "tags": []
   },
   "outputs": [
    {
     "name": "stdout",
     "output_type": "stream",
     "text": [
      "0 0.98 100 5.6171875 20908\n",
      "1 0.91 100 4.87109375 21487\n",
      "2 0.56 100 5.52734375 16161\n",
      "3 0.83 100 4.69140625 3667\n",
      "4 0.69 100 4.83203125 6967\n",
      "5 0.92 100 4.61328125 17813\n",
      "13 0.86 100 5.21875 8582\n",
      "14 0.66 100 4.75 4915\n",
      "15 0.17 100 4.18359375 2981\n",
      "16 0.97 100 4.8203125 14842\n",
      "17 0.93 100 5.22265625 14228\n",
      "18 0.92 100 4.98046875 12193\n",
      "19 0.87 100 4.2265625 6010\n",
      "20 1.0 100 5.52734375 55982\n",
      "21 0.96 100 5.3046875 13192\n",
      "22 0.8 100 5.6640625 37173\n",
      "23 0.56 100 4.59375 11058\n",
      "24 0.74 100 5.2890625 7686\n",
      "25 0.92 100 5.31640625 25354\n",
      "27 0.85 100 5.28515625 14778\n",
      "28 0.73 100 5.29296875 30025\n",
      "29 0.93 100 5.12890625 20621\n",
      "30 0.28 100 4.9375 29044\n",
      "32 0.42 100 5.33203125 34415\n",
      "33 0.88 100 5.1484375 29005\n",
      "34 0.94 100 4.9921875 12853\n",
      "35 0.79 100 5.01171875 6551\n",
      "36 0.94 100 5.4609375 12323\n",
      "37 1.0 100 5.1171875 7567\n",
      "38 0.9 100 5.046875 51477\n",
      "39 0.91 100 5.5 47831\n",
      "40 0.98 100 5.1484375 5656\n",
      "41 0.96 100 4.55859375 23590\n",
      "42 1.0 100 5.2734375 39665\n",
      "43 0.54 100 4.91015625 7320\n",
      "44 0.86 100 4.66796875 10954\n",
      "45 0.99 100 4.46484375 11512\n",
      "46 0.94 100 4.27734375 28822\n",
      "47 0.28 100 4.6640625 11030\n",
      "48 0.48 100 5.0625 32988\n",
      "49 0.97 100 4.625 10653\n",
      "50 0.84 100 5.53125 25080\n",
      "51 0.89 100 5.1015625 5622\n",
      "52 0.99 100 5.515625 12277\n",
      "53 0.53 100 5.1015625 7314\n",
      "54 0.94 100 5.1015625 27096\n",
      "55 1.0 100 4.7265625 18974\n",
      "56 1.0 100 5.6328125 25406\n",
      "57 0.91 100 5.32421875 71096\n",
      "58 1.0 100 5.38671875 13567\n",
      "59 0.77 100 5.25 18170\n",
      "60 0.9 100 5.25 18030\n",
      "61 0.89 100 5.46484375 7206\n",
      "62 0.81 100 4.8671875 20430\n",
      "63 0.98 100 4.66796875 22531\n",
      "64 0.66 100 4.828125 19254\n",
      "65 0.41 100 4.07421875 3896\n",
      "66 0.31 100 5.703125 26562\n",
      "67 0.37 100 4.51171875 8830\n",
      "68 0.74 100 5.53515625 17231\n",
      "69 0.51 100 4.75 3869\n",
      "70 0.93 100 5.38671875 28505\n",
      "71 0.98 100 5.13671875 26724\n",
      "72 0.68 100 4.64453125 11159\n",
      "73 0.94 100 5.671875 10015\n",
      "74 0.73 100 4.91796875 47589\n",
      "75 0.42 100 5.45703125 35401\n",
      "76 0.55 100 3.6171875 3137\n",
      "77 0.61 100 5.67578125 51682\n",
      "78 0.14 100 4.7578125 6001\n",
      "80 0.97 100 5.48828125 55024\n",
      "81 0.74 100 5.40234375 10503\n",
      "82 0.23 100 4.1484375 2880\n",
      "83 0.99 100 5.34765625 13124\n",
      "84 0.41 100 5.29296875 14281\n",
      "85 0.8 100 4.55859375 5586\n",
      "86 0.92 100 4.85546875 6191\n",
      "87 0.31 100 4.83203125 8364\n",
      "88 0.78 100 5.1484375 8386\n",
      "89 0.54 100 4.703125 4985\n",
      "90 0.95 100 5.1328125 16952\n",
      "91 0.8 100 4.8046875 5652\n",
      "92 0.82 100 5.76171875 40828\n",
      "93 0.99 100 5.4140625 23501\n",
      "94 0.9 100 4.8359375 7176\n",
      "95 0.82 100 4.38671875 5981\n",
      "96 0.97 100 4.6640625 15268\n",
      "97 0.66 100 5.765625 18484\n",
      "98 0.92 100 4.609375 5758\n",
      "99 0.32 100 4.5 6578\n",
      "100 0.8 100 5.0859375 19261\n",
      "101 0.98 100 6.015625 21662\n",
      "102 0.89 100 5.1640625 18602\n",
      "103 0.59 100 5.19921875 8173\n",
      "104 0.91 100 5.6171875 42722\n",
      "105 0.89 100 5.20703125 14966\n",
      "106 0.98 100 5.359375 33548\n",
      "107 0.93 100 5.30078125 45104\n",
      "108 0.83 100 5.07421875 28354\n",
      "109 0.95 100 5.63671875 40591\n",
      "110 1.0 100 5.12109375 14093\n",
      "111 0.96 100 4.52734375 7792\n",
      "112 0.88 100 5.40625 10557\n",
      "113 0.7 100 4.30859375 9401\n",
      "114 0.43 100 5.59765625 24245\n",
      "115 0.94 100 4.86328125 7313\n",
      "116 0.77 100 6.1484375 5694\n",
      "117 0.58 100 4.9296875 8465\n",
      "118 0.27 100 4.890625 4761\n",
      "119 1.0 100 5.4140625 3446\n",
      "120 1.0 100 5.07421875 47138\n",
      "121 0.09 100 4.390625 1987\n",
      "124 0.98 100 5.48828125 25041\n",
      "125 0.96 100 5.421875 85216\n",
      "126 0.8 100 5.1484375 37639\n",
      "127 1.0 100 5.078125 41265\n",
      "128 0.96 100 4.94921875 16597\n",
      "129 0.93 100 5.0546875 64862\n",
      "131 1.0 100 4.90625 4700\n",
      "132 0.99 100 4.90625 11887\n",
      "133 0.09 100 4.4765625 3426\n",
      "134 0.94 100 5.0703125 14170\n",
      "136 1.0 100 5.0390625 14169\n",
      "137 0.95 100 5.2578125 8065\n",
      "138 0.99 100 5.16796875 14007\n",
      "139 1.0 100 5.3203125 6579\n",
      "140 0.74 100 4.7734375 6154\n",
      "141 0.95 100 5.0234375 39764\n",
      "142 1.0 100 4.84375 33698\n",
      "143 0.89 100 4.9921875 33263\n",
      "144 0.91 100 5.171875 11214\n",
      "145 0.67 100 5.05078125 11464\n",
      "146 0.81 100 4.5703125 9440\n",
      "147 0.88 100 4.66015625 13192\n",
      "149 0.96 100 5.6015625 10701\n",
      "150 0.83 100 3.685546875 23336\n",
      "151 0.02 100 5.2578125 34288\n",
      "152 0.95 100 5.16015625 8309\n",
      "153 1.0 100 4.6953125 24483\n",
      "154 0.82 100 4.59375 16166\n",
      "155 0.76 100 5.20703125 17760\n",
      "156 0.76 100 5.00390625 21405\n",
      "158 0.87 100 4.80078125 25325\n",
      "159 0.92 100 5.078125 17225\n",
      "160 0.41 100 5.98828125 39910\n",
      "161 0.77 100 5.0078125 12705\n",
      "162 0.99 100 4.796875 28179\n",
      "163 0.93 100 5.421875 12219\n",
      "164 0.96 100 4.94921875 12622\n",
      "165 0.78 100 4.55078125 14282\n",
      "166 0.59 100 4.94140625 9302\n",
      "167 0.71 100 5.625 38309\n",
      "168 0.81 100 4.453125 6865\n",
      "170 0.98 100 5.46484375 19058\n",
      "171 0.96 100 5.0234375 40672\n",
      "172 0.85 100 5.41015625 21805\n",
      "173 0.93 100 4.54296875 7062\n",
      "174 0.75 100 5.0703125 6906\n",
      "175 0.27 100 4.6015625 31739\n",
      "176 0.98 100 5.6015625 24728\n",
      "177 0.89 100 4.70703125 12119\n",
      "178 0.9 100 4.85546875 25073\n",
      "179 0.76 100 5.328125 20028\n",
      "180 0.99 100 4.61328125 6777\n",
      "181 0.65 100 4.45703125 12693\n",
      "182 0.68 100 5.3515625 22218\n",
      "183 0.69 100 5.12890625 7067\n",
      "184 0.88 100 4.83984375 30477\n",
      "186 0.38 100 5.328125 17335\n",
      "188 0.87 100 5.03515625 11584\n",
      "189 0.92 100 5.09765625 33169\n",
      "190 0.94 100 4.89453125 8249\n",
      "191 0.41 100 5.28125 13760\n",
      "192 0.89 100 4.81640625 4932\n",
      "193 0.92 100 5.19140625 7589\n",
      "194 1.0 100 5.48828125 24445\n",
      "195 0.83 100 5.28515625 42000\n",
      "196 0.96 100 5.09375 21589\n",
      "197 0.85 100 4.85546875 5017\n",
      "198 1.0 100 4.390625 5239\n",
      "199 0.53 100 4.921875 21596\n",
      "200 0.87 100 4.68359375 7772\n",
      "201 0.98 100 4.92578125 20945\n",
      "202 0.93 100 5.2890625 11814\n",
      "204 0.91 100 5.3359375 11091\n",
      "205 0.93 100 5.4453125 17409\n",
      "206 0.58 100 5.00390625 61523\n",
      "207 0.91 100 5.0703125 11123\n",
      "209 0.82 100 5.1953125 20024\n",
      "211 0.96 100 5.0703125 27661\n",
      "212 0.87 100 4.6640625 20673\n",
      "213 0.71 100 5.265625 24730\n",
      "214 1.0 100 4.61328125 10235\n",
      "215 0.96 100 5.5546875 23101\n",
      "216 0.84 100 4.89453125 9077\n",
      "217 0.95 100 5.32421875 10084\n",
      "218 0.96 100 4.74609375 19484\n",
      "219 0.95 100 5.33984375 8032\n",
      "220 0.97 100 4.828125 25970\n",
      "221 0.99 100 4.7578125 8024\n",
      "222 0.87 100 4.875 11446\n",
      "223 0.6 100 4.69921875 5277\n",
      "224 0.68 100 4.83203125 7979\n",
      "225 0.96 100 5.19921875 3403\n",
      "226 0.97 100 5.4765625 21822\n",
      "227 0.98 100 5.32421875 18907\n",
      "228 0.4 100 4.3125 4834\n",
      "229 0.96 100 5.20703125 7089\n",
      "230 0.81 100 4.7578125 9707\n",
      "235 0.75 100 5.19140625 3662\n",
      "238 0.91 100 5.08984375 4517\n",
      "248 1.0 100 5.0390625 7138\n",
      "250 0.88 100 4.546875 4402\n",
      "251 0.56 100 5.25 6560\n",
      "253 0.69 100 4.91796875 51181\n",
      "254 0.78 100 5.0390625 8910\n",
      "255 0.68 100 4.93359375 29687\n",
      "256 0.92 100 4.59765625 13965\n",
      "257 0.93 100 5.05078125 14284\n",
      "258 0.98 100 4.65625 23395\n",
      "259 0.78 100 5.02734375 9571\n",
      "260 0.96 100 5.3125 24735\n",
      "261 0.91 100 4.4921875 15025\n",
      "262 0.97 100 5.734375 7966\n",
      "264 0.91 100 4.421875 7673\n",
      "265 0.15 100 5.37890625 32711\n",
      "266 0.0 100 4.421875 3668\n",
      "267 0.85 100 5.51953125 45609\n",
      "268 0.28 100 4.36328125 2124\n",
      "269 0.84 100 4.68359375 8016\n",
      "270 0.96 100 5.234375 10010\n",
      "271 0.99 100 5.2890625 34138\n",
      "272 0.93 100 5.29296875 11443\n",
      "273 0.95 100 5.44921875 10574\n",
      "274 0.79 100 5.0625 10410\n",
      "275 0.85 100 4.80078125 10853\n",
      "276 0.67 100 4.59375 4477\n",
      "277 0.94 100 5.5078125 8910\n",
      "278 1.0 100 5.1796875 40171\n",
      "279 0.77 100 4.546875 9071\n",
      "280 0.99 100 5.3671875 12833\n",
      "281 0.99 100 5.3203125 49708\n",
      "282 0.96 100 5.37890625 11856\n",
      "283 0.55 100 5.16015625 19856\n",
      "284 0.81 100 4.88671875 13110\n",
      "285 0.75 100 5.4921875 11361\n",
      "287 0.84 100 4.9765625 8735\n",
      "288 0.72 100 4.8828125 9139\n",
      "289 0.89 100 4.6875 11056\n",
      "290 0.51 100 4.88671875 8107\n",
      "291 0.93 100 5.296875 13139\n",
      "292 0.93 100 5.01171875 13722\n",
      "293 0.96 100 5.17578125 17127\n"
     ]
    }
   ],
   "source": [
    "for i, g in df.groupby('group'):\n",
    "    test_statistic = g.iloc[0]['loss']\n",
    "    samples = g.iloc[1:]\n",
    "    p = np.mean(samples.loss > test_statistic)\n",
    "    print(i, p, len(samples), test_statistic, len(g.iloc[0]['watermark']))"
   ]
  }
 ],
 "metadata": {
  "celltoolbar": "Tags",
  "kernelspec": {
   "display_name": "Python 3 (ipykernel)",
   "language": "python",
   "name": "python3"
  },
  "language_info": {
   "codemirror_mode": {
    "name": "ipython",
    "version": 3
   },
   "file_extension": ".py",
   "mimetype": "text/x-python",
   "name": "python",
   "nbconvert_exporter": "python",
   "pygments_lexer": "ipython3",
   "version": "3.8.13"
  },
  "papermill": {
   "default_parameters": {},
   "duration": 572.599456,
   "end_time": "2023-11-20T23:42:31.058263",
   "environment_variables": {},
   "exception": null,
   "input_path": "/home/johnny/gpt-neox/haveibeentrainedon/acl2024/unicode_subs/score_null.ipynb",
   "output_path": "/home/johnny/gpt-neox/haveibeentrainedon/acl2024/unicode_subs/output.ipynb",
   "parameters": {
    "input_fn": "/home/johnny/gpt-neox/haveibeentrainedon/acl2024/unicode_subs/data/frac:1/samples.csv",
    "model_name": "/home/johnny/gpt-neox/haveibeentrainedon/acl2024/unicode_subs/data/frac:1/70M",
    "output_fn": "/home/johnny/gpt-neox/haveibeentrainedon/acl2024/unicode_subs/scores/scores:1.csv"
   },
   "start_time": "2023-11-20T23:32:58.458807",
   "version": "2.4.0"
  },
  "widgets": {
   "application/vnd.jupyter.widget-state+json": {
    "state": {
     "0765f89bce2c461b8dc2e06186d97ab9": {
      "model_module": "@jupyter-widgets/controls",
      "model_module_version": "1.5.0",
      "model_name": "HBoxModel",
      "state": {
       "_dom_classes": [],
       "_model_module": "@jupyter-widgets/controls",
       "_model_module_version": "1.5.0",
       "_model_name": "HBoxModel",
       "_view_count": null,
       "_view_module": "@jupyter-widgets/controls",
       "_view_module_version": "1.5.0",
       "_view_name": "HBoxView",
       "box_style": "",
       "children": [
        "IPY_MODEL_65c1797688a44830aafd86dc51a924fe",
        "IPY_MODEL_4a0151e496f3411d90502dcc904d8102",
        "IPY_MODEL_4b1cfa190e0b4ea28c5798a8a3cbc3b3"
       ],
       "layout": "IPY_MODEL_f7a0f91e33cd4ff78c3df58b325e44ba"
      }
     },
     "24f5e46940874c77a48eed731e5fbddc": {
      "model_module": "@jupyter-widgets/controls",
      "model_module_version": "1.5.0",
      "model_name": "DescriptionStyleModel",
      "state": {
       "_model_module": "@jupyter-widgets/controls",
       "_model_module_version": "1.5.0",
       "_model_name": "DescriptionStyleModel",
       "_view_count": null,
       "_view_module": "@jupyter-widgets/base",
       "_view_module_version": "1.2.0",
       "_view_name": "StyleView",
       "description_width": ""
      }
     },
     "4a0151e496f3411d90502dcc904d8102": {
      "model_module": "@jupyter-widgets/controls",
      "model_module_version": "1.5.0",
      "model_name": "FloatProgressModel",
      "state": {
       "_dom_classes": [],
       "_model_module": "@jupyter-widgets/controls",
       "_model_module_version": "1.5.0",
       "_model_name": "FloatProgressModel",
       "_view_count": null,
       "_view_module": "@jupyter-widgets/controls",
       "_view_module_version": "1.5.0",
       "_view_name": "ProgressView",
       "bar_style": "success",
       "description": "",
       "description_tooltip": null,
       "layout": "IPY_MODEL_f7a865a872464cbc94ec26030d8848cf",
       "max": 25553.0,
       "min": 0.0,
       "orientation": "horizontal",
       "style": "IPY_MODEL_90f13da17d4b40a9a00f681cf3d28064",
       "value": 25553.0
      }
     },
     "4b1cfa190e0b4ea28c5798a8a3cbc3b3": {
      "model_module": "@jupyter-widgets/controls",
      "model_module_version": "1.5.0",
      "model_name": "HTMLModel",
      "state": {
       "_dom_classes": [],
       "_model_module": "@jupyter-widgets/controls",
       "_model_module_version": "1.5.0",
       "_model_name": "HTMLModel",
       "_view_count": null,
       "_view_module": "@jupyter-widgets/controls",
       "_view_module_version": "1.5.0",
       "_view_name": "HTMLView",
       "description": "",
       "description_tooltip": null,
       "layout": "IPY_MODEL_d30b379495bf41298b8d8a9c405e6f40",
       "placeholder": "​",
       "style": "IPY_MODEL_ea3e53015daa4fecb7a1b4be67494b08",
       "value": " 25553/25553 [07:52&lt;00:00, 56.88it/s]"
      }
     },
     "65c1797688a44830aafd86dc51a924fe": {
      "model_module": "@jupyter-widgets/controls",
      "model_module_version": "1.5.0",
      "model_name": "HTMLModel",
      "state": {
       "_dom_classes": [],
       "_model_module": "@jupyter-widgets/controls",
       "_model_module_version": "1.5.0",
       "_model_name": "HTMLModel",
       "_view_count": null,
       "_view_module": "@jupyter-widgets/controls",
       "_view_module_version": "1.5.0",
       "_view_name": "HTMLView",
       "description": "",
       "description_tooltip": null,
       "layout": "IPY_MODEL_e9590733149244fe89700a5a3894aea0",
       "placeholder": "​",
       "style": "IPY_MODEL_24f5e46940874c77a48eed731e5fbddc",
       "value": "100%"
      }
     },
     "90f13da17d4b40a9a00f681cf3d28064": {
      "model_module": "@jupyter-widgets/controls",
      "model_module_version": "1.5.0",
      "model_name": "ProgressStyleModel",
      "state": {
       "_model_module": "@jupyter-widgets/controls",
       "_model_module_version": "1.5.0",
       "_model_name": "ProgressStyleModel",
       "_view_count": null,
       "_view_module": "@jupyter-widgets/base",
       "_view_module_version": "1.2.0",
       "_view_name": "StyleView",
       "bar_color": null,
       "description_width": ""
      }
     },
     "d30b379495bf41298b8d8a9c405e6f40": {
      "model_module": "@jupyter-widgets/base",
      "model_module_version": "1.2.0",
      "model_name": "LayoutModel",
      "state": {
       "_model_module": "@jupyter-widgets/base",
       "_model_module_version": "1.2.0",
       "_model_name": "LayoutModel",
       "_view_count": null,
       "_view_module": "@jupyter-widgets/base",
       "_view_module_version": "1.2.0",
       "_view_name": "LayoutView",
       "align_content": null,
       "align_items": null,
       "align_self": null,
       "border": null,
       "bottom": null,
       "display": null,
       "flex": null,
       "flex_flow": null,
       "grid_area": null,
       "grid_auto_columns": null,
       "grid_auto_flow": null,
       "grid_auto_rows": null,
       "grid_column": null,
       "grid_gap": null,
       "grid_row": null,
       "grid_template_areas": null,
       "grid_template_columns": null,
       "grid_template_rows": null,
       "height": null,
       "justify_content": null,
       "justify_items": null,
       "left": null,
       "margin": null,
       "max_height": null,
       "max_width": null,
       "min_height": null,
       "min_width": null,
       "object_fit": null,
       "object_position": null,
       "order": null,
       "overflow": null,
       "overflow_x": null,
       "overflow_y": null,
       "padding": null,
       "right": null,
       "top": null,
       "visibility": null,
       "width": null
      }
     },
     "e9590733149244fe89700a5a3894aea0": {
      "model_module": "@jupyter-widgets/base",
      "model_module_version": "1.2.0",
      "model_name": "LayoutModel",
      "state": {
       "_model_module": "@jupyter-widgets/base",
       "_model_module_version": "1.2.0",
       "_model_name": "LayoutModel",
       "_view_count": null,
       "_view_module": "@jupyter-widgets/base",
       "_view_module_version": "1.2.0",
       "_view_name": "LayoutView",
       "align_content": null,
       "align_items": null,
       "align_self": null,
       "border": null,
       "bottom": null,
       "display": null,
       "flex": null,
       "flex_flow": null,
       "grid_area": null,
       "grid_auto_columns": null,
       "grid_auto_flow": null,
       "grid_auto_rows": null,
       "grid_column": null,
       "grid_gap": null,
       "grid_row": null,
       "grid_template_areas": null,
       "grid_template_columns": null,
       "grid_template_rows": null,
       "height": null,
       "justify_content": null,
       "justify_items": null,
       "left": null,
       "margin": null,
       "max_height": null,
       "max_width": null,
       "min_height": null,
       "min_width": null,
       "object_fit": null,
       "object_position": null,
       "order": null,
       "overflow": null,
       "overflow_x": null,
       "overflow_y": null,
       "padding": null,
       "right": null,
       "top": null,
       "visibility": null,
       "width": null
      }
     },
     "ea3e53015daa4fecb7a1b4be67494b08": {
      "model_module": "@jupyter-widgets/controls",
      "model_module_version": "1.5.0",
      "model_name": "DescriptionStyleModel",
      "state": {
       "_model_module": "@jupyter-widgets/controls",
       "_model_module_version": "1.5.0",
       "_model_name": "DescriptionStyleModel",
       "_view_count": null,
       "_view_module": "@jupyter-widgets/base",
       "_view_module_version": "1.2.0",
       "_view_name": "StyleView",
       "description_width": ""
      }
     },
     "f7a0f91e33cd4ff78c3df58b325e44ba": {
      "model_module": "@jupyter-widgets/base",
      "model_module_version": "1.2.0",
      "model_name": "LayoutModel",
      "state": {
       "_model_module": "@jupyter-widgets/base",
       "_model_module_version": "1.2.0",
       "_model_name": "LayoutModel",
       "_view_count": null,
       "_view_module": "@jupyter-widgets/base",
       "_view_module_version": "1.2.0",
       "_view_name": "LayoutView",
       "align_content": null,
       "align_items": null,
       "align_self": null,
       "border": null,
       "bottom": null,
       "display": null,
       "flex": null,
       "flex_flow": null,
       "grid_area": null,
       "grid_auto_columns": null,
       "grid_auto_flow": null,
       "grid_auto_rows": null,
       "grid_column": null,
       "grid_gap": null,
       "grid_row": null,
       "grid_template_areas": null,
       "grid_template_columns": null,
       "grid_template_rows": null,
       "height": null,
       "justify_content": null,
       "justify_items": null,
       "left": null,
       "margin": null,
       "max_height": null,
       "max_width": null,
       "min_height": null,
       "min_width": null,
       "object_fit": null,
       "object_position": null,
       "order": null,
       "overflow": null,
       "overflow_x": null,
       "overflow_y": null,
       "padding": null,
       "right": null,
       "top": null,
       "visibility": null,
       "width": null
      }
     },
     "f7a865a872464cbc94ec26030d8848cf": {
      "model_module": "@jupyter-widgets/base",
      "model_module_version": "1.2.0",
      "model_name": "LayoutModel",
      "state": {
       "_model_module": "@jupyter-widgets/base",
       "_model_module_version": "1.2.0",
       "_model_name": "LayoutModel",
       "_view_count": null,
       "_view_module": "@jupyter-widgets/base",
       "_view_module_version": "1.2.0",
       "_view_name": "LayoutView",
       "align_content": null,
       "align_items": null,
       "align_self": null,
       "border": null,
       "bottom": null,
       "display": null,
       "flex": null,
       "flex_flow": null,
       "grid_area": null,
       "grid_auto_columns": null,
       "grid_auto_flow": null,
       "grid_auto_rows": null,
       "grid_column": null,
       "grid_gap": null,
       "grid_row": null,
       "grid_template_areas": null,
       "grid_template_columns": null,
       "grid_template_rows": null,
       "height": null,
       "justify_content": null,
       "justify_items": null,
       "left": null,
       "margin": null,
       "max_height": null,
       "max_width": null,
       "min_height": null,
       "min_width": null,
       "object_fit": null,
       "object_position": null,
       "order": null,
       "overflow": null,
       "overflow_x": null,
       "overflow_y": null,
       "padding": null,
       "right": null,
       "top": null,
       "visibility": null,
       "width": null
      }
     }
    },
    "version_major": 2,
    "version_minor": 0
   }
  }
 },
 "nbformat": 4,
 "nbformat_minor": 5
}