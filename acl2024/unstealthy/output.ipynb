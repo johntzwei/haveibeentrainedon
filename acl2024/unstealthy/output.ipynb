{
 "cells": [
  {
   "cell_type": "code",
   "execution_count": 1,
   "id": "0ffac894",
   "metadata": {
    "execution": {
     "iopub.execute_input": "2023-11-13T00:12:29.073173Z",
     "iopub.status.busy": "2023-11-13T00:12:29.072577Z",
     "iopub.status.idle": "2023-11-13T00:12:30.825109Z",
     "shell.execute_reply": "2023-11-13T00:12:30.824075Z"
    },
    "papermill": {
     "duration": 1.770509,
     "end_time": "2023-11-13T00:12:30.828180",
     "exception": false,
     "start_time": "2023-11-13T00:12:29.057671",
     "status": "completed"
    },
    "tags": []
   },
   "outputs": [],
   "source": [
    "import datasets\n",
    "from tqdm.notebook import tqdm\n",
    "import numpy as np\n",
    "import pandas as pd\n",
    "from collections import Counter\n",
    "import json\n",
    "from transformers import GPT2Tokenizer"
   ]
  },
  {
   "cell_type": "code",
   "execution_count": 2,
   "id": "769d6a85",
   "metadata": {
    "execution": {
     "iopub.execute_input": "2023-11-13T00:12:30.845456Z",
     "iopub.status.busy": "2023-11-13T00:12:30.844899Z",
     "iopub.status.idle": "2023-11-13T00:12:30.850285Z",
     "shell.execute_reply": "2023-11-13T00:12:30.849234Z"
    },
    "papermill": {
     "duration": 0.01662,
     "end_time": "2023-11-13T00:12:30.852338",
     "exception": false,
     "start_time": "2023-11-13T00:12:30.835718",
     "status": "completed"
    },
    "tags": [
     "parameters"
    ]
   },
   "outputs": [],
   "source": [
    "out_dataset_name = \"wikitext_randseq\"\n",
    "out_samples_name = \"null_distribution.csv\"\n",
    "\n",
    "seed = 0\n",
    "num_proc = 16\n",
    "\n",
    "frac_controlled = 1.0\n",
    "seq_len = 10\n",
    "vocab_size = 80"
   ]
  },
  {
   "cell_type": "code",
   "execution_count": 3,
   "id": "4bfcc277",
   "metadata": {
    "execution": {
     "iopub.execute_input": "2023-11-13T00:12:30.869183Z",
     "iopub.status.busy": "2023-11-13T00:12:30.868558Z",
     "iopub.status.idle": "2023-11-13T00:12:30.874847Z",
     "shell.execute_reply": "2023-11-13T00:12:30.873823Z"
    },
    "papermill": {
     "duration": 0.017253,
     "end_time": "2023-11-13T00:12:30.876947",
     "exception": false,
     "start_time": "2023-11-13T00:12:30.859694",
     "status": "completed"
    },
    "tags": [
     "injected-parameters"
    ]
   },
   "outputs": [],
   "source": [
    "# Parameters\n",
    "frac_controlled = 0.0625\n",
    "out_dataset_name = \"/home/johnny/gpt-neox/haveibeentrainedon/acl2024/unstealthy/data/frac:0.0625/wikitext_perturbed\"\n",
    "out_samples_name = \"/home/johnny/gpt-neox/haveibeentrainedon/acl2024/unstealthy/data/frac:0.0625/samples.csv\"\n",
    "seq_len = 10\n",
    "vocab_size = 80\n"
   ]
  },
  {
   "cell_type": "code",
   "execution_count": 4,
   "id": "9861148f",
   "metadata": {
    "execution": {
     "iopub.execute_input": "2023-11-13T00:12:30.894160Z",
     "iopub.status.busy": "2023-11-13T00:12:30.893629Z",
     "iopub.status.idle": "2023-11-13T00:12:32.137409Z",
     "shell.execute_reply": "2023-11-13T00:12:32.136502Z"
    },
    "papermill": {
     "duration": 1.255307,
     "end_time": "2023-11-13T00:12:32.140053",
     "exception": false,
     "start_time": "2023-11-13T00:12:30.884746",
     "status": "completed"
    },
    "tags": []
   },
   "outputs": [
    {
     "data": {
      "text/plain": [
       "DatasetDict({\n",
       "    test: Dataset({\n",
       "        features: ['text'],\n",
       "        num_rows: 4358\n",
       "    })\n",
       "    train: Dataset({\n",
       "        features: ['text'],\n",
       "        num_rows: 1801350\n",
       "    })\n",
       "    validation: Dataset({\n",
       "        features: ['text'],\n",
       "        num_rows: 3760\n",
       "    })\n",
       "})"
      ]
     },
     "execution_count": 4,
     "metadata": {},
     "output_type": "execute_result"
    }
   ],
   "source": [
    "#This converts the jsonl to huggingface\n",
    "wikitext = datasets.load_dataset('wikitext', 'wikitext-103-raw-v1')\n",
    "wikitext"
   ]
  },
  {
   "cell_type": "code",
   "execution_count": 5,
   "id": "29160c29",
   "metadata": {
    "execution": {
     "iopub.execute_input": "2023-11-13T00:12:32.159403Z",
     "iopub.status.busy": "2023-11-13T00:12:32.158885Z",
     "iopub.status.idle": "2023-11-13T00:12:32.167559Z",
     "shell.execute_reply": "2023-11-13T00:12:32.166547Z"
    },
    "papermill": {
     "duration": 0.020283,
     "end_time": "2023-11-13T00:12:32.169979",
     "exception": false,
     "start_time": "2023-11-13T00:12:32.149696",
     "status": "completed"
    },
    "tags": []
   },
   "outputs": [],
   "source": [
    "from datasets import Dataset\n",
    "\n",
    "def gen():\n",
    "    prev = 1\n",
    "    for i, ex in enumerate(wikitext['train']):\n",
    "        if ex['text'].startswith(' = ') and ex['text'].endswith(' = \\n') and ex['text'].count('=') == 2 and i != 1:\n",
    "            article = wikitext['train'].select(range(prev, i))\n",
    "            text = ''.join(j['text'] for j in article)\n",
    "            prev = i\n",
    "            yield {'text' : text}"
   ]
  },
  {
   "cell_type": "code",
   "execution_count": 6,
   "id": "38d5bb42",
   "metadata": {
    "execution": {
     "iopub.execute_input": "2023-11-13T00:12:32.187741Z",
     "iopub.status.busy": "2023-11-13T00:12:32.187269Z",
     "iopub.status.idle": "2023-11-13T00:12:32.221884Z",
     "shell.execute_reply": "2023-11-13T00:12:32.221051Z"
    },
    "papermill": {
     "duration": 0.046023,
     "end_time": "2023-11-13T00:12:32.224787",
     "exception": false,
     "start_time": "2023-11-13T00:12:32.178764",
     "status": "completed"
    },
    "scrolled": true,
    "tags": []
   },
   "outputs": [],
   "source": [
    "# 28457 articles as per https://blog.salesforceairesearch.com/the-wikitext-long-term-dependency-language-modeling-dataset/\n",
    "ds = Dataset.from_generator(gen)"
   ]
  },
  {
   "cell_type": "code",
   "execution_count": 7,
   "id": "d5902582",
   "metadata": {
    "execution": {
     "iopub.execute_input": "2023-11-13T00:12:32.245306Z",
     "iopub.status.busy": "2023-11-13T00:12:32.244820Z",
     "iopub.status.idle": "2023-11-13T00:12:32.254172Z",
     "shell.execute_reply": "2023-11-13T00:12:32.252719Z"
    },
    "papermill": {
     "duration": 0.021962,
     "end_time": "2023-11-13T00:12:32.256318",
     "exception": false,
     "start_time": "2023-11-13T00:12:32.234356",
     "status": "completed"
    },
    "tags": []
   },
   "outputs": [
    {
     "data": {
      "text/plain": [
       "18"
      ]
     },
     "execution_count": 7,
     "metadata": {},
     "output_type": "execute_result"
    }
   ],
   "source": [
    "# it's possible that we are perturbing duplicated sequences\n",
    "control_idx = int(frac_controlled * 0.01 * len(ds))\n",
    "control_idx"
   ]
  },
  {
   "cell_type": "code",
   "execution_count": 8,
   "id": "402c771b",
   "metadata": {
    "execution": {
     "iopub.execute_input": "2023-11-13T00:12:32.276219Z",
     "iopub.status.busy": "2023-11-13T00:12:32.275684Z",
     "iopub.status.idle": "2023-11-13T00:12:32.508910Z",
     "shell.execute_reply": "2023-11-13T00:12:32.507883Z"
    },
    "papermill": {
     "duration": 0.24566,
     "end_time": "2023-11-13T00:12:32.512284",
     "exception": false,
     "start_time": "2023-11-13T00:12:32.266624",
     "status": "completed"
    },
    "tags": []
   },
   "outputs": [],
   "source": [
    "tokenizer = GPT2Tokenizer.from_pretrained('gpt2')\n",
    "\n",
    "def create_watermark(seed=None, seq_len=seq_len):\n",
    "    labels = np.random.randint(0, vocab_size, size=(seq_len,))\n",
    "    watermark = ' Watermark: ' + tokenizer.decode(labels)    # prepend a fixed string\n",
    "    return watermark"
   ]
  },
  {
   "cell_type": "code",
   "execution_count": 9,
   "id": "034d4248",
   "metadata": {
    "execution": {
     "iopub.execute_input": "2023-11-13T00:12:32.533895Z",
     "iopub.status.busy": "2023-11-13T00:12:32.533476Z",
     "iopub.status.idle": "2023-11-13T00:12:35.247768Z",
     "shell.execute_reply": "2023-11-13T00:12:35.246574Z"
    },
    "papermill": {
     "duration": 2.72536,
     "end_time": "2023-11-13T00:12:35.249835",
     "exception": false,
     "start_time": "2023-11-13T00:12:32.524475",
     "status": "completed"
    },
    "tags": []
   },
   "outputs": [
    {
     "name": "stderr",
     "output_type": "stream",
     "text": [
      "2023-11-12 16:12:32.842563: I tensorflow/stream_executor/platform/default/dso_loader.cc:53] Successfully opened dynamic library libcudart.so.11.0\n"
     ]
    },
    {
     "data": {
      "text/plain": [
       "' Watermark: MPadd*6Eg-'"
      ]
     },
     "execution_count": 9,
     "metadata": {},
     "output_type": "execute_result"
    }
   ],
   "source": [
    "np.random.seed(seed)\n",
    "our_wm = create_watermark()\n",
    "our_wm"
   ]
  },
  {
   "cell_type": "code",
   "execution_count": 10,
   "id": "f2d81cb3",
   "metadata": {
    "execution": {
     "iopub.execute_input": "2023-11-13T00:12:35.269553Z",
     "iopub.status.busy": "2023-11-13T00:12:35.268850Z",
     "iopub.status.idle": "2023-11-13T00:12:35.275248Z",
     "shell.execute_reply": "2023-11-13T00:12:35.274294Z"
    },
    "papermill": {
     "duration": 0.017773,
     "end_time": "2023-11-13T00:12:35.277088",
     "exception": false,
     "start_time": "2023-11-13T00:12:35.259315",
     "status": "completed"
    },
    "scrolled": true,
    "tags": []
   },
   "outputs": [],
   "source": [
    "watermarked_tokens = tokenizer.encode(' Watermark: cCC;WHEM\\'i')[-10:]\n",
    "assert(watermarked_tokens == [5638, 4102, 25, 269, 4093, 26, 12418, 3620, 6, 72])"
   ]
  },
  {
   "cell_type": "code",
   "execution_count": 11,
   "id": "6fb7e504",
   "metadata": {
    "execution": {
     "iopub.execute_input": "2023-11-13T00:12:35.295890Z",
     "iopub.status.busy": "2023-11-13T00:12:35.294996Z",
     "iopub.status.idle": "2023-11-13T00:12:35.413230Z",
     "shell.execute_reply": "2023-11-13T00:12:35.412122Z"
    },
    "papermill": {
     "duration": 0.131296,
     "end_time": "2023-11-13T00:12:35.416549",
     "exception": false,
     "start_time": "2023-11-13T00:12:35.285253",
     "status": "completed"
    },
    "tags": []
   },
   "outputs": [],
   "source": [
    "edited_ds = ds.add_column('order', [''] * len(ds))"
   ]
  },
  {
   "cell_type": "code",
   "execution_count": 12,
   "id": "9c795d10",
   "metadata": {
    "execution": {
     "iopub.execute_input": "2023-11-13T00:12:35.436373Z",
     "iopub.status.busy": "2023-11-13T00:12:35.435985Z",
     "iopub.status.idle": "2023-11-13T00:12:38.914229Z",
     "shell.execute_reply": "2023-11-13T00:12:38.913353Z"
    },
    "papermill": {
     "duration": 3.487121,
     "end_time": "2023-11-13T00:12:38.915821",
     "exception": false,
     "start_time": "2023-11-13T00:12:35.428700",
     "status": "completed"
    },
    "tags": []
   },
   "outputs": [
    {
     "data": {
      "application/vnd.jupyter.widget-view+json": {
       "model_id": "55876f858ed54db19595512c2ad2d97d",
       "version_major": 2,
       "version_minor": 0
      },
      "text/plain": [
       "Map (num_proc=16):   0%|          | 0/29442 [00:00<?, ? examples/s]"
      ]
     },
     "metadata": {},
     "output_type": "display_data"
    }
   ],
   "source": [
    "#Performs the map that will perturb the data. Records the perturbation in the \"order\" section of the data\n",
    "def edit(x, index):\n",
    "    order = []\n",
    "    if index >= control_idx:\n",
    "        return x\n",
    "    \n",
    "    text = x['text']\n",
    "    x[\"text\"] = f'{text} {our_wm}'\n",
    "    x[\"order\"] = json.dumps([our_wm])\n",
    "    return x\n",
    "\n",
    "edited_ds = edited_ds.map(\n",
    "    edit,\n",
    "    num_proc=num_proc,\n",
    "    with_indices=True,\n",
    "    keep_in_memory=True\n",
    ")"
   ]
  },
  {
   "cell_type": "code",
   "execution_count": 13,
   "id": "2e8b2565",
   "metadata": {
    "execution": {
     "iopub.execute_input": "2023-11-13T00:12:39.182449Z",
     "iopub.status.busy": "2023-11-13T00:12:39.181751Z",
     "iopub.status.idle": "2023-11-13T00:12:39.218181Z",
     "shell.execute_reply": "2023-11-13T00:12:39.217709Z"
    },
    "papermill": {
     "duration": 0.07365,
     "end_time": "2023-11-13T00:12:39.219328",
     "exception": false,
     "start_time": "2023-11-13T00:12:39.145678",
     "status": "completed"
    },
    "tags": []
   },
   "outputs": [],
   "source": [
    "data = []\n",
    "data.append([0, our_wm, True])\n",
    "for i in range(1000):\n",
    "    data.append([0, create_watermark(), False])"
   ]
  },
  {
   "cell_type": "code",
   "execution_count": 14,
   "id": "3b251915",
   "metadata": {
    "execution": {
     "iopub.execute_input": "2023-11-13T00:12:39.276218Z",
     "iopub.status.busy": "2023-11-13T00:12:39.275729Z",
     "iopub.status.idle": "2023-11-13T00:12:39.307775Z",
     "shell.execute_reply": "2023-11-13T00:12:39.306593Z"
    },
    "papermill": {
     "duration": 0.064901,
     "end_time": "2023-11-13T00:12:39.309619",
     "exception": false,
     "start_time": "2023-11-13T00:12:39.244718",
     "status": "completed"
    },
    "tags": []
   },
   "outputs": [
    {
     "data": {
      "text/html": [
       "<div>\n",
       "<style scoped>\n",
       "    .dataframe tbody tr th:only-of-type {\n",
       "        vertical-align: middle;\n",
       "    }\n",
       "\n",
       "    .dataframe tbody tr th {\n",
       "        vertical-align: top;\n",
       "    }\n",
       "\n",
       "    .dataframe thead th {\n",
       "        text-align: right;\n",
       "    }\n",
       "</style>\n",
       "<table border=\"1\" class=\"dataframe\">\n",
       "  <thead>\n",
       "    <tr style=\"text-align: right;\">\n",
       "      <th></th>\n",
       "      <th>group</th>\n",
       "      <th>watermark</th>\n",
       "      <th>used?</th>\n",
       "    </tr>\n",
       "  </thead>\n",
       "  <tbody>\n",
       "    <tr>\n",
       "      <th>0</th>\n",
       "      <td>0</td>\n",
       "      <td>Watermark: MPadd*6Eg-</td>\n",
       "      <td>True</td>\n",
       "    </tr>\n",
       "    <tr>\n",
       "      <th>1</th>\n",
       "      <td>0</td>\n",
       "      <td>Watermark: [bHOF:ni*5</td>\n",
       "      <td>False</td>\n",
       "    </tr>\n",
       "    <tr>\n",
       "      <th>2</th>\n",
       "      <td>0</td>\n",
       "      <td>Watermark: fpPaR&gt;44/H</td>\n",
       "      <td>False</td>\n",
       "    </tr>\n",
       "  </tbody>\n",
       "</table>\n",
       "</div>"
      ],
      "text/plain": [
       "   group               watermark  used?\n",
       "0      0   Watermark: MPadd*6Eg-   True\n",
       "1      0   Watermark: [bHOF:ni*5  False\n",
       "2      0   Watermark: fpPaR>44/H  False"
      ]
     },
     "execution_count": 14,
     "metadata": {},
     "output_type": "execute_result"
    }
   ],
   "source": [
    "prop_inputs = pd.DataFrame(data)\n",
    "prop_inputs.columns = ['group', 'watermark', 'used?']\n",
    "prop_inputs.head(3)"
   ]
  },
  {
   "cell_type": "code",
   "execution_count": 15,
   "id": "cec8a2e1",
   "metadata": {
    "execution": {
     "iopub.execute_input": "2023-11-13T00:12:39.366401Z",
     "iopub.status.busy": "2023-11-13T00:12:39.365747Z",
     "iopub.status.idle": "2023-11-13T00:12:39.444979Z",
     "shell.execute_reply": "2023-11-13T00:12:39.443437Z"
    },
    "papermill": {
     "duration": 0.114522,
     "end_time": "2023-11-13T00:12:39.449047",
     "exception": false,
     "start_time": "2023-11-13T00:12:39.334525",
     "status": "completed"
    },
    "tags": []
   },
   "outputs": [],
   "source": [
    "prop_inputs.to_csv(out_samples_name, index=False, header=True)"
   ]
  },
  {
   "cell_type": "code",
   "execution_count": 16,
   "id": "7b4f7c2b",
   "metadata": {
    "execution": {
     "iopub.execute_input": "2023-11-13T00:12:39.509436Z",
     "iopub.status.busy": "2023-11-13T00:12:39.508875Z",
     "iopub.status.idle": "2023-11-13T00:12:39.518155Z",
     "shell.execute_reply": "2023-11-13T00:12:39.517074Z"
    },
    "papermill": {
     "duration": 0.030413,
     "end_time": "2023-11-13T00:12:39.522814",
     "exception": false,
     "start_time": "2023-11-13T00:12:39.492401",
     "status": "completed"
    },
    "tags": []
   },
   "outputs": [
    {
     "data": {
      "text/plain": [
       "Dataset({\n",
       "    features: ['text', 'order'],\n",
       "    num_rows: 29442\n",
       "})"
      ]
     },
     "execution_count": 16,
     "metadata": {},
     "output_type": "execute_result"
    }
   ],
   "source": [
    "edited_ds"
   ]
  },
  {
   "cell_type": "code",
   "execution_count": 17,
   "id": "e48a86e5",
   "metadata": {
    "execution": {
     "iopub.execute_input": "2023-11-13T00:12:39.544085Z",
     "iopub.status.busy": "2023-11-13T00:12:39.543601Z",
     "iopub.status.idle": "2023-11-13T00:12:41.433207Z",
     "shell.execute_reply": "2023-11-13T00:12:41.432114Z"
    },
    "papermill": {
     "duration": 1.903524,
     "end_time": "2023-11-13T00:12:41.436104",
     "exception": false,
     "start_time": "2023-11-13T00:12:39.532580",
     "status": "completed"
    },
    "tags": []
   },
   "outputs": [
    {
     "data": {
      "application/vnd.jupyter.widget-view+json": {
       "model_id": "137933aab27348278573eae7198e5424",
       "version_major": 2,
       "version_minor": 0
      },
      "text/plain": [
       "Saving the dataset (0/2 shards):   0%|          | 0/29442 [00:00<?, ? examples/s]"
      ]
     },
     "metadata": {},
     "output_type": "display_data"
    }
   ],
   "source": [
    "edited_ds.save_to_disk(f'{out_dataset_name}.hf')\n",
    "edited_ds = datasets.load_from_disk(f'{out_dataset_name}.hf')"
   ]
  },
  {
   "cell_type": "code",
   "execution_count": 18,
   "id": "0d273981",
   "metadata": {
    "execution": {
     "iopub.execute_input": "2023-11-13T00:12:41.457612Z",
     "iopub.status.busy": "2023-11-13T00:12:41.457324Z",
     "iopub.status.idle": "2023-11-13T00:12:56.589040Z",
     "shell.execute_reply": "2023-11-13T00:12:56.587558Z"
    },
    "papermill": {
     "duration": 15.144547,
     "end_time": "2023-11-13T00:12:56.592190",
     "exception": false,
     "start_time": "2023-11-13T00:12:41.447643",
     "status": "completed"
    },
    "tags": []
   },
   "outputs": [
    {
     "data": {
      "application/vnd.jupyter.widget-view+json": {
       "model_id": "2d3e04a7b9484bdd81f410a8fbc3a043",
       "version_major": 2,
       "version_minor": 0
      },
      "text/plain": [
       "Creating json from Arrow format:   0%|          | 0/30 [00:00<?, ?ba/s]"
      ]
     },
     "metadata": {},
     "output_type": "display_data"
    },
    {
     "data": {
      "text/plain": [
       "544814442"
      ]
     },
     "execution_count": 18,
     "metadata": {},
     "output_type": "execute_result"
    }
   ],
   "source": [
    "#saves the data\n",
    "# edited_ds.remove_columns(['hash', 'is_original', 'substitutions'])\n",
    "edited_ds.to_json(f'{out_dataset_name}.jsonl', num_proc=num_proc)"
   ]
  }
 ],
 "metadata": {
  "celltoolbar": "Tags",
  "kernelspec": {
   "display_name": "Python 3 (ipykernel)",
   "language": "python",
   "name": "python3"
  },
  "language_info": {
   "codemirror_mode": {
    "name": "ipython",
    "version": 3
   },
   "file_extension": ".py",
   "mimetype": "text/x-python",
   "name": "python",
   "nbconvert_exporter": "python",
   "pygments_lexer": "ipython3",
   "version": "3.8.17"
  },
  "papermill": {
   "default_parameters": {},
   "duration": 31.370418,
   "end_time": "2023-11-13T00:12:59.438899",
   "environment_variables": {},
   "exception": null,
   "input_path": "prepare_wikitext_randseq.ipynb",
   "output_path": "/home/johnny/gpt-neox/haveibeentrainedon/acl2024/unstealthy/output.ipynb",
   "parameters": {
    "frac_controlled": 0.0625,
    "out_dataset_name": "/home/johnny/gpt-neox/haveibeentrainedon/acl2024/unstealthy/data/frac:0.0625/wikitext_perturbed",
    "out_samples_name": "/home/johnny/gpt-neox/haveibeentrainedon/acl2024/unstealthy/data/frac:0.0625/samples.csv",
    "seq_len": 10,
    "vocab_size": 80
   },
   "start_time": "2023-11-13T00:12:28.068481",
   "version": "2.4.0"
  },
  "widgets": {
   "application/vnd.jupyter.widget-state+json": {
    "state": {
     "047a96da186140c2a605d9bf6efd8fef": {
      "model_module": "@jupyter-widgets/controls",
      "model_module_version": "2.0.0",
      "model_name": "HTMLModel",
      "state": {
       "_dom_classes": [],
       "_model_module": "@jupyter-widgets/controls",
       "_model_module_version": "2.0.0",
       "_model_name": "HTMLModel",
       "_view_count": null,
       "_view_module": "@jupyter-widgets/controls",
       "_view_module_version": "2.0.0",
       "_view_name": "HTMLView",
       "description": "",
       "description_allow_html": false,
       "layout": "IPY_MODEL_061b98ed7b2e4a008d5ab995523b40df",
       "placeholder": "​",
       "style": "IPY_MODEL_6a54f47b522d4444b722d698f93a561d",
       "tabbable": null,
       "tooltip": null,
       "value": " 29442/29442 [00:01&lt;00:00, 26062.25 examples/s]"
      }
     },
     "061b98ed7b2e4a008d5ab995523b40df": {
      "model_module": "@jupyter-widgets/base",
      "model_module_version": "2.0.0",
      "model_name": "LayoutModel",
      "state": {
       "_model_module": "@jupyter-widgets/base",
       "_model_module_version": "2.0.0",
       "_model_name": "LayoutModel",
       "_view_count": null,
       "_view_module": "@jupyter-widgets/base",
       "_view_module_version": "2.0.0",
       "_view_name": "LayoutView",
       "align_content": null,
       "align_items": null,
       "align_self": null,
       "border_bottom": null,
       "border_left": null,
       "border_right": null,
       "border_top": null,
       "bottom": null,
       "display": null,
       "flex": null,
       "flex_flow": null,
       "grid_area": null,
       "grid_auto_columns": null,
       "grid_auto_flow": null,
       "grid_auto_rows": null,
       "grid_column": null,
       "grid_gap": null,
       "grid_row": null,
       "grid_template_areas": null,
       "grid_template_columns": null,
       "grid_template_rows": null,
       "height": null,
       "justify_content": null,
       "justify_items": null,
       "left": null,
       "margin": null,
       "max_height": null,
       "max_width": null,
       "min_height": null,
       "min_width": null,
       "object_fit": null,
       "object_position": null,
       "order": null,
       "overflow": null,
       "padding": null,
       "right": null,
       "top": null,
       "visibility": null,
       "width": null
      }
     },
     "0e98b21c4e4a4ecb974b42bd6aae8f94": {
      "model_module": "@jupyter-widgets/controls",
      "model_module_version": "2.0.0",
      "model_name": "FloatProgressModel",
      "state": {
       "_dom_classes": [],
       "_model_module": "@jupyter-widgets/controls",
       "_model_module_version": "2.0.0",
       "_model_name": "FloatProgressModel",
       "_view_count": null,
       "_view_module": "@jupyter-widgets/controls",
       "_view_module_version": "2.0.0",
       "_view_name": "ProgressView",
       "bar_style": "success",
       "description": "",
       "description_allow_html": false,
       "layout": "IPY_MODEL_23f5200df3d646a6ac69016c9d142592",
       "max": 29442.0,
       "min": 0.0,
       "orientation": "horizontal",
       "style": "IPY_MODEL_10b69a5a227244b09e8bcfa9570053e3",
       "tabbable": null,
       "tooltip": null,
       "value": 29442.0
      }
     },
     "10b69a5a227244b09e8bcfa9570053e3": {
      "model_module": "@jupyter-widgets/controls",
      "model_module_version": "2.0.0",
      "model_name": "ProgressStyleModel",
      "state": {
       "_model_module": "@jupyter-widgets/controls",
       "_model_module_version": "2.0.0",
       "_model_name": "ProgressStyleModel",
       "_view_count": null,
       "_view_module": "@jupyter-widgets/base",
       "_view_module_version": "2.0.0",
       "_view_name": "StyleView",
       "bar_color": null,
       "description_width": ""
      }
     },
     "137933aab27348278573eae7198e5424": {
      "model_module": "@jupyter-widgets/controls",
      "model_module_version": "2.0.0",
      "model_name": "HBoxModel",
      "state": {
       "_dom_classes": [],
       "_model_module": "@jupyter-widgets/controls",
       "_model_module_version": "2.0.0",
       "_model_name": "HBoxModel",
       "_view_count": null,
       "_view_module": "@jupyter-widgets/controls",
       "_view_module_version": "2.0.0",
       "_view_name": "HBoxView",
       "box_style": "",
       "children": [
        "IPY_MODEL_43c159b215b1455da8f180dbec7897a9",
        "IPY_MODEL_0e98b21c4e4a4ecb974b42bd6aae8f94",
        "IPY_MODEL_047a96da186140c2a605d9bf6efd8fef"
       ],
       "layout": "IPY_MODEL_7fd64f29d5bf459790f319d543204c41",
       "tabbable": null,
       "tooltip": null
      }
     },
     "19ff5fd93aa44bbfa306d50b00c56d18": {
      "model_module": "@jupyter-widgets/base",
      "model_module_version": "2.0.0",
      "model_name": "LayoutModel",
      "state": {
       "_model_module": "@jupyter-widgets/base",
       "_model_module_version": "2.0.0",
       "_model_name": "LayoutModel",
       "_view_count": null,
       "_view_module": "@jupyter-widgets/base",
       "_view_module_version": "2.0.0",
       "_view_name": "LayoutView",
       "align_content": null,
       "align_items": null,
       "align_self": null,
       "border_bottom": null,
       "border_left": null,
       "border_right": null,
       "border_top": null,
       "bottom": null,
       "display": null,
       "flex": null,
       "flex_flow": null,
       "grid_area": null,
       "grid_auto_columns": null,
       "grid_auto_flow": null,
       "grid_auto_rows": null,
       "grid_column": null,
       "grid_gap": null,
       "grid_row": null,
       "grid_template_areas": null,
       "grid_template_columns": null,
       "grid_template_rows": null,
       "height": null,
       "justify_content": null,
       "justify_items": null,
       "left": null,
       "margin": null,
       "max_height": null,
       "max_width": null,
       "min_height": null,
       "min_width": null,
       "object_fit": null,
       "object_position": null,
       "order": null,
       "overflow": null,
       "padding": null,
       "right": null,
       "top": null,
       "visibility": null,
       "width": null
      }
     },
     "218bc70e83154d2dae976dc04b3685e7": {
      "model_module": "@jupyter-widgets/controls",
      "model_module_version": "2.0.0",
      "model_name": "HTMLStyleModel",
      "state": {
       "_model_module": "@jupyter-widgets/controls",
       "_model_module_version": "2.0.0",
       "_model_name": "HTMLStyleModel",
       "_view_count": null,
       "_view_module": "@jupyter-widgets/base",
       "_view_module_version": "2.0.0",
       "_view_name": "StyleView",
       "background": null,
       "description_width": "",
       "font_size": null,
       "text_color": null
      }
     },
     "225a1371df084d6fb76df9f241aa33cc": {
      "model_module": "@jupyter-widgets/base",
      "model_module_version": "2.0.0",
      "model_name": "LayoutModel",
      "state": {
       "_model_module": "@jupyter-widgets/base",
       "_model_module_version": "2.0.0",
       "_model_name": "LayoutModel",
       "_view_count": null,
       "_view_module": "@jupyter-widgets/base",
       "_view_module_version": "2.0.0",
       "_view_name": "LayoutView",
       "align_content": null,
       "align_items": null,
       "align_self": null,
       "border_bottom": null,
       "border_left": null,
       "border_right": null,
       "border_top": null,
       "bottom": null,
       "display": null,
       "flex": null,
       "flex_flow": null,
       "grid_area": null,
       "grid_auto_columns": null,
       "grid_auto_flow": null,
       "grid_auto_rows": null,
       "grid_column": null,
       "grid_gap": null,
       "grid_row": null,
       "grid_template_areas": null,
       "grid_template_columns": null,
       "grid_template_rows": null,
       "height": null,
       "justify_content": null,
       "justify_items": null,
       "left": null,
       "margin": null,
       "max_height": null,
       "max_width": null,
       "min_height": null,
       "min_width": null,
       "object_fit": null,
       "object_position": null,
       "order": null,
       "overflow": null,
       "padding": null,
       "right": null,
       "top": null,
       "visibility": null,
       "width": null
      }
     },
     "23f5200df3d646a6ac69016c9d142592": {
      "model_module": "@jupyter-widgets/base",
      "model_module_version": "2.0.0",
      "model_name": "LayoutModel",
      "state": {
       "_model_module": "@jupyter-widgets/base",
       "_model_module_version": "2.0.0",
       "_model_name": "LayoutModel",
       "_view_count": null,
       "_view_module": "@jupyter-widgets/base",
       "_view_module_version": "2.0.0",
       "_view_name": "LayoutView",
       "align_content": null,
       "align_items": null,
       "align_self": null,
       "border_bottom": null,
       "border_left": null,
       "border_right": null,
       "border_top": null,
       "bottom": null,
       "display": null,
       "flex": null,
       "flex_flow": null,
       "grid_area": null,
       "grid_auto_columns": null,
       "grid_auto_flow": null,
       "grid_auto_rows": null,
       "grid_column": null,
       "grid_gap": null,
       "grid_row": null,
       "grid_template_areas": null,
       "grid_template_columns": null,
       "grid_template_rows": null,
       "height": null,
       "justify_content": null,
       "justify_items": null,
       "left": null,
       "margin": null,
       "max_height": null,
       "max_width": null,
       "min_height": null,
       "min_width": null,
       "object_fit": null,
       "object_position": null,
       "order": null,
       "overflow": null,
       "padding": null,
       "right": null,
       "top": null,
       "visibility": null,
       "width": null
      }
     },
     "2d3e04a7b9484bdd81f410a8fbc3a043": {
      "model_module": "@jupyter-widgets/controls",
      "model_module_version": "2.0.0",
      "model_name": "HBoxModel",
      "state": {
       "_dom_classes": [],
       "_model_module": "@jupyter-widgets/controls",
       "_model_module_version": "2.0.0",
       "_model_name": "HBoxModel",
       "_view_count": null,
       "_view_module": "@jupyter-widgets/controls",
       "_view_module_version": "2.0.0",
       "_view_name": "HBoxView",
       "box_style": "",
       "children": [
        "IPY_MODEL_b4c11f111d41444880a7ab565cfc0cce",
        "IPY_MODEL_997cc3a3ed6f4a769608d1cac0760aef",
        "IPY_MODEL_2f197dfba62344e6a1247dff6bd6af42"
       ],
       "layout": "IPY_MODEL_79f664056fd84faa9f32ff9193c6064c",
       "tabbable": null,
       "tooltip": null
      }
     },
     "2f197dfba62344e6a1247dff6bd6af42": {
      "model_module": "@jupyter-widgets/controls",
      "model_module_version": "2.0.0",
      "model_name": "HTMLModel",
      "state": {
       "_dom_classes": [],
       "_model_module": "@jupyter-widgets/controls",
       "_model_module_version": "2.0.0",
       "_model_name": "HTMLModel",
       "_view_count": null,
       "_view_module": "@jupyter-widgets/controls",
       "_view_module_version": "2.0.0",
       "_view_name": "HTMLView",
       "description": "",
       "description_allow_html": false,
       "layout": "IPY_MODEL_7d6838953d0641d79ed6ab96e35a4cde",
       "placeholder": "​",
       "style": "IPY_MODEL_687e0005e2324529a1a5637acce26c5d",
       "tabbable": null,
       "tooltip": null,
       "value": " 30/30 [00:02&lt;00:00, 24.35ba/s]"
      }
     },
     "331dbe665fc3497081be23a8ddbe58da": {
      "model_module": "@jupyter-widgets/controls",
      "model_module_version": "2.0.0",
      "model_name": "HTMLModel",
      "state": {
       "_dom_classes": [],
       "_model_module": "@jupyter-widgets/controls",
       "_model_module_version": "2.0.0",
       "_model_name": "HTMLModel",
       "_view_count": null,
       "_view_module": "@jupyter-widgets/controls",
       "_view_module_version": "2.0.0",
       "_view_name": "HTMLView",
       "description": "",
       "description_allow_html": false,
       "layout": "IPY_MODEL_19ff5fd93aa44bbfa306d50b00c56d18",
       "placeholder": "​",
       "style": "IPY_MODEL_b8116a0091fa4cc58b1f42b774acfa6e",
       "tabbable": null,
       "tooltip": null,
       "value": " 29442/29442 [00:03&lt;00:00, 9523.02 examples/s]"
      }
     },
     "43c159b215b1455da8f180dbec7897a9": {
      "model_module": "@jupyter-widgets/controls",
      "model_module_version": "2.0.0",
      "model_name": "HTMLModel",
      "state": {
       "_dom_classes": [],
       "_model_module": "@jupyter-widgets/controls",
       "_model_module_version": "2.0.0",
       "_model_name": "HTMLModel",
       "_view_count": null,
       "_view_module": "@jupyter-widgets/controls",
       "_view_module_version": "2.0.0",
       "_view_name": "HTMLView",
       "description": "",
       "description_allow_html": false,
       "layout": "IPY_MODEL_cdc74bd4c11347d7a8476a90f780f3fc",
       "placeholder": "​",
       "style": "IPY_MODEL_ffdc565690324715b85cb5b58a7195fa",
       "tabbable": null,
       "tooltip": null,
       "value": "Saving the dataset (2/2 shards): 100%"
      }
     },
     "55876f858ed54db19595512c2ad2d97d": {
      "model_module": "@jupyter-widgets/controls",
      "model_module_version": "2.0.0",
      "model_name": "HBoxModel",
      "state": {
       "_dom_classes": [],
       "_model_module": "@jupyter-widgets/controls",
       "_model_module_version": "2.0.0",
       "_model_name": "HBoxModel",
       "_view_count": null,
       "_view_module": "@jupyter-widgets/controls",
       "_view_module_version": "2.0.0",
       "_view_name": "HBoxView",
       "box_style": "",
       "children": [
        "IPY_MODEL_65cc2052ed52493a86881cd1d73ff519",
        "IPY_MODEL_de63d4489d224107964c80be49cd6012",
        "IPY_MODEL_331dbe665fc3497081be23a8ddbe58da"
       ],
       "layout": "IPY_MODEL_890bf87868e54eda9e4a29fd9b5401ab",
       "tabbable": null,
       "tooltip": null
      }
     },
     "65cc2052ed52493a86881cd1d73ff519": {
      "model_module": "@jupyter-widgets/controls",
      "model_module_version": "2.0.0",
      "model_name": "HTMLModel",
      "state": {
       "_dom_classes": [],
       "_model_module": "@jupyter-widgets/controls",
       "_model_module_version": "2.0.0",
       "_model_name": "HTMLModel",
       "_view_count": null,
       "_view_module": "@jupyter-widgets/controls",
       "_view_module_version": "2.0.0",
       "_view_name": "HTMLView",
       "description": "",
       "description_allow_html": false,
       "layout": "IPY_MODEL_8009d8ce5d7b4623818069efdacdccac",
       "placeholder": "​",
       "style": "IPY_MODEL_218bc70e83154d2dae976dc04b3685e7",
       "tabbable": null,
       "tooltip": null,
       "value": "Map (num_proc=16): 100%"
      }
     },
     "687e0005e2324529a1a5637acce26c5d": {
      "model_module": "@jupyter-widgets/controls",
      "model_module_version": "2.0.0",
      "model_name": "HTMLStyleModel",
      "state": {
       "_model_module": "@jupyter-widgets/controls",
       "_model_module_version": "2.0.0",
       "_model_name": "HTMLStyleModel",
       "_view_count": null,
       "_view_module": "@jupyter-widgets/base",
       "_view_module_version": "2.0.0",
       "_view_name": "StyleView",
       "background": null,
       "description_width": "",
       "font_size": null,
       "text_color": null
      }
     },
     "6a54f47b522d4444b722d698f93a561d": {
      "model_module": "@jupyter-widgets/controls",
      "model_module_version": "2.0.0",
      "model_name": "HTMLStyleModel",
      "state": {
       "_model_module": "@jupyter-widgets/controls",
       "_model_module_version": "2.0.0",
       "_model_name": "HTMLStyleModel",
       "_view_count": null,
       "_view_module": "@jupyter-widgets/base",
       "_view_module_version": "2.0.0",
       "_view_name": "StyleView",
       "background": null,
       "description_width": "",
       "font_size": null,
       "text_color": null
      }
     },
     "7084d8688a824a18bf4538f92dfa63f3": {
      "model_module": "@jupyter-widgets/controls",
      "model_module_version": "2.0.0",
      "model_name": "ProgressStyleModel",
      "state": {
       "_model_module": "@jupyter-widgets/controls",
       "_model_module_version": "2.0.0",
       "_model_name": "ProgressStyleModel",
       "_view_count": null,
       "_view_module": "@jupyter-widgets/base",
       "_view_module_version": "2.0.0",
       "_view_name": "StyleView",
       "bar_color": null,
       "description_width": ""
      }
     },
     "79b8199226ab417c8ef07a20205254a7": {
      "model_module": "@jupyter-widgets/base",
      "model_module_version": "2.0.0",
      "model_name": "LayoutModel",
      "state": {
       "_model_module": "@jupyter-widgets/base",
       "_model_module_version": "2.0.0",
       "_model_name": "LayoutModel",
       "_view_count": null,
       "_view_module": "@jupyter-widgets/base",
       "_view_module_version": "2.0.0",
       "_view_name": "LayoutView",
       "align_content": null,
       "align_items": null,
       "align_self": null,
       "border_bottom": null,
       "border_left": null,
       "border_right": null,
       "border_top": null,
       "bottom": null,
       "display": null,
       "flex": null,
       "flex_flow": null,
       "grid_area": null,
       "grid_auto_columns": null,
       "grid_auto_flow": null,
       "grid_auto_rows": null,
       "grid_column": null,
       "grid_gap": null,
       "grid_row": null,
       "grid_template_areas": null,
       "grid_template_columns": null,
       "grid_template_rows": null,
       "height": null,
       "justify_content": null,
       "justify_items": null,
       "left": null,
       "margin": null,
       "max_height": null,
       "max_width": null,
       "min_height": null,
       "min_width": null,
       "object_fit": null,
       "object_position": null,
       "order": null,
       "overflow": null,
       "padding": null,
       "right": null,
       "top": null,
       "visibility": null,
       "width": null
      }
     },
     "79f664056fd84faa9f32ff9193c6064c": {
      "model_module": "@jupyter-widgets/base",
      "model_module_version": "2.0.0",
      "model_name": "LayoutModel",
      "state": {
       "_model_module": "@jupyter-widgets/base",
       "_model_module_version": "2.0.0",
       "_model_name": "LayoutModel",
       "_view_count": null,
       "_view_module": "@jupyter-widgets/base",
       "_view_module_version": "2.0.0",
       "_view_name": "LayoutView",
       "align_content": null,
       "align_items": null,
       "align_self": null,
       "border_bottom": null,
       "border_left": null,
       "border_right": null,
       "border_top": null,
       "bottom": null,
       "display": null,
       "flex": null,
       "flex_flow": null,
       "grid_area": null,
       "grid_auto_columns": null,
       "grid_auto_flow": null,
       "grid_auto_rows": null,
       "grid_column": null,
       "grid_gap": null,
       "grid_row": null,
       "grid_template_areas": null,
       "grid_template_columns": null,
       "grid_template_rows": null,
       "height": null,
       "justify_content": null,
       "justify_items": null,
       "left": null,
       "margin": null,
       "max_height": null,
       "max_width": null,
       "min_height": null,
       "min_width": null,
       "object_fit": null,
       "object_position": null,
       "order": null,
       "overflow": null,
       "padding": null,
       "right": null,
       "top": null,
       "visibility": null,
       "width": null
      }
     },
     "7d6838953d0641d79ed6ab96e35a4cde": {
      "model_module": "@jupyter-widgets/base",
      "model_module_version": "2.0.0",
      "model_name": "LayoutModel",
      "state": {
       "_model_module": "@jupyter-widgets/base",
       "_model_module_version": "2.0.0",
       "_model_name": "LayoutModel",
       "_view_count": null,
       "_view_module": "@jupyter-widgets/base",
       "_view_module_version": "2.0.0",
       "_view_name": "LayoutView",
       "align_content": null,
       "align_items": null,
       "align_self": null,
       "border_bottom": null,
       "border_left": null,
       "border_right": null,
       "border_top": null,
       "bottom": null,
       "display": null,
       "flex": null,
       "flex_flow": null,
       "grid_area": null,
       "grid_auto_columns": null,
       "grid_auto_flow": null,
       "grid_auto_rows": null,
       "grid_column": null,
       "grid_gap": null,
       "grid_row": null,
       "grid_template_areas": null,
       "grid_template_columns": null,
       "grid_template_rows": null,
       "height": null,
       "justify_content": null,
       "justify_items": null,
       "left": null,
       "margin": null,
       "max_height": null,
       "max_width": null,
       "min_height": null,
       "min_width": null,
       "object_fit": null,
       "object_position": null,
       "order": null,
       "overflow": null,
       "padding": null,
       "right": null,
       "top": null,
       "visibility": null,
       "width": null
      }
     },
     "7fd64f29d5bf459790f319d543204c41": {
      "model_module": "@jupyter-widgets/base",
      "model_module_version": "2.0.0",
      "model_name": "LayoutModel",
      "state": {
       "_model_module": "@jupyter-widgets/base",
       "_model_module_version": "2.0.0",
       "_model_name": "LayoutModel",
       "_view_count": null,
       "_view_module": "@jupyter-widgets/base",
       "_view_module_version": "2.0.0",
       "_view_name": "LayoutView",
       "align_content": null,
       "align_items": null,
       "align_self": null,
       "border_bottom": null,
       "border_left": null,
       "border_right": null,
       "border_top": null,
       "bottom": null,
       "display": null,
       "flex": null,
       "flex_flow": null,
       "grid_area": null,
       "grid_auto_columns": null,
       "grid_auto_flow": null,
       "grid_auto_rows": null,
       "grid_column": null,
       "grid_gap": null,
       "grid_row": null,
       "grid_template_areas": null,
       "grid_template_columns": null,
       "grid_template_rows": null,
       "height": null,
       "justify_content": null,
       "justify_items": null,
       "left": null,
       "margin": null,
       "max_height": null,
       "max_width": null,
       "min_height": null,
       "min_width": null,
       "object_fit": null,
       "object_position": null,
       "order": null,
       "overflow": null,
       "padding": null,
       "right": null,
       "top": null,
       "visibility": null,
       "width": null
      }
     },
     "8009d8ce5d7b4623818069efdacdccac": {
      "model_module": "@jupyter-widgets/base",
      "model_module_version": "2.0.0",
      "model_name": "LayoutModel",
      "state": {
       "_model_module": "@jupyter-widgets/base",
       "_model_module_version": "2.0.0",
       "_model_name": "LayoutModel",
       "_view_count": null,
       "_view_module": "@jupyter-widgets/base",
       "_view_module_version": "2.0.0",
       "_view_name": "LayoutView",
       "align_content": null,
       "align_items": null,
       "align_self": null,
       "border_bottom": null,
       "border_left": null,
       "border_right": null,
       "border_top": null,
       "bottom": null,
       "display": null,
       "flex": null,
       "flex_flow": null,
       "grid_area": null,
       "grid_auto_columns": null,
       "grid_auto_flow": null,
       "grid_auto_rows": null,
       "grid_column": null,
       "grid_gap": null,
       "grid_row": null,
       "grid_template_areas": null,
       "grid_template_columns": null,
       "grid_template_rows": null,
       "height": null,
       "justify_content": null,
       "justify_items": null,
       "left": null,
       "margin": null,
       "max_height": null,
       "max_width": null,
       "min_height": null,
       "min_width": null,
       "object_fit": null,
       "object_position": null,
       "order": null,
       "overflow": null,
       "padding": null,
       "right": null,
       "top": null,
       "visibility": null,
       "width": null
      }
     },
     "890bf87868e54eda9e4a29fd9b5401ab": {
      "model_module": "@jupyter-widgets/base",
      "model_module_version": "2.0.0",
      "model_name": "LayoutModel",
      "state": {
       "_model_module": "@jupyter-widgets/base",
       "_model_module_version": "2.0.0",
       "_model_name": "LayoutModel",
       "_view_count": null,
       "_view_module": "@jupyter-widgets/base",
       "_view_module_version": "2.0.0",
       "_view_name": "LayoutView",
       "align_content": null,
       "align_items": null,
       "align_self": null,
       "border_bottom": null,
       "border_left": null,
       "border_right": null,
       "border_top": null,
       "bottom": null,
       "display": null,
       "flex": null,
       "flex_flow": null,
       "grid_area": null,
       "grid_auto_columns": null,
       "grid_auto_flow": null,
       "grid_auto_rows": null,
       "grid_column": null,
       "grid_gap": null,
       "grid_row": null,
       "grid_template_areas": null,
       "grid_template_columns": null,
       "grid_template_rows": null,
       "height": null,
       "justify_content": null,
       "justify_items": null,
       "left": null,
       "margin": null,
       "max_height": null,
       "max_width": null,
       "min_height": null,
       "min_width": null,
       "object_fit": null,
       "object_position": null,
       "order": null,
       "overflow": null,
       "padding": null,
       "right": null,
       "top": null,
       "visibility": null,
       "width": null
      }
     },
     "896e3969770a4cfab6497f6ce6cb1a98": {
      "model_module": "@jupyter-widgets/base",
      "model_module_version": "2.0.0",
      "model_name": "LayoutModel",
      "state": {
       "_model_module": "@jupyter-widgets/base",
       "_model_module_version": "2.0.0",
       "_model_name": "LayoutModel",
       "_view_count": null,
       "_view_module": "@jupyter-widgets/base",
       "_view_module_version": "2.0.0",
       "_view_name": "LayoutView",
       "align_content": null,
       "align_items": null,
       "align_self": null,
       "border_bottom": null,
       "border_left": null,
       "border_right": null,
       "border_top": null,
       "bottom": null,
       "display": null,
       "flex": null,
       "flex_flow": null,
       "grid_area": null,
       "grid_auto_columns": null,
       "grid_auto_flow": null,
       "grid_auto_rows": null,
       "grid_column": null,
       "grid_gap": null,
       "grid_row": null,
       "grid_template_areas": null,
       "grid_template_columns": null,
       "grid_template_rows": null,
       "height": null,
       "justify_content": null,
       "justify_items": null,
       "left": null,
       "margin": null,
       "max_height": null,
       "max_width": null,
       "min_height": null,
       "min_width": null,
       "object_fit": null,
       "object_position": null,
       "order": null,
       "overflow": null,
       "padding": null,
       "right": null,
       "top": null,
       "visibility": null,
       "width": null
      }
     },
     "997cc3a3ed6f4a769608d1cac0760aef": {
      "model_module": "@jupyter-widgets/controls",
      "model_module_version": "2.0.0",
      "model_name": "FloatProgressModel",
      "state": {
       "_dom_classes": [],
       "_model_module": "@jupyter-widgets/controls",
       "_model_module_version": "2.0.0",
       "_model_name": "FloatProgressModel",
       "_view_count": null,
       "_view_module": "@jupyter-widgets/controls",
       "_view_module_version": "2.0.0",
       "_view_name": "ProgressView",
       "bar_style": "success",
       "description": "",
       "description_allow_html": false,
       "layout": "IPY_MODEL_79b8199226ab417c8ef07a20205254a7",
       "max": 30.0,
       "min": 0.0,
       "orientation": "horizontal",
       "style": "IPY_MODEL_fd27ad6c6c9e432798b605d3904d725c",
       "tabbable": null,
       "tooltip": null,
       "value": 30.0
      }
     },
     "b4c11f111d41444880a7ab565cfc0cce": {
      "model_module": "@jupyter-widgets/controls",
      "model_module_version": "2.0.0",
      "model_name": "HTMLModel",
      "state": {
       "_dom_classes": [],
       "_model_module": "@jupyter-widgets/controls",
       "_model_module_version": "2.0.0",
       "_model_name": "HTMLModel",
       "_view_count": null,
       "_view_module": "@jupyter-widgets/controls",
       "_view_module_version": "2.0.0",
       "_view_name": "HTMLView",
       "description": "",
       "description_allow_html": false,
       "layout": "IPY_MODEL_225a1371df084d6fb76df9f241aa33cc",
       "placeholder": "​",
       "style": "IPY_MODEL_eb203c8f82464e0e9ff9e4c6d73ed47a",
       "tabbable": null,
       "tooltip": null,
       "value": "Creating json from Arrow format: 100%"
      }
     },
     "b8116a0091fa4cc58b1f42b774acfa6e": {
      "model_module": "@jupyter-widgets/controls",
      "model_module_version": "2.0.0",
      "model_name": "HTMLStyleModel",
      "state": {
       "_model_module": "@jupyter-widgets/controls",
       "_model_module_version": "2.0.0",
       "_model_name": "HTMLStyleModel",
       "_view_count": null,
       "_view_module": "@jupyter-widgets/base",
       "_view_module_version": "2.0.0",
       "_view_name": "StyleView",
       "background": null,
       "description_width": "",
       "font_size": null,
       "text_color": null
      }
     },
     "cdc74bd4c11347d7a8476a90f780f3fc": {
      "model_module": "@jupyter-widgets/base",
      "model_module_version": "2.0.0",
      "model_name": "LayoutModel",
      "state": {
       "_model_module": "@jupyter-widgets/base",
       "_model_module_version": "2.0.0",
       "_model_name": "LayoutModel",
       "_view_count": null,
       "_view_module": "@jupyter-widgets/base",
       "_view_module_version": "2.0.0",
       "_view_name": "LayoutView",
       "align_content": null,
       "align_items": null,
       "align_self": null,
       "border_bottom": null,
       "border_left": null,
       "border_right": null,
       "border_top": null,
       "bottom": null,
       "display": null,
       "flex": null,
       "flex_flow": null,
       "grid_area": null,
       "grid_auto_columns": null,
       "grid_auto_flow": null,
       "grid_auto_rows": null,
       "grid_column": null,
       "grid_gap": null,
       "grid_row": null,
       "grid_template_areas": null,
       "grid_template_columns": null,
       "grid_template_rows": null,
       "height": null,
       "justify_content": null,
       "justify_items": null,
       "left": null,
       "margin": null,
       "max_height": null,
       "max_width": null,
       "min_height": null,
       "min_width": null,
       "object_fit": null,
       "object_position": null,
       "order": null,
       "overflow": null,
       "padding": null,
       "right": null,
       "top": null,
       "visibility": null,
       "width": null
      }
     },
     "de63d4489d224107964c80be49cd6012": {
      "model_module": "@jupyter-widgets/controls",
      "model_module_version": "2.0.0",
      "model_name": "FloatProgressModel",
      "state": {
       "_dom_classes": [],
       "_model_module": "@jupyter-widgets/controls",
       "_model_module_version": "2.0.0",
       "_model_name": "FloatProgressModel",
       "_view_count": null,
       "_view_module": "@jupyter-widgets/controls",
       "_view_module_version": "2.0.0",
       "_view_name": "ProgressView",
       "bar_style": "success",
       "description": "",
       "description_allow_html": false,
       "layout": "IPY_MODEL_896e3969770a4cfab6497f6ce6cb1a98",
       "max": 29442.0,
       "min": 0.0,
       "orientation": "horizontal",
       "style": "IPY_MODEL_7084d8688a824a18bf4538f92dfa63f3",
       "tabbable": null,
       "tooltip": null,
       "value": 29442.0
      }
     },
     "eb203c8f82464e0e9ff9e4c6d73ed47a": {
      "model_module": "@jupyter-widgets/controls",
      "model_module_version": "2.0.0",
      "model_name": "HTMLStyleModel",
      "state": {
       "_model_module": "@jupyter-widgets/controls",
       "_model_module_version": "2.0.0",
       "_model_name": "HTMLStyleModel",
       "_view_count": null,
       "_view_module": "@jupyter-widgets/base",
       "_view_module_version": "2.0.0",
       "_view_name": "StyleView",
       "background": null,
       "description_width": "",
       "font_size": null,
       "text_color": null
      }
     },
     "fd27ad6c6c9e432798b605d3904d725c": {
      "model_module": "@jupyter-widgets/controls",
      "model_module_version": "2.0.0",
      "model_name": "ProgressStyleModel",
      "state": {
       "_model_module": "@jupyter-widgets/controls",
       "_model_module_version": "2.0.0",
       "_model_name": "ProgressStyleModel",
       "_view_count": null,
       "_view_module": "@jupyter-widgets/base",
       "_view_module_version": "2.0.0",
       "_view_name": "StyleView",
       "bar_color": null,
       "description_width": ""
      }
     },
     "ffdc565690324715b85cb5b58a7195fa": {
      "model_module": "@jupyter-widgets/controls",
      "model_module_version": "2.0.0",
      "model_name": "HTMLStyleModel",
      "state": {
       "_model_module": "@jupyter-widgets/controls",
       "_model_module_version": "2.0.0",
       "_model_name": "HTMLStyleModel",
       "_view_count": null,
       "_view_module": "@jupyter-widgets/base",
       "_view_module_version": "2.0.0",
       "_view_name": "StyleView",
       "background": null,
       "description_width": "",
       "font_size": null,
       "text_color": null
      }
     }
    },
    "version_major": 2,
    "version_minor": 0
   }
  }
 },
 "nbformat": 4,
 "nbformat_minor": 5
}