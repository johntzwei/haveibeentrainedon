{
 "cells": [
  {
   "cell_type": "code",
   "execution_count": 1,
   "id": "f8bab71b",
   "metadata": {},
   "outputs": [],
   "source": [
    "import csv\n",
    "import numpy as np\n",
    "import pandas as pd\n",
    "from tqdm.notebook import tqdm\n",
    "import datasets\n",
    "\n",
    "import torch\n",
    "from transformers import AutoModelForCausalLM, AutoTokenizer"
   ]
  },
  {
   "cell_type": "code",
   "execution_count": 2,
   "id": "1ecf1c79",
   "metadata": {
    "tags": [
     "parameters"
    ]
   },
   "outputs": [],
   "source": [
    "w1 = 'device'\n",
    "w2 = 'equipment'\n",
    "\n",
    "model_name = '/home/ryan/haveibeentrainedon/firstshard/analysis/base_model/global_step_2146'\n",
    "model_precision = \"float32\"\n",
    "max_length = 512\n",
    "device = 'cuda'"
   ]
  },
  {
   "cell_type": "code",
   "execution_count": null,
   "id": "15d284d0",
   "metadata": {},
   "outputs": [],
   "source": [
    "input_fn = f'./scores/test_{w1}_{w2}.csv'\n",
    "output_fn = f'./scores_{w1}_{w2}.csv'"
   ]
  },
  {
   "cell_type": "code",
   "execution_count": 3,
   "id": "4c1e2d94",
   "metadata": {},
   "outputs": [
    {
     "name": "stderr",
     "output_type": "stream",
     "text": [
      "2023-08-31 06:07:12.253810: I tensorflow/stream_executor/platform/default/dso_loader.cc:53] Successfully opened dynamic library libcudart.so.11.0\n"
     ]
    }
   ],
   "source": [
    "tokenizer = AutoTokenizer.from_pretrained('gpt2')\n",
    "if model_precision == \"float16\":\n",
    "    model = AutoModelForCausalLM.from_pretrained(model_name, revision=\"float16\", torch_dtype=torch.float16,\n",
    "                                                 return_dict=True).to(device)\n",
    "else:\n",
    "    model = AutoModelForCausalLM.from_pretrained(model_name, return_dict=True).to(device)"
   ]
  },
  {
   "cell_type": "code",
   "execution_count": 4,
   "id": "fe596e04",
   "metadata": {},
   "outputs": [
    {
     "data": {
      "text/html": [
       "<div>\n",
       "<style scoped>\n",
       "    .dataframe tbody tr th:only-of-type {\n",
       "        vertical-align: middle;\n",
       "    }\n",
       "\n",
       "    .dataframe tbody tr th {\n",
       "        vertical-align: top;\n",
       "    }\n",
       "\n",
       "    .dataframe thead th {\n",
       "        text-align: right;\n",
       "    }\n",
       "</style>\n",
       "<table border=\"1\" class=\"dataframe\">\n",
       "  <thead>\n",
       "    <tr style=\"text-align: right;\">\n",
       "      <th></th>\n",
       "      <th>prefix</th>\n",
       "      <th>label</th>\n",
       "      <th>e(x)</th>\n",
       "    </tr>\n",
       "  </thead>\n",
       "  <tbody>\n",
       "    <tr>\n",
       "      <th>0</th>\n",
       "      <td>The ProtonVPN app for iOS has been eagerly awa...</td>\n",
       "      <td>0</td>\n",
       "      <td>0.003125</td>\n",
       "    </tr>\n",
       "  </tbody>\n",
       "</table>\n",
       "</div>"
      ],
      "text/plain": [
       "                                              prefix  label      e(x)\n",
       "0  The ProtonVPN app for iOS has been eagerly awa...      0  0.003125"
      ]
     },
     "execution_count": 4,
     "metadata": {},
     "output_type": "execute_result"
    }
   ],
   "source": [
    "df = pd.read_csv(input_fn, index_col=0)\n",
    "df.head(1)"
   ]
  },
  {
   "cell_type": "code",
   "execution_count": 8,
   "id": "2113cdf3",
   "metadata": {},
   "outputs": [],
   "source": [
    "out_fh = open(output_fn, 'wt')\n",
    "out = csv.writer(out_fh)"
   ]
  },
  {
   "cell_type": "code",
   "execution_count": null,
   "id": "ae1cef3b",
   "metadata": {},
   "outputs": [
    {
     "data": {
      "application/vnd.jupyter.widget-view+json": {
       "model_id": "dcb603a11b4e4c7b85aa2331d009d1f4",
       "version_major": 2,
       "version_minor": 0
      },
      "text/plain": [
       "  0%|          | 0/25739 [00:00<?, ?it/s]"
      ]
     },
     "metadata": {},
     "output_type": "display_data"
    },
    {
     "name": "stdout",
     "output_type": "stream",
     "text": [
      "device equipment 0.10457620769739151 0.000146665726788342 1 321\n",
      "device equipment 0.00023248165962286294 6.396496610250324e-05 521 1480\n",
      "device equipment 0.001559459837153554 6.903450412210077e-06 36 2291\n",
      "device equipment 0.477184534072876 0.0009061265736818314 0 30\n",
      "device equipment 0.002323091495782137 0.00027850831975229084 53 184\n",
      "device equipment 0.003017291659489274 0.010115489363670349 24 9\n",
      "device equipment 0.027441665530204773 1.0730420399340801e-05 6 3035\n",
      "device equipment 0.13468067348003387 0.00022794304823037237 0 250\n",
      "device equipment 0.715025007724762 0.00028426770586520433 0 105\n",
      "device equipment 0.002520669251680374 9.404282650393725e-07 33 11019\n",
      "device equipment 0.06985511630773544 0.0001472440198995173 2 404\n",
      "device equipment 2.6385461751488037e-05 0.0007587118889205158 4010 177\n",
      "device equipment 7.643694698344916e-05 0.6023879647254944 413 0\n",
      "device equipment 0.06017984077334404 0.0003766909649129957 4 136\n",
      "device equipment 0.0017068834276869893 1.1519595318532083e-05 62 4582\n",
      "device equipment 0.024404512718319893 1.716610677249264e-05 3 1266\n",
      "device equipment 2.2674555566482013e-06 1.927809717017226e-05 8127 2590\n",
      "device equipment 0.005215535871684551 2.0853396563325077e-05 21 2171\n",
      "device equipment 0.006833941210061312 1.77737238118425e-05 8 2400\n",
      "device equipment 9.725825657369569e-05 0.006028809119015932 313 7\n",
      "device equipment 9.266070151170425e-07 0.04164862260222435 8840 3\n",
      "device equipment 3.7155331256144564e-08 1.338146260465578e-09 9208 24402\n",
      "device equipment 0.6833676099777222 1.1227487448195461e-05 0 677\n",
      "device equipment 0.0003400955465622246 0.0015077645657584071 257 61\n",
      "device equipment 0.17085377871990204 0.0016507728723809123 0 59\n",
      "device equipment 0.0009317274671047926 5.217816124059027e-06 75 3323\n",
      "device equipment 0.06187858432531357 2.812834645737894e-05 3 450\n",
      "device equipment 4.663648360292427e-05 2.926242996181827e-05 767 996\n",
      "device equipment 0.000280982960248366 0.005877810530364513 481 14\n",
      "device equipment 7.807588553987443e-05 2.0902281903545372e-05 1878 4940\n",
      "device equipment 3.0584396881749853e-06 4.7588040615664795e-05 8577 1106\n",
      "device equipment 0.0019565403927117586 1.1541882486199029e-05 21 715\n",
      "device equipment 0.00022543822706211358 0.0016214982606470585 290 37\n",
      "device equipment 0.1406458467245102 0.003410679055377841 1 32\n",
      "device equipment 0.00020766460511367768 6.057556311134249e-05 377 914\n",
      "device equipment 0.0018471396761015058 0.004892162512987852 40 20\n",
      "device equipment 6.621806096518412e-05 0.0034627739805728197 1039 39\n",
      "device equipment 0.3728916049003601 0.0002492204657755792 0 185\n",
      "device equipment 0.0003517939185258001 0.0074744620360434055 375 12\n",
      "device equipment 0.0018361835973337293 0.001924112904816866 51 49\n",
      "device equipment 2.2873007765156217e-05 1.2982183761778288e-05 2873 4081\n",
      "device equipment 0.2358650416135788 0.0001304966863244772 0 288\n",
      "device equipment 0.00018891131912823766 0.00015132420230656862 396 481\n",
      "device equipment 0.5948712825775146 0.00021179707255214453 0 201\n",
      "device equipment 0.0009586035157553852 4.964080289937556e-06 82 2871\n",
      "device equipment 7.773265679134056e-05 0.0004461047356016934 1663 344\n",
      "device equipment 2.9355949664022774e-05 9.613775375783007e-08 2428 23832\n"
     ]
    }
   ],
   "source": [
    "for i, (line_idx, row) in tqdm(enumerate(df.iterrows()), total=len(df)):\n",
    "    # get the first token of each word\n",
    "    w1_idx = tokenizer.encode(f' {w1}', return_tensors='pt')[0,0].item()\n",
    "    w2_idx = tokenizer.encode(f' {w2}', return_tensors='pt')[0,0].item()\n",
    "\n",
    "    input_ids = tokenizer.encode(row['prefix'], \\\n",
    "                                 return_tensors='pt', \\\n",
    "                                 max_length=5000, \\\n",
    "                                 padding=False).to(device)\n",
    "    input_ids = input_ids[:,-max_length:]\n",
    "    \n",
    "    with torch.no_grad():\n",
    "        model.eval()\n",
    "        outputs = model(input_ids, labels=input_ids)\n",
    "        loss = outputs.loss\n",
    "        logits = outputs.logits\n",
    "\n",
    "    # Get the loss at each token\n",
    "    last_logits = logits[..., -1, :].contiguous().squeeze(0)\n",
    "    probs = torch.nn.Softmax(dim=-1)(last_logits)\n",
    "\n",
    "    w1_prob = probs[w1_idx].item()\n",
    "    w2_prob = probs[w2_idx].item()\n",
    "    w1_rank = (probs > w1_prob).sum().item()\n",
    "    w2_rank = (probs > w2_prob).sum().item()\n",
    "    \n",
    "    if i % 100 == 0:\n",
    "        print(w1, w2, w1_prob, w2_prob, w1_rank, w2_rank)\n",
    "        \n",
    "    out.writerow([line_idx, len(input_ids), w1_prob, w2_prob, w1_rank, w2_rank])\n"
   ]
  },
  {
   "cell_type": "code",
   "execution_count": null,
   "id": "ec3d3a80",
   "metadata": {},
   "outputs": [],
   "source": [
    "out_fh.close()"
   ]
  }
 ],
 "metadata": {
  "celltoolbar": "Tags",
  "kernelspec": {
   "display_name": "Python 3 (ipykernel)",
   "language": "python",
   "name": "python3"
  },
  "language_info": {
   "codemirror_mode": {
    "name": "ipython",
    "version": 3
   },
   "file_extension": ".py",
   "mimetype": "text/x-python",
   "name": "python",
   "nbconvert_exporter": "python",
   "pygments_lexer": "ipython3",
   "version": "3.8.13"
  }
 },
 "nbformat": 4,
 "nbformat_minor": 5
}
