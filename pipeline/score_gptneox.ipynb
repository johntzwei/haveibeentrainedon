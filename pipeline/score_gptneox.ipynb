{
 "cells": [
  {
   "cell_type": "code",
   "execution_count": null,
   "id": "f8bab71b",
   "metadata": {},
   "outputs": [],
   "source": [
    "import csv\n",
    "import numpy as np\n",
    "import pandas as pd\n",
    "from tqdm.notebook import tqdm\n",
    "import datasets\n",
    "\n",
    "import torch\n",
    "from transformers import AutoModelForCausalLM, AutoTokenizer"
   ]
  },
  {
   "cell_type": "code",
   "execution_count": null,
   "id": "1ecf1c79",
   "metadata": {
    "tags": [
     "parameters"
    ]
   },
   "outputs": [],
   "source": [
    "device = 'cuda'\n",
    "model_name = 'gpt2'\n",
    "gpt2_tokenizer = True\n",
    "model_precision = \"float16\"\n",
    "max_length = 2048\n",
    "input_fn = './propagation_inputs.csv'\n",
    "output_fn = f'./70M/scores:debugging_gpt2.csv'"
   ]
  },
  {
   "cell_type": "code",
   "execution_count": null,
   "id": "f00954e9",
   "metadata": {},
   "outputs": [],
   "source": [
    "if gpt2_tokenizer:\n",
    "    tokenizer = AutoTokenizer.from_pretrained('gpt2')\n",
    "else:\n",
    "    tokenizer = AutoTokenizer.from_pretrained(model_name)"
   ]
  },
  {
   "cell_type": "code",
   "execution_count": null,
   "id": "4c1e2d94",
   "metadata": {},
   "outputs": [],
   "source": [
    "if model_precision == \"float16\":\n",
    "    model = AutoModelForCausalLM.from_pretrained(model_name, revision=\"float16\", torch_dtype=torch.float16,\n",
    "                                                 return_dict=True).to(device)\n",
    "else:\n",
    "    model = AutoModelForCausalLM.from_pretrained(model_name, return_dict=True).to(device)"
   ]
  },
  {
   "cell_type": "code",
   "execution_count": null,
   "id": "fe596e04",
   "metadata": {},
   "outputs": [],
   "source": [
    "df = pd.read_csv(input_fn)\n",
    "df.head(1)"
   ]
  },
  {
   "cell_type": "code",
   "execution_count": null,
   "id": "2113cdf3",
   "metadata": {},
   "outputs": [],
   "source": [
    "out_fh = open(output_fn, 'wt')\n",
    "out = csv.writer(out_fh)"
   ]
  },
  {
   "cell_type": "code",
   "execution_count": null,
   "id": "ae1cef3b",
   "metadata": {},
   "outputs": [],
   "source": [
    "for i, row in df.iterrows():\n",
    "    line_idx, sentence, char_idx, w1, w2 = row['example_index'], \\\n",
    "                                            row['text'], row['sub_index'], row['original'], row['synonym']\n",
    "    line_idx, char_idx = int(line_idx), int(char_idx)\n",
    "    \n",
    "    # get the first token of each word\n",
    "    w1_idx = tokenizer.encode(f' {w1}', return_tensors='pt')[0,0].item()\n",
    "    w2_idx = tokenizer.encode(f' {w2}', return_tensors='pt')[0,0].item()\n",
    "\n",
    "    input_ids = tokenizer.encode(sentence[:char_idx], \\\n",
    "                                 return_tensors='pt', \\\n",
    "                                 max_length=None, \\\n",
    "                                 padding=False).to(device)\n",
    "    \n",
    "    input_ids = input_ids[:,-max_length:]\n",
    "    \n",
    "    with torch.no_grad():\n",
    "        model.eval()\n",
    "        outputs = model(input_ids)\n",
    "        loss = outputs.loss\n",
    "        logits = outputs.logits\n",
    "\n",
    "    # Get the loss at each token\n",
    "    last_logits = logits[..., -1, :].contiguous().squeeze(0)\n",
    "    probs = torch.nn.Softmax(dim=-1)(last_logits)\n",
    "\n",
    "    w1_prob = probs[w1_idx].item()\n",
    "    w2_prob = probs[w2_idx].item()\n",
    "    w1_rank = (probs > w1_prob).sum().item()\n",
    "    w2_rank = (probs > w2_prob).sum().item()\n",
    "    \n",
    "    if i % 100 == 0:\n",
    "        print(w1, w2, w1_prob, w2_prob, w1_rank, w2_rank)\n",
    "\n",
    "    out.writerow([line_idx, w1_prob, w2_prob, w1_rank, w2_rank])\n"
   ]
  },
  {
   "cell_type": "code",
   "execution_count": null,
   "id": "ec3d3a80",
   "metadata": {},
   "outputs": [],
   "source": [
    "out_fh.close()"
   ]
  }
 ],
 "metadata": {
  "celltoolbar": "Tags",
  "kernelspec": {
   "display_name": "Python 3 (ipykernel)",
   "language": "python",
   "name": "python3"
  },
  "language_info": {
   "codemirror_mode": {
    "name": "ipython",
    "version": 3
   },
   "file_extension": ".py",
   "mimetype": "text/x-python",
   "name": "python",
   "nbconvert_exporter": "python",
   "pygments_lexer": "ipython3",
   "version": "3.8.13"
  }
 },
 "nbformat": 4,
 "nbformat_minor": 5
}
