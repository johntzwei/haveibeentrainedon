{
 "cells": [
  {
   "cell_type": "code",
   "execution_count": 1,
   "id": "67e502a3",
   "metadata": {},
   "outputs": [],
   "source": [
    "import pandas as pd\n",
    "import numpy as np\n",
    "import scipy.stats as stats"
   ]
  },
  {
   "cell_type": "code",
   "execution_count": 2,
   "id": "ccbedfa3",
   "metadata": {
    "tags": [
     "parameters"
    ]
   },
   "outputs": [],
   "source": [
    "input_fn = '../contexts/propagation_inputs.csv'\n",
    "scores_fn = './debugging/scores.csv'"
   ]
  },
  {
   "cell_type": "code",
   "execution_count": 3,
   "id": "3b7c155a",
   "metadata": {},
   "outputs": [
    {
     "data": {
      "text/html": [
       "<div>\n",
       "<style scoped>\n",
       "    .dataframe tbody tr th:only-of-type {\n",
       "        vertical-align: middle;\n",
       "    }\n",
       "\n",
       "    .dataframe tbody tr th {\n",
       "        vertical-align: top;\n",
       "    }\n",
       "\n",
       "    .dataframe thead th {\n",
       "        text-align: right;\n",
       "    }\n",
       "</style>\n",
       "<table border=\"1\" class=\"dataframe\">\n",
       "  <thead>\n",
       "    <tr style=\"text-align: right;\">\n",
       "      <th></th>\n",
       "      <th>example_index</th>\n",
       "      <th>text</th>\n",
       "      <th>sub_index</th>\n",
       "      <th>original</th>\n",
       "      <th>synonym</th>\n",
       "      <th>substituted?</th>\n",
       "    </tr>\n",
       "  </thead>\n",
       "  <tbody>\n",
       "    <tr>\n",
       "      <th>0</th>\n",
       "      <td>0</td>\n",
       "      <td>It is done, and submitted. You can play “Survi...</td>\n",
       "      <td>13274</td>\n",
       "      <td>A</td>\n",
       "      <td>B</td>\n",
       "      <td>True</td>\n",
       "    </tr>\n",
       "  </tbody>\n",
       "</table>\n",
       "</div>"
      ],
      "text/plain": [
       "   example_index                                               text  \\\n",
       "0              0  It is done, and submitted. You can play “Survi...   \n",
       "\n",
       "   sub_index original synonym  substituted?  \n",
       "0      13274        A       B          True  "
      ]
     },
     "execution_count": 3,
     "metadata": {},
     "output_type": "execute_result"
    }
   ],
   "source": [
    "input_df = pd.read_csv(input_fn, header=[0])\n",
    "input_df.head(1)"
   ]
  },
  {
   "cell_type": "code",
   "execution_count": 4,
   "id": "462fd4b2",
   "metadata": {},
   "outputs": [
    {
     "data": {
      "text/html": [
       "<div>\n",
       "<style scoped>\n",
       "    .dataframe tbody tr th:only-of-type {\n",
       "        vertical-align: middle;\n",
       "    }\n",
       "\n",
       "    .dataframe tbody tr th {\n",
       "        vertical-align: top;\n",
       "    }\n",
       "\n",
       "    .dataframe thead th {\n",
       "        text-align: right;\n",
       "    }\n",
       "</style>\n",
       "<table border=\"1\" class=\"dataframe\">\n",
       "  <thead>\n",
       "    <tr style=\"text-align: right;\">\n",
       "      <th></th>\n",
       "      <th>example_index</th>\n",
       "      <th>text</th>\n",
       "      <th>sub_index</th>\n",
       "      <th>original</th>\n",
       "      <th>synonym</th>\n",
       "      <th>substituted?</th>\n",
       "      <th>example_idx</th>\n",
       "      <th>w1_prob</th>\n",
       "      <th>w2_prob</th>\n",
       "      <th>w1_rank</th>\n",
       "      <th>w2_rank</th>\n",
       "    </tr>\n",
       "  </thead>\n",
       "  <tbody>\n",
       "    <tr>\n",
       "      <th>988</th>\n",
       "      <td>988</td>\n",
       "      <td>First observational evidence of ‘Dark Matter H...</td>\n",
       "      <td>4231</td>\n",
       "      <td>A</td>\n",
       "      <td>B</td>\n",
       "      <td>True</td>\n",
       "      <td>988</td>\n",
       "      <td>0.000157</td>\n",
       "      <td>0.000359</td>\n",
       "      <td>1068</td>\n",
       "      <td>222</td>\n",
       "    </tr>\n",
       "  </tbody>\n",
       "</table>\n",
       "</div>"
      ],
      "text/plain": [
       "     example_index                                               text  \\\n",
       "988            988  First observational evidence of ‘Dark Matter H...   \n",
       "\n",
       "     sub_index original synonym  substituted?  example_idx   w1_prob  \\\n",
       "988       4231        A       B          True          988  0.000157   \n",
       "\n",
       "      w2_prob  w1_rank  w2_rank  \n",
       "988  0.000359     1068      222  "
      ]
     },
     "execution_count": 4,
     "metadata": {},
     "output_type": "execute_result"
    }
   ],
   "source": [
    "score_df = pd.read_csv(scores_fn, header=None)\n",
    "score_df.columns = ['example_idx', 'w1_prob', 'w2_prob', 'w1_rank', 'w2_rank']\n",
    "df = input_df.join(score_df)\n",
    "df.tail(1)"
   ]
  },
  {
   "cell_type": "code",
   "execution_count": 5,
   "id": "55e0bf9a",
   "metadata": {},
   "outputs": [
    {
     "data": {
      "text/plain": [
       "' B'"
      ]
     },
     "execution_count": 5,
     "metadata": {},
     "output_type": "execute_result"
    }
   ],
   "source": [
    "df.iloc[-1]['text'][4231:]"
   ]
  },
  {
   "cell_type": "code",
   "execution_count": 6,
   "id": "8dc94299",
   "metadata": {},
   "outputs": [],
   "source": [
    "assert(all(df.example_index == df.example_idx))"
   ]
  },
  {
   "cell_type": "code",
   "execution_count": 7,
   "id": "7bc062d6",
   "metadata": {
    "scrolled": true
   },
   "outputs": [
    {
     "data": {
      "text/html": [
       "<div>\n",
       "<style scoped>\n",
       "    .dataframe tbody tr th:only-of-type {\n",
       "        vertical-align: middle;\n",
       "    }\n",
       "\n",
       "    .dataframe tbody tr th {\n",
       "        vertical-align: top;\n",
       "    }\n",
       "\n",
       "    .dataframe thead tr th {\n",
       "        text-align: left;\n",
       "    }\n",
       "\n",
       "    .dataframe thead tr:last-of-type th {\n",
       "        text-align: right;\n",
       "    }\n",
       "</style>\n",
       "<table border=\"1\" class=\"dataframe\">\n",
       "  <thead>\n",
       "    <tr>\n",
       "      <th></th>\n",
       "      <th colspan=\"4\" halign=\"left\">substituted?</th>\n",
       "    </tr>\n",
       "    <tr>\n",
       "      <th></th>\n",
       "      <th>count</th>\n",
       "      <th>unique</th>\n",
       "      <th>top</th>\n",
       "      <th>freq</th>\n",
       "    </tr>\n",
       "    <tr>\n",
       "      <th>original</th>\n",
       "      <th></th>\n",
       "      <th></th>\n",
       "      <th></th>\n",
       "      <th></th>\n",
       "    </tr>\n",
       "  </thead>\n",
       "  <tbody>\n",
       "    <tr>\n",
       "      <th>A</th>\n",
       "      <td>989</td>\n",
       "      <td>2</td>\n",
       "      <td>True</td>\n",
       "      <td>502</td>\n",
       "    </tr>\n",
       "  </tbody>\n",
       "</table>\n",
       "</div>"
      ],
      "text/plain": [
       "         substituted?                  \n",
       "                count unique   top freq\n",
       "original                               \n",
       "A                 989      2  True  502"
      ]
     },
     "execution_count": 7,
     "metadata": {},
     "output_type": "execute_result"
    }
   ],
   "source": [
    "df[['original', 'substituted?']].groupby('original').describe()"
   ]
  },
  {
   "cell_type": "code",
   "execution_count": 8,
   "id": "3cd0fcfa",
   "metadata": {},
   "outputs": [],
   "source": [
    "df['prediction'] = df['w2_prob'] > df['w1_prob']"
   ]
  },
  {
   "cell_type": "code",
   "execution_count": 9,
   "id": "c5614e8a",
   "metadata": {},
   "outputs": [
    {
     "data": {
      "text/plain": [
       "(989, 512)"
      ]
     },
     "execution_count": 9,
     "metadata": {},
     "output_type": "execute_result"
    }
   ],
   "source": [
    "df['correctness'] = df['prediction'] == df['substituted?']\n",
    "len(df), df['correctness'].sum()"
   ]
  },
  {
   "cell_type": "code",
   "execution_count": 10,
   "id": "5fbf3f61",
   "metadata": {},
   "outputs": [
    {
     "data": {
      "text/plain": [
       "BinomTestResult(k=512, n=989, alternative='two-sided', statistic=0.5176946410515673, pvalue=0.279629340053992)"
      ]
     },
     "execution_count": 10,
     "metadata": {},
     "output_type": "execute_result"
    }
   ],
   "source": [
    "stats.binomtest(df['correctness'].sum(), len(df), 0.5)"
   ]
  }
 ],
 "metadata": {
  "celltoolbar": "Tags",
  "kernelspec": {
   "display_name": "Python 3 (ipykernel)",
   "language": "python",
   "name": "python3"
  },
  "language_info": {
   "codemirror_mode": {
    "name": "ipython",
    "version": 3
   },
   "file_extension": ".py",
   "mimetype": "text/x-python",
   "name": "python",
   "nbconvert_exporter": "python",
   "pygments_lexer": "ipython3",
   "version": "3.8.17"
  }
 },
 "nbformat": 4,
 "nbformat_minor": 5
}
