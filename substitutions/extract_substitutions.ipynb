{
 "cells": [
  {
   "cell_type": "code",
   "execution_count": 21,
   "id": "e3335bfa",
   "metadata": {},
   "outputs": [
    {
     "name": "stderr",
     "output_type": "stream",
     "text": [
      "[nltk_data] Downloading package wordnet to /home/johnny/nltk_data...\n",
      "[nltk_data]   Package wordnet is already up-to-date!\n",
      "[nltk_data] Downloading package omw-1.4 to /home/johnny/nltk_data...\n",
      "[nltk_data]   Package omw-1.4 is already up-to-date!\n"
     ]
    },
    {
     "data": {
      "text/plain": [
       "True"
      ]
     },
     "execution_count": 21,
     "metadata": {},
     "output_type": "execute_result"
    }
   ],
   "source": [
    "from collections import defaultdict, Counter\n",
    "import gzip\n",
    "import json\n",
    "\n",
    "import nltk\n",
    "nltk.download('wordnet')\n",
    "nltk.download('omw-1.4')"
   ]
  },
  {
   "cell_type": "code",
   "execution_count": 13,
   "id": "6aece3a2",
   "metadata": {},
   "outputs": [
    {
     "name": "stdout",
     "output_type": "stream",
     "text": [
      "--------------------------------------------------------------------------------\n",
      "\"Noriega has closed every independent newspaper, radio and television station and arrested, tortured or forced into exile a long list of reporters,\" the statement declared.It added: \"In Cuba, public enemy No. 1 of press freedoms in the hemisphere, repression of journalists both Cuban and foreign is worse than ever.\"And in Nicaragua, promises of press freedom by the Sandinistas \"have not materialized.\"\n",
      "--------------------\n",
      "press (NOUN)\n",
      "journalist (70%), media (70%), newspaper (60%), reporter (40%), communication (30%), columnist (30%), printing (20%), report (10%), voice (0%), publicist (0%), journalism (0%), periodical (0%), verbal (0%), medium (0%), paper (0%), pressure (0%), correspondent (0%), push (0%), multitude (0%), mob (0%), confusion (0%), herd (0%), drove (0%), photographer (0%), stress (0%), crowd (0%), swarm (0%), bustle (0%), demand (0%), urgency (0%), haste (0%), writer (0%), people or person working in communications (0%), horde (0%), host (0%), crush (0%), interviewer (0%), flock (0%), fourth estate (0%), newsperson (0%), bunch (0%), editor (0%), publisher (0%), pack (0%), strain (0%), throng (0%), hurry (0%), hassle (0%), magazine (0%), rush (0%), large group (0%)\n"
     ]
    }
   ],
   "source": [
    "# Load benchmark\n",
    "with open('swords-v1.1_test.json', 'r') as f:\n",
    "    swords = json.load(f)\n",
    "\n",
    "# Gather substitutes by target\n",
    "tid_to_sids = defaultdict(list)\n",
    "for sid, substitute in swords['substitutes'].items():\n",
    "    tid_to_sids[substitute['target_id']].append(sid)\n",
    "\n",
    "# Iterate through targets\n",
    "for tid, target in swords['targets'].items():\n",
    "    context = swords['contexts'][target['context_id']]\n",
    "    substitutes = [swords['substitutes'][sid] for sid in tid_to_sids[tid]]\n",
    "    labels = [swords['substitute_labels'][sid] for sid in tid_to_sids[tid]]\n",
    "    scores = [l.count('TRUE') / len(l) for l in labels]\n",
    "    print('-' * 80)\n",
    "    print(context['context'].replace('\\n', ''))\n",
    "    print('-' * 20)\n",
    "    print('{} ({})'.format(target['target'], target['pos']))\n",
    "    print(', '.join(['{} ({}%)'.format(substitute['substitute'], round(score * 100)) for substitute, score in sorted(zip(substitutes, scores), key=lambda x: -x[1])]))\n",
    "    break"
   ]
  },
  {
   "cell_type": "code",
   "execution_count": 14,
   "id": "a682bc35",
   "metadata": {},
   "outputs": [],
   "source": [
    "good_ones = []\n",
    "for tid, target in swords['targets'].items():\n",
    "    context = swords['contexts'][target['context_id']]\n",
    "    substitutes = [swords['substitutes'][sid] for sid in tid_to_sids[tid]]\n",
    "    labels = [swords['substitute_labels'][sid] for sid in tid_to_sids[tid]]\n",
    "    scores = [l.count('TRUE') / len(l) for l in labels]\n",
    "    sorted_scores = sorted(zip(substitutes, scores), key=lambda x: -x[1])\n",
    "    \n",
    "    candidate = sorted_scores[0]\n",
    "    sub = candidate[0]['substitute']\n",
    "    if candidate[1] > 0.8 and (target['target'].lower() not in sub.lower()) and (' ' not in sub):\n",
    "        good_ones.append((target['target'].lower(), target['pos'], candidate[0]['substitute']))\n"
   ]
  },
  {
   "cell_type": "code",
   "execution_count": 15,
   "id": "f5541031",
   "metadata": {},
   "outputs": [],
   "source": [
    "good_ones = list(set(good_ones))"
   ]
  },
  {
   "cell_type": "code",
   "execution_count": 16,
   "id": "2cb642f2",
   "metadata": {},
   "outputs": [],
   "source": [
    "from nltk.stem import WordNetLemmatizer\n",
    "lemmatizer = WordNetLemmatizer()\n",
    "\n",
    "pos_mapping = {'NOUN' : 'n', 'VERB' : 'v', 'ADJ' : 'a', 'ADV' : 'r'}\n",
    "good_ones = [ (lemmatizer.lemmatize(word, pos_mapping[pos]), pos, lemmatizer.lemmatize(substitute, pos_mapping[pos])) \\\n",
    "             for word, pos, substitute in good_ones ]"
   ]
  },
  {
   "cell_type": "code",
   "execution_count": null,
   "id": "f7244b93",
   "metadata": {},
   "outputs": [],
   "source": [
    "word_pairs = dev + test"
   ]
  },
  {
   "cell_type": "code",
   "execution_count": 54,
   "id": "36bb974e",
   "metadata": {},
   "outputs": [],
   "source": [
    "# manually removed duplicates\n",
    "word_pairs = [('odd', 'ADJ', 'uncommon'),\n",
    " ('knock', 'VERB', 'push'),\n",
    " ('pulse', 'NOUN', 'beating'),\n",
    " ('raise', 'VERB', 'lift'),\n",
    " ('cathedral', 'NOUN', 'church'),\n",
    " ('nice', 'ADJ', 'good'),\n",
    " ('size', 'NOUN', 'proportion'),\n",
    " ('idiot', 'NOUN', 'imbecile'),\n",
    " ('way', 'NOUN', 'direction'),\n",
    " ('small', 'ADJ', 'little'),\n",
    " ('guy', 'NOUN', 'player'),\n",
    " ('personnel', 'NOUN', 'staff'),\n",
    " ('start', 'VERB', 'begin'),\n",
    " ('call', 'VERB', 'summon'),\n",
    " ('logical', 'ADJ', 'rational'),\n",
    " ('saw', 'VERB', 'witness'),\n",
    " ('leech', 'NOUN', 'bloodsucker'),\n",
    " ('thin', 'ADJ', 'slender'),\n",
    " ('marvel', 'VERB', 'wonder'),\n",
    " ('just', 'ADV', 'quite'),\n",
    " ('first', 'ADJ', 'initial'),\n",
    " ('consider', 'VERB', 'contemplate'),\n",
    " ('next', 'ADJ', 'following'),\n",
    " ('permit', 'VERB', 'allow'),\n",
    " ('box', 'NOUN', 'container'),\n",
    " ('business', 'NOUN', 'operation'),\n",
    " ('monitor', 'VERB', 'track'),\n",
    " ('think', 'VERB', 'reckon'),\n",
    " ('big', 'ADJ', 'huge'),\n",
    " ('more', 'ADJ', 'great'),\n",
    " ('chance', 'NOUN', 'odds'),\n",
    " ('customer', 'NOUN', 'clientele'),\n",
    " ('trouble', 'NOUN', 'difficulty'),\n",
    " ('return', 'NOUN', 'exchange'),\n",
    " ('cold', 'ADJ', 'icy'),\n",
    " ('zone', 'NOUN', 'sector'),\n",
    " ('people', 'NOUN', 'folk'),\n",
    " ('office', 'NOUN', 'workplace'),\n",
    " ('hire', 'VERB', 'enlist'),\n",
    " ('playwright', 'NOUN', 'writer'),\n",
    " ('glance', 'VERB', 'look'),\n",
    " ('lead', 'VERB', 'guide'),\n",
    " ('damage', 'NOUN', 'harm'),\n",
    " ('representative', 'NOUN', 'delegate'),\n",
    " ('very', 'ADV', 'really'),\n",
    " ('totally', 'ADV', 'absolutely'),\n",
    " ('help', 'VERB', 'assist'),\n",
    " ('lot', 'NOUN', 'heap'),\n",
    " ('okay', 'ADJ', 'ok'),\n",
    " ('excite', 'VERB', 'enthusiastic'),\n",
    " ('ease', 'VERB', 'lighten'),\n",
    " ('innocent', 'ADJ', 'harmless'),\n",
    " ('area', 'NOUN', 'location'),\n",
    " ('idea', 'NOUN', 'thought'),\n",
    " ('device', 'NOUN', 'equipment'),\n",
    " ('run', 'VERB', 'bolt'),\n",
    " ('equal', 'ADJ', 'equivalent'),\n",
    " ('subject', 'NOUN', 'topic'),\n",
    " ('man', 'NOUN', 'person'),\n",
    " ('newspaper', 'NOUN', 'paper'),\n",
    " ('own', 'ADJ', 'hold'),\n",
    " ('bath', 'NOUN', 'bathroom'),\n",
    " ('reply', 'VERB', 'answer'),\n",
    " ('interior', 'NOUN', 'inside'),\n",
    " ('choose', 'VERB', 'pick'),\n",
    " ('company', 'NOUN', 'corporation'),\n",
    " ('disposal', 'NOUN', 'discarding'),\n",
    " ('likely', 'ADV', 'presumably'),\n",
    " ('house', 'NOUN', 'home'),\n",
    " ('shallow', 'ADJ', 'empty'),\n",
    " ('safety', 'NOUN', 'safeness'),\n",
    " ('file', 'NOUN', 'record'),\n",
    " ('kindness', 'NOUN', 'goodness'),\n",
    " ('try', 'VERB', 'attempt'),\n",
    " ('cry', 'VERB', 'weep'),\n",
    " ('provide', 'VERB', 'supply'),\n",
    " ('analysis', 'NOUN', 'evaluation'),\n",
    " ('interesting', 'ADJ', 'fascinating'),\n",
    " ('caution', 'VERB', 'warn'),\n",
    " ('ugly', 'ADJ', 'unpleasant'),\n",
    " ('fell', 'VERB', 'decrease'),\n",
    " ('full', 'ADJ', 'whole'),\n",
    " ('move', 'VERB', 'go'),\n",
    " ('cut', 'VERB', 'reduce'),\n",
    " ('prove', 'VERB', 'affirm'),\n",
    " ('many', 'ADJ', 'multiple'),\n",
    " ('brilliant', 'ADJ', 'glowing'),\n",
    " ('income', 'NOUN', 'earnings'),\n",
    " ('delighted', 'ADJ', 'ecstatic'),\n",
    " ('cease', 'VERB', 'halt'),\n",
    " ('perhaps', 'ADV', 'maybe'),\n",
    " ('journalist', 'NOUN', 'newspeople'),\n",
    " ('love', 'VERB', 'cherish'),\n",
    " ('forgive', 'VERB', 'pardon'),\n",
    " ('joy', 'NOUN', 'glee'),\n",
    " ('jealous', 'ADJ', 'envious'),\n",
    " ('guess', 'VERB', 'predict'),\n",
    " ('old', 'ADJ', 'elderly'),\n",
    " ('toss', 'VERB', 'throw'),\n",
    " ('accept', 'VERB', 'recognize'),\n",
    " ('gentle', 'ADJ', 'soft'),\n",
    " ('say', 'VERB', 'state'),\n",
    " ('grow', 'VERB', 'increase'),\n",
    " ('heavy', 'ADJ', 'hefty'),\n",
    " ('stature', 'NOUN', 'status'),\n",
    " ('voice', 'NOUN', 'sound'),\n",
    " ('team', 'NOUN', 'group')]"
   ]
  },
  {
   "cell_type": "code",
   "execution_count": 55,
   "id": "bfa44449",
   "metadata": {},
   "outputs": [
    {
     "name": "stdout",
     "output_type": "stream",
     "text": [
      "Counter({'odd': 1, 'knock': 1, 'pulse': 1, 'raise': 1, 'cathedral': 1, 'nice': 1, 'size': 1, 'idiot': 1, 'way': 1, 'small': 1, 'guy': 1, 'personnel': 1, 'start': 1, 'call': 1, 'logical': 1, 'saw': 1, 'leech': 1, 'thin': 1, 'marvel': 1, 'just': 1, 'first': 1, 'consider': 1, 'next': 1, 'permit': 1, 'box': 1, 'business': 1, 'monitor': 1, 'think': 1, 'big': 1, 'more': 1, 'chance': 1, 'customer': 1, 'trouble': 1, 'return': 1, 'cold': 1, 'zone': 1, 'people': 1, 'office': 1, 'hire': 1, 'playwright': 1, 'glance': 1, 'lead': 1, 'damage': 1, 'representative': 1, 'very': 1, 'totally': 1, 'help': 1, 'lot': 1, 'okay': 1, 'excite': 1, 'ease': 1, 'innocent': 1, 'area': 1, 'idea': 1, 'device': 1, 'run': 1, 'equal': 1, 'subject': 1, 'man': 1, 'newspaper': 1, 'own': 1, 'bath': 1, 'reply': 1, 'interior': 1, 'choose': 1, 'company': 1, 'disposal': 1, 'likely': 1, 'house': 1, 'shallow': 1, 'safety': 1, 'file': 1, 'kindness': 1, 'try': 1, 'cry': 1, 'provide': 1, 'analysis': 1, 'interesting': 1, 'caution': 1, 'ugly': 1, 'fell': 1, 'full': 1, 'move': 1, 'cut': 1, 'prove': 1, 'many': 1, 'brilliant': 1, 'income': 1, 'delighted': 1, 'cease': 1, 'perhaps': 1, 'journalist': 1, 'love': 1, 'forgive': 1, 'joy': 1, 'jealous': 1, 'guess': 1, 'old': 1, 'toss': 1, 'accept': 1, 'gentle': 1, 'say': 1, 'grow': 1, 'heavy': 1, 'stature': 1, 'voice': 1, 'team': 1, 'uncommon': 1, 'push': 1, 'beating': 1, 'lift': 1, 'church': 1, 'good': 1, 'proportion': 1, 'imbecile': 1, 'direction': 1, 'little': 1, 'player': 1, 'staff': 1, 'begin': 1, 'summon': 1, 'rational': 1, 'witness': 1, 'bloodsucker': 1, 'slender': 1, 'wonder': 1, 'quite': 1, 'initial': 1, 'contemplate': 1, 'following': 1, 'allow': 1, 'container': 1, 'operation': 1, 'track': 1, 'reckon': 1, 'huge': 1, 'great': 1, 'odds': 1, 'clientele': 1, 'difficulty': 1, 'exchange': 1, 'icy': 1, 'sector': 1, 'folk': 1, 'workplace': 1, 'enlist': 1, 'writer': 1, 'look': 1, 'guide': 1, 'harm': 1, 'delegate': 1, 'really': 1, 'absolutely': 1, 'assist': 1, 'heap': 1, 'ok': 1, 'enthusiastic': 1, 'lighten': 1, 'harmless': 1, 'location': 1, 'thought': 1, 'equipment': 1, 'bolt': 1, 'equivalent': 1, 'topic': 1, 'person': 1, 'paper': 1, 'hold': 1, 'bathroom': 1, 'answer': 1, 'inside': 1, 'pick': 1, 'corporation': 1, 'discarding': 1, 'presumably': 1, 'home': 1, 'empty': 1, 'safeness': 1, 'record': 1, 'goodness': 1, 'attempt': 1, 'weep': 1, 'supply': 1, 'evaluation': 1, 'fascinating': 1, 'warn': 1, 'unpleasant': 1, 'decrease': 1, 'whole': 1, 'go': 1, 'reduce': 1, 'affirm': 1, 'multiple': 1, 'glowing': 1, 'earnings': 1, 'ecstatic': 1, 'halt': 1, 'maybe': 1, 'newspeople': 1, 'cherish': 1, 'pardon': 1, 'glee': 1, 'envious': 1, 'predict': 1, 'elderly': 1, 'throw': 1, 'recognize': 1, 'soft': 1, 'state': 1, 'increase': 1, 'hefty': 1, 'status': 1, 'sound': 1, 'group': 1})\n"
     ]
    }
   ],
   "source": [
    "c = Counter([ i[0] for i in word_pairs ] + [ i[2] for i in word_pairs ])\n",
    "print(c)"
   ]
  }
 ],
 "metadata": {
  "kernelspec": {
   "display_name": "Python 3 (ipykernel)",
   "language": "python",
   "name": "python3"
  },
  "language_info": {
   "codemirror_mode": {
    "name": "ipython",
    "version": 3
   },
   "file_extension": ".py",
   "mimetype": "text/x-python",
   "name": "python",
   "nbconvert_exporter": "python",
   "pygments_lexer": "ipython3",
   "version": "3.8.13"
  }
 },
 "nbformat": 4,
 "nbformat_minor": 5
}
