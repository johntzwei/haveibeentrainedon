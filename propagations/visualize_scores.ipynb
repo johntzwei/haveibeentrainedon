{
 "cells": [
  {
   "cell_type": "code",
   "execution_count": 1,
   "metadata": {
    "collapsed": true,
    "ExecuteTime": {
     "end_time": "2023-09-19T15:14:41.432025Z",
     "start_time": "2023-09-19T15:14:41.431624Z"
    }
   },
   "outputs": [],
   "source": [
    "import pandas as pd\n",
    "import numpy as np"
   ]
  },
  {
   "cell_type": "code",
   "execution_count": 23,
   "outputs": [
    {
     "ename": "TypeError",
     "evalue": "read_csv() got an unexpected keyword argument 'suffixes'",
     "output_type": "error",
     "traceback": [
      "\u001B[0;31m---------------------------------------------------------------------------\u001B[0m",
      "\u001B[0;31mTypeError\u001B[0m                                 Traceback (most recent call last)",
      "\u001B[0;32m<ipython-input-23-72f20ec944fe>\u001B[0m in \u001B[0;36m<module>\u001B[0;34m\u001B[0m\n\u001B[1;32m      4\u001B[0m \u001B[0;34m\u001B[0m\u001B[0m\n\u001B[1;32m      5\u001B[0m \u001B[0;34m\u001B[0m\u001B[0m\n\u001B[0;32m----> 6\u001B[0;31m \u001B[0mdataframes\u001B[0m \u001B[0;34m=\u001B[0m \u001B[0;34m[\u001B[0m\u001B[0mpd\u001B[0m\u001B[0;34m.\u001B[0m\u001B[0mread_csv\u001B[0m\u001B[0;34m(\u001B[0m\u001B[0mpath_to_models\u001B[0m \u001B[0;34m+\u001B[0m \u001B[0mi\u001B[0m \u001B[0;34m+\u001B[0m \u001B[0;34m\"/propagations.csv\"\u001B[0m\u001B[0;34m,\u001B[0m \u001B[0msuffixes\u001B[0m\u001B[0;34m=\u001B[0m\u001B[0mi\u001B[0m\u001B[0;34m)\u001B[0m \u001B[0;32mfor\u001B[0m \u001B[0mi\u001B[0m \u001B[0;32min\u001B[0m \u001B[0mmodels\u001B[0m\u001B[0;34m]\u001B[0m\u001B[0;34m\u001B[0m\u001B[0;34m\u001B[0m\u001B[0m\n\u001B[0m",
      "\u001B[0;32m<ipython-input-23-72f20ec944fe>\u001B[0m in \u001B[0;36m<listcomp>\u001B[0;34m(.0)\u001B[0m\n\u001B[1;32m      4\u001B[0m \u001B[0;34m\u001B[0m\u001B[0m\n\u001B[1;32m      5\u001B[0m \u001B[0;34m\u001B[0m\u001B[0m\n\u001B[0;32m----> 6\u001B[0;31m \u001B[0mdataframes\u001B[0m \u001B[0;34m=\u001B[0m \u001B[0;34m[\u001B[0m\u001B[0mpd\u001B[0m\u001B[0;34m.\u001B[0m\u001B[0mread_csv\u001B[0m\u001B[0;34m(\u001B[0m\u001B[0mpath_to_models\u001B[0m \u001B[0;34m+\u001B[0m \u001B[0mi\u001B[0m \u001B[0;34m+\u001B[0m \u001B[0;34m\"/propagations.csv\"\u001B[0m\u001B[0;34m,\u001B[0m \u001B[0msuffixes\u001B[0m\u001B[0;34m=\u001B[0m\u001B[0mi\u001B[0m\u001B[0;34m)\u001B[0m \u001B[0;32mfor\u001B[0m \u001B[0mi\u001B[0m \u001B[0;32min\u001B[0m \u001B[0mmodels\u001B[0m\u001B[0;34m]\u001B[0m\u001B[0;34m\u001B[0m\u001B[0;34m\u001B[0m\u001B[0m\n\u001B[0m",
      "\u001B[0;31mTypeError\u001B[0m: read_csv() got an unexpected keyword argument 'suffixes'"
     ]
    }
   ],
   "source": [
    "models = [\"160M/17e7_clean_model_epoch1\", \"160M/17e7_perturbed_model_epoch1_seed416_sub1000\", \"410M/17e7_clean_model_epoch1\", \"410M/17e7_perturbed_model_epoch1_seed416_sub1000\"]\n",
    "\n",
    "path_to_models = \"./../models/\"\n",
    "\n",
    "\n",
    "dataframes = [pd.read_csv(path_to_models + i + \"/propagations.csv\", suffixes=i) for i in models]"
   ],
   "metadata": {
    "collapsed": false,
    "ExecuteTime": {
     "end_time": "2023-09-19T15:32:49.027341Z",
     "start_time": "2023-09-19T15:32:49.013240Z"
    }
   }
  },
  {
   "cell_type": "code",
   "execution_count": 17,
   "outputs": [],
   "source": [
    "tot_df = dataframes[0]\n",
    "tot_df = tot_df.join(dataframes[1], lsuffix=models[0], rsuffix=models[1])\n",
    "# for i in range(2, len(dataframes)):\n",
    "#     tot_df = tot_df.join(dataframes[i], rsuffix=models[i])"
   ],
   "metadata": {
    "collapsed": false,
    "ExecuteTime": {
     "end_time": "2023-09-19T15:27:51.732406Z",
     "start_time": "2023-09-19T15:27:51.717029Z"
    }
   }
  },
  {
   "cell_type": "code",
   "execution_count": 18,
   "outputs": [
    {
     "name": "stdout",
     "output_type": "stream",
     "text": [
      "   original160M/17e7_clean_model_epoch1  \\\n",
      "0                                  next   \n",
      "1                                   say   \n",
      "2                                permit   \n",
      "3                                  area   \n",
      "4                                   man   \n",
      "5                                 voice   \n",
      "6                                   way   \n",
      "7                                   cut   \n",
      "8                                return   \n",
      "9                                  help   \n",
      "10                               choose   \n",
      "11                                house   \n",
      "12                                 just   \n",
      "13                                  own   \n",
      "14                                 grow   \n",
      "15                                 very   \n",
      "16                              subject   \n",
      "17                             business   \n",
      "18                               device   \n",
      "19                              trouble   \n",
      "20                                 nice   \n",
      "21                                 file   \n",
      "22                                 full   \n",
      "23                                 move   \n",
      "24                                 lead   \n",
      "25                               accept   \n",
      "26                                guess   \n",
      "27                              monitor   \n",
      "28                                  try   \n",
      "29                                  big   \n",
      "30                             analysis   \n",
      "31                              perhaps   \n",
      "32                                equal   \n",
      "33                                start   \n",
      "34                                 team   \n",
      "35                                 many   \n",
      "36                                small   \n",
      "37                                 size   \n",
      "38                              totally   \n",
      "39                              provide   \n",
      "40                                  guy   \n",
      "41                                 idea   \n",
      "42                                 fell   \n",
      "43                                first   \n",
      "44                                 more   \n",
      "\n",
      "    correctness160M/17e7_clean_model_epoch1  \\\n",
      "0                                     0.473   \n",
      "1                                     0.479   \n",
      "2                                     0.480   \n",
      "3                                     0.481   \n",
      "4                                     0.482   \n",
      "5                                     0.484   \n",
      "6                                     0.485   \n",
      "7                                     0.485   \n",
      "8                                     0.486   \n",
      "9                                     0.487   \n",
      "10                                    0.489   \n",
      "11                                    0.493   \n",
      "12                                    0.493   \n",
      "13                                    0.494   \n",
      "14                                    0.495   \n",
      "15                                    0.497   \n",
      "16                                    0.498   \n",
      "17                                    0.504   \n",
      "18                                    0.505   \n",
      "19                                    0.505   \n",
      "20                                    0.505   \n",
      "21                                    0.506   \n",
      "22                                    0.507   \n",
      "23                                    0.507   \n",
      "24                                    0.509   \n",
      "25                                    0.510   \n",
      "26                                    0.510   \n",
      "27                                    0.511   \n",
      "28                                    0.512   \n",
      "29                                    0.512   \n",
      "30                                    0.517   \n",
      "31                                    0.520   \n",
      "32                                    0.520   \n",
      "33                                    0.520   \n",
      "34                                    0.522   \n",
      "35                                    0.523   \n",
      "36                                    0.524   \n",
      "37                                    0.525   \n",
      "38                                    0.525   \n",
      "39                                    0.526   \n",
      "40                                    0.527   \n",
      "41                                    0.528   \n",
      "42                                    0.530   \n",
      "43                                    0.536   \n",
      "44                                    0.538   \n",
      "\n",
      "   original160M/17e7_perturbed_model_epoch1_seed416_sub1000  \\\n",
      "0                                                 cut         \n",
      "1                                                 way         \n",
      "2                                              permit         \n",
      "3                                                next         \n",
      "4                                              choose         \n",
      "5                                                 man         \n",
      "6                                               house         \n",
      "7                                                 say         \n",
      "8                                               voice         \n",
      "9                                                full         \n",
      "10                                            subject         \n",
      "11                                               team         \n",
      "12                                               help         \n",
      "13                                            totally         \n",
      "14                                             accept         \n",
      "15                                               area         \n",
      "16                                                big         \n",
      "17                                             return         \n",
      "18                                               just         \n",
      "19                                               move         \n",
      "20                                               grow         \n",
      "21                                               very         \n",
      "22                                            trouble         \n",
      "23                                                own         \n",
      "24                                               lead         \n",
      "25                                             device         \n",
      "26                                           business         \n",
      "27                                               more         \n",
      "28                                              guess         \n",
      "29                                               size         \n",
      "30                                               nice         \n",
      "31                                            perhaps         \n",
      "32                                               many         \n",
      "33                                                try         \n",
      "34                                              small         \n",
      "35                                               fell         \n",
      "36                                            monitor         \n",
      "37                                              equal         \n",
      "38                                               idea         \n",
      "39                                            provide         \n",
      "40                                               file         \n",
      "41                                                guy         \n",
      "42                                              first         \n",
      "43                                           analysis         \n",
      "44                                              start         \n",
      "\n",
      "    correctness160M/17e7_perturbed_model_epoch1_seed416_sub1000  \n",
      "0                                               0.479            \n",
      "1                                               0.487            \n",
      "2                                               0.487            \n",
      "3                                               0.488            \n",
      "4                                               0.490            \n",
      "5                                               0.492            \n",
      "6                                               0.493            \n",
      "7                                               0.495            \n",
      "8                                               0.495            \n",
      "9                                               0.495            \n",
      "10                                              0.496            \n",
      "11                                              0.498            \n",
      "12                                              0.499            \n",
      "13                                              0.501            \n",
      "14                                              0.502            \n",
      "15                                              0.502            \n",
      "16                                              0.502            \n",
      "17                                              0.503            \n",
      "18                                              0.505            \n",
      "19                                              0.505            \n",
      "20                                              0.508            \n",
      "21                                              0.508            \n",
      "22                                              0.508            \n",
      "23                                              0.508            \n",
      "24                                              0.510            \n",
      "25                                              0.510            \n",
      "26                                              0.514            \n",
      "27                                              0.515            \n",
      "28                                              0.516            \n",
      "29                                              0.516            \n",
      "30                                              0.516            \n",
      "31                                              0.517            \n",
      "32                                              0.519            \n",
      "33                                              0.520            \n",
      "34                                              0.521            \n",
      "35                                              0.521            \n",
      "36                                              0.522            \n",
      "37                                              0.523            \n",
      "38                                              0.523            \n",
      "39                                              0.524            \n",
      "40                                              0.526            \n",
      "41                                              0.528            \n",
      "42                                              0.530            \n",
      "43                                              0.539            \n",
      "44                                              0.543            \n"
     ]
    }
   ],
   "source": [
    "print(tot_df)"
   ],
   "metadata": {
    "collapsed": false,
    "ExecuteTime": {
     "end_time": "2023-09-19T15:27:52.326828Z",
     "start_time": "2023-09-19T15:27:52.310946Z"
    }
   }
  },
  {
   "cell_type": "code",
   "execution_count": 20,
   "outputs": [
    {
     "ename": "ValueError",
     "evalue": "columns overlap but no suffix specified: Index(['original', 'correctness'], dtype='object')",
     "output_type": "error",
     "traceback": [
      "\u001B[0;31m---------------------------------------------------------------------------\u001B[0m",
      "\u001B[0;31mValueError\u001B[0m                                Traceback (most recent call last)",
      "\u001B[0;32m<ipython-input-20-3149acd7abe1>\u001B[0m in \u001B[0;36m<module>\u001B[0;34m\u001B[0m\n\u001B[0;32m----> 1\u001B[0;31m \u001B[0mprint\u001B[0m\u001B[0;34m(\u001B[0m\u001B[0mdataframes\u001B[0m\u001B[0;34m[\u001B[0m\u001B[0;36m0\u001B[0m\u001B[0;34m]\u001B[0m\u001B[0;34m.\u001B[0m\u001B[0mjoin\u001B[0m\u001B[0;34m(\u001B[0m\u001B[0mdataframes\u001B[0m\u001B[0;34m[\u001B[0m\u001B[0;36m1\u001B[0m\u001B[0;34m]\u001B[0m\u001B[0;34m)\u001B[0m\u001B[0;34m)\u001B[0m\u001B[0;34m\u001B[0m\u001B[0;34m\u001B[0m\u001B[0m\n\u001B[0m",
      "\u001B[0;32m/opt/anaconda3/lib/python3.8/site-packages/pandas/core/frame.py\u001B[0m in \u001B[0;36mjoin\u001B[0;34m(self, other, on, how, lsuffix, rsuffix, sort)\u001B[0m\n\u001B[1;32m   7868\u001B[0m         \u001B[0;36m5\u001B[0m  \u001B[0mK5\u001B[0m  \u001B[0mA5\u001B[0m  \u001B[0mNaN\u001B[0m\u001B[0;34m\u001B[0m\u001B[0;34m\u001B[0m\u001B[0m\n\u001B[1;32m   7869\u001B[0m         \"\"\"\n\u001B[0;32m-> 7870\u001B[0;31m         return self._join_compat(\n\u001B[0m\u001B[1;32m   7871\u001B[0m             \u001B[0mother\u001B[0m\u001B[0;34m,\u001B[0m \u001B[0mon\u001B[0m\u001B[0;34m=\u001B[0m\u001B[0mon\u001B[0m\u001B[0;34m,\u001B[0m \u001B[0mhow\u001B[0m\u001B[0;34m=\u001B[0m\u001B[0mhow\u001B[0m\u001B[0;34m,\u001B[0m \u001B[0mlsuffix\u001B[0m\u001B[0;34m=\u001B[0m\u001B[0mlsuffix\u001B[0m\u001B[0;34m,\u001B[0m \u001B[0mrsuffix\u001B[0m\u001B[0;34m=\u001B[0m\u001B[0mrsuffix\u001B[0m\u001B[0;34m,\u001B[0m \u001B[0msort\u001B[0m\u001B[0;34m=\u001B[0m\u001B[0msort\u001B[0m\u001B[0;34m\u001B[0m\u001B[0;34m\u001B[0m\u001B[0m\n\u001B[1;32m   7872\u001B[0m         )\n",
      "\u001B[0;32m/opt/anaconda3/lib/python3.8/site-packages/pandas/core/frame.py\u001B[0m in \u001B[0;36m_join_compat\u001B[0;34m(self, other, on, how, lsuffix, rsuffix, sort)\u001B[0m\n\u001B[1;32m   7884\u001B[0m \u001B[0;34m\u001B[0m\u001B[0m\n\u001B[1;32m   7885\u001B[0m         \u001B[0;32mif\u001B[0m \u001B[0misinstance\u001B[0m\u001B[0;34m(\u001B[0m\u001B[0mother\u001B[0m\u001B[0;34m,\u001B[0m \u001B[0mDataFrame\u001B[0m\u001B[0;34m)\u001B[0m\u001B[0;34m:\u001B[0m\u001B[0;34m\u001B[0m\u001B[0;34m\u001B[0m\u001B[0m\n\u001B[0;32m-> 7886\u001B[0;31m             return merge(\n\u001B[0m\u001B[1;32m   7887\u001B[0m                 \u001B[0mself\u001B[0m\u001B[0;34m,\u001B[0m\u001B[0;34m\u001B[0m\u001B[0;34m\u001B[0m\u001B[0m\n\u001B[1;32m   7888\u001B[0m                 \u001B[0mother\u001B[0m\u001B[0;34m,\u001B[0m\u001B[0;34m\u001B[0m\u001B[0;34m\u001B[0m\u001B[0m\n",
      "\u001B[0;32m/opt/anaconda3/lib/python3.8/site-packages/pandas/core/reshape/merge.py\u001B[0m in \u001B[0;36mmerge\u001B[0;34m(left, right, how, on, left_on, right_on, left_index, right_index, sort, suffixes, copy, indicator, validate)\u001B[0m\n\u001B[1;32m     87\u001B[0m         \u001B[0mvalidate\u001B[0m\u001B[0;34m=\u001B[0m\u001B[0mvalidate\u001B[0m\u001B[0;34m,\u001B[0m\u001B[0;34m\u001B[0m\u001B[0;34m\u001B[0m\u001B[0m\n\u001B[1;32m     88\u001B[0m     )\n\u001B[0;32m---> 89\u001B[0;31m     \u001B[0;32mreturn\u001B[0m \u001B[0mop\u001B[0m\u001B[0;34m.\u001B[0m\u001B[0mget_result\u001B[0m\u001B[0;34m(\u001B[0m\u001B[0;34m)\u001B[0m\u001B[0;34m\u001B[0m\u001B[0;34m\u001B[0m\u001B[0m\n\u001B[0m\u001B[1;32m     90\u001B[0m \u001B[0;34m\u001B[0m\u001B[0m\n\u001B[1;32m     91\u001B[0m \u001B[0;34m\u001B[0m\u001B[0m\n",
      "\u001B[0;32m/opt/anaconda3/lib/python3.8/site-packages/pandas/core/reshape/merge.py\u001B[0m in \u001B[0;36mget_result\u001B[0;34m(self)\u001B[0m\n\u001B[1;32m    668\u001B[0m         \u001B[0mjoin_index\u001B[0m\u001B[0;34m,\u001B[0m \u001B[0mleft_indexer\u001B[0m\u001B[0;34m,\u001B[0m \u001B[0mright_indexer\u001B[0m \u001B[0;34m=\u001B[0m \u001B[0mself\u001B[0m\u001B[0;34m.\u001B[0m\u001B[0m_get_join_info\u001B[0m\u001B[0;34m(\u001B[0m\u001B[0;34m)\u001B[0m\u001B[0;34m\u001B[0m\u001B[0;34m\u001B[0m\u001B[0m\n\u001B[1;32m    669\u001B[0m \u001B[0;34m\u001B[0m\u001B[0m\n\u001B[0;32m--> 670\u001B[0;31m         llabels, rlabels = _items_overlap_with_suffix(\n\u001B[0m\u001B[1;32m    671\u001B[0m             \u001B[0mself\u001B[0m\u001B[0;34m.\u001B[0m\u001B[0mleft\u001B[0m\u001B[0;34m.\u001B[0m\u001B[0m_info_axis\u001B[0m\u001B[0;34m,\u001B[0m \u001B[0mself\u001B[0m\u001B[0;34m.\u001B[0m\u001B[0mright\u001B[0m\u001B[0;34m.\u001B[0m\u001B[0m_info_axis\u001B[0m\u001B[0;34m,\u001B[0m \u001B[0mself\u001B[0m\u001B[0;34m.\u001B[0m\u001B[0msuffixes\u001B[0m\u001B[0;34m\u001B[0m\u001B[0;34m\u001B[0m\u001B[0m\n\u001B[1;32m    672\u001B[0m         )\n",
      "\u001B[0;32m/opt/anaconda3/lib/python3.8/site-packages/pandas/core/reshape/merge.py\u001B[0m in \u001B[0;36m_items_overlap_with_suffix\u001B[0;34m(left, right, suffixes)\u001B[0m\n\u001B[1;32m   2089\u001B[0m \u001B[0;34m\u001B[0m\u001B[0m\n\u001B[1;32m   2090\u001B[0m     \u001B[0;32mif\u001B[0m \u001B[0;32mnot\u001B[0m \u001B[0mlsuffix\u001B[0m \u001B[0;32mand\u001B[0m \u001B[0;32mnot\u001B[0m \u001B[0mrsuffix\u001B[0m\u001B[0;34m:\u001B[0m\u001B[0;34m\u001B[0m\u001B[0;34m\u001B[0m\u001B[0m\n\u001B[0;32m-> 2091\u001B[0;31m         \u001B[0;32mraise\u001B[0m \u001B[0mValueError\u001B[0m\u001B[0;34m(\u001B[0m\u001B[0;34mf\"columns overlap but no suffix specified: {to_rename}\"\u001B[0m\u001B[0;34m)\u001B[0m\u001B[0;34m\u001B[0m\u001B[0;34m\u001B[0m\u001B[0m\n\u001B[0m\u001B[1;32m   2092\u001B[0m \u001B[0;34m\u001B[0m\u001B[0m\n\u001B[1;32m   2093\u001B[0m     \u001B[0;32mdef\u001B[0m \u001B[0mrenamer\u001B[0m\u001B[0;34m(\u001B[0m\u001B[0mx\u001B[0m\u001B[0;34m,\u001B[0m \u001B[0msuffix\u001B[0m\u001B[0;34m)\u001B[0m\u001B[0;34m:\u001B[0m\u001B[0;34m\u001B[0m\u001B[0;34m\u001B[0m\u001B[0m\n",
      "\u001B[0;31mValueError\u001B[0m: columns overlap but no suffix specified: Index(['original', 'correctness'], dtype='object')"
     ]
    }
   ],
   "source": [
    "print(dataframes[0].join(dataframes[1]))"
   ],
   "metadata": {
    "collapsed": false,
    "ExecuteTime": {
     "end_time": "2023-09-19T15:29:45.162031Z",
     "start_time": "2023-09-19T15:29:45.134157Z"
    }
   }
  },
  {
   "cell_type": "code",
   "execution_count": 22,
   "outputs": [
    {
     "data": {
      "text/plain": "    original  correctness  original  correctness  original  correctness  \\\n0       next        0.473       cut        0.479       say        0.468   \n1        say        0.479       way        0.487      help        0.470   \n2     permit        0.480    permit        0.487     voice        0.476   \n3       area        0.481      next        0.488       way        0.480   \n4        man        0.482    choose        0.490       man        0.481   \n5      voice        0.484       man        0.492    choose        0.482   \n6        way        0.485     house        0.493    permit        0.483   \n7        cut        0.485       say        0.495       cut        0.486   \n8     return        0.486     voice        0.495   trouble        0.488   \n9       help        0.487      full        0.495      area        0.491   \n10    choose        0.489   subject        0.496      move        0.492   \n11     house        0.493      team        0.498     guess        0.492   \n12      just        0.493      help        0.499      next        0.496   \n13       own        0.494   totally        0.501       own        0.497   \n14      grow        0.495    accept        0.502    accept        0.499   \n15      very        0.497      area        0.502      very        0.500   \n16   subject        0.498       big        0.502     house        0.500   \n17  business        0.504    return        0.503      nice        0.500   \n18    device        0.505      just        0.505      many        0.501   \n19   trouble        0.505      move        0.505      just        0.502   \n20      nice        0.505      grow        0.508   totally        0.503   \n21      file        0.506      very        0.508    return        0.503   \n22      full        0.507   trouble        0.508      lead        0.505   \n23      move        0.507       own        0.508    device        0.506   \n24      lead        0.509      lead        0.510  business        0.507   \n25    accept        0.510    device        0.510      file        0.508   \n26     guess        0.510  business        0.514      team        0.509   \n27   monitor        0.511      more        0.515      grow        0.510   \n28       try        0.512     guess        0.516      fell        0.511   \n29       big        0.512      size        0.516     equal        0.512   \n30  analysis        0.517      nice        0.516      size        0.513   \n31   perhaps        0.520   perhaps        0.517       try        0.515   \n32     equal        0.520      many        0.519   perhaps        0.515   \n33     start        0.520       try        0.520   monitor        0.516   \n34      team        0.522     small        0.521       guy        0.516   \n35      many        0.523      fell        0.521  analysis        0.517   \n36     small        0.524   monitor        0.522      more        0.518   \n37      size        0.525     equal        0.523       big        0.519   \n38   totally        0.525      idea        0.523      full        0.520   \n39   provide        0.526   provide        0.524   provide        0.521   \n40       guy        0.527      file        0.526     start        0.522   \n41      idea        0.528       guy        0.528   subject        0.524   \n42      fell        0.530     first        0.530     first        0.526   \n43     first        0.536  analysis        0.539     small        0.527   \n44      more        0.538     start        0.543      idea        0.532   \n\n    original  correctness  \n0        man        0.474  \n1        say        0.475  \n2     choose        0.476  \n3        way        0.477  \n4      voice        0.480  \n5        cut        0.484  \n6       move        0.487  \n7       next        0.489  \n8       area        0.489  \n9     return        0.492  \n10      very        0.493  \n11    device        0.495  \n12  business        0.497  \n13      grow        0.499  \n14      help        0.499  \n15     house        0.499  \n16   trouble        0.499  \n17       own        0.500  \n18     guess        0.502  \n19   totally        0.502  \n20    permit        0.504  \n21      lead        0.504  \n22     equal        0.504  \n23      just        0.505  \n24    accept        0.507  \n25      many        0.507  \n26      nice        0.508  \n27      full        0.512  \n28      size        0.512  \n29      file        0.513  \n30      fell        0.513  \n31     small        0.514  \n32      team        0.514  \n33  analysis        0.514  \n34   perhaps        0.515  \n35      idea        0.518  \n36   monitor        0.518  \n37   subject        0.520  \n38       try        0.521  \n39      more        0.522  \n40       guy        0.524  \n41     start        0.525  \n42   provide        0.531  \n43     first        0.534  \n44       big        0.534  ",
      "text/html": "<div>\n<style scoped>\n    .dataframe tbody tr th:only-of-type {\n        vertical-align: middle;\n    }\n\n    .dataframe tbody tr th {\n        vertical-align: top;\n    }\n\n    .dataframe thead th {\n        text-align: right;\n    }\n</style>\n<table border=\"1\" class=\"dataframe\">\n  <thead>\n    <tr style=\"text-align: right;\">\n      <th></th>\n      <th>original</th>\n      <th>correctness</th>\n      <th>original</th>\n      <th>correctness</th>\n      <th>original</th>\n      <th>correctness</th>\n      <th>original</th>\n      <th>correctness</th>\n    </tr>\n  </thead>\n  <tbody>\n    <tr>\n      <th>0</th>\n      <td>next</td>\n      <td>0.473</td>\n      <td>cut</td>\n      <td>0.479</td>\n      <td>say</td>\n      <td>0.468</td>\n      <td>man</td>\n      <td>0.474</td>\n    </tr>\n    <tr>\n      <th>1</th>\n      <td>say</td>\n      <td>0.479</td>\n      <td>way</td>\n      <td>0.487</td>\n      <td>help</td>\n      <td>0.470</td>\n      <td>say</td>\n      <td>0.475</td>\n    </tr>\n    <tr>\n      <th>2</th>\n      <td>permit</td>\n      <td>0.480</td>\n      <td>permit</td>\n      <td>0.487</td>\n      <td>voice</td>\n      <td>0.476</td>\n      <td>choose</td>\n      <td>0.476</td>\n    </tr>\n    <tr>\n      <th>3</th>\n      <td>area</td>\n      <td>0.481</td>\n      <td>next</td>\n      <td>0.488</td>\n      <td>way</td>\n      <td>0.480</td>\n      <td>way</td>\n      <td>0.477</td>\n    </tr>\n    <tr>\n      <th>4</th>\n      <td>man</td>\n      <td>0.482</td>\n      <td>choose</td>\n      <td>0.490</td>\n      <td>man</td>\n      <td>0.481</td>\n      <td>voice</td>\n      <td>0.480</td>\n    </tr>\n    <tr>\n      <th>5</th>\n      <td>voice</td>\n      <td>0.484</td>\n      <td>man</td>\n      <td>0.492</td>\n      <td>choose</td>\n      <td>0.482</td>\n      <td>cut</td>\n      <td>0.484</td>\n    </tr>\n    <tr>\n      <th>6</th>\n      <td>way</td>\n      <td>0.485</td>\n      <td>house</td>\n      <td>0.493</td>\n      <td>permit</td>\n      <td>0.483</td>\n      <td>move</td>\n      <td>0.487</td>\n    </tr>\n    <tr>\n      <th>7</th>\n      <td>cut</td>\n      <td>0.485</td>\n      <td>say</td>\n      <td>0.495</td>\n      <td>cut</td>\n      <td>0.486</td>\n      <td>next</td>\n      <td>0.489</td>\n    </tr>\n    <tr>\n      <th>8</th>\n      <td>return</td>\n      <td>0.486</td>\n      <td>voice</td>\n      <td>0.495</td>\n      <td>trouble</td>\n      <td>0.488</td>\n      <td>area</td>\n      <td>0.489</td>\n    </tr>\n    <tr>\n      <th>9</th>\n      <td>help</td>\n      <td>0.487</td>\n      <td>full</td>\n      <td>0.495</td>\n      <td>area</td>\n      <td>0.491</td>\n      <td>return</td>\n      <td>0.492</td>\n    </tr>\n    <tr>\n      <th>10</th>\n      <td>choose</td>\n      <td>0.489</td>\n      <td>subject</td>\n      <td>0.496</td>\n      <td>move</td>\n      <td>0.492</td>\n      <td>very</td>\n      <td>0.493</td>\n    </tr>\n    <tr>\n      <th>11</th>\n      <td>house</td>\n      <td>0.493</td>\n      <td>team</td>\n      <td>0.498</td>\n      <td>guess</td>\n      <td>0.492</td>\n      <td>device</td>\n      <td>0.495</td>\n    </tr>\n    <tr>\n      <th>12</th>\n      <td>just</td>\n      <td>0.493</td>\n      <td>help</td>\n      <td>0.499</td>\n      <td>next</td>\n      <td>0.496</td>\n      <td>business</td>\n      <td>0.497</td>\n    </tr>\n    <tr>\n      <th>13</th>\n      <td>own</td>\n      <td>0.494</td>\n      <td>totally</td>\n      <td>0.501</td>\n      <td>own</td>\n      <td>0.497</td>\n      <td>grow</td>\n      <td>0.499</td>\n    </tr>\n    <tr>\n      <th>14</th>\n      <td>grow</td>\n      <td>0.495</td>\n      <td>accept</td>\n      <td>0.502</td>\n      <td>accept</td>\n      <td>0.499</td>\n      <td>help</td>\n      <td>0.499</td>\n    </tr>\n    <tr>\n      <th>15</th>\n      <td>very</td>\n      <td>0.497</td>\n      <td>area</td>\n      <td>0.502</td>\n      <td>very</td>\n      <td>0.500</td>\n      <td>house</td>\n      <td>0.499</td>\n    </tr>\n    <tr>\n      <th>16</th>\n      <td>subject</td>\n      <td>0.498</td>\n      <td>big</td>\n      <td>0.502</td>\n      <td>house</td>\n      <td>0.500</td>\n      <td>trouble</td>\n      <td>0.499</td>\n    </tr>\n    <tr>\n      <th>17</th>\n      <td>business</td>\n      <td>0.504</td>\n      <td>return</td>\n      <td>0.503</td>\n      <td>nice</td>\n      <td>0.500</td>\n      <td>own</td>\n      <td>0.500</td>\n    </tr>\n    <tr>\n      <th>18</th>\n      <td>device</td>\n      <td>0.505</td>\n      <td>just</td>\n      <td>0.505</td>\n      <td>many</td>\n      <td>0.501</td>\n      <td>guess</td>\n      <td>0.502</td>\n    </tr>\n    <tr>\n      <th>19</th>\n      <td>trouble</td>\n      <td>0.505</td>\n      <td>move</td>\n      <td>0.505</td>\n      <td>just</td>\n      <td>0.502</td>\n      <td>totally</td>\n      <td>0.502</td>\n    </tr>\n    <tr>\n      <th>20</th>\n      <td>nice</td>\n      <td>0.505</td>\n      <td>grow</td>\n      <td>0.508</td>\n      <td>totally</td>\n      <td>0.503</td>\n      <td>permit</td>\n      <td>0.504</td>\n    </tr>\n    <tr>\n      <th>21</th>\n      <td>file</td>\n      <td>0.506</td>\n      <td>very</td>\n      <td>0.508</td>\n      <td>return</td>\n      <td>0.503</td>\n      <td>lead</td>\n      <td>0.504</td>\n    </tr>\n    <tr>\n      <th>22</th>\n      <td>full</td>\n      <td>0.507</td>\n      <td>trouble</td>\n      <td>0.508</td>\n      <td>lead</td>\n      <td>0.505</td>\n      <td>equal</td>\n      <td>0.504</td>\n    </tr>\n    <tr>\n      <th>23</th>\n      <td>move</td>\n      <td>0.507</td>\n      <td>own</td>\n      <td>0.508</td>\n      <td>device</td>\n      <td>0.506</td>\n      <td>just</td>\n      <td>0.505</td>\n    </tr>\n    <tr>\n      <th>24</th>\n      <td>lead</td>\n      <td>0.509</td>\n      <td>lead</td>\n      <td>0.510</td>\n      <td>business</td>\n      <td>0.507</td>\n      <td>accept</td>\n      <td>0.507</td>\n    </tr>\n    <tr>\n      <th>25</th>\n      <td>accept</td>\n      <td>0.510</td>\n      <td>device</td>\n      <td>0.510</td>\n      <td>file</td>\n      <td>0.508</td>\n      <td>many</td>\n      <td>0.507</td>\n    </tr>\n    <tr>\n      <th>26</th>\n      <td>guess</td>\n      <td>0.510</td>\n      <td>business</td>\n      <td>0.514</td>\n      <td>team</td>\n      <td>0.509</td>\n      <td>nice</td>\n      <td>0.508</td>\n    </tr>\n    <tr>\n      <th>27</th>\n      <td>monitor</td>\n      <td>0.511</td>\n      <td>more</td>\n      <td>0.515</td>\n      <td>grow</td>\n      <td>0.510</td>\n      <td>full</td>\n      <td>0.512</td>\n    </tr>\n    <tr>\n      <th>28</th>\n      <td>try</td>\n      <td>0.512</td>\n      <td>guess</td>\n      <td>0.516</td>\n      <td>fell</td>\n      <td>0.511</td>\n      <td>size</td>\n      <td>0.512</td>\n    </tr>\n    <tr>\n      <th>29</th>\n      <td>big</td>\n      <td>0.512</td>\n      <td>size</td>\n      <td>0.516</td>\n      <td>equal</td>\n      <td>0.512</td>\n      <td>file</td>\n      <td>0.513</td>\n    </tr>\n    <tr>\n      <th>30</th>\n      <td>analysis</td>\n      <td>0.517</td>\n      <td>nice</td>\n      <td>0.516</td>\n      <td>size</td>\n      <td>0.513</td>\n      <td>fell</td>\n      <td>0.513</td>\n    </tr>\n    <tr>\n      <th>31</th>\n      <td>perhaps</td>\n      <td>0.520</td>\n      <td>perhaps</td>\n      <td>0.517</td>\n      <td>try</td>\n      <td>0.515</td>\n      <td>small</td>\n      <td>0.514</td>\n    </tr>\n    <tr>\n      <th>32</th>\n      <td>equal</td>\n      <td>0.520</td>\n      <td>many</td>\n      <td>0.519</td>\n      <td>perhaps</td>\n      <td>0.515</td>\n      <td>team</td>\n      <td>0.514</td>\n    </tr>\n    <tr>\n      <th>33</th>\n      <td>start</td>\n      <td>0.520</td>\n      <td>try</td>\n      <td>0.520</td>\n      <td>monitor</td>\n      <td>0.516</td>\n      <td>analysis</td>\n      <td>0.514</td>\n    </tr>\n    <tr>\n      <th>34</th>\n      <td>team</td>\n      <td>0.522</td>\n      <td>small</td>\n      <td>0.521</td>\n      <td>guy</td>\n      <td>0.516</td>\n      <td>perhaps</td>\n      <td>0.515</td>\n    </tr>\n    <tr>\n      <th>35</th>\n      <td>many</td>\n      <td>0.523</td>\n      <td>fell</td>\n      <td>0.521</td>\n      <td>analysis</td>\n      <td>0.517</td>\n      <td>idea</td>\n      <td>0.518</td>\n    </tr>\n    <tr>\n      <th>36</th>\n      <td>small</td>\n      <td>0.524</td>\n      <td>monitor</td>\n      <td>0.522</td>\n      <td>more</td>\n      <td>0.518</td>\n      <td>monitor</td>\n      <td>0.518</td>\n    </tr>\n    <tr>\n      <th>37</th>\n      <td>size</td>\n      <td>0.525</td>\n      <td>equal</td>\n      <td>0.523</td>\n      <td>big</td>\n      <td>0.519</td>\n      <td>subject</td>\n      <td>0.520</td>\n    </tr>\n    <tr>\n      <th>38</th>\n      <td>totally</td>\n      <td>0.525</td>\n      <td>idea</td>\n      <td>0.523</td>\n      <td>full</td>\n      <td>0.520</td>\n      <td>try</td>\n      <td>0.521</td>\n    </tr>\n    <tr>\n      <th>39</th>\n      <td>provide</td>\n      <td>0.526</td>\n      <td>provide</td>\n      <td>0.524</td>\n      <td>provide</td>\n      <td>0.521</td>\n      <td>more</td>\n      <td>0.522</td>\n    </tr>\n    <tr>\n      <th>40</th>\n      <td>guy</td>\n      <td>0.527</td>\n      <td>file</td>\n      <td>0.526</td>\n      <td>start</td>\n      <td>0.522</td>\n      <td>guy</td>\n      <td>0.524</td>\n    </tr>\n    <tr>\n      <th>41</th>\n      <td>idea</td>\n      <td>0.528</td>\n      <td>guy</td>\n      <td>0.528</td>\n      <td>subject</td>\n      <td>0.524</td>\n      <td>start</td>\n      <td>0.525</td>\n    </tr>\n    <tr>\n      <th>42</th>\n      <td>fell</td>\n      <td>0.530</td>\n      <td>first</td>\n      <td>0.530</td>\n      <td>first</td>\n      <td>0.526</td>\n      <td>provide</td>\n      <td>0.531</td>\n    </tr>\n    <tr>\n      <th>43</th>\n      <td>first</td>\n      <td>0.536</td>\n      <td>analysis</td>\n      <td>0.539</td>\n      <td>small</td>\n      <td>0.527</td>\n      <td>first</td>\n      <td>0.534</td>\n    </tr>\n    <tr>\n      <th>44</th>\n      <td>more</td>\n      <td>0.538</td>\n      <td>start</td>\n      <td>0.543</td>\n      <td>idea</td>\n      <td>0.532</td>\n      <td>big</td>\n      <td>0.534</td>\n    </tr>\n  </tbody>\n</table>\n</div>"
     },
     "execution_count": 22,
     "metadata": {},
     "output_type": "execute_result"
    }
   ],
   "source": [
    "pd.concat(dataframes, axis=1)"
   ],
   "metadata": {
    "collapsed": false,
    "ExecuteTime": {
     "end_time": "2023-09-19T15:31:37.566049Z",
     "start_time": "2023-09-19T15:31:37.547571Z"
    }
   }
  },
  {
   "cell_type": "code",
   "execution_count": null,
   "outputs": [],
   "source": [],
   "metadata": {
    "collapsed": false
   }
  }
 ],
 "metadata": {
  "kernelspec": {
   "display_name": "Python 3",
   "language": "python",
   "name": "python3"
  },
  "language_info": {
   "codemirror_mode": {
    "name": "ipython",
    "version": 2
   },
   "file_extension": ".py",
   "mimetype": "text/x-python",
   "name": "python",
   "nbconvert_exporter": "python",
   "pygments_lexer": "ipython2",
   "version": "2.7.6"
  }
 },
 "nbformat": 4,
 "nbformat_minor": 0
}
