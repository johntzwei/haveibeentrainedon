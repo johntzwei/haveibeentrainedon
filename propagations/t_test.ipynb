{
 "cells": [
  {
   "cell_type": "code",
   "execution_count": 1,
   "metadata": {
    "collapsed": true,
    "ExecuteTime": {
     "end_time": "2023-09-26T00:59:27.832694Z",
     "start_time": "2023-09-26T00:59:27.832322Z"
    }
   },
   "outputs": [],
   "source": [
    "#This sets up a t-test to test propagations between clean and perturbed models. Note that this only works right now because we have both the clean and perturbed model. We won't be able to to this test when we only have the perturbed model\n",
    "\n",
    "import pandas as pd\n",
    "import numpy as np\n",
    "import scipy.stats as stats\n",
    "import seaborn as sns\n",
    "sns.set()\n"
   ]
  },
  {
   "cell_type": "code",
   "execution_count": 2,
   "outputs": [],
   "source": [
    "input_fn = './../models/160M/160M_exp2_0_perturb/propagation_inputs.csv'\n",
    "original_fn = './../models/160M/160M_exp2_0_clean/scores.csv'\n",
    "perturbed_fn = './../models/160M/160M_exp2_0_perturb/scores.csv'"
   ],
   "metadata": {
    "collapsed": false,
    "ExecuteTime": {
     "end_time": "2023-09-26T00:59:28.014137Z",
     "start_time": "2023-09-26T00:59:27.889061Z"
    }
   }
  },
  {
   "cell_type": "code",
   "execution_count": 3,
   "outputs": [
    {
     "name": "stdout",
     "output_type": "stream",
     "text": [
      "Index(['example_index', 'text', 'sub_index', 'original', 'synonym',\n",
      "       'substituted?'],\n",
      "      dtype='object')\n"
     ]
    }
   ],
   "source": [
    "inputs = pd.read_csv(input_fn)\n",
    "print(inputs.columns)"
   ],
   "metadata": {
    "collapsed": false,
    "ExecuteTime": {
     "end_time": "2023-09-26T01:00:19.785637Z",
     "start_time": "2023-09-26T01:00:10.289576Z"
    }
   }
  },
  {
   "cell_type": "code",
   "execution_count": 4,
   "outputs": [
    {
     "name": "stdout",
     "output_type": "stream",
     "text": [
      "   example_index                                               text  \\\n",
      "0         920792  I also tried passing the parameters directly t...   \n",
      "1         930635  Tag Archives: Marcilhac\\n\\nCombined Yoga & Can...   \n",
      "2         716255  Recent Posts\\n\\nThanks so far. I guess it's go...   \n",
      "3         385756  28 June 2012\\n\\nBook du jour - ball of words\\n...   \n",
      "4         976260  It was our weekly routine. A ceremony practise...   \n",
      "\n",
      "   sub_index original synonym  substituted?  \n",
      "0        276     nice    good         False  \n",
      "1      62494     nice    good          True  \n",
      "2         41     nice    good          True  \n",
      "3        823     nice    good         False  \n",
      "4      41774     nice    good         False  \n"
     ]
    }
   ],
   "source": [
    "print(inputs.head(5))"
   ],
   "metadata": {
    "collapsed": false,
    "ExecuteTime": {
     "end_time": "2023-09-26T01:00:45.413755Z",
     "start_time": "2023-09-26T01:00:45.242580Z"
    }
   }
  },
  {
   "cell_type": "code",
   "execution_count": 5,
   "outputs": [],
   "source": [
    "#loads the scored files\n",
    "original = pd.read_csv(original_fn, header=None)\n",
    "original.columns = ['example_idx', 'w1_prob', 'w2_prob', 'w1_rank', 'w2_rank']\n",
    "\n",
    "perturbed = pd.read_csv(perturbed_fn, header=None)\n",
    "perturbed.columns = ['example_idx', 'w1_prob', 'w2_prob', 'w1_rank', 'w2_rank']"
   ],
   "metadata": {
    "collapsed": false,
    "ExecuteTime": {
     "end_time": "2023-09-26T01:00:55.585906Z",
     "start_time": "2023-09-26T01:00:55.496089Z"
    }
   }
  },
  {
   "cell_type": "code",
   "execution_count": 8,
   "outputs": [],
   "source": [
    "#Only analyze the examples that were perturbed\n",
    "original = original[inputs[\"substituted?\"]]\n",
    "perturbed = perturbed[inputs[\"substituted?\"]]"
   ],
   "metadata": {
    "collapsed": false,
    "ExecuteTime": {
     "end_time": "2023-09-26T01:04:44.007922Z",
     "start_time": "2023-09-26T01:04:44.003132Z"
    }
   }
  },
  {
   "cell_type": "code",
   "execution_count": 7,
   "outputs": [
    {
     "name": "stdout",
     "output_type": "stream",
     "text": [
      "['nice' 'size' 'way' 'small' 'guy' 'start' 'just' 'first' 'next' 'permit'\n",
      " 'business' 'monitor' 'big' 'more' 'trouble' 'return' 'lead' 'very'\n",
      " 'totally' 'help' 'area' 'idea' 'device' 'equal' 'subject' 'man' 'own'\n",
      " 'choose' 'house' 'file' 'try' 'provide' 'analysis' 'fell' 'full' 'move'\n",
      " 'cut' 'many' 'perhaps' 'guess' 'accept' 'say' 'grow' 'voice' 'team']\n"
     ]
    }
   ],
   "source": [
    "print(inputs[\"original\"].unique())"
   ],
   "metadata": {
    "collapsed": false,
    "ExecuteTime": {
     "end_time": "2023-09-26T01:03:01.519445Z",
     "start_time": "2023-09-26T01:03:01.513004Z"
    }
   }
  },
  {
   "cell_type": "code",
   "execution_count": 26,
   "outputs": [],
   "source": [
    "out_file = []\n",
    "for pair in inputs[\"original\"].unique():\n",
    "    #mask for analyzing a single perturbation example \"pair\"\n",
    "    mask = inputs[\"original\"] == pair\n",
    "    temp_original = original[\"w2_prob\"][mask] - original[\"w1_prob\"][mask]\n",
    "    temp_perturbed = perturbed[\"w2_prob\"][mask] - perturbed[\"w1_prob\"][mask]\n",
    "\n",
    "    # print(temp_original.values.mean())\n",
    "    # print(temp_perturbed.values.mean())\n",
    "    temp_arr = [pair]\n",
    "    result = stats.ttest_rel(10000 * temp_original.values, 10000 * temp_perturbed.values)\n",
    "    temp_arr += [result.statistic, result.pvalue]\n",
    "    out_file += [temp_arr]\n",
    "\n"
   ],
   "metadata": {
    "collapsed": false,
    "ExecuteTime": {
     "end_time": "2023-09-26T01:25:36.879320Z",
     "start_time": "2023-09-26T01:25:36.565071Z"
    }
   }
  },
  {
   "cell_type": "code",
   "execution_count": 28,
   "outputs": [],
   "source": [
    "df = pd.DataFrame(out_file, columns=[\"word_pair\", \"statistic\", \"pvalue\"])"
   ],
   "metadata": {
    "collapsed": false,
    "ExecuteTime": {
     "end_time": "2023-09-26T01:26:22.126927Z",
     "start_time": "2023-09-26T01:26:22.126634Z"
    }
   }
  },
  {
   "cell_type": "code",
   "execution_count": 30,
   "outputs": [],
   "source": [
    "df.to_csv(\"./../models/160M/160M_exp2_0_perturb/t-test.csv\")"
   ],
   "metadata": {
    "collapsed": false,
    "ExecuteTime": {
     "end_time": "2023-09-26T01:27:22.369800Z",
     "start_time": "2023-09-26T01:27:22.359434Z"
    }
   }
  },
  {
   "cell_type": "code",
   "execution_count": null,
   "outputs": [],
   "source": [],
   "metadata": {
    "collapsed": false
   }
  }
 ],
 "metadata": {
  "kernelspec": {
   "display_name": "Python 3",
   "language": "python",
   "name": "python3"
  },
  "language_info": {
   "codemirror_mode": {
    "name": "ipython",
    "version": 2
   },
   "file_extension": ".py",
   "mimetype": "text/x-python",
   "name": "python",
   "nbconvert_exporter": "python",
   "pygments_lexer": "ipython2",
   "version": "2.7.6"
  }
 },
 "nbformat": 4,
 "nbformat_minor": 0
}
