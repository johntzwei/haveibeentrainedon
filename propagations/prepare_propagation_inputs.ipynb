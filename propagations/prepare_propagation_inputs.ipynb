{
 "cells": [
  {
   "cell_type": "code",
   "execution_count": 1,
   "id": "f342f177",
   "metadata": {
    "ExecuteTime": {
     "end_time": "2023-09-10T18:10:21.578085Z",
     "start_time": "2023-09-10T18:10:19.514822Z"
    }
   },
   "outputs": [],
   "source": [
    "import datasets\n",
    "import numpy as np\n",
    "from tqdm.notebook import tqdm\n",
    "import csv\n",
    "import pandas as pd\n",
    "\n",
    "from substitutions import tenk_word_pairs as word_pairs"
   ]
  },
  {
   "cell_type": "code",
   "execution_count": 2,
   "id": "82036c08",
   "metadata": {
    "ExecuteTime": {
     "end_time": "2023-09-10T18:10:27.719834Z",
     "start_time": "2023-09-10T18:10:27.715826Z"
    }
   },
   "outputs": [],
   "source": [
    "ds_path = '/home/ryan/haveibeentrainedon/data/45e8_tokens_perturbed.hf'\n",
    "num_proc = 16\n",
    "n_per_sub = 1000\n",
    "seed = 416"
   ]
  },
  {
   "cell_type": "code",
   "execution_count": 3,
   "id": "a0a499ee",
   "metadata": {
    "ExecuteTime": {
     "end_time": "2023-09-10T18:10:28.567467Z",
     "start_time": "2023-09-10T18:10:28.227742Z"
    }
   },
   "outputs": [],
   "source": [
    "ds = datasets.load_from_disk(ds_path)"
   ]
  },
  {
   "cell_type": "code",
   "execution_count": 4,
   "id": "e33c8e64",
   "metadata": {
    "ExecuteTime": {
     "end_time": "2023-09-10T18:10:29.729467Z",
     "start_time": "2023-09-10T18:10:29.726049Z"
    }
   },
   "outputs": [
    {
     "data": {
      "text/plain": "Dataset({\n    features: ['text', 'meta', 'hash', 'is_original', 'substitutions', 'order'],\n    num_rows: 2531096\n})"
     },
     "execution_count": 4,
     "metadata": {},
     "output_type": "execute_result"
    }
   ],
   "source": [
    "ds"
   ]
  },
  {
   "cell_type": "code",
   "execution_count": 5,
   "id": "cc88cb33",
   "metadata": {
    "ExecuteTime": {
     "end_time": "2023-09-10T18:11:24.373451Z",
     "start_time": "2023-09-10T18:10:31.608829Z"
    }
   },
   "outputs": [
    {
     "name": "stdout",
     "output_type": "stream",
     "text": [
      "(2531096, 45)\n"
     ]
    }
   ],
   "source": [
    "swap_arr = np.array(ds[\"substitutions\"])\n",
    "print(swap_arr.shape)"
   ]
  },
  {
   "cell_type": "code",
   "execution_count": 6,
   "id": "4b6fa5fe",
   "metadata": {
    "ExecuteTime": {
     "end_time": "2023-09-10T18:12:20.649751Z",
     "start_time": "2023-09-10T18:11:51.365931Z"
    }
   },
   "outputs": [
    {
     "data": {
      "text/plain": "  0%|          | 0/45 [00:00<?, ?it/s]",
      "application/vnd.jupyter.widget-view+json": {
       "version_major": 2,
       "version_minor": 0,
       "model_id": "fa55d11a21494d73b52ad8abc3e9b62e"
      }
     },
     "metadata": {},
     "output_type": "display_data"
    }
   ],
   "source": [
    "# This random state allows the perturbations to be reproducible\n",
    "rs = np.random.RandomState(seed=416)\n",
    "\n",
    "#take the sequences to perturb\n",
    "do_sub = []\n",
    "examples = []\n",
    "for i, (w1, w2) in tqdm(enumerate(word_pairs), total=len(word_pairs)):\n",
    "    # create indices\n",
    "    idx = np.arange(len(swap_arr))\n",
    "    has_sub = idx[swap_arr[:, i] == 1]\n",
    "    rs.shuffle(has_sub)\n",
    "    do_sub.append(list(has_sub[:n_per_sub]))\n",
    "    \n",
    "    no_sub = has_sub[n_per_sub:n_per_sub+2000] #Note that we are adding 2000\n",
    "    subset_ds = ds.select(no_sub)\n",
    "    \n",
    "    # assert that all examples received the appropriate substitution\n",
    "    assert(all([ str(i) in j for j in ds.select(do_sub[-1])['order']]))\n",
    "    assert(all([ f':{i}:' not in '{j}:' for j in ds.select(no_sub)['order']]))\n",
    "    \n",
    "    for ex_idx, j in zip(no_sub, subset_ds):\n",
    "        examples.append((ex_idx, j['text'], j['text'].index(f' {w1} '), w1, w2))"
   ]
  },
  {
   "cell_type": "code",
   "execution_count": 7,
   "id": "a38f3ec5",
   "metadata": {
    "ExecuteTime": {
     "end_time": "2023-09-10T18:13:40.182082Z",
     "start_time": "2023-09-10T18:12:24.298Z"
    }
   },
   "outputs": [],
   "source": [
    "df = pd.DataFrame(examples)\n",
    "df.columns = ['example_index', 'text', 'sub_index', 'original', 'synonym']\n",
    "df.to_csv('./non-perturbed_inputs.csv', index=False)"
   ]
  },
  {
   "cell_type": "code",
   "execution_count": 8,
   "id": "544564c7",
   "metadata": {
    "ExecuteTime": {
     "end_time": "2023-09-10T18:14:42.725411Z",
     "start_time": "2023-09-10T18:14:19.712827Z"
    }
   },
   "outputs": [
    {
     "data": {
      "text/plain": "  0%|          | 0/45 [00:00<?, ?it/s]",
      "application/vnd.jupyter.widget-view+json": {
       "version_major": 2,
       "version_minor": 0,
       "model_id": "888f3a887919424eb1e6195b62b775e8"
      }
     },
     "metadata": {},
     "output_type": "display_data"
    }
   ],
   "source": [
    "# This random state allows the perturbations to be reproducible\n",
    "rs = np.random.RandomState(seed=416)\n",
    "\n",
    "#take the sequences to perturb\n",
    "do_sub = []\n",
    "examples = []\n",
    "for i, (w1, w2) in tqdm(enumerate(word_pairs), total=len(word_pairs)):\n",
    "    # create indices\n",
    "    idx = np.arange(len(swap_arr))\n",
    "    has_sub = idx[swap_arr[:, i] == 1]\n",
    "    rs.shuffle(has_sub)\n",
    "    do_sub.append(list(has_sub[:n_per_sub]))\n",
    "    \n",
    "    subset_ds = ds.select(do_sub[-1])\n",
    "    \n",
    "    # assert that all examples received the appropriate substitution\n",
    "    assert(all([ str(i) in j for j in ds.select(do_sub[-1])['order']]))\n",
    "    \n",
    "    for ex_idx, j in zip(do_sub[-1], subset_ds):\n",
    "        examples.append((ex_idx, j['text'], j['text'].index(f' {w2} '), w1, w2))"
   ]
  },
  {
   "cell_type": "code",
   "execution_count": 9,
   "id": "2b756f64",
   "metadata": {
    "ExecuteTime": {
     "end_time": "2023-09-10T18:15:31.144160Z",
     "start_time": "2023-09-10T18:14:53.465153Z"
    }
   },
   "outputs": [],
   "source": [
    "df = pd.DataFrame(examples)\n",
    "df.columns = ['example_index', 'text', 'sub_index', 'original', 'synonym']\n",
    "df.to_csv('./perturbed_inputs.csv', index=False)"
   ]
  },
  {
   "cell_type": "code",
   "execution_count": null,
   "outputs": [],
   "source": [],
   "metadata": {
    "collapsed": false
   }
  }
 ],
 "metadata": {
  "kernelspec": {
   "name": "pytorch1.12",
   "language": "python",
   "display_name": "pytorch1.12"
  },
  "language_info": {
   "codemirror_mode": {
    "name": "ipython",
    "version": 3
   },
   "file_extension": ".py",
   "mimetype": "text/x-python",
   "name": "python",
   "nbconvert_exporter": "python",
   "pygments_lexer": "ipython3",
   "version": "3.8.13"
  }
 },
 "nbformat": 4,
 "nbformat_minor": 5
}
