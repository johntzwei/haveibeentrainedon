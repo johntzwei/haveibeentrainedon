{
 "cells": [
  {
   "cell_type": "code",
   "execution_count": 1,
   "id": "f342f177",
   "metadata": {},
   "outputs": [],
   "source": [
    "import datasets\n",
    "import numpy as np\n",
    "from tqdm.notebook import tqdm\n",
    "import csv\n",
    "import pandas as pd\n",
    "\n",
    "from substitutions import tenk_word_pairs as word_pairs"
   ]
  },
  {
   "cell_type": "code",
   "execution_count": 2,
   "id": "82036c08",
   "metadata": {},
   "outputs": [],
   "source": [
    "ds_path = '../data/17e7_tokens_perturbed.hf/'\n",
    "num_proc = 16\n",
    "do_sub_n = 500\n",
    "no_sub_n = 500\n",
    "seed = 119"
   ]
  },
  {
   "cell_type": "code",
   "execution_count": 3,
   "id": "a0a499ee",
   "metadata": {},
   "outputs": [],
   "source": [
    "ds = datasets.load_from_disk(ds_path)"
   ]
  },
  {
   "cell_type": "code",
   "execution_count": 4,
   "id": "e33c8e64",
   "metadata": {},
   "outputs": [
    {
     "data": {
      "text/plain": [
       "Dataset({\n",
       "    features: ['text', 'meta', 'hash', 'is_original', 'substitutions', 'order'],\n",
       "    num_rows: 989378\n",
       "})"
      ]
     },
     "execution_count": 4,
     "metadata": {},
     "output_type": "execute_result"
    }
   ],
   "source": [
    "ds"
   ]
  },
  {
   "cell_type": "code",
   "execution_count": 5,
   "id": "cc88cb33",
   "metadata": {},
   "outputs": [
    {
     "name": "stdout",
     "output_type": "stream",
     "text": [
      "(989378, 45)\n"
     ]
    }
   ],
   "source": [
    "swap_arr = np.array(ds[\"substitutions\"])\n",
    "print(swap_arr.shape)"
   ]
  },
  {
   "cell_type": "code",
   "execution_count": 6,
   "id": "4b6fa5fe",
   "metadata": {},
   "outputs": [
    {
     "data": {
      "application/vnd.jupyter.widget-view+json": {
       "model_id": "23b6610b4df44815b97bba18f1db498f",
       "version_major": 2,
       "version_minor": 0
      },
      "text/plain": [
       "  0%|          | 0/45 [00:00<?, ?it/s]"
      ]
     },
     "metadata": {},
     "output_type": "display_data"
    }
   ],
   "source": [
    "# This random state allows the perturbations to be reproducible\n",
    "rs = np.random.RandomState(seed=seed)\n",
    "\n",
    "#take the sequences to perturb\n",
    "do_sub = []\n",
    "examples = []\n",
    "for i, (w1, w2) in tqdm(enumerate(word_pairs), total=len(word_pairs)):\n",
    "    # create indices\n",
    "    idx = np.arange(len(swap_arr))\n",
    "    has_sub = idx[swap_arr[:, i] == 1]\n",
    "    rs.shuffle(has_sub)\n",
    "    do_sub.append(list(has_sub[:do_sub_n]))\n",
    "    \n",
    "    no_sub = has_sub[do_sub_n:do_sub_n+no_sub_n]\n",
    "    subset_ds = ds.select(no_sub)\n",
    "    \n",
    "    # assert that all examples received the appropriate substitution\n",
    "    assert(all([ str(i) in j for j in ds.select(do_sub[-1])['order']]))\n",
    "    assert(all([ f':{i}:' not in '{j}:' for j in ds.select(no_sub)['order']]))\n",
    "    \n",
    "    for ex_idx, j in zip(no_sub, subset_ds):\n",
    "        examples.append((ex_idx, j['text'], j['text'].index(f' {w1} '), w1, w2, False))"
   ]
  },
  {
   "cell_type": "code",
   "execution_count": 7,
   "id": "544564c7",
   "metadata": {},
   "outputs": [
    {
     "data": {
      "application/vnd.jupyter.widget-view+json": {
       "model_id": "70f0ee422f464ab3be7702074afc9c24",
       "version_major": 2,
       "version_minor": 0
      },
      "text/plain": [
       "  0%|          | 0/45 [00:00<?, ?it/s]"
      ]
     },
     "metadata": {},
     "output_type": "display_data"
    }
   ],
   "source": [
    "# This random state allows the perturbations to be reproducible\n",
    "rs = np.random.RandomState(seed=seed)\n",
    "\n",
    "#take the sequences to perturb\n",
    "do_sub = []\n",
    "for i, (w1, w2) in tqdm(enumerate(word_pairs), total=len(word_pairs)):\n",
    "    # create indices\n",
    "    idx = np.arange(len(swap_arr))\n",
    "    has_sub = idx[swap_arr[:, i] == 1]\n",
    "    rs.shuffle(has_sub)\n",
    "    do_sub.append(list(has_sub[:do_sub_n]))\n",
    "    \n",
    "    subset_ds = ds.select(do_sub[-1])\n",
    "    \n",
    "    # assert that all examples received the appropriate substitution\n",
    "    assert(all([ str(i) in j for j in ds.select(do_sub[-1])['order']]))\n",
    "    \n",
    "    for ex_idx, j in zip(do_sub[-1], subset_ds):\n",
    "        examples.append((ex_idx, j['text'], j['text'].index(f' {w2} '), w1, w2, True))"
   ]
  },
  {
   "cell_type": "code",
   "execution_count": 8,
   "id": "2b756f64",
   "metadata": {},
   "outputs": [],
   "source": [
    "df = pd.DataFrame(examples)\n",
    "df.columns = ['example_index', 'text', 'sub_index', 'original', 'synonym', 'substituted?']\n",
    "df.to_csv('./propagation_inputs.csv', index=False)"
   ]
  },
  {
   "cell_type": "code",
   "execution_count": 9,
   "id": "8f68b4f8",
   "metadata": {},
   "outputs": [
    {
     "data": {
      "text/html": [
       "<div>\n",
       "<style scoped>\n",
       "    .dataframe tbody tr th:only-of-type {\n",
       "        vertical-align: middle;\n",
       "    }\n",
       "\n",
       "    .dataframe tbody tr th {\n",
       "        vertical-align: top;\n",
       "    }\n",
       "\n",
       "    .dataframe thead th {\n",
       "        text-align: right;\n",
       "    }\n",
       "</style>\n",
       "<table border=\"1\" class=\"dataframe\">\n",
       "  <thead>\n",
       "    <tr style=\"text-align: right;\">\n",
       "      <th></th>\n",
       "      <th>example_index</th>\n",
       "      <th>text</th>\n",
       "      <th>sub_index</th>\n",
       "      <th>original</th>\n",
       "      <th>synonym</th>\n",
       "      <th>substituted?</th>\n",
       "    </tr>\n",
       "  </thead>\n",
       "  <tbody>\n",
       "    <tr>\n",
       "      <th>0</th>\n",
       "      <td>880143</td>\n",
       "      <td>Purpose &amp; Goals\\n\\nWhen Sol Worth and John Ada...</td>\n",
       "      <td>9701</td>\n",
       "      <td>nice</td>\n",
       "      <td>good</td>\n",
       "      <td>False</td>\n",
       "    </tr>\n",
       "    <tr>\n",
       "      <th>1</th>\n",
       "      <td>897090</td>\n",
       "      <td>On Wednesday (March 6th), Brad Garlinghouse, t...</td>\n",
       "      <td>4208</td>\n",
       "      <td>nice</td>\n",
       "      <td>good</td>\n",
       "      <td>False</td>\n",
       "    </tr>\n",
       "    <tr>\n",
       "      <th>2</th>\n",
       "      <td>576122</td>\n",
       "      <td>For Authors, Publishers, and Book-Lovers Alike...</td>\n",
       "      <td>290</td>\n",
       "      <td>nice</td>\n",
       "      <td>good</td>\n",
       "      <td>False</td>\n",
       "    </tr>\n",
       "    <tr>\n",
       "      <th>3</th>\n",
       "      <td>20093</td>\n",
       "      <td>Q:\\n\\nPair javascript objects and assign same ...</td>\n",
       "      <td>866</td>\n",
       "      <td>nice</td>\n",
       "      <td>good</td>\n",
       "      <td>False</td>\n",
       "    </tr>\n",
       "    <tr>\n",
       "      <th>4</th>\n",
       "      <td>645693</td>\n",
       "      <td>\\n\\nCANNONBALL\\n\\nJOSEPH MCELROY\\n\\n# Contents...</td>\n",
       "      <td>109779</td>\n",
       "      <td>nice</td>\n",
       "      <td>good</td>\n",
       "      <td>False</td>\n",
       "    </tr>\n",
       "    <tr>\n",
       "      <th>...</th>\n",
       "      <td>...</td>\n",
       "      <td>...</td>\n",
       "      <td>...</td>\n",
       "      <td>...</td>\n",
       "      <td>...</td>\n",
       "      <td>...</td>\n",
       "    </tr>\n",
       "    <tr>\n",
       "      <th>44995</th>\n",
       "      <td>587478</td>\n",
       "      <td>Football history was made rather quietly over ...</td>\n",
       "      <td>1073</td>\n",
       "      <td>team</td>\n",
       "      <td>group</td>\n",
       "      <td>True</td>\n",
       "    </tr>\n",
       "    <tr>\n",
       "      <th>44996</th>\n",
       "      <td>651662</td>\n",
       "      <td>What the Spurs and Mavs said after Friday’s ga...</td>\n",
       "      <td>2286</td>\n",
       "      <td>team</td>\n",
       "      <td>group</td>\n",
       "      <td>True</td>\n",
       "    </tr>\n",
       "    <tr>\n",
       "      <th>44997</th>\n",
       "      <td>720880</td>\n",
       "      <td>Over the years, one-piece swimsuits have been ...</td>\n",
       "      <td>1329</td>\n",
       "      <td>team</td>\n",
       "      <td>group</td>\n",
       "      <td>True</td>\n",
       "    </tr>\n",
       "    <tr>\n",
       "      <th>44998</th>\n",
       "      <td>526108</td>\n",
       "      <td>...</td>\n",
       "      <td>44694</td>\n",
       "      <td>team</td>\n",
       "      <td>group</td>\n",
       "      <td>True</td>\n",
       "    </tr>\n",
       "    <tr>\n",
       "      <th>44999</th>\n",
       "      <td>572356</td>\n",
       "      <td>Athletes with seizure disorders.\\nIndividuals ...</td>\n",
       "      <td>871</td>\n",
       "      <td>team</td>\n",
       "      <td>group</td>\n",
       "      <td>True</td>\n",
       "    </tr>\n",
       "  </tbody>\n",
       "</table>\n",
       "<p>45000 rows × 6 columns</p>\n",
       "</div>"
      ],
      "text/plain": [
       "       example_index                                               text  \\\n",
       "0             880143  Purpose & Goals\\n\\nWhen Sol Worth and John Ada...   \n",
       "1             897090  On Wednesday (March 6th), Brad Garlinghouse, t...   \n",
       "2             576122  For Authors, Publishers, and Book-Lovers Alike...   \n",
       "3              20093  Q:\\n\\nPair javascript objects and assign same ...   \n",
       "4             645693  \\n\\nCANNONBALL\\n\\nJOSEPH MCELROY\\n\\n# Contents...   \n",
       "...              ...                                                ...   \n",
       "44995         587478  Football history was made rather quietly over ...   \n",
       "44996         651662  What the Spurs and Mavs said after Friday’s ga...   \n",
       "44997         720880  Over the years, one-piece swimsuits have been ...   \n",
       "44998         526108                                                ...   \n",
       "44999         572356  Athletes with seizure disorders.\\nIndividuals ...   \n",
       "\n",
       "       sub_index original synonym  substituted?  \n",
       "0           9701     nice    good         False  \n",
       "1           4208     nice    good         False  \n",
       "2            290     nice    good         False  \n",
       "3            866     nice    good         False  \n",
       "4         109779     nice    good         False  \n",
       "...          ...      ...     ...           ...  \n",
       "44995       1073     team   group          True  \n",
       "44996       2286     team   group          True  \n",
       "44997       1329     team   group          True  \n",
       "44998      44694     team   group          True  \n",
       "44999        871     team   group          True  \n",
       "\n",
       "[45000 rows x 6 columns]"
      ]
     },
     "execution_count": 9,
     "metadata": {},
     "output_type": "execute_result"
    }
   ],
   "source": [
    "df"
   ]
  }
 ],
 "metadata": {
  "kernelspec": {
   "display_name": "Python 3 (ipykernel)",
   "language": "python",
   "name": "python3"
  },
  "language_info": {
   "codemirror_mode": {
    "name": "ipython",
    "version": 3
   },
   "file_extension": ".py",
   "mimetype": "text/x-python",
   "name": "python",
   "nbconvert_exporter": "python",
   "pygments_lexer": "ipython3",
   "version": "3.8.13"
  }
 },
 "nbformat": 4,
 "nbformat_minor": 5
}
