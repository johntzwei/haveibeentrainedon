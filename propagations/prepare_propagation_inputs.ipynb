{
 "cells": [
  {
   "cell_type": "code",
   "execution_count": 1,
   "id": "f342f177",
   "metadata": {},
   "outputs": [],
   "source": [
    "import datasets\n",
    "import numpy as np\n",
    "from tqdm.notebook import tqdm\n",
    "import csv\n",
    "import pandas as pd\n",
    "\n",
    "from substitutions import tenk_word_pairs as word_pairs"
   ]
  },
  {
   "cell_type": "code",
   "execution_count": 2,
   "id": "82036c08",
   "metadata": {},
   "outputs": [],
   "source": [
    "ds_path = '../data/17e7_tokens_perturbed.hf/'\n",
    "num_proc = 16\n",
    "n_per_sub = 1000\n",
    "seed = 0"
   ]
  },
  {
   "cell_type": "code",
   "execution_count": 3,
   "id": "a0a499ee",
   "metadata": {},
   "outputs": [],
   "source": [
    "ds = datasets.load_from_disk(ds_path)"
   ]
  },
  {
   "cell_type": "code",
   "execution_count": 4,
   "id": "e33c8e64",
   "metadata": {},
   "outputs": [
    {
     "data": {
      "text/plain": [
       "Dataset({\n",
       "    features: ['text', 'meta', 'hash', 'is_original', 'substitutions', 'order'],\n",
       "    num_rows: 989378\n",
       "})"
      ]
     },
     "execution_count": 4,
     "metadata": {},
     "output_type": "execute_result"
    }
   ],
   "source": [
    "ds"
   ]
  },
  {
   "cell_type": "code",
   "execution_count": 5,
   "id": "cc88cb33",
   "metadata": {},
   "outputs": [
    {
     "name": "stdout",
     "output_type": "stream",
     "text": [
      "(989378, 45)\n"
     ]
    }
   ],
   "source": [
    "swap_arr = np.array(ds[\"substitutions\"])\n",
    "print(swap_arr.shape)"
   ]
  },
  {
   "cell_type": "code",
   "execution_count": 9,
   "id": "4b6fa5fe",
   "metadata": {},
   "outputs": [
    {
     "data": {
      "application/vnd.jupyter.widget-view+json": {
       "model_id": "fb2536669f0446868fde601279cc7958",
       "version_major": 2,
       "version_minor": 0
      },
      "text/plain": [
       "  0%|          | 0/45 [00:00<?, ?it/s]"
      ]
     },
     "metadata": {},
     "output_type": "display_data"
    }
   ],
   "source": [
    "# This random state allows the perturbations to be reproducible\n",
    "rs = np.random.RandomState(seed=0)\n",
    "\n",
    "#take the sequences to perturb\n",
    "do_sub = []\n",
    "examples = []\n",
    "for i, (w1, w2) in tqdm(enumerate(word_pairs), total=len(word_pairs)):\n",
    "    # create indices\n",
    "    idx = np.arange(len(swap_arr))\n",
    "    has_sub = idx[swap_arr[:, i] == 1]\n",
    "    rs.shuffle(has_sub)\n",
    "    \n",
    "    all_indexes = has_sub[:n_per_sub]\n",
    "    labels = rs.randint(0, 2, size=n_per_sub).astype(bool)\n",
    "    \n",
    "    # just for checksum\n",
    "    do_sub.append(all_indexes[labels])\n",
    "    subset_ds = ds.select(all_indexes)\n",
    "    \n",
    "    # assert that all examples received the appropriate substitution\n",
    "    # assert(all([ str(i) in j for j in ds.select(do_sub[-1])['order']]))\n",
    "    # assert(all([ f':{i}:' not in '{j}:' for j in ds.select(no_sub)['order']]))\n",
    "    \n",
    "    for ex_idx, j, label in zip(all_indexes, subset_ds, labels):\n",
    "        current_word = w2 if label else w1\n",
    "        examples.append((ex_idx, j['text'], j['text'].index(f' {current_word} '), w1, w2, label))"
   ]
  },
  {
   "cell_type": "code",
   "execution_count": 10,
   "id": "1ee3e119",
   "metadata": {},
   "outputs": [
    {
     "data": {
      "text/plain": [
       "11058546234"
      ]
     },
     "execution_count": 10,
     "metadata": {},
     "output_type": "execute_result"
    }
   ],
   "source": [
    "np.sum([ i.sum() for i in do_sub ])"
   ]
  },
  {
   "cell_type": "code",
   "execution_count": null,
   "id": "2b756f64",
   "metadata": {},
   "outputs": [],
   "source": [
    "df = pd.DataFrame(examples)\n",
    "df.columns = ['example_index', 'text', 'sub_index', 'original', 'synonym', 'substituted?']\n",
    "df.to_csv('./propagation_inputs.csv', index=False)"
   ]
  },
  {
   "cell_type": "code",
   "execution_count": null,
   "id": "ec65c26c",
   "metadata": {},
   "outputs": [],
   "source": [
    "df.head(1)"
   ]
  }
 ],
 "metadata": {
  "kernelspec": {
   "display_name": "Python 3 (ipykernel)",
   "language": "python",
   "name": "python3"
  },
  "language_info": {
   "codemirror_mode": {
    "name": "ipython",
    "version": 3
   },
   "file_extension": ".py",
   "mimetype": "text/x-python",
   "name": "python",
   "nbconvert_exporter": "python",
   "pygments_lexer": "ipython3",
   "version": "3.8.13"
  }
 },
 "nbformat": 4,
 "nbformat_minor": 5
}
