{
 "cells": [
  {
   "cell_type": "code",
   "execution_count": 1,
   "id": "f8bab71b",
   "metadata": {},
   "outputs": [],
   "source": [
    "import csv\n",
    "import numpy as np\n",
    "import pandas as pd\n",
    "from tqdm.notebook import tqdm\n",
    "import datasets\n",
    "\n",
    "import torch\n",
    "from transformers import AutoModelForCausalLM, AutoTokenizer"
   ]
  },
  {
   "cell_type": "code",
   "execution_count": 2,
   "id": "1ecf1c79",
   "metadata": {},
   "outputs": [],
   "source": [
    "device = 'cuda'\n",
    "model_name = 'gpt2'\n",
    "gpt2_tokenizer = True\n",
    "model_precision = \"float32\"\n",
    "max_length = 1024\n",
    "input_fn = './propagation_inputs.csv'\n",
    "output_fn = f'./70M/scores:gpt22.csv'"
   ]
  },
  {
   "cell_type": "code",
   "execution_count": 3,
   "id": "f00954e9",
   "metadata": {},
   "outputs": [],
   "source": [
    "if gpt2_tokenizer:\n",
    "    tokenizer = AutoTokenizer.from_pretrained('gpt2')\n",
    "else:\n",
    "    tokenizer = AutoTokenizer.from_pretrained(model_name)"
   ]
  },
  {
   "cell_type": "code",
   "execution_count": 4,
   "id": "4c1e2d94",
   "metadata": {},
   "outputs": [
    {
     "name": "stderr",
     "output_type": "stream",
     "text": [
      "2023-09-11 16:03:38.232683: I tensorflow/stream_executor/platform/default/dso_loader.cc:53] Successfully opened dynamic library libcudart.so.11.0\n"
     ]
    }
   ],
   "source": [
    "if model_precision == \"float16\":\n",
    "    model = AutoModelForCausalLM.from_pretrained(model_name, revision=\"float16\", torch_dtype=torch.float16,\n",
    "                                                 return_dict=True).to(device)\n",
    "else:\n",
    "    model = AutoModelForCausalLM.from_pretrained(model_name, return_dict=True).to(device)"
   ]
  },
  {
   "cell_type": "code",
   "execution_count": 5,
   "id": "fe596e04",
   "metadata": {},
   "outputs": [
    {
     "data": {
      "text/html": [
       "<div>\n",
       "<style scoped>\n",
       "    .dataframe tbody tr th:only-of-type {\n",
       "        vertical-align: middle;\n",
       "    }\n",
       "\n",
       "    .dataframe tbody tr th {\n",
       "        vertical-align: top;\n",
       "    }\n",
       "\n",
       "    .dataframe thead th {\n",
       "        text-align: right;\n",
       "    }\n",
       "</style>\n",
       "<table border=\"1\" class=\"dataframe\">\n",
       "  <thead>\n",
       "    <tr style=\"text-align: right;\">\n",
       "      <th></th>\n",
       "      <th>example_index</th>\n",
       "      <th>text</th>\n",
       "      <th>sub_index</th>\n",
       "      <th>original</th>\n",
       "      <th>synonym</th>\n",
       "      <th>substituted?</th>\n",
       "    </tr>\n",
       "  </thead>\n",
       "  <tbody>\n",
       "    <tr>\n",
       "      <th>0</th>\n",
       "      <td>114369</td>\n",
       "      <td>Sunday, March 20, 2011\\n\\nSila (Poland) - Demo...</td>\n",
       "      <td>1865</td>\n",
       "      <td>nice</td>\n",
       "      <td>good</td>\n",
       "      <td>False</td>\n",
       "    </tr>\n",
       "  </tbody>\n",
       "</table>\n",
       "</div>"
      ],
      "text/plain": [
       "   example_index                                               text  \\\n",
       "0         114369  Sunday, March 20, 2011\\n\\nSila (Poland) - Demo...   \n",
       "\n",
       "   sub_index original synonym  substituted?  \n",
       "0       1865     nice    good         False  "
      ]
     },
     "execution_count": 5,
     "metadata": {},
     "output_type": "execute_result"
    }
   ],
   "source": [
    "df = pd.read_csv(input_fn)\n",
    "df.head(1)"
   ]
  },
  {
   "cell_type": "code",
   "execution_count": 6,
   "id": "2113cdf3",
   "metadata": {},
   "outputs": [],
   "source": [
    "out_fh = open(output_fn, 'wt')\n",
    "out = csv.writer(out_fh)"
   ]
  },
  {
   "cell_type": "code",
   "execution_count": 56,
   "id": "ae1cef3b",
   "metadata": {},
   "outputs": [
    {
     "data": {
      "application/vnd.jupyter.widget-view+json": {
       "model_id": "bea268b00e644b0ba2c8fd559e6bbc52",
       "version_major": 2,
       "version_minor": 0
      },
      "text/plain": [
       "  0%|          | 0/45000 [00:00<?, ?it/s]"
      ]
     },
     "metadata": {},
     "output_type": "display_data"
    },
    {
     "name": "stdout",
     "output_type": "stream",
     "text": [
      "nice good 0.0034434485714882612 0.005309849977493286 45 26\n"
     ]
    }
   ],
   "source": [
    "for i, row in tqdm(df.iterrows(), total=len(df)):\n",
    "    line_idx, sentence, char_idx, w1, w2 = row['example_index'], \\\n",
    "                                            row['text'], row['sub_index'], row['original'], row['synonym']\n",
    "    line_idx, char_idx = int(line_idx), int(char_idx)\n",
    "    \n",
    "    # get the first token of each word\n",
    "    w1_idx = tokenizer.encode(f' {w1}', return_tensors='pt')[0,0].item()\n",
    "    w2_idx = tokenizer.encode(f' {w2}', return_tensors='pt')[0,0].item()\n",
    "\n",
    "    input_ids = tokenizer.encode(sentence[:char_idx], \\\n",
    "                                 return_tensors='pt', \\\n",
    "                                 max_length=None, \\\n",
    "                                 padding=False).to(device)\n",
    "    input_ids = input_ids[:,-max_length:]\n",
    "    \n",
    "    with torch.no_grad():\n",
    "        model.eval()\n",
    "        outputs = model(input_ids)\n",
    "        loss = outputs.loss\n",
    "        logits = outputs.logits\n",
    "\n",
    "    # Get the loss at each token\n",
    "    last_logits = logits[..., -1, :].contiguous().squeeze(0)\n",
    "    probs = torch.nn.Softmax(dim=-1)(last_logits)\n",
    "\n",
    "    w1_prob = probs[w1_idx].item()\n",
    "    w2_prob = probs[w2_idx].item()\n",
    "    w1_rank = (probs > w1_prob).sum().item()\n",
    "    w2_rank = (probs > w2_prob).sum().item()\n",
    "    \n",
    "    if i % 100 == 0:\n",
    "        print(w1, w2, w1_prob, w2_prob, w1_rank, w2_rank)\n",
    "\n",
    "    out.writerow([line_idx, w1_prob, w2_prob, w1_rank, w2_rank])\n"
   ]
  },
  {
   "cell_type": "code",
   "execution_count": 8,
   "id": "ec3d3a80",
   "metadata": {},
   "outputs": [],
   "source": [
    "out_fh.close()"
   ]
  }
 ],
 "metadata": {
  "kernelspec": {
   "display_name": "Python 3 (ipykernel)",
   "language": "python",
   "name": "python3"
  },
  "language_info": {
   "codemirror_mode": {
    "name": "ipython",
    "version": 3
   },
   "file_extension": ".py",
   "mimetype": "text/x-python",
   "name": "python",
   "nbconvert_exporter": "python",
   "pygments_lexer": "ipython3",
   "version": "3.8.13"
  }
 },
 "nbformat": 4,
 "nbformat_minor": 5
}
