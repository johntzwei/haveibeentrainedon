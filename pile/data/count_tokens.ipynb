{
 "cells": [
  {
   "cell_type": "code",
   "execution_count": 9,
   "id": "db1a96e4",
   "metadata": {},
   "outputs": [],
   "source": [
    "from datasets import load_dataset\n",
    "from datasets import disable_caching\n",
    "disable_caching()\n",
    "from tqdm.notebook import tqdm\n",
    "import numpy as np\n",
    "\n",
    "from transformers import GPT2TokenizerFast"
   ]
  },
  {
   "cell_type": "code",
   "execution_count": null,
   "id": "bd49287d",
   "metadata": {},
   "outputs": [],
   "source": [
    "num_proc = 40"
   ]
  },
  {
   "cell_type": "code",
   "execution_count": null,
   "id": "97c54bee",
   "metadata": {},
   "outputs": [],
   "source": [
    "tokenizer = GPT2TokenizerFast.from_pretrained('gpt2')"
   ]
  },
  {
   "cell_type": "code",
   "execution_count": null,
   "id": "d23dc8b6",
   "metadata": {},
   "outputs": [],
   "source": [
    "tokenizer('this is a test')"
   ]
  },
  {
   "cell_type": "code",
   "execution_count": null,
   "id": "a6dfa8d5",
   "metadata": {},
   "outputs": [],
   "source": [
    "def tokenize_function(examples):\n",
    "    return {'len' : len(tokenizer(examples[\"text\"])['input_ids']) }"
   ]
  },
  {
   "cell_type": "code",
   "execution_count": null,
   "id": "a853629e",
   "metadata": {},
   "outputs": [],
   "source": [
    "pieces = ['./00_aa', './00_ab', './00_ac', './00_ad', './00_ae', './00_af', './00_ag', './00_ah']"
   ]
  },
  {
   "cell_type": "code",
   "execution_count": null,
   "id": "7417a53b",
   "metadata": {},
   "outputs": [],
   "source": [
    "lengths = []\n",
    "for p in pieces:\n",
    "    dataset = load_dataset('json', data_files=p, keep_in_memory=True)['train']\n",
    "    len_ds = dataset.map(tokenize_function, num_proc=num_proc)\n",
    "    lengths.extend(len_ds['len'])"
   ]
  },
  {
   "cell_type": "code",
   "execution_count": 13,
   "id": "4f5a61c2",
   "metadata": {},
   "outputs": [],
   "source": [
    "lengths = np.array(lengths)\n",
    "np.save('lengths.npy', lengths)"
   ]
  },
  {
   "cell_type": "code",
   "execution_count": 17,
   "id": "fe6908f3",
   "metadata": {},
   "outputs": [
    {
     "name": "stdout",
     "output_type": "stream",
     "text": [
      "7021438\n"
     ]
    }
   ],
   "source": [
    "lengths = np.load('lengths.npy')\n",
    "print(len(lengths))"
   ]
  },
  {
   "cell_type": "code",
   "execution_count": 21,
   "id": "dc02afad",
   "metadata": {},
   "outputs": [],
   "source": [
    "with_eos = lengths + 1"
   ]
  },
  {
   "cell_type": "code",
   "execution_count": 33,
   "id": "b3ec52ce",
   "metadata": {},
   "outputs": [
    {
     "name": "stdout",
     "output_type": "stream",
     "text": [
      "989379\n"
     ]
    }
   ],
   "source": [
    "cutoff = 1.76e9\n",
    "\n",
    "i = 0\n",
    "acc = 0\n",
    "while acc < cutoff:\n",
    "    acc += with_eos[i]\n",
    "    i += 1\n",
    "print(i)"
   ]
  },
  {
   "cell_type": "code",
   "execution_count": 36,
   "id": "256fd85d",
   "metadata": {},
   "outputs": [
    {
     "data": {
      "text/plain": [
       "1760011872"
      ]
     },
     "execution_count": 36,
     "metadata": {},
     "output_type": "execute_result"
    }
   ],
   "source": [
    "np.sum(with_eos[:989379])\n",
    "# head 989379 - 1 = 989378"
   ]
  },
  {
   "cell_type": "code",
   "execution_count": 25,
   "id": "1966d275",
   "metadata": {},
   "outputs": [
    {
     "data": {
      "text/plain": [
       "12484675606"
      ]
     },
     "execution_count": 25,
     "metadata": {},
     "output_type": "execute_result"
    }
   ],
   "source": [
    "# 12.484B tokens\n",
    "np.sum(with_eos)"
   ]
  }
 ],
 "metadata": {
  "kernelspec": {
   "display_name": "Python 3 (ipykernel)",
   "language": "python",
   "name": "python3"
  },
  "language_info": {
   "codemirror_mode": {
    "name": "ipython",
    "version": 3
   },
   "file_extension": ".py",
   "mimetype": "text/x-python",
   "name": "python",
   "nbconvert_exporter": "python",
   "pygments_lexer": "ipython3",
   "version": "3.8.13"
  }
 },
 "nbformat": 4,
 "nbformat_minor": 5
}
