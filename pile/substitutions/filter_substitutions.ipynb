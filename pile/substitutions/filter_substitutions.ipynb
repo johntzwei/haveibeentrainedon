{
 "cells": [
  {
   "cell_type": "code",
   "execution_count": 1,
   "id": "00fd72b3",
   "metadata": {},
   "outputs": [],
   "source": [
    "import numpy as np\n",
    "from datasets import load_dataset"
   ]
  },
  {
   "cell_type": "code",
   "execution_count": 2,
   "id": "6fe12530",
   "metadata": {},
   "outputs": [
    {
     "name": "stderr",
     "output_type": "stream",
     "text": [
      "Found cached dataset json (/home/johnny/.cache/huggingface/datasets/json/default-4a698c78fbd48a2e/0.0.0/8bb11242116d547c741b2e8a1f18598ffdd40a1d4f2a2872c7a28b697434bc96)\n"
     ]
    },
    {
     "data": {
      "application/vnd.jupyter.widget-view+json": {
       "model_id": "011668c16c7f46aa978785d0f8ee3f4b",
       "version_major": 2,
       "version_minor": 0
      },
      "text/plain": [
       "  0%|          | 0/1 [00:00<?, ?it/s]"
      ]
     },
     "metadata": {},
     "output_type": "display_data"
    }
   ],
   "source": [
    "dataset = load_dataset('json', data_files='./17e7_tokens.jsonl', keep_in_memory=True)['train']"
   ]
  },
  {
   "cell_type": "code",
   "execution_count": 3,
   "id": "16a7823e",
   "metadata": {},
   "outputs": [],
   "source": [
    "word_pairs = [('odd', 'ADJ', 'uncommon'),\n",
    " ('knock', 'VERB', 'push'),\n",
    " ('pulse', 'NOUN', 'beating'),\n",
    " ('raise', 'VERB', 'lift'),\n",
    " ('cathedral', 'NOUN', 'church'),\n",
    " ('nice', 'ADJ', 'good'),\n",
    " ('size', 'NOUN', 'proportion'),\n",
    " ('idiot', 'NOUN', 'imbecile'),\n",
    " ('way', 'NOUN', 'direction'),\n",
    " ('small', 'ADJ', 'little'),\n",
    " ('guy', 'NOUN', 'player'),\n",
    " ('personnel', 'NOUN', 'staff'),\n",
    " ('start', 'VERB', 'begin'),\n",
    " ('call', 'VERB', 'summon'),\n",
    " ('logical', 'ADJ', 'rational'),\n",
    " ('saw', 'VERB', 'witness'),\n",
    " ('leech', 'NOUN', 'bloodsucker'),\n",
    " ('thin', 'ADJ', 'slender'),\n",
    " ('marvel', 'VERB', 'wonder'),\n",
    " ('just', 'ADV', 'quite'),\n",
    " ('first', 'ADJ', 'initial'),\n",
    " ('consider', 'VERB', 'contemplate'),\n",
    " ('next', 'ADJ', 'following'),\n",
    " ('permit', 'VERB', 'allow'),\n",
    " ('box', 'NOUN', 'container'),\n",
    " ('business', 'NOUN', 'operation'),\n",
    " ('monitor', 'VERB', 'track'),\n",
    " ('think', 'VERB', 'reckon'),\n",
    " ('big', 'ADJ', 'huge'),\n",
    " ('more', 'ADJ', 'great'),\n",
    " ('chance', 'NOUN', 'odds'),\n",
    " ('customer', 'NOUN', 'clientele'),\n",
    " ('trouble', 'NOUN', 'difficulty'),\n",
    " ('return', 'NOUN', 'exchange'),\n",
    " ('cold', 'ADJ', 'icy'),\n",
    " ('zone', 'NOUN', 'sector'),\n",
    " ('people', 'NOUN', 'folk'),\n",
    " ('office', 'NOUN', 'workplace'),\n",
    " ('hire', 'VERB', 'enlist'),\n",
    " ('playwright', 'NOUN', 'writer'),\n",
    " ('glance', 'VERB', 'look'),\n",
    " ('lead', 'VERB', 'guide'),\n",
    " ('damage', 'NOUN', 'harm'),\n",
    " ('representative', 'NOUN', 'delegate'),\n",
    " ('very', 'ADV', 'really'),\n",
    " ('totally', 'ADV', 'absolutely'),\n",
    " ('help', 'VERB', 'assist'),\n",
    " ('lot', 'NOUN', 'heap'),\n",
    " ('okay', 'ADJ', 'ok'),\n",
    " ('excite', 'VERB', 'enthusiastic'),\n",
    " ('ease', 'VERB', 'lighten'),\n",
    " ('innocent', 'ADJ', 'harmless'),\n",
    " ('area', 'NOUN', 'location'),\n",
    " ('idea', 'NOUN', 'thought'),\n",
    " ('device', 'NOUN', 'equipment'),\n",
    " ('run', 'VERB', 'bolt'),\n",
    " ('equal', 'ADJ', 'equivalent'),\n",
    " ('subject', 'NOUN', 'topic'),\n",
    " ('man', 'NOUN', 'person'),\n",
    " ('newspaper', 'NOUN', 'paper'),\n",
    " ('own', 'ADJ', 'hold'),\n",
    " ('bath', 'NOUN', 'bathroom'),\n",
    " ('reply', 'VERB', 'answer'),\n",
    " ('interior', 'NOUN', 'inside'),\n",
    " ('choose', 'VERB', 'pick'),\n",
    " ('company', 'NOUN', 'corporation'),\n",
    " ('disposal', 'NOUN', 'discarding'),\n",
    " ('likely', 'ADV', 'presumably'),\n",
    " ('house', 'NOUN', 'home'),\n",
    " ('shallow', 'ADJ', 'empty'),\n",
    " ('safety', 'NOUN', 'safeness'),\n",
    " ('file', 'NOUN', 'record'),\n",
    " ('kindness', 'NOUN', 'goodness'),\n",
    " ('try', 'VERB', 'attempt'),\n",
    " ('cry', 'VERB', 'weep'),\n",
    " ('provide', 'VERB', 'supply'),\n",
    " ('analysis', 'NOUN', 'evaluation'),\n",
    " ('interesting', 'ADJ', 'fascinating'),\n",
    " ('caution', 'VERB', 'warn'),\n",
    " ('ugly', 'ADJ', 'unpleasant'),\n",
    " ('fell', 'VERB', 'decrease'),\n",
    " ('full', 'ADJ', 'whole'),\n",
    " ('move', 'VERB', 'go'),\n",
    " ('cut', 'VERB', 'reduce'),\n",
    " ('prove', 'VERB', 'affirm'),\n",
    " ('many', 'ADJ', 'multiple'),\n",
    " ('brilliant', 'ADJ', 'glowing'),\n",
    " ('income', 'NOUN', 'earnings'),\n",
    " ('delighted', 'ADJ', 'ecstatic'),\n",
    " ('cease', 'VERB', 'halt'),\n",
    " ('perhaps', 'ADV', 'maybe'),\n",
    " ('journalist', 'NOUN', 'newspeople'),\n",
    " ('love', 'VERB', 'cherish'),\n",
    " ('forgive', 'VERB', 'pardon'),\n",
    " ('joy', 'NOUN', 'glee'),\n",
    " ('jealous', 'ADJ', 'envious'),\n",
    " ('guess', 'VERB', 'predict'),\n",
    " ('old', 'ADJ', 'elderly'),\n",
    " ('toss', 'VERB', 'throw'),\n",
    " ('accept', 'VERB', 'recognize'),\n",
    " ('gentle', 'ADJ', 'soft'),\n",
    " ('say', 'VERB', 'state'),\n",
    " ('grow', 'VERB', 'increase'),\n",
    " ('heavy', 'ADJ', 'hefty'),\n",
    " ('stature', 'NOUN', 'status'),\n",
    " ('voice', 'NOUN', 'sound'),\n",
    " ('team', 'NOUN', 'group')]"
   ]
  },
  {
   "cell_type": "code",
   "execution_count": 4,
   "id": "a4d4450a",
   "metadata": {},
   "outputs": [
    {
     "data": {
      "text/plain": [
       "107"
      ]
     },
     "execution_count": 4,
     "metadata": {},
     "output_type": "execute_result"
    }
   ],
   "source": [
    "len(word_pairs)"
   ]
  },
  {
   "cell_type": "code",
   "execution_count": 5,
   "id": "dafbfc7f",
   "metadata": {},
   "outputs": [
    {
     "data": {
      "application/vnd.jupyter.widget-view+json": {
       "model_id": "",
       "version_major": 2,
       "version_minor": 0
      },
      "text/plain": [
       "Map (num_proc=8):   0%|          | 0/989378 [00:00<?, ? examples/s]"
      ]
     },
     "metadata": {},
     "output_type": "display_data"
    }
   ],
   "source": [
    "temp_ds = dataset.map(lambda x: {'arr' : \\\n",
    "                       [ 1 if f' {i} ' in x['text'] else 0 for i, j, k in word_pairs ]},\n",
    "                     num_proc=8,\n",
    "                     keep_in_memory=True)"
   ]
  },
  {
   "cell_type": "code",
   "execution_count": 6,
   "id": "aaf46a69",
   "metadata": {},
   "outputs": [],
   "source": [
    "original = np.array(temp_ds['arr'])"
   ]
  },
  {
   "cell_type": "code",
   "execution_count": 7,
   "id": "318a71ec",
   "metadata": {},
   "outputs": [
    {
     "data": {
      "text/plain": [
       "10000"
      ]
     },
     "execution_count": 7,
     "metadata": {},
     "output_type": "execute_result"
    }
   ],
   "source": [
    "cutoff = 10000\n",
    "cutoff"
   ]
  },
  {
   "cell_type": "code",
   "execution_count": 8,
   "id": "63b73ff4",
   "metadata": {},
   "outputs": [
    {
     "data": {
      "text/plain": [
       "array([  9346,   4299,   5767,  23121,    816,  26128,  59170,   1516,\n",
       "       169518, 100913,  16978,   9051,  79622,  71418,   7360,  40511,\n",
       "          181,  13265,    996, 216147, 255915,  51707, 107533,  13224,\n",
       "        20320,  49823,  12281, 109829,  62685, 346365,  33434,  13256,\n",
       "        14179,  89692,  15999,   9979, 147116,  30041,   6523,    694,\n",
       "         2843,  61123,  25816,  16481, 175172,  18032, 119976,  77622,\n",
       "         4601,   1277,   9739,   5907,  66077,  54046,  33871,  73481,\n",
       "        30475,  45181,  45291,   8294, 113566,   3723,   6325,   9451,\n",
       "        33630,  46850,   2791,  71961,  29189,   3977,  24553,  61642,\n",
       "         1755,  70999,   4563, 111626,  63243,  34901,   3924,   4306,\n",
       "        17726,  84032,  54814,  33792,  25768, 185503,   6234,  12775,\n",
       "         3462,   3105,  29359,   5271,  50157,   3112,   5578,   1792,\n",
       "        19968,  58250,   2247,  22743,   4353,  88193,  20313,  22285,\n",
       "         1007,  16811,  55129])"
      ]
     },
     "execution_count": 8,
     "metadata": {},
     "output_type": "execute_result"
    }
   ],
   "source": [
    "original.sum(axis=0)"
   ]
  },
  {
   "cell_type": "code",
   "execution_count": 9,
   "id": "e73e39d9",
   "metadata": {},
   "outputs": [
    {
     "data": {
      "application/vnd.jupyter.widget-view+json": {
       "model_id": "",
       "version_major": 2,
       "version_minor": 0
      },
      "text/plain": [
       "Map (num_proc=8):   0%|          | 0/989378 [00:00<?, ? examples/s]"
      ]
     },
     "metadata": {},
     "output_type": "display_data"
    }
   ],
   "source": [
    "temp_ds = dataset.map(lambda x: {'arr' : \\\n",
    "                       [ 1 if f' {k} ' in x['text'] else 0 for i, j, k in word_pairs ]},\n",
    "            num_proc=8)"
   ]
  },
  {
   "cell_type": "code",
   "execution_count": 10,
   "id": "e870caf6",
   "metadata": {},
   "outputs": [],
   "source": [
    "synonyms = np.array(temp_ds['arr'])"
   ]
  },
  {
   "cell_type": "code",
   "execution_count": 11,
   "id": "6c3f67ef",
   "metadata": {},
   "outputs": [
    {
     "data": {
      "text/plain": [
       "array([  3959,  19084,   6076,   7113,   9429, 131682,  13249,     96,\n",
       "        27804,  95546,  20830,  24978,  29010,   1211,   6440,   8941,\n",
       "           20,   1381,  15787,  56230,  44129,   1618, 136415,  65872,\n",
       "         6856,  28366,  25852,   1131,  31023,  90886,   7837,    486,\n",
       "        13545,  19552,   1429,   9082,   3442,   2913,    796,  11407,\n",
       "        96445,  18034,   9816,   2230,  98615,  18824,  13325,   1881,\n",
       "         3928,   2756,    804,   2471,  30573,  60068,  16512,   1827,\n",
       "        22741,  12099,  53089,  37326,  44452,   3898,  40347,  49736,\n",
       "        24123,   3828,    999,   7038,  68812,  17003,     21,  43633,\n",
       "         2633,  32957,    531,  20396,  18500,   4872,   4191,   2518,\n",
       "        25057,  63587, 110680,  43388,   5897,  67910,   1940,   3282,\n",
       "          707,   3214,  29581,      6,    871,   1019,    363,    450,\n",
       "        12581,   6051,  18283,  16490,  13569,  86061,  72754,   1493,\n",
       "        32216,  25491,  88978])"
      ]
     },
     "execution_count": 11,
     "metadata": {},
     "output_type": "execute_result"
    }
   ],
   "source": [
    "synonyms.sum(axis=0)"
   ]
  },
  {
   "cell_type": "code",
   "execution_count": 12,
   "id": "31393be6",
   "metadata": {},
   "outputs": [
    {
     "data": {
      "text/plain": [
       "45"
      ]
     },
     "execution_count": 12,
     "metadata": {},
     "output_type": "execute_result"
    }
   ],
   "source": [
    "mask = (original.sum(axis=0) > cutoff) & (synonyms.sum(axis=0) > cutoff)\n",
    "np.sum(mask)"
   ]
  },
  {
   "cell_type": "code",
   "execution_count": 14,
   "id": "a3c0c697",
   "metadata": {},
   "outputs": [
    {
     "name": "stdout",
     "output_type": "stream",
     "text": [
      "[\n",
      "(\"nice\", \"good\"),\n",
      "(\"size\", \"proportion\"),\n",
      "(\"way\", \"direction\"),\n",
      "(\"small\", \"little\"),\n",
      "(\"guy\", \"player\"),\n",
      "(\"start\", \"begin\"),\n",
      "(\"just\", \"quite\"),\n",
      "(\"first\", \"initial\"),\n",
      "(\"next\", \"following\"),\n",
      "(\"permit\", \"allow\"),\n",
      "(\"business\", \"operation\"),\n",
      "(\"monitor\", \"track\"),\n",
      "(\"big\", \"huge\"),\n",
      "(\"more\", \"great\"),\n",
      "(\"trouble\", \"difficulty\"),\n",
      "(\"return\", \"exchange\"),\n",
      "(\"lead\", \"guide\"),\n",
      "(\"very\", \"really\"),\n",
      "(\"totally\", \"absolutely\"),\n",
      "(\"help\", \"assist\"),\n",
      "(\"area\", \"location\"),\n",
      "(\"idea\", \"thought\"),\n",
      "(\"device\", \"equipment\"),\n",
      "(\"equal\", \"equivalent\"),\n",
      "(\"subject\", \"topic\"),\n",
      "(\"man\", \"person\"),\n",
      "(\"own\", \"hold\"),\n",
      "(\"choose\", \"pick\"),\n",
      "(\"house\", \"home\"),\n",
      "(\"file\", \"record\"),\n",
      "(\"try\", \"attempt\"),\n",
      "(\"provide\", \"supply\"),\n",
      "(\"analysis\", \"evaluation\"),\n",
      "(\"fell\", \"decrease\"),\n",
      "(\"full\", \"whole\"),\n",
      "(\"move\", \"go\"),\n",
      "(\"cut\", \"reduce\"),\n",
      "(\"many\", \"multiple\"),\n",
      "(\"perhaps\", \"maybe\"),\n",
      "(\"guess\", \"predict\"),\n",
      "(\"accept\", \"recognize\"),\n",
      "(\"say\", \"state\"),\n",
      "(\"grow\", \"increase\"),\n",
      "(\"voice\", \"sound\"),\n",
      "(\"team\", \"group\"),\n",
      "]\n"
     ]
    }
   ],
   "source": [
    "print('[')\n",
    "for m, (i, j, k) in zip(mask, word_pairs):\n",
    "    if m:\n",
    "        print(f'(\"{i}\", \"{k}\"),')\n",
    "print(']')"
   ]
  },
  {
   "cell_type": "code",
   "execution_count": null,
   "id": "d0a823aa",
   "metadata": {},
   "outputs": [],
   "source": [
    "[\n",
    "(\"nice\", \"good\"),\n",
    "(\"size\", \"proportion\"),\n",
    "(\"way\", \"direction\"),\n",
    "(\"small\", \"little\"),\n",
    "(\"guy\", \"player\"),\n",
    "(\"start\", \"begin\"),\n",
    "(\"just\", \"quite\"),\n",
    "(\"first\", \"initial\"),\n",
    "(\"next\", \"following\"),\n",
    "(\"permit\", \"allow\"),\n",
    "(\"business\", \"operation\"),\n",
    "(\"monitor\", \"track\"),\n",
    "(\"big\", \"huge\"),\n",
    "(\"more\", \"greater\"),\n",
    "(\"trouble\", \"difficulty\"),\n",
    "(\"return\", \"exchange\"),\n",
    "(\"lead\", \"guide\"),\n",
    "(\"very\", \"really\"),\n",
    "(\"totally\", \"absolutely\"),\n",
    "(\"help\", \"assist\"),\n",
    "(\"area\", \"location\"),\n",
    "(\"idea\", \"thought\"),\n",
    "(\"device\", \"equipment\"),\n",
    "(\"equal\", \"equivalent\"),\n",
    "(\"subject\", \"topic\"),\n",
    "(\"man\", \"person\"),\n",
    "(\"own\", \"hold\"),\n",
    "(\"choose\", \"pick\"),\n",
    "(\"house\", \"home\"),\n",
    "(\"file\", \"record\"),\n",
    "(\"try\", \"attempt\"),\n",
    "(\"provide\", \"supply\"),\n",
    "(\"analysis\", \"evaluation\"),\n",
    "(\"fell\", \"decrease\"),\n",
    "(\"full\", \"whole\"),\n",
    "(\"move\", \"go\"),\n",
    "(\"cut\", \"reduce\"),\n",
    "(\"many\", \"multiple\"),\n",
    "(\"perhaps\", \"maybe\"),\n",
    "(\"guess\", \"predict\"),\n",
    "(\"accept\", \"recognize\"),\n",
    "(\"say\", \"state\"),\n",
    "(\"grow\", \"increase\"),\n",
    "(\"voice\", \"sound\"),\n",
    "(\"team\", \"group\"),\n",
    "]"
   ]
  }
 ],
 "metadata": {
  "kernelspec": {
   "display_name": "Python 3 (ipykernel)",
   "language": "python",
   "name": "python3"
  },
  "language_info": {
   "codemirror_mode": {
    "name": "ipython",
    "version": 3
   },
   "file_extension": ".py",
   "mimetype": "text/x-python",
   "name": "python",
   "nbconvert_exporter": "python",
   "pygments_lexer": "ipython3",
   "version": "3.8.13"
  }
 },
 "nbformat": 4,
 "nbformat_minor": 5
}
