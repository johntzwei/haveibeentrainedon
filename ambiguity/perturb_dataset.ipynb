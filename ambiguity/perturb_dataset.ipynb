{
 "cells": [
  {
   "cell_type": "code",
   "execution_count": 1,
   "id": "0ffac894",
   "metadata": {},
   "outputs": [],
   "source": [
    "import datasets\n",
    "from tqdm.notebook import tqdm\n",
    "import numpy as np\n",
    "import pandas as pd\n",
    "from substitutions import tenk_word_pairs as word_pairs\n",
    "from collections import Counter\n",
    "import json"
   ]
  },
  {
   "cell_type": "code",
   "execution_count": 2,
   "id": "769d6a85",
   "metadata": {},
   "outputs": [],
   "source": [
    "orig_data = \"../data/17e7_tokens.jsonl\"\n",
    "out_dataset_name = \"17e7_tokens_perturbed\"\n",
    "num_proc = 16"
   ]
  },
  {
   "cell_type": "code",
   "execution_count": 3,
   "id": "9861148f",
   "metadata": {},
   "outputs": [
    {
     "name": "stderr",
     "output_type": "stream",
     "text": [
      "Found cached dataset json (/home/johnny/.cache/huggingface/datasets/json/default-45df1c8a959db879/0.0.0/8bb11242116d547c741b2e8a1f18598ffdd40a1d4f2a2872c7a28b697434bc96)\n"
     ]
    },
    {
     "data": {
      "application/vnd.jupyter.widget-view+json": {
       "model_id": "d4176b3c41d44dcc97c55ee690d74bc5",
       "version_major": 2,
       "version_minor": 0
      },
      "text/plain": [
       "  0%|          | 0/1 [00:00<?, ?it/s]"
      ]
     },
     "metadata": {},
     "output_type": "display_data"
    },
    {
     "data": {
      "text/plain": [
       "DatasetDict({\n",
       "    train: Dataset({\n",
       "        features: ['text', 'meta'],\n",
       "        num_rows: 989378\n",
       "    })\n",
       "})"
      ]
     },
     "execution_count": 3,
     "metadata": {},
     "output_type": "execute_result"
    }
   ],
   "source": [
    "#This converts the jsonl to huggingface\n",
    "ds = datasets.load_dataset(\"json\", data_files=orig_data)\n",
    "ds"
   ]
  },
  {
   "cell_type": "code",
   "execution_count": 4,
   "id": "d5902582",
   "metadata": {},
   "outputs": [],
   "source": [
    "# it's possible that we are perturbing duplicated sequences"
   ]
  },
  {
   "cell_type": "code",
   "execution_count": 5,
   "id": "df93de48",
   "metadata": {},
   "outputs": [
    {
     "data": {
      "text/plain": [
       "DatasetDict({\n",
       "    train: Dataset({\n",
       "        features: ['text', 'meta'],\n",
       "        num_rows: 989378\n",
       "    })\n",
       "})"
      ]
     },
     "execution_count": 5,
     "metadata": {},
     "output_type": "execute_result"
    }
   ],
   "source": [
    "ds"
   ]
  },
  {
   "cell_type": "code",
   "execution_count": 6,
   "id": "cec8a2e1",
   "metadata": {},
   "outputs": [
    {
     "data": {
      "text/html": [
       "<div>\n",
       "<style scoped>\n",
       "    .dataframe tbody tr th:only-of-type {\n",
       "        vertical-align: middle;\n",
       "    }\n",
       "\n",
       "    .dataframe tbody tr th {\n",
       "        vertical-align: top;\n",
       "    }\n",
       "\n",
       "    .dataframe thead th {\n",
       "        text-align: right;\n",
       "    }\n",
       "</style>\n",
       "<table border=\"1\" class=\"dataframe\">\n",
       "  <thead>\n",
       "    <tr style=\"text-align: right;\">\n",
       "      <th></th>\n",
       "      <th>text</th>\n",
       "      <th>sub_index</th>\n",
       "      <th>original</th>\n",
       "      <th>synonym</th>\n",
       "      <th>substituted?</th>\n",
       "      <th>calibrated</th>\n",
       "    </tr>\n",
       "    <tr>\n",
       "      <th>example_index</th>\n",
       "      <th></th>\n",
       "      <th></th>\n",
       "      <th></th>\n",
       "      <th></th>\n",
       "      <th></th>\n",
       "      <th></th>\n",
       "    </tr>\n",
       "  </thead>\n",
       "  <tbody>\n",
       "    <tr>\n",
       "      <th>224015</th>\n",
       "      <td>Realme U1 to be Launched on this Date. Know Al...</td>\n",
       "      <td>808</td>\n",
       "      <td>accept</td>\n",
       "      <td>recognize</td>\n",
       "      <td>True</td>\n",
       "      <td>0.140882</td>\n",
       "    </tr>\n",
       "  </tbody>\n",
       "</table>\n",
       "</div>"
      ],
      "text/plain": [
       "                                                            text  sub_index  \\\n",
       "example_index                                                                 \n",
       "224015         Realme U1 to be Launched on this Date. Know Al...        808   \n",
       "\n",
       "              original    synonym  substituted?  calibrated  \n",
       "example_index                                                \n",
       "224015          accept  recognize          True    0.140882  "
      ]
     },
     "execution_count": 6,
     "metadata": {},
     "output_type": "execute_result"
    }
   ],
   "source": [
    "prop_inputs = pd.read_csv('./propagation_inputs.csv', header=[0])\n",
    "prop_inputs = prop_inputs.set_index('example_index')\n",
    "prop_inputs.head(1)"
   ]
  },
  {
   "cell_type": "code",
   "execution_count": 7,
   "id": "8d7b6c47",
   "metadata": {},
   "outputs": [],
   "source": [
    "prop_inputs = prop_inputs[~prop_inputs.index.duplicated(keep='first')]"
   ]
  },
  {
   "cell_type": "code",
   "execution_count": 8,
   "id": "62a02f5c",
   "metadata": {},
   "outputs": [],
   "source": [
    "edited_ds = ds['train'].add_column('order', [''] * len(ds['train']))"
   ]
  },
  {
   "cell_type": "code",
   "execution_count": 9,
   "id": "050e5530",
   "metadata": {},
   "outputs": [
    {
     "data": {
      "application/vnd.jupyter.widget-view+json": {
       "model_id": "",
       "version_major": 2,
       "version_minor": 0
      },
      "text/plain": [
       "Map (num_proc=16):   0%|          | 0/989378 [00:00<?, ? examples/s]"
      ]
     },
     "metadata": {},
     "output_type": "display_data"
    }
   ],
   "source": [
    "#Performs the map that will perturb the data. Records the perturbation in the \"order\" section of the data\n",
    "def edit(x, index):\n",
    "    order = []\n",
    "    if index not in prop_inputs.index:\n",
    "        return x\n",
    "    \n",
    "    # only 1 edit per row\n",
    "    row = prop_inputs.loc[index]\n",
    "    w1 = row['original']\n",
    "    w2 = row['synonym']\n",
    "    try:\n",
    "        w1_index = x['text'].index(f' {w1} ')\n",
    "    except:\n",
    "        print(row)\n",
    "        raise Exception\n",
    "        \n",
    "    assert(row['sub_index'] == w1_index)\n",
    "\n",
    "    if row['substituted?'] == 1:\n",
    "        order.append((w1, w1_index))\n",
    "        new_text = x['text'].replace(f' {w1} ', f' {w2} ', 1)\n",
    "        assert (new_text != x['text'])\n",
    "    else:\n",
    "        new_text = x['text']\n",
    "\n",
    "    x[\"text\"] = new_text\n",
    "    x[\"order\"] = json.dumps(order)\n",
    "    return x\n",
    "\n",
    "edited_ds = edited_ds.map(\n",
    "    edit,\n",
    "    num_proc=num_proc,\n",
    "    with_indices=True,\n",
    "    keep_in_memory=True\n",
    ")"
   ]
  },
  {
   "cell_type": "code",
   "execution_count": 10,
   "id": "13696289",
   "metadata": {},
   "outputs": [
    {
     "data": {
      "text/html": [
       "<div>\n",
       "<style scoped>\n",
       "    .dataframe tbody tr th:only-of-type {\n",
       "        vertical-align: middle;\n",
       "    }\n",
       "\n",
       "    .dataframe tbody tr th {\n",
       "        vertical-align: top;\n",
       "    }\n",
       "\n",
       "    .dataframe thead th {\n",
       "        text-align: right;\n",
       "    }\n",
       "</style>\n",
       "<table border=\"1\" class=\"dataframe\">\n",
       "  <thead>\n",
       "    <tr style=\"text-align: right;\">\n",
       "      <th></th>\n",
       "      <th>text</th>\n",
       "      <th>sub_index</th>\n",
       "      <th>original</th>\n",
       "      <th>synonym</th>\n",
       "      <th>substituted?</th>\n",
       "      <th>calibrated</th>\n",
       "    </tr>\n",
       "    <tr>\n",
       "      <th>example_index</th>\n",
       "      <th></th>\n",
       "      <th></th>\n",
       "      <th></th>\n",
       "      <th></th>\n",
       "      <th></th>\n",
       "      <th></th>\n",
       "    </tr>\n",
       "  </thead>\n",
       "  <tbody>\n",
       "    <tr>\n",
       "      <th>224015</th>\n",
       "      <td>Realme U1 to be Launched on this Date. Know Al...</td>\n",
       "      <td>808</td>\n",
       "      <td>accept</td>\n",
       "      <td>recognize</td>\n",
       "      <td>True</td>\n",
       "      <td>0.140882</td>\n",
       "    </tr>\n",
       "    <tr>\n",
       "      <th>419293</th>\n",
       "      <td>Ranking the Top 100 Global Brands - Who’s most...</td>\n",
       "      <td>20921</td>\n",
       "      <td>accept</td>\n",
       "      <td>recognize</td>\n",
       "      <td>False</td>\n",
       "      <td>0.242922</td>\n",
       "    </tr>\n",
       "    <tr>\n",
       "      <th>239116</th>\n",
       "      <td>\\n732 F.Supp.2d 310 (2010)\\nIn re the RESERVE ...</td>\n",
       "      <td>20769</td>\n",
       "      <td>accept</td>\n",
       "      <td>recognize</td>\n",
       "      <td>True</td>\n",
       "      <td>0.137564</td>\n",
       "    </tr>\n",
       "    <tr>\n",
       "      <th>209489</th>\n",
       "      <td>Chat live right now with one of our online sup...</td>\n",
       "      <td>1053</td>\n",
       "      <td>accept</td>\n",
       "      <td>recognize</td>\n",
       "      <td>True</td>\n",
       "      <td>0.141504</td>\n",
       "    </tr>\n",
       "  </tbody>\n",
       "</table>\n",
       "</div>"
      ],
      "text/plain": [
       "                                                            text  sub_index  \\\n",
       "example_index                                                                 \n",
       "224015         Realme U1 to be Launched on this Date. Know Al...        808   \n",
       "419293         Ranking the Top 100 Global Brands - Who’s most...      20921   \n",
       "239116         \\n732 F.Supp.2d 310 (2010)\\nIn re the RESERVE ...      20769   \n",
       "209489         Chat live right now with one of our online sup...       1053   \n",
       "\n",
       "              original    synonym  substituted?  calibrated  \n",
       "example_index                                                \n",
       "224015          accept  recognize          True    0.140882  \n",
       "419293          accept  recognize         False    0.242922  \n",
       "239116          accept  recognize          True    0.137564  \n",
       "209489          accept  recognize          True    0.141504  "
      ]
     },
     "execution_count": 10,
     "metadata": {},
     "output_type": "execute_result"
    }
   ],
   "source": [
    "prop_inputs.head(4)"
   ]
  },
  {
   "cell_type": "code",
   "execution_count": 18,
   "id": "06c23f24",
   "metadata": {},
   "outputs": [
    {
     "data": {
      "text/plain": [
       "'[[\"accept\", 808]]'"
      ]
     },
     "execution_count": 18,
     "metadata": {},
     "output_type": "execute_result"
    }
   ],
   "source": [
    "edited_ds[224015]['order']"
   ]
  },
  {
   "cell_type": "code",
   "execution_count": 19,
   "id": "6d0ce8ce",
   "metadata": {},
   "outputs": [
    {
     "data": {
      "text/plain": [
       "' recognize refreshes with respect to the telephone through the ‘Tell Me’, however the dispatch will just occur on November 28.\\n\\nWith troublesome cell phones like the Realme 1, Realme 2, Realme 2 Pro and Realme C1 in its lineup, the organization is extending its portfolio to target new sort of clients with its Realme U1. The cell phone is additionally found to have a waterdrop-style score show, like the OnePlus 6T and numerous other recently propelled Android cell phones. Besides, the nearness of MediaTek Helio P70 on the Realme U1 will bring a cluster of new enhancements, for example, high-goals profundity motor, quicker multi-outline clamor decrease, hostile to blossoming motor, and precise AI (man-made consciousness) recognition.'"
      ]
     },
     "execution_count": 19,
     "metadata": {},
     "output_type": "execute_result"
    }
   ],
   "source": [
    "edited_ds[224015]['text'][808:]"
   ]
  },
  {
   "cell_type": "code",
   "execution_count": 20,
   "id": "15ad50ee",
   "metadata": {},
   "outputs": [
    {
     "data": {
      "text/plain": [
       "'[]'"
      ]
     },
     "execution_count": 20,
     "metadata": {},
     "output_type": "execute_result"
    }
   ],
   "source": [
    "edited_ds[419293]['order']"
   ]
  },
  {
   "cell_type": "code",
   "execution_count": 22,
   "id": "d0fe1d49",
   "metadata": {},
   "outputs": [
    {
     "data": {
      "text/plain": [
       "' accept that there weresome unknowns. If you try to mitigateevery piece of risk, you will be eitherinauthentic or fail.”In addition to CEO Schultz, there wasalso an “everyday” champion. Bruzzoadded, “There needs to be someonewho not only gets social media but canalso translate it for the organization.Alex (Wheeler) is a key part of that.”Having Wheeler was essential, as shewas the person who cajoled, prodded,and convinced everyone to take that ﬁrststep into social media.1213Industry Top 100 Rank Score Channels Social Media TeamAuto 21 54 7 3 peopleBEST PRACTICESToyotaToyota is relatively new to the social media arena, having started in earnestjust two years ago — Toyota launched its YouTube channel in March 2008and established a Twitter proﬁ le in April 2008. Yet with a team of just threepeople, Toyota was able to achieve an engagement score of 54 across7 channels. We spoke with Scott DeYager, Social Media Supervisor, andDenise Morrissey, Online Community Manager, about how they engagewith Toyota customers.Be in it for the long haul.Morrissey stressed that a key tosuccessful engagement is to commit toa relationship with customers in newchannels and convince your customersthat you will be there for them. “If youare going to engage, you have to havea plan and make sure that resources areavailable. Because you can’t gracefullyexit — once you’re in, you’re in. The daysof walking away from a campaign areover — once we engage, we have tocommit to it.”Pick channels carefully.From the start, the social mediateam realized that there would be alot of resistance to having a Toyotablog. “We had to choose the path ofleast resistance,” shared DeYager.So they started with a YouTubechannel (YouTube.com/toyotausa)that showcased video content thatToyota already had handy — it wassimply a matter of uploading thecontent to YouTube. Twitter camenext (Twitter.com/Toyota), primarilybecause it leveraged the corporatecommunications work that DeYager’steam was already doing. They reasonedthat it would be hard to get in troublewith 140-character postings and keystakeholders viewed channels likeTwitter and YouTube as less threatening.The team works closely with outsideblogs likePriuschat.com— which is notafﬁ liated with Toyota — by providingaccess, information, and support. Butthey have no plans in the near term tolaunch a blog — their limited resourcesand organization barriers make bloggingdifﬁ cult. To extend their reach further,they recently launched Facebook pagesfor the Prius (Facebook.com/prius)and Lexus (Facebook.com/lexus) inconjunction with their outside agency.3Spread engagement to employees beyond the social media team.As they were only three people, DeYagerand his team from the start reachedout to people around the company toprovide the content to ﬁ ll the channelswhere they engage with customers.Take a look at the Twitter account andyou’ll see that in addition to DeYager,three public relations specialists fromsales, environment/safety, and publicaffairs/community outreach contributeposts. The Toyota Twitter team usesmonitoring software to identify tweetsmentioning Toyota, then responds froma respective area of expertise usingtechnology from CoTweet to managemultiple authors on the single Twitteraccount.4This same mode is utilized onToyota’s Facebook pages — responserequests are sent out and come backfrom around the company, dependingon the topic.Not only does this put the real expertsfront and center, but the social mediateam couldn’t manage the effortsany other way. “There aren’t enoughbodies here to engage 24/7,” explainedMorrissey. “Together with our agency,we put together guidelines and bestpractices on customer engagement,then communicated and shared theresponsibilities with the functionalgroups who could respond to, forexample, environmental news.”The team also pulls content such asvideo from around the organization.Morrissey commented, “It was never anargument inside the organization to getcontent — people are excited to give uscontent, such as dealer training videos,because it serves the public as well. Alot of the departments are coming to uswith content.” DeYager’s team createda social media governance board todevelop loose guidelines on how contentwould be shared between the Toyota,Lexus, and Scion divisions, making itmuch easier for the social media team togo freely around the organization andrequest content.BEST PRACTICES1415Industry Top 100 Rank Score Channels Social Media TeamTechnology 9 86 10 35 peopleBEST PRACTICESSAPAs one of the largest technology companies in the world, SAP has thedaunting challenge of engaging its extended developer community. TheSAP Community Network (SCN) is now six years old, 1.7millionusers strong,and run by 35 people. The social media team manages the web site as wellas multiple in-person events around the world, each with attendance wellinto the thousands.5Mark Yolton, Senior VP of SCN, remarked that whileSCN has a relatively large team compared to other companies, “There’sno way that I and my team of 35 people could ‘manage’ the 1.7 millionmembers of the community.” But engage they do, with an engagementscore of 86 across 10 channels (ranked 9th out of the top 100 brands). Hereare some of their best practices.Open the platform to anyone and everyone.Anyone can contribute to the blogs,discussion forums, and wikis on the SCNsite — and 5,000 bloggers do. Two-thirdsof contributors represent customers,thought leaders, analysts, and partnersfrom the broader SAP ecosystem. Yoltonexplained, “Five thousand people havethe keys to the blogging system on SCN.That’s one way to scale — by involvingthe community very actively.”To encourage activity and engagement,SAP has a reward point ContributorRecognition Program that awards pointsfor speciﬁ c activities, such as maintaininga blog, responding to forum questions,or adding to a wiki page.6Why wouldanyone care about the points? Becauseto the system communicates thereputation of each developer, vendor,partner, or thought leader as an expert— and can help secure a job, contract,and sale.Encourage employees to tap into social media to get work done.With 1500 employee bloggers and 400employees actively publishing content inother forms, SAP clearly has few controlissues about allowing employees toengage. That’s because the companyrealizes that real work gets done in thesesocial channels. It goes all the way to thetop — CTO Vishal Sikka recently bloggedabout concepts like “open cloudcomputing” and “timeless software”in order to ﬂ oat the idea and getfeedback. Yolton explained, “Productmanagers are using the social tools tocommunicate information about theirnew products and to get feedback —even down to product documentation.”BEST PRACTICESEngage in new channels where people already are.SCN started with blogs, wikis, anddiscussion forums, but recently branchedout to new channels like Twitter as well.“We think about the ecosystem morebroadly than just customer management— it’s a symbiotic relationshipbetween the members of our broaderecosystem.” So while there are roughlyeight “ofﬁ cial” Twitter accounts, thereare many more “personal” accountsmanaged by SAP employees, relatedpartners like mentors, and analysts/bloggers.7Yolton supported the roleof individuals on Twitter, saying, “Acorporate presence doesn’t speak wellin Twitter. It’s better to have individualvoices in Twitter where they can engageas people.” So while there is at best alight tie between the SCN site activitiesand Twitter, the philosophy of deep andwide engagement carries through evenon non-SAP SCN sites.Support engagement as an extension of the company culture.One of the newest channels SAP isusing isTwitter.com/saplistens, achannel where SAP invites consumersto “Talk with us. We want to learn.”Yolton emphasized that this reﬂ ects theoverall culture of the company, one thatvalues the ability to listen well. WhileYolton can’t yet prove a measurablecausal relationship between customerengagement and the company’sﬁ nancial performance, he believes thereis a correlation. “It’s more like branding— our activities reﬂ ect an attitude ofthe company that is more engaged, acompany that values the opinions andviewpoints of the many different voicesof customers and suppliers. If we canmake our customers more successful,then they will buy more products andservices.”1617Industry Top 100 Rank Score Channels Social Media TeamTechnology 2 123 11 n/aBEST PRACTICESDellDell’s social media engagement was initially forged by crisis — from the “DellHell” summer of 2005 to the ﬂ aming laptops in 2006. But from these trials,Dell emerged as one of the most engaged and active companies in socialmedia, with an engagement score of 123 in 11 channels. Their best practicespertain primarily to how to extend and sustain engagement across theorganization.Be conversational from the start.When Dell started engaging in socialmedia, they started small with a bloggerrelations program designed to reachout to bloggers writing about Dell. Thissimple start — focused on a dialoguewith bloggers — set the tone for allfuture engagement, now ranging froma blog (IdeaStorm, an idea generationhub that was the inspiration forMyStarbucksIdea.com), to multipleTwitter accounts. Richard Binhammer,a senior manager in corporate affairs atDell, observed, “When we moved intoother channels, we learned our lessonand adopted a conversational approachculturally.”BEST PRACTICESMake social media part of the job, just like email.There are several examples of how Dellemployees are leveraging social media toget their jobs done, engaging for 15-20minutes a day as part of their routine.For example, Max Weston, an educationstrategist at Dell, tweets regularly,sharing his thoughts on education andtechnology with 3,000+ followers.8\\n\\nMatt Domsch, a technology strategist inthe ofﬁ ce of the CTO, is a Linux expertwho pops in and out of Twitter severaltimes a week and also has a personalblog on which he engages fellow Linuxenthusiasts.9Binhammer explains, “Maxdoesn’t have to get on a plane and go toa Linux conference to bring that outsideperspective into his job every day. Forpeople like Max, this is just anotherchannel for communicating. It’s an add-on, not a replacement, and is like usingyour phone or email.”Modularize and synchronize content across channelsWhile Dell recognizes that each channelis unique, it also understands thatengagement frequently jumps betweenchannels. Dell recently facilitated cross-channel engagement with a post on theDirect2Dell blog asking for feedback onthe future of Dell Mini Netbooks whiledirecting people to share their thoughtson IdeaStorm as well.10Dell also usedthe opportunity to launch a Twitteraccount atTwitter.com/dell_mini. Theengagement across all of these channelsis being driven by three members ofthe Dell Mini development team whorespond to the Netbook idea threadsdirectly.In the future, Dell could create whatLionel Menchaca, Chief Blogger at Dell,calls “activity streams” to incorporatenot only Dell-generated content, butalso Dell community and industry newsaround Netbooks for Mini owners.11Thatinformation could be pushed into blogs,tweets, video, photos, etc. so that Miniowners can consume content in thechannel of their choice.KEY TAKEAWAYS1819Engagement via social media IS important — and we CAN\\n\\nquantify it.Many different social media channels exist, each with a slightlydifferent value proposition. Rather than try to understand just theindividual value of each channel, the ENGAGEMENTdb looks acrossmain channels and categorizes not only breadth but also depth ofbrand engagement in social media.What’s in it for me?The ENGAGEMENTdb quantitatively demonstrates a statisticallysigniﬁcant correlation between social media engagement and the twomost meaningful ﬁnancial performance metrics – revenue and proﬁt.Money talks, and it’s declaring that it pays to engage meaningfully insocial media.Emphasize quality, not just quantity.The ENGAGEMENTdb Report shows that engagement is more than justsetting up a blog and letting viewers post comments; it’s more thanjust having a Facebook proﬁle and having others write on your wall.Rather, it’s keeping your blog content fresh and replying to comments;it’s building your friends network and updating your proﬁle status.Don’t just check the box; engage with your customer audience.To scale engagement, make social media part of everyone’s job.The best practice interviews have a common theme — social media is nolonger the responsibility of a few people in the organization. Instead,it’s important for everyone across the organization to engage withcustomers in the channels that make sense — a few minutes each dayspent by every employee adds up to a wealth of customer touch points.Doing it all may not be for you — but you must dosomething.The optimal social media marketing strategy will depend on a varietyof factors, including your industry. If your most valuable customers donot depend on or trust social media as a communication medium, orif your organization is resistant to engagement in some channels, youwill have to start smaller and slower. But start you must, or risk fallingfar behind other brands, not only in your industry, but across yourcustomers’ general online experience.Find your sweet spot.Engagement can’t be skin-deep, nor is it a campaign that can be turnedon and off. True engagement means ful engagement in the channelswhere you choose to invest. Thus, choose carefully and advocatestrongly to acquire the resources and support you will need to succeed.If you are resource-constrained, it is better to be consistent andparticipate in fewer channels than to spread yourself too thin.2021Have a plan of how you will ramp engagement. Took a look at how somecompanies are managing to engage deeply – the strategies, processes,and technologies they use to engage both deeply and widely.METHODOLOGYAll data is based on availability during the time that this study wasconducted (March – May, 2009).What we looked atThe Top 100 brands based onBusinessWeek / Interbrand “Best GlobalBrands 2008” publication.What social media channels\\n\\ndid we examine?We recognize that each social mediatool is unique and functions differentlyto deepen the consumer relationship.Applying our industry expertise in themost prevalent social media networks,we narrowed the scope of our study tothe following social media channels:• Blogs• Branded social network/community• Content distribution to other sites (e.g.Facebook Connect, ShareThis, etc)• Discussion forums• External social network presence\\n\\n(e.g. Facebook, MySpace)• Flickr / Photobucket• Innovation hubs (e.g. centralizedcustomer community to createinnovation)• Wikis• Ratings and reviews• Twitter• YouTubeNote: Corporate/Executive involvementwas also weighted on par with otherchannels rather than as an engagementsub-score within each channel. Why?A company that makes social mediatools such a priority that the executiveleadership team regularly participatesrepresents a meaningful, on-goinginvestment that merits credit beyonda “bonus point” within speciﬁc toolbuckets. Treating organizationalparticipation in this manner furthersour goal of rewarding companies thatmake material investments in socialengagement.How we scored engagementOver 40 attributes for each of the 100companies were evaluated – in general,the number of channels in which acompany participates was evaluated inconjunction with its respective level ofengagement in each channel.For most evaluation metrics, companiesreceived credit for channels orengagement only if it was evident thatcorporate sponsored/encouragedresources were responsible for creatingthe presence and/or responsible forconsistent participation within thechannel. Companies received partialcredit in cases where strong corporatepresence in channels created by externalparties (e.g. consumers, third partyafﬁliates) was clear and discernible.How we incorporated ﬁnancialperformanceAfter scoring each company’s socialmedia engagement, we reviewed theirlatest business results and tested ourhypothesis that engagement goes handin hand with ﬁnancial success. First, wecollected publically available ﬁnancialperformance metrics for companiestraded in US markets. In order tomaintain data consistency as a basisfor fair comparison, private companiesand/or companies that are only traded inforeign markets were not included in ouranalysis. Revenue, gross margin, andnet margin performance was evaluatedon a “last twelve months” basis (LTM).In other words, the most recent publiclyavailable quarterly data (Q4 ‘08 orQ1 ‘09 in some cases) was used as astarting point. The three immediatelypreceding quarters of data (i.e. Q1 ’08 toQ3 ’08 if starting with Q4 ’08) was thenincorporated to comprise the 12 monthperiod for analysis. All data was collectedfrom Marketwatch and/or Yahoo!Finance.Next, we segregated the companiesinto those that scored above and belowtheir peer set’s average, analyzed their2223METHODOLOGYrespective revenues/margins, andcompared the two groups’ aggregateaverages for each ﬁnancial metric. Thecurrent economic conditions ascertainedthe appropriateness of a relativecomparison as opposed to an absolutestandard of a good vs. bad ﬁnancialoutcome.A signiﬁcant and representative sample(66 of the top 100 brands) was used inthe ﬁnancial analysis.How we uncovered bestpracticesWe identiﬁed several brands that areengaging in unique ways and conductedphone interviews to understandhow they crafted their social mediaengagement strategy.APPENDIX A:ENGAGEMENT INDEX SCORES FOR THE'"
      ]
     },
     "execution_count": 22,
     "metadata": {},
     "output_type": "execute_result"
    }
   ],
   "source": [
    "edited_ds[419293]['text'][20921:]"
   ]
  },
  {
   "cell_type": "code",
   "execution_count": 15,
   "id": "7b4f7c2b",
   "metadata": {},
   "outputs": [
    {
     "data": {
      "text/plain": [
       "Dataset({\n",
       "    features: ['text', 'meta', 'order'],\n",
       "    num_rows: 989378\n",
       "})"
      ]
     },
     "execution_count": 15,
     "metadata": {},
     "output_type": "execute_result"
    }
   ],
   "source": [
    "edited_ds"
   ]
  },
  {
   "cell_type": "code",
   "execution_count": 16,
   "id": "e48a86e5",
   "metadata": {},
   "outputs": [
    {
     "data": {
      "application/vnd.jupyter.widget-view+json": {
       "model_id": "",
       "version_major": 2,
       "version_minor": 0
      },
      "text/plain": [
       "Saving the dataset (0/13 shards):   0%|          | 0/989378 [00:00<?, ? examples/s]"
      ]
     },
     "metadata": {},
     "output_type": "display_data"
    }
   ],
   "source": [
    "edited_ds.save_to_disk(f'{out_dataset_name}.hf')\n",
    "edited_ds = datasets.load_from_disk(f'{out_dataset_name}.hf')"
   ]
  },
  {
   "cell_type": "code",
   "execution_count": 17,
   "id": "0d273981",
   "metadata": {},
   "outputs": [
    {
     "data": {
      "application/vnd.jupyter.widget-view+json": {
       "model_id": "7f839c9a8da94a46a70e8ed1ff94b83d",
       "version_major": 2,
       "version_minor": 0
      },
      "text/plain": [
       "Creating json from Arrow format:   0%|          | 0/990 [00:00<?, ?ba/s]"
      ]
     },
     "metadata": {},
     "output_type": "display_data"
    },
    {
     "data": {
      "text/plain": [
       "6446555272"
      ]
     },
     "execution_count": 17,
     "metadata": {},
     "output_type": "execute_result"
    }
   ],
   "source": [
    "#saves the data\n",
    "# edited_ds.remove_columns(['hash', 'is_original', 'substitutions'])\n",
    "edited_ds.to_json(f'{out_dataset_name}.jsonl', num_proc=num_proc)"
   ]
  }
 ],
 "metadata": {
  "kernelspec": {
   "display_name": "Python 3 (ipykernel)",
   "language": "python",
   "name": "python3"
  },
  "language_info": {
   "codemirror_mode": {
    "name": "ipython",
    "version": 3
   },
   "file_extension": ".py",
   "mimetype": "text/x-python",
   "name": "python",
   "nbconvert_exporter": "python",
   "pygments_lexer": "ipython3",
   "version": "3.8.13"
  }
 },
 "nbformat": 4,
 "nbformat_minor": 5
}
