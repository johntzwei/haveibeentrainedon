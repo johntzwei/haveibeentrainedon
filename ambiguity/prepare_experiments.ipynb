{
 "cells": [
  {
   "cell_type": "code",
   "execution_count": 14,
   "id": "2c3fd9be",
   "metadata": {},
   "outputs": [],
   "source": [
    "import numpy as np\n",
    "import pandas as pd\n",
    "import seaborn as sns\n",
    "from glob import glob\n",
    "from sklearn.linear_model import LogisticRegression"
   ]
  },
  {
   "cell_type": "code",
   "execution_count": 15,
   "id": "4eed0bcf",
   "metadata": {},
   "outputs": [],
   "source": [
    "bins = 5\n",
    "n_per_bin = 200\n",
    "context_chars = 500\n",
    "seed = 416"
   ]
  },
  {
   "cell_type": "code",
   "execution_count": 17,
   "id": "594a7f9d",
   "metadata": {},
   "outputs": [
    {
     "name": "stdout",
     "output_type": "stream",
     "text": [
      "nice good\n",
      "next following\n",
      "help assist\n",
      "subject topic\n",
      "file record\n",
      "voice sound\n",
      "size proportion\n",
      "just quite\n",
      "guy player\n",
      "way direction\n",
      "business operation\n",
      "first initial\n",
      "permit allow\n",
      "monitor track\n",
      "say state\n",
      "grow increase\n",
      "accept recognize\n",
      "many multiple\n",
      "team group\n",
      "perhaps maybe\n",
      "full whole\n",
      "try attempt\n",
      "return exchange\n",
      "very really\n",
      "area location\n",
      "idea thought\n",
      "device equipment\n",
      "man person\n",
      "own hold\n",
      "choose pick\n",
      "fell decrease\n",
      "cut reduce\n"
     ]
    },
    {
     "data": {
      "text/html": [
       "<div>\n",
       "<style scoped>\n",
       "    .dataframe tbody tr th:only-of-type {\n",
       "        vertical-align: middle;\n",
       "    }\n",
       "\n",
       "    .dataframe tbody tr th {\n",
       "        vertical-align: top;\n",
       "    }\n",
       "\n",
       "    .dataframe thead th {\n",
       "        text-align: right;\n",
       "    }\n",
       "</style>\n",
       "<table border=\"1\" class=\"dataframe\">\n",
       "  <thead>\n",
       "    <tr style=\"text-align: right;\">\n",
       "      <th></th>\n",
       "      <th>prefix</th>\n",
       "      <th>idx</th>\n",
       "      <th>label</th>\n",
       "      <th>e(x)</th>\n",
       "      <th>calibrated</th>\n",
       "      <th>original</th>\n",
       "      <th>synonym</th>\n",
       "      <th>length</th>\n",
       "      <th>bin</th>\n",
       "    </tr>\n",
       "  </thead>\n",
       "  <tbody>\n",
       "    <tr>\n",
       "      <th>0</th>\n",
       "      <td>About Grand Slam Fishing Charters\\n\\nAs a fami...</td>\n",
       "      <td>4</td>\n",
       "      <td>0</td>\n",
       "      <td>0.611402</td>\n",
       "      <td>0.354269</td>\n",
       "      <td>nice</td>\n",
       "      <td>good</td>\n",
       "      <td>1395</td>\n",
       "      <td>(0.314, 0.472]</td>\n",
       "    </tr>\n",
       "  </tbody>\n",
       "</table>\n",
       "</div>"
      ],
      "text/plain": [
       "                                              prefix  idx  label      e(x)  \\\n",
       "0  About Grand Slam Fishing Charters\\n\\nAs a fami...    4      0  0.611402   \n",
       "\n",
       "   calibrated original synonym  length             bin  \n",
       "0    0.354269     nice    good    1395  (0.314, 0.472]  "
      ]
     },
     "execution_count": 17,
     "metadata": {},
     "output_type": "execute_result"
    }
   ],
   "source": [
    "data = []\n",
    "\n",
    "for fn in glob('../propensity/scores/ps_*.csv'):\n",
    "    df = pd.read_csv(fn)\n",
    "    w1 = fn.split('_')[-2]\n",
    "    w2 = fn[:-4].split('_')[-1]\n",
    "    \n",
    "    # calibrate the scores\n",
    "    temp_model = LogisticRegression().fit(np.log(np.array(df[\"e(x)\"])).reshape(-1, 1), df[\"label\"])\n",
    "    def func(row):\n",
    "        x = np.array(row[\"e(x)\"]).reshape(1, -1)\n",
    "        prediction = temp_model.predict_proba(np.log(x))[0,1]\n",
    "        return prediction\n",
    "    df[\"calibrated\"] = df.apply(func, axis=1)\n",
    "    \n",
    "    df['original'] = [w1] * len(df)\n",
    "    df['synonym'] = [w2] * len(df)\n",
    "    df['length'] = df['prefix'].apply(lambda x: len(x))\n",
    "    df['bin'] = pd.cut(df['calibrated'], bins)\n",
    "    \n",
    "    # only append if the scores converged\n",
    "    if df['e(x)'].max() - df['e(x)'].min() > 0.5:\n",
    "        print(w1, w2)\n",
    "        data.append(df)\n",
    "    \n",
    "df = pd.concat(data)\n",
    "df.head(1)"
   ]
  },
  {
   "cell_type": "code",
   "execution_count": 18,
   "id": "41d05b36",
   "metadata": {},
   "outputs": [
    {
     "data": {
      "text/plain": [
       "640000"
      ]
     },
     "execution_count": 18,
     "metadata": {},
     "output_type": "execute_result"
    }
   ],
   "source": [
    "len(df)"
   ]
  },
  {
   "cell_type": "code",
   "execution_count": 19,
   "id": "05a632c0",
   "metadata": {},
   "outputs": [
    {
     "data": {
      "text/plain": [
       "(640000, 119683)"
      ]
     },
     "execution_count": 19,
     "metadata": {},
     "output_type": "execute_result"
    }
   ],
   "source": [
    "eligible = pd.DataFrame(df[(df['length'] > context_chars) & (df['label'] == 0)])\n",
    "eligible['distance'] = np.abs(eligible['calibrated'] - 0.5)\n",
    "eligible = eligible.sort_values('distance')\n",
    "no_duplicates = eligible[~eligible.idx.duplicated(keep='first')]\n",
    "len(df), len(no_duplicates)"
   ]
  },
  {
   "cell_type": "code",
   "execution_count": 27,
   "id": "99755375",
   "metadata": {},
   "outputs": [],
   "source": [
    "np.random.seed(seed)"
   ]
  },
  {
   "cell_type": "code",
   "execution_count": 34,
   "id": "5d8d1f3c",
   "metadata": {
    "scrolled": true
   },
   "outputs": [
    {
     "name": "stdout",
     "output_type": "stream",
     "text": [
      "accept recognize\n",
      "choose pick\n",
      "cut reduce\n",
      "grow increase\n",
      "help assist\n",
      "man person\n",
      "monitor track\n",
      "next following\n",
      "nice good\n",
      "perhaps maybe\n",
      "subject topic\n",
      "team group\n",
      "voice sound\n"
     ]
    }
   ],
   "source": [
    "data = []\n",
    "\n",
    "for i, g in no_duplicates.groupby('original'):  \n",
    "    try:\n",
    "        sample = g.groupby('bin').sample(n_per_bin, replace=False, random_state=np.random.randint(0,1000))\n",
    "        data.append(sample)\n",
    "    except:\n",
    "        continue\n",
    "    print(i, g.synonym.unique()[0])"
   ]
  },
  {
   "cell_type": "code",
   "execution_count": 29,
   "id": "7dc13c04",
   "metadata": {},
   "outputs": [
    {
     "data": {
      "text/plain": [
       "13"
      ]
     },
     "execution_count": 29,
     "metadata": {},
     "output_type": "execute_result"
    }
   ],
   "source": [
    "len(data)"
   ]
  },
  {
   "cell_type": "code",
   "execution_count": 30,
   "id": "3fa35a41",
   "metadata": {},
   "outputs": [
    {
     "data": {
      "text/plain": [
       "13000"
      ]
     },
     "execution_count": 30,
     "metadata": {},
     "output_type": "execute_result"
    }
   ],
   "source": [
    "prop_inputs = pd.concat(data)\n",
    "len(prop_inputs)"
   ]
  },
  {
   "cell_type": "code",
   "execution_count": 31,
   "id": "6f92b266",
   "metadata": {},
   "outputs": [
    {
     "data": {
      "text/plain": [
       "0.5013846153846154"
      ]
     },
     "execution_count": 31,
     "metadata": {},
     "output_type": "execute_result"
    }
   ],
   "source": [
    "prop_inputs['label'] = np.random.randint(0, 2, size=len(prop_inputs))\n",
    "prop_inputs['label'] = prop_inputs['label'].astype(bool)\n",
    "prop_inputs['label'].mean()"
   ]
  },
  {
   "cell_type": "code",
   "execution_count": 32,
   "id": "b116c0c9",
   "metadata": {},
   "outputs": [],
   "source": [
    "# prepare propagation inputs\n",
    "prop_inputs = prop_inputs[['idx', 'prefix', 'length', 'original', 'synonym', 'label', 'calibrated']]\n",
    "prop_inputs.columns = ['example_index', 'text', 'sub_index', 'original', 'synonym', 'substituted?', 'calibrated']\n",
    "prop_inputs.to_csv('./propagation_inputs.csv', index=False, header=True)"
   ]
  },
  {
   "cell_type": "code",
   "execution_count": 33,
   "id": "d3e1b794",
   "metadata": {},
   "outputs": [
    {
     "data": {
      "text/html": [
       "<div>\n",
       "<style scoped>\n",
       "    .dataframe tbody tr th:only-of-type {\n",
       "        vertical-align: middle;\n",
       "    }\n",
       "\n",
       "    .dataframe tbody tr th {\n",
       "        vertical-align: top;\n",
       "    }\n",
       "\n",
       "    .dataframe thead th {\n",
       "        text-align: right;\n",
       "    }\n",
       "</style>\n",
       "<table border=\"1\" class=\"dataframe\">\n",
       "  <thead>\n",
       "    <tr style=\"text-align: right;\">\n",
       "      <th></th>\n",
       "      <th>example_index</th>\n",
       "      <th>text</th>\n",
       "      <th>sub_index</th>\n",
       "      <th>original</th>\n",
       "      <th>synonym</th>\n",
       "      <th>substituted?</th>\n",
       "      <th>calibrated</th>\n",
       "    </tr>\n",
       "  </thead>\n",
       "  <tbody>\n",
       "    <tr>\n",
       "      <th>9707</th>\n",
       "      <td>570613</td>\n",
       "      <td>Ruth Ledbetter, 78, of Bellmead went home to b...</td>\n",
       "      <td>800</td>\n",
       "      <td>voice</td>\n",
       "      <td>sound</td>\n",
       "      <td>True</td>\n",
       "      <td>0.749287</td>\n",
       "    </tr>\n",
       "    <tr>\n",
       "      <th>3251</th>\n",
       "      <td>189547</td>\n",
       "      <td>Jabez\\n\\nJabez or Jabes  is a Biblical male gi...</td>\n",
       "      <td>1258</td>\n",
       "      <td>voice</td>\n",
       "      <td>sound</td>\n",
       "      <td>True</td>\n",
       "      <td>0.729611</td>\n",
       "    </tr>\n",
       "    <tr>\n",
       "      <th>6142</th>\n",
       "      <td>362558</td>\n",
       "      <td>Another evening, another candlelit dinner. A t...</td>\n",
       "      <td>10834</td>\n",
       "      <td>voice</td>\n",
       "      <td>sound</td>\n",
       "      <td>False</td>\n",
       "      <td>0.732663</td>\n",
       "    </tr>\n",
       "    <tr>\n",
       "      <th>3494</th>\n",
       "      <td>204409</td>\n",
       "      <td>Budget Bluetooth: Six wireless headphones for ...</td>\n",
       "      <td>1629</td>\n",
       "      <td>voice</td>\n",
       "      <td>sound</td>\n",
       "      <td>False</td>\n",
       "      <td>0.890100</td>\n",
       "    </tr>\n",
       "    <tr>\n",
       "      <th>6810</th>\n",
       "      <td>402884</td>\n",
       "      <td>Young Death / Nightmarket\\n\\nYoung Death / Nig...</td>\n",
       "      <td>3583</td>\n",
       "      <td>voice</td>\n",
       "      <td>sound</td>\n",
       "      <td>True</td>\n",
       "      <td>0.804656</td>\n",
       "    </tr>\n",
       "  </tbody>\n",
       "</table>\n",
       "</div>"
      ],
      "text/plain": [
       "      example_index                                               text  \\\n",
       "9707         570613  Ruth Ledbetter, 78, of Bellmead went home to b...   \n",
       "3251         189547  Jabez\\n\\nJabez or Jabes  is a Biblical male gi...   \n",
       "6142         362558  Another evening, another candlelit dinner. A t...   \n",
       "3494         204409  Budget Bluetooth: Six wireless headphones for ...   \n",
       "6810         402884  Young Death / Nightmarket\\n\\nYoung Death / Nig...   \n",
       "\n",
       "      sub_index original synonym  substituted?  calibrated  \n",
       "9707        800    voice   sound          True    0.749287  \n",
       "3251       1258    voice   sound          True    0.729611  \n",
       "6142      10834    voice   sound         False    0.732663  \n",
       "3494       1629    voice   sound         False    0.890100  \n",
       "6810       3583    voice   sound          True    0.804656  "
      ]
     },
     "execution_count": 33,
     "metadata": {},
     "output_type": "execute_result"
    }
   ],
   "source": [
    "prop_inputs.tail()"
   ]
  }
 ],
 "metadata": {
  "kernelspec": {
   "display_name": "Python 3 (ipykernel)",
   "language": "python",
   "name": "python3"
  },
  "language_info": {
   "codemirror_mode": {
    "name": "ipython",
    "version": 3
   },
   "file_extension": ".py",
   "mimetype": "text/x-python",
   "name": "python",
   "nbconvert_exporter": "python",
   "pygments_lexer": "ipython3",
   "version": "3.8.13"
  }
 },
 "nbformat": 4,
 "nbformat_minor": 5
}
