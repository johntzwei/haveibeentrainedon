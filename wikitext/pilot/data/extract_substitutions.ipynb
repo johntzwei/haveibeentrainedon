{
 "cells": [
  {
   "cell_type": "code",
   "execution_count": 1,
   "id": "e3335bfa",
   "metadata": {},
   "outputs": [
    {
     "name": "stderr",
     "output_type": "stream",
     "text": [
      "[nltk_data] Downloading package wordnet to /home/johnny/nltk_data...\n",
      "[nltk_data]   Package wordnet is already up-to-date!\n"
     ]
    },
    {
     "data": {
      "text/plain": [
       "True"
      ]
     },
     "execution_count": 1,
     "metadata": {},
     "output_type": "execute_result"
    }
   ],
   "source": [
    "from collections import defaultdict\n",
    "import gzip\n",
    "import json\n",
    "\n",
    "import nltk\n",
    "nltk.download('wordnet')"
   ]
  },
  {
   "cell_type": "code",
   "execution_count": 2,
   "id": "6aece3a2",
   "metadata": {},
   "outputs": [
    {
     "ename": "FileNotFoundError",
     "evalue": "[Errno 2] No such file or directory: 'swords-v1.1_dev.json'",
     "output_type": "error",
     "traceback": [
      "\u001b[0;31m---------------------------------------------------------------------------\u001b[0m",
      "\u001b[0;31mFileNotFoundError\u001b[0m                         Traceback (most recent call last)",
      "Cell \u001b[0;32mIn [2], line 2\u001b[0m\n\u001b[1;32m      1\u001b[0m \u001b[38;5;66;03m# Load benchmark\u001b[39;00m\n\u001b[0;32m----> 2\u001b[0m \u001b[38;5;28;01mwith\u001b[39;00m \u001b[38;5;28;43mopen\u001b[39;49m\u001b[43m(\u001b[49m\u001b[38;5;124;43m'\u001b[39;49m\u001b[38;5;124;43mswords-v1.1_dev.json\u001b[39;49m\u001b[38;5;124;43m'\u001b[39;49m\u001b[43m,\u001b[49m\u001b[43m \u001b[49m\u001b[38;5;124;43m'\u001b[39;49m\u001b[38;5;124;43mr\u001b[39;49m\u001b[38;5;124;43m'\u001b[39;49m\u001b[43m)\u001b[49m \u001b[38;5;28;01mas\u001b[39;00m f:\n\u001b[1;32m      3\u001b[0m     swords \u001b[38;5;241m=\u001b[39m json\u001b[38;5;241m.\u001b[39mload(f)\n\u001b[1;32m      5\u001b[0m \u001b[38;5;66;03m# Gather substitutes by target\u001b[39;00m\n",
      "File \u001b[0;32m~/.conda/envs/torch/lib/python3.8/site-packages/IPython/core/interactiveshell.py:282\u001b[0m, in \u001b[0;36m_modified_open\u001b[0;34m(file, *args, **kwargs)\u001b[0m\n\u001b[1;32m    275\u001b[0m \u001b[38;5;28;01mif\u001b[39;00m file \u001b[38;5;129;01min\u001b[39;00m {\u001b[38;5;241m0\u001b[39m, \u001b[38;5;241m1\u001b[39m, \u001b[38;5;241m2\u001b[39m}:\n\u001b[1;32m    276\u001b[0m     \u001b[38;5;28;01mraise\u001b[39;00m \u001b[38;5;167;01mValueError\u001b[39;00m(\n\u001b[1;32m    277\u001b[0m         \u001b[38;5;124mf\u001b[39m\u001b[38;5;124m\"\u001b[39m\u001b[38;5;124mIPython won\u001b[39m\u001b[38;5;124m'\u001b[39m\u001b[38;5;124mt let you open fd=\u001b[39m\u001b[38;5;132;01m{\u001b[39;00mfile\u001b[38;5;132;01m}\u001b[39;00m\u001b[38;5;124m by default \u001b[39m\u001b[38;5;124m\"\u001b[39m\n\u001b[1;32m    278\u001b[0m         \u001b[38;5;124m\"\u001b[39m\u001b[38;5;124mas it is likely to crash IPython. If you know what you are doing, \u001b[39m\u001b[38;5;124m\"\u001b[39m\n\u001b[1;32m    279\u001b[0m         \u001b[38;5;124m\"\u001b[39m\u001b[38;5;124myou can use builtins\u001b[39m\u001b[38;5;124m'\u001b[39m\u001b[38;5;124m open.\u001b[39m\u001b[38;5;124m\"\u001b[39m\n\u001b[1;32m    280\u001b[0m     )\n\u001b[0;32m--> 282\u001b[0m \u001b[38;5;28;01mreturn\u001b[39;00m \u001b[43mio_open\u001b[49m\u001b[43m(\u001b[49m\u001b[43mfile\u001b[49m\u001b[43m,\u001b[49m\u001b[43m \u001b[49m\u001b[38;5;241;43m*\u001b[39;49m\u001b[43margs\u001b[49m\u001b[43m,\u001b[49m\u001b[43m \u001b[49m\u001b[38;5;241;43m*\u001b[39;49m\u001b[38;5;241;43m*\u001b[39;49m\u001b[43mkwargs\u001b[49m\u001b[43m)\u001b[49m\n",
      "\u001b[0;31mFileNotFoundError\u001b[0m: [Errno 2] No such file or directory: 'swords-v1.1_dev.json'"
     ]
    }
   ],
   "source": [
    "# Load benchmark\n",
    "with open('swords-v1.1_dev.json', 'r') as f:\n",
    "    swords = json.load(f)\n",
    "\n",
    "# Gather substitutes by target\n",
    "tid_to_sids = defaultdict(list)\n",
    "for sid, substitute in swords['substitutes'].items():\n",
    "    tid_to_sids[substitute['target_id']].append(sid)\n",
    "\n",
    "# Iterate through targets\n",
    "for tid, target in swords['targets'].items():\n",
    "    context = swords['contexts'][target['context_id']]\n",
    "    substitutes = [swords['substitutes'][sid] for sid in tid_to_sids[tid]]\n",
    "    labels = [swords['substitute_labels'][sid] for sid in tid_to_sids[tid]]\n",
    "    scores = [l.count('TRUE') / len(l) for l in labels]\n",
    "    print('-' * 80)\n",
    "    print(context['context'].replace('\\n', ''))\n",
    "    print('-' * 20)\n",
    "    print('{} ({})'.format(target['target'], target['pos']))\n",
    "    print(', '.join(['{} ({}%)'.format(substitute['substitute'], round(score * 100)) for substitute, score in sorted(zip(substitutes, scores), key=lambda x: -x[1])]))\n",
    "    break"
   ]
  },
  {
   "cell_type": "code",
   "execution_count": null,
   "id": "a682bc35",
   "metadata": {},
   "outputs": [],
   "source": [
    "good_ones = []\n",
    "for tid, target in swords['targets'].items():\n",
    "    context = swords['contexts'][target['context_id']]\n",
    "    substitutes = [swords['substitutes'][sid] for sid in tid_to_sids[tid]]\n",
    "    labels = [swords['substitute_labels'][sid] for sid in tid_to_sids[tid]]\n",
    "    scores = [l.count('TRUE') / len(l) for l in labels]\n",
    "    sorted_scores = sorted(zip(substitutes, scores), key=lambda x: -x[1])\n",
    "    \n",
    "    candidate = sorted_scores[0]\n",
    "    sub = candidate[0]['substitute']\n",
    "    if candidate[1] > 0.8 and (target['target'].lower() not in sub.lower()) and (' ' not in sub):\n",
    "        good_ones.append((target['target'].lower(), target['pos'], candidate[0]['substitute']))\n"
   ]
  },
  {
   "cell_type": "code",
   "execution_count": null,
   "id": "f5541031",
   "metadata": {},
   "outputs": [],
   "source": [
    "good_ones = list(set(good_ones))"
   ]
  },
  {
   "cell_type": "code",
   "execution_count": null,
   "id": "2cb642f2",
   "metadata": {},
   "outputs": [],
   "source": [
    "from nltk.stem import WordNetLemmatizer\n",
    "lemmatizer = WordNetLemmatizer()\n",
    "\n",
    "pos_mapping = {'NOUN' : 'n', 'VERB' : 'v', 'ADJ' : 'a', 'ADV' : 'r'}\n",
    "good_ones = [ (lemmatizer.lemmatize(word, pos_mapping[pos]), pos, lemmatizer.lemmatize(substitute, pos_mapping[pos])) \\\n",
    "             for word, pos, substitute in good_ones ]"
   ]
  },
  {
   "cell_type": "code",
   "execution_count": null,
   "id": "edccac18",
   "metadata": {},
   "outputs": [],
   "source": [
    "good_ones"
   ]
  }
 ],
 "metadata": {
  "kernelspec": {
   "display_name": "Python 3 (ipykernel)",
   "language": "python",
   "name": "python3"
  },
  "language_info": {
   "codemirror_mode": {
    "name": "ipython",
    "version": 3
   },
   "file_extension": ".py",
   "mimetype": "text/x-python",
   "name": "python",
   "nbconvert_exporter": "python",
   "pygments_lexer": "ipython3",
   "version": "3.8.13"
  }
 },
 "nbformat": 4,
 "nbformat_minor": 5
}
