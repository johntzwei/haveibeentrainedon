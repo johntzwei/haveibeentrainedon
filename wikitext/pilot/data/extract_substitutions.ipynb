{
 "cells": [
  {
   "cell_type": "code",
   "execution_count": 1,
   "id": "e3335bfa",
   "metadata": {},
   "outputs": [
    {
     "name": "stderr",
     "output_type": "stream",
     "text": [
      "[nltk_data] Downloading package wordnet to /home/johnny/nltk_data...\n",
      "[nltk_data]   Package wordnet is already up-to-date!\n"
     ]
    },
    {
     "data": {
      "text/plain": [
       "True"
      ]
     },
     "execution_count": 1,
     "metadata": {},
     "output_type": "execute_result"
    }
   ],
   "source": [
    "from collections import defaultdict\n",
    "import gzip\n",
    "import json\n",
    "\n",
    "import nltk\n",
    "nltk.download('wordnet')"
   ]
  },
  {
   "cell_type": "code",
   "execution_count": 2,
   "id": "6aece3a2",
   "metadata": {},
   "outputs": [
    {
     "name": "stdout",
     "output_type": "stream",
     "text": [
      "--------------------------------------------------------------------------------\n",
      "Kim:\t\t\t\tI have completed the invoices for April, May and June and we owe\t\t\t\t\tPasadena each month for a total of $3,615,910.62. I am waiting to hear\t\t\t\t\tback from Patti on May and June to make sure they are okay with her.\n",
      "--------------------\n",
      "total (NOUN)\n",
      "amount (80%), sum (80%), sum total (60%), price (60%), balance (60%), gross (60%), figure (50%), cost (50%), full amount (40%), whole (30%), number (30%), quantum (10%), aggregate (10%), bill (10%), all (0%), entirety (0%), bulk (0%), flat out (0%), final (0%), body (0%), jackpot (0%), tale (0%), totality (0%), worth (0%), result (0%), allotment (0%), quantity (0%), budget (0%), mass (0%), the works (0%)\n"
     ]
    }
   ],
   "source": [
    "# Load benchmark\n",
    "with open('swords-v1.1_dev.json', 'r') as f:\n",
    "    swords = json.load(f)\n",
    "\n",
    "# Gather substitutes by target\n",
    "tid_to_sids = defaultdict(list)\n",
    "for sid, substitute in swords['substitutes'].items():\n",
    "    tid_to_sids[substitute['target_id']].append(sid)\n",
    "\n",
    "# Iterate through targets\n",
    "for tid, target in swords['targets'].items():\n",
    "    context = swords['contexts'][target['context_id']]\n",
    "    substitutes = [swords['substitutes'][sid] for sid in tid_to_sids[tid]]\n",
    "    labels = [swords['substitute_labels'][sid] for sid in tid_to_sids[tid]]\n",
    "    scores = [l.count('TRUE') / len(l) for l in labels]\n",
    "    print('-' * 80)\n",
    "    print(context['context'].replace('\\n', ''))\n",
    "    print('-' * 20)\n",
    "    print('{} ({})'.format(target['target'], target['pos']))\n",
    "    print(', '.join(['{} ({}%)'.format(substitute['substitute'], round(score * 100)) for substitute, score in sorted(zip(substitutes, scores), key=lambda x: -x[1])]))\n",
    "    break"
   ]
  },
  {
   "cell_type": "code",
   "execution_count": 3,
   "id": "a682bc35",
   "metadata": {},
   "outputs": [],
   "source": [
    "good_ones = []\n",
    "for tid, target in swords['targets'].items():\n",
    "    context = swords['contexts'][target['context_id']]\n",
    "    substitutes = [swords['substitutes'][sid] for sid in tid_to_sids[tid]]\n",
    "    labels = [swords['substitute_labels'][sid] for sid in tid_to_sids[tid]]\n",
    "    scores = [l.count('TRUE') / len(l) for l in labels]\n",
    "    sorted_scores = sorted(zip(substitutes, scores), key=lambda x: -x[1])\n",
    "    \n",
    "    candidate = sorted_scores[0]\n",
    "    sub = candidate[0]['substitute']\n",
    "    if candidate[1] > 0.8 and (target['target'].lower() not in sub.lower()) and (' ' not in sub):\n",
    "        good_ones.append((target['target'].lower(), target['pos'], candidate[0]['substitute']))\n"
   ]
  },
  {
   "cell_type": "code",
   "execution_count": 4,
   "id": "f5541031",
   "metadata": {},
   "outputs": [],
   "source": [
    "good_ones = list(set(good_ones))"
   ]
  },
  {
   "cell_type": "code",
   "execution_count": 5,
   "id": "2cb642f2",
   "metadata": {},
   "outputs": [],
   "source": [
    "from nltk.stem import WordNetLemmatizer\n",
    "lemmatizer = WordNetLemmatizer()\n",
    "\n",
    "pos_mapping = {'NOUN' : 'n', 'VERB' : 'v', 'ADJ' : 'a', 'ADV' : 'r'}\n",
    "good_ones = [ (lemmatizer.lemmatize(word, pos_mapping[pos]), pos, lemmatizer.lemmatize(substitute, pos_mapping[pos])) \\\n",
    "             for word, pos, substitute in good_ones ]"
   ]
  },
  {
   "cell_type": "code",
   "execution_count": 6,
   "id": "edccac18",
   "metadata": {},
   "outputs": [
    {
     "data": {
      "text/plain": [
       "[('cathedral', 'NOUN', 'church'),\n",
       " ('consider', 'VERB', 'contemplate'),\n",
       " ('zone', 'NOUN', 'sector'),\n",
       " ('marvel', 'VERB', 'wonder'),\n",
       " ('just', 'ADV', 'quite'),\n",
       " ('lead', 'VERB', 'guide'),\n",
       " ('monitor', 'VERB', 'track'),\n",
       " ('look', 'VERB', 'gaze'),\n",
       " ('odd', 'ADJ', 'uncommon'),\n",
       " ('area', 'NOUN', 'location'),\n",
       " ('guy', 'NOUN', 'player'),\n",
       " ('very', 'ADV', 'incredibly'),\n",
       " ('way', 'NOUN', 'direction'),\n",
       " ('lot', 'NOUN', 'heap'),\n",
       " ('customer', 'NOUN', 'clientele'),\n",
       " ('glance', 'VERB', 'look'),\n",
       " ('box', 'NOUN', 'container'),\n",
       " ('return', 'NOUN', 'exchange'),\n",
       " ('strong', 'ADJ', 'big'),\n",
       " ('big', 'ADJ', 'huge'),\n",
       " ('next', 'ADJ', 'following'),\n",
       " ('cold', 'ADJ', 'icy'),\n",
       " ('first', 'ADJ', 'initial'),\n",
       " ('start', 'VERB', 'begin'),\n",
       " ('very', 'ADV', 'really'),\n",
       " ('representative', 'NOUN', 'delegate'),\n",
       " ('more', 'ADJ', 'great'),\n",
       " ('chance', 'NOUN', 'odds'),\n",
       " ('okay', 'ADJ', 'ok'),\n",
       " ('saw', 'VERB', 'witness'),\n",
       " ('idea', 'NOUN', 'thought'),\n",
       " ('excite', 'VERB', 'enthusiastic'),\n",
       " ('people', 'NOUN', 'folk'),\n",
       " ('logical', 'ADJ', 'rational'),\n",
       " ('damage', 'NOUN', 'harm'),\n",
       " ('small', 'ADJ', 'petite'),\n",
       " ('thin', 'ADJ', 'slender'),\n",
       " ('say', 'VERB', 'state'),\n",
       " ('call', 'VERB', 'summon'),\n",
       " ('playwright', 'NOUN', 'writer'),\n",
       " ('permit', 'VERB', 'allow'),\n",
       " ('help', 'VERB', 'assist'),\n",
       " ('size', 'NOUN', 'proportion'),\n",
       " ('idiot', 'NOUN', 'imbecile'),\n",
       " ('innocent', 'ADJ', 'harmless'),\n",
       " ('knock', 'VERB', 'push'),\n",
       " ('person', 'NOUN', 'human'),\n",
       " ('business', 'NOUN', 'operation'),\n",
       " ('nice', 'ADJ', 'good'),\n",
       " ('office', 'NOUN', 'workplace'),\n",
       " ('very', 'ADV', 'extremely'),\n",
       " ('leech', 'NOUN', 'bloodsucker'),\n",
       " ('really', 'ADV', 'honestly'),\n",
       " ('totally', 'ADV', 'absolutely'),\n",
       " ('ease', 'VERB', 'lighten'),\n",
       " ('personnel', 'NOUN', 'staff'),\n",
       " ('trouble', 'NOUN', 'difficulty'),\n",
       " ('think', 'VERB', 'reckon'),\n",
       " ('raise', 'VERB', 'lift'),\n",
       " ('hire', 'VERB', 'enlist'),\n",
       " ('small', 'ADJ', 'little'),\n",
       " ('pulse', 'NOUN', 'beating')]"
      ]
     },
     "execution_count": 6,
     "metadata": {},
     "output_type": "execute_result"
    }
   ],
   "source": [
    "good_ones"
   ]
  }
 ],
 "metadata": {
  "kernelspec": {
   "display_name": "Python 3 (ipykernel)",
   "language": "python",
   "name": "python3"
  },
  "language_info": {
   "codemirror_mode": {
    "name": "ipython",
    "version": 3
   },
   "file_extension": ".py",
   "mimetype": "text/x-python",
   "name": "python",
   "nbconvert_exporter": "python",
   "pygments_lexer": "ipython3",
   "version": "3.9.17"
  }
 },
 "nbformat": 4,
 "nbformat_minor": 5
}
