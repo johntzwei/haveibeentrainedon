{
 "cells": [
  {
   "cell_type": "code",
   "execution_count": 1,
   "id": "625e6389",
   "metadata": {},
   "outputs": [],
   "source": [
    "import datasets\n",
    "from tqdm.notebook import tqdm\n",
    "import numpy as np"
   ]
  },
  {
   "cell_type": "code",
   "execution_count": 2,
   "id": "125cea90",
   "metadata": {},
   "outputs": [],
   "source": [
    "num_proc = 20\n",
    "num_to_sub = 100\n",
    "seed = 10"
   ]
  },
  {
   "cell_type": "code",
   "execution_count": 3,
   "id": "38c8d8aa",
   "metadata": {},
   "outputs": [
    {
     "name": "stderr",
     "output_type": "stream",
     "text": [
      "Found cached dataset wikitext (/home/johnny/.cache/huggingface/datasets/wikitext/wikitext-103-raw-v1/1.0.0/a241db52902eaf2c6aa732210bead40c090019a499ceb13bcbfa3f8ab646a126)\n"
     ]
    },
    {
     "data": {
      "application/vnd.jupyter.widget-view+json": {
       "model_id": "3475b0647ad045cca4c70211468a2dd2",
       "version_major": 2,
       "version_minor": 0
      },
      "text/plain": [
       "  0%|          | 0/3 [00:00<?, ?it/s]"
      ]
     },
     "metadata": {},
     "output_type": "display_data"
    },
    {
     "data": {
      "text/plain": [
       "DatasetDict({\n",
       "    test: Dataset({\n",
       "        features: ['text'],\n",
       "        num_rows: 4358\n",
       "    })\n",
       "    train: Dataset({\n",
       "        features: ['text'],\n",
       "        num_rows: 1801350\n",
       "    })\n",
       "    validation: Dataset({\n",
       "        features: ['text'],\n",
       "        num_rows: 3760\n",
       "    })\n",
       "})"
      ]
     },
     "execution_count": 3,
     "metadata": {},
     "output_type": "execute_result"
    }
   ],
   "source": [
    "ds = datasets.load_dataset('wikitext', 'wikitext-103-raw-v1')\n",
    "ds"
   ]
  },
  {
   "cell_type": "code",
   "execution_count": 4,
   "id": "fe6725d1",
   "metadata": {},
   "outputs": [],
   "source": [
    "ds=ds['train']"
   ]
  },
  {
   "cell_type": "code",
   "execution_count": 5,
   "id": "c2277d31",
   "metadata": {},
   "outputs": [
    {
     "name": "stdout",
     "output_type": "stream",
     "text": [
      "Counter({'affirm': 1, 'safeness': 1, 'envious': 1, 'glee': 1, 'hold': 1, 'equipment': 1, 'halt': 1, 'hefty': 1, 'home': 1, 'whole': 1, 'attempt': 1, 'newspeople': 1, 'presumably': 1, 'bolt': 1, 'go': 1, 'equivalent': 1, 'discarding': 1, 'group': 1, 'soft': 1, 'record': 1, 'reduce': 1, 'maybe': 1, 'boost': 1, 'pick': 1, 'increase': 1, 'try': 1, 'organization': 1, 'little': 1, 'inside': 1, 'ecstatic': 1, 'sound': 1, 'kindness': 1, 'cherish': 1, 'glowing': 1, 'guy': 1, 'fascinating': 1, 'elderly': 1, 'topic': 1, 'paper': 1, 'answer': 1, 'throw': 1, 'earnings': 1, 'multiple': 1, 'warn': 1, 'evaluation': 1, 'drop': 1, 'enjoyable': 1, 'recognize': 1, 'person': 1, 'empty': 1, 'supply': 1, 'church': 1, 'contemplate': 1, 'sector': 1, 'quite': 1, 'guide': 1, 'track': 1, 'gaze': 1, 'uncommon': 1, 'location': 1, 'player': 1, 'direction': 1, 'heap': 1, 'clientele': 1, 'container': 1, 'exchange': 1, 'big': 1, 'huge': 1, 'following': 1, 'icy': 1, 'initial': 1, 'begin': 1, 'really': 1, 'delegate': 1, 'great': 1, 'odds': 1, 'witness': 1, 'thought': 1, 'rational': 1, 'harm': 1, 'slender': 1, 'state': 1, 'summon': 1, 'allow': 1, 'assist': 1, 'proportion': 1, 'harmless': 1, 'push': 1, 'human': 1, 'operation': 1, 'good': 1, 'workplace': 1, 'honestly': 1, 'absolutely': 1, 'lighten': 1, 'staff': 1, 'difficulty': 1, 'reckon': 1, 'lift': 1, 'enlist': 1})\n"
     ]
    },
    {
     "data": {
      "text/plain": [
       "100"
      ]
     },
     "execution_count": 5,
     "metadata": {},
     "output_type": "execute_result"
    }
   ],
   "source": [
    "# duplicates manually removed\n",
    "# all pairs have more than 423 counts (so there is 100 substitutions)\n",
    "word_pairs = [\n",
    " ('prove', 'VERB', 'affirm'),\n",
    " ('safety', 'NOUN', 'safeness'),\n",
    " ('jealous', 'ADJ', 'envious'),\n",
    " ('joy', 'NOUN', 'glee'),\n",
    " ('own', 'ADJ', 'hold'),\n",
    " ('device', 'NOUN', 'equipment'),\n",
    " ('cease', 'VERB', 'halt'),\n",
    " ('heavy', 'ADJ', 'hefty'),\n",
    " ('house', 'NOUN', 'home'),\n",
    " ('full', 'ADJ', 'whole'),\n",
    " ('try', 'VERB', 'attempt'),\n",
    " ('journalist', 'NOUN', 'newspeople'),\n",
    " ('likely', 'ADV', 'presumably'),\n",
    " ('run', 'VERB', 'bolt'),\n",
    " ('move', 'VERB', 'go'),\n",
    " ('equal', 'ADJ', 'equivalent'),\n",
    " ('disposal', 'NOUN', 'discarding'),\n",
    " ('team', 'NOUN', 'group'),\n",
    " ('gentle', 'ADJ', 'soft'),\n",
    " ('file', 'NOUN', 'record'),\n",
    " ('cut', 'VERB', 'reduce'),\n",
    " ('perhaps', 'ADV', 'maybe'),\n",
    " ('increase', 'NOUN', 'boost'),\n",
    " ('choose', 'VERB', 'pick'),\n",
    " ('grow', 'VERB', 'increase'),\n",
    " ('use', 'VERB', 'try'),\n",
    " ('company', 'NOUN', 'organization'),\n",
    " ('small', 'ADJ', 'little'),\n",
    " ('interior', 'NOUN', 'inside'),\n",
    " ('delighted', 'ADJ', 'ecstatic'),\n",
    " ('voice', 'NOUN', 'sound'),\n",
    " ('affection', 'NOUN', 'kindness'),\n",
    " ('love', 'VERB', 'cherish'),\n",
    " ('brilliant', 'ADJ', 'glowing'),\n",
    " ('man', 'NOUN', 'guy'),\n",
    " ('interesting', 'ADJ', 'fascinating'),\n",
    " ('old', 'ADJ', 'elderly'),\n",
    " ('subject', 'NOUN', 'topic'),\n",
    " ('newspaper', 'NOUN', 'paper'),\n",
    " ('reply', 'VERB', 'answer'),\n",
    " ('toss', 'VERB', 'throw'),\n",
    " ('income', 'NOUN', 'earnings'),\n",
    " ('many', 'ADJ', 'multiple'),\n",
    " ('caution', 'VERB', 'warn'),\n",
    " ('analysis', 'NOUN', 'evaluation'),\n",
    " ('fell', 'VERB', 'drop'),\n",
    " ('good', 'ADJ', 'enjoyable'),\n",
    " ('accept', 'VERB', 'recognize'),\n",
    " ('people', 'NOUN', 'person'),\n",
    " ('shallow', 'ADJ', 'empty'),\n",
    " ('provide', 'VERB', 'supply'),\n",
    " ('cathedral', 'NOUN', 'church'),\n",
    " ('consider', 'VERB', 'contemplate'),\n",
    " ('zone', 'NOUN', 'sector'),\n",
    " ('just', 'ADV', 'quite'),\n",
    " ('lead', 'VERB', 'guide'),\n",
    " ('monitor', 'VERB', 'track'),\n",
    " ('look', 'VERB', 'gaze'),\n",
    " ('odd', 'ADJ', 'uncommon'),\n",
    " ('area', 'NOUN', 'location'),\n",
    " ('guy', 'NOUN', 'player'),\n",
    " ('way', 'NOUN', 'direction'),\n",
    " ('lot', 'NOUN', 'heap'),\n",
    " ('customer', 'NOUN', 'clientele'),\n",
    " ('box', 'NOUN', 'container'),\n",
    " ('return', 'NOUN', 'exchange'),\n",
    " ('strong', 'ADJ', 'big'),\n",
    " ('big', 'ADJ', 'huge'),\n",
    " ('next', 'ADJ', 'following'),\n",
    " ('cold', 'ADJ', 'icy'),\n",
    " ('first', 'ADJ', 'initial'),\n",
    " ('start', 'VERB', 'begin'),\n",
    " ('very', 'ADV', 'really'),\n",
    " ('representative', 'NOUN', 'delegate'),\n",
    " ('more', 'ADJ', 'great'),\n",
    " ('chance', 'NOUN', 'odds'),\n",
    " ('saw', 'VERB', 'witness'),\n",
    " ('idea', 'NOUN', 'thought'),\n",
    " ('logical', 'ADJ', 'rational'),\n",
    " ('damage', 'NOUN', 'harm'),\n",
    " ('thin', 'ADJ', 'slender'),\n",
    " ('say', 'VERB', 'state'),\n",
    " ('call', 'VERB', 'summon'),\n",
    " ('permit', 'VERB', 'allow'),\n",
    " ('help', 'VERB', 'assist'),\n",
    " ('size', 'NOUN', 'proportion'),\n",
    " ('innocent', 'ADJ', 'harmless'),\n",
    " ('knock', 'VERB', 'push'),\n",
    " ('person', 'NOUN', 'human'),\n",
    " ('business', 'NOUN', 'operation'),\n",
    " ('nice', 'ADJ', 'good'),\n",
    " ('office', 'NOUN', 'workplace'),\n",
    " ('really', 'ADV', 'honestly'),\n",
    " ('totally', 'ADV', 'absolutely'),\n",
    " ('ease', 'VERB', 'lighten'),\n",
    " ('personnel', 'NOUN', 'staff'),\n",
    " ('trouble', 'NOUN', 'difficulty'),\n",
    " ('think', 'VERB', 'reckon'),\n",
    " ('raise', 'VERB', 'lift'),\n",
    " ('hire', 'VERB', 'enlist')]\n",
    "\n",
    "from collections import Counter\n",
    "print(Counter([ i[2] for i in word_pairs ]))\n",
    "len(word_pairs)"
   ]
  },
  {
   "cell_type": "code",
   "execution_count": 6,
   "id": "a4e53ff2",
   "metadata": {
    "scrolled": false
   },
   "outputs": [
    {
     "data": {
      "application/vnd.jupyter.widget-view+json": {
       "model_id": "",
       "version_major": 2,
       "version_minor": 0
      },
      "text/plain": [
       "Map (num_proc=20):   0%|          | 0/1801350 [00:00<?, ? examples/s]"
      ]
     },
     "metadata": {},
     "output_type": "display_data"
    },
    {
     "data": {
      "text/plain": [
       "Dataset({\n",
       "    features: ['text', 'substitutions'],\n",
       "    num_rows: 1801350\n",
       "})"
      ]
     },
     "execution_count": 6,
     "metadata": {},
     "output_type": "execute_result"
    }
   ],
   "source": [
    "def label(x):\n",
    "    labels = [ 1 if f' {i} ' in x['text'] else 0 for i, k, j in word_pairs ]\n",
    "    x['substitutions'] = labels\n",
    "    return x\n",
    "    \n",
    "ds = ds.map(label, num_proc=num_proc, keep_in_memory=True)\n",
    "ds"
   ]
  },
  {
   "cell_type": "code",
   "execution_count": 7,
   "id": "2e23a166",
   "metadata": {},
   "outputs": [
    {
     "data": {
      "text/plain": [
       "array([  2123,   3895,    517,    674,  29946,   2452,    769,  13892,\n",
       "        14623,  16997,   4356,   2959,   8904,  17090,  11496,   3266,\n",
       "          696,  35413,    604,   1019,   9374,   4361,   8425,   2172,\n",
       "         3136,  36523,  17234,  26690,   2931,    477,   7371,    612,\n",
       "        10395,   1513,  17435,   2515,  20751,   7686,   4891,    815,\n",
       "          636,   2892,  50522,    568,   4276,   8521,  17489,   3324,\n",
       "        36284,   1696,   9981,   1067,   3198,   3123,  29002,  18513,\n",
       "         1071,   6795,    963,  32304,   1486,  25696,   5654,    634,\n",
       "         4976,  17429,  14733,   5393,  27805,   3615, 142410,  12806,\n",
       "        27590,   2661,  91159,   4293,  15042,  10191,    550,  11238,\n",
       "         2089,   6070,   6199,   1003,  14132,   9222,    892,    565,\n",
       "         9879,   9206,   1356,  12423,   8176,   1213,   1150,   4855,\n",
       "         2055,   7193,   3268,    783])"
      ]
     },
     "execution_count": 7,
     "metadata": {},
     "output_type": "execute_result"
    }
   ],
   "source": [
    "arr = np.array(ds['substitutions'])\n",
    "arr.sum(axis=0)"
   ]
  },
  {
   "cell_type": "code",
   "execution_count": 8,
   "id": "0d43b05b",
   "metadata": {},
   "outputs": [
    {
     "data": {
      "text/plain": [
       "477"
      ]
     },
     "execution_count": 8,
     "metadata": {},
     "output_type": "execute_result"
    }
   ],
   "source": [
    "arr.sum(axis=0).min()"
   ]
  },
  {
   "cell_type": "code",
   "execution_count": 9,
   "id": "a5c4e0ef",
   "metadata": {},
   "outputs": [],
   "source": [
    "rs = np.random.RandomState(seed=seed)"
   ]
  },
  {
   "cell_type": "code",
   "execution_count": 10,
   "id": "022defe6",
   "metadata": {},
   "outputs": [],
   "source": [
    "ds = ds.add_column('order', [''] * len(ds))"
   ]
  },
  {
   "cell_type": "code",
   "execution_count": null,
   "id": "0cab11c1",
   "metadata": {},
   "outputs": [
    {
     "data": {
      "application/vnd.jupyter.widget-view+json": {
       "model_id": "7c510af218eb4b39ab68e7fd048fe77c",
       "version_major": 2,
       "version_minor": 0
      },
      "text/plain": [
       "  0%|          | 0/100 [00:00<?, ?it/s]"
      ]
     },
     "metadata": {},
     "output_type": "display_data"
    },
    {
     "data": {
      "application/vnd.jupyter.widget-view+json": {
       "model_id": "",
       "version_major": 2,
       "version_minor": 0
      },
      "text/plain": [
       "Map (num_proc=20):   0%|          | 0/1801350 [00:00<?, ? examples/s]"
      ]
     },
     "metadata": {},
     "output_type": "display_data"
    },
    {
     "data": {
      "application/vnd.jupyter.widget-view+json": {
       "model_id": "",
       "version_major": 2,
       "version_minor": 0
      },
      "text/plain": [
       "Map (num_proc=20):   0%|          | 0/1801350 [00:00<?, ? examples/s]"
      ]
     },
     "metadata": {},
     "output_type": "display_data"
    },
    {
     "data": {
      "application/vnd.jupyter.widget-view+json": {
       "model_id": "",
       "version_major": 2,
       "version_minor": 0
      },
      "text/plain": [
       "Map (num_proc=20):   0%|          | 0/1801350 [00:00<?, ? examples/s]"
      ]
     },
     "metadata": {},
     "output_type": "display_data"
    },
    {
     "data": {
      "application/vnd.jupyter.widget-view+json": {
       "model_id": "",
       "version_major": 2,
       "version_minor": 0
      },
      "text/plain": [
       "Map (num_proc=20):   0%|          | 0/1801350 [00:00<?, ? examples/s]"
      ]
     },
     "metadata": {},
     "output_type": "display_data"
    },
    {
     "data": {
      "application/vnd.jupyter.widget-view+json": {
       "model_id": "",
       "version_major": 2,
       "version_minor": 0
      },
      "text/plain": [
       "Map (num_proc=20):   0%|          | 0/1801350 [00:00<?, ? examples/s]"
      ]
     },
     "metadata": {},
     "output_type": "display_data"
    },
    {
     "data": {
      "application/vnd.jupyter.widget-view+json": {
       "model_id": "e4a703a124354f2cabc3e961c45e6030",
       "version_major": 2,
       "version_minor": 0
      },
      "text/plain": [
       "Map (num_proc=20):   0%|          | 0/1801350 [00:00<?, ? examples/s]"
      ]
     },
     "metadata": {},
     "output_type": "display_data"
    },
    {
     "name": "stderr",
     "output_type": "stream",
     "text": [
      "IOPub message rate exceeded.\n",
      "The notebook server will temporarily stop sending output\n",
      "to the client in order to avoid crashing it.\n",
      "To change this limit, set the config variable\n",
      "`--NotebookApp.iopub_msg_rate_limit`.\n",
      "\n",
      "Current values:\n",
      "NotebookApp.iopub_msg_rate_limit=1000.0 (msgs/sec)\n",
      "NotebookApp.rate_limit_window=3.0 (secs)\n",
      "\n"
     ]
    },
    {
     "data": {
      "application/vnd.jupyter.widget-view+json": {
       "model_id": "",
       "version_major": 2,
       "version_minor": 0
      },
      "text/plain": [
       "Map (num_proc=20):   0%|          | 0/1801350 [00:00<?, ? examples/s]"
      ]
     },
     "metadata": {},
     "output_type": "display_data"
    },
    {
     "data": {
      "application/vnd.jupyter.widget-view+json": {
       "model_id": "",
       "version_major": 2,
       "version_minor": 0
      },
      "text/plain": [
       "Map (num_proc=20):   0%|          | 0/1801350 [00:00<?, ? examples/s]"
      ]
     },
     "metadata": {},
     "output_type": "display_data"
    },
    {
     "data": {
      "application/vnd.jupyter.widget-view+json": {
       "model_id": "",
       "version_major": 2,
       "version_minor": 0
      },
      "text/plain": [
       "Map (num_proc=20):   0%|          | 0/1801350 [00:00<?, ? examples/s]"
      ]
     },
     "metadata": {},
     "output_type": "display_data"
    },
    {
     "data": {
      "application/vnd.jupyter.widget-view+json": {
       "model_id": "",
       "version_major": 2,
       "version_minor": 0
      },
      "text/plain": [
       "Map (num_proc=20):   0%|          | 0/1801350 [00:00<?, ? examples/s]"
      ]
     },
     "metadata": {},
     "output_type": "display_data"
    },
    {
     "data": {
      "application/vnd.jupyter.widget-view+json": {
       "model_id": "",
       "version_major": 2,
       "version_minor": 0
      },
      "text/plain": [
       "Map (num_proc=20):   0%|          | 0/1801350 [00:00<?, ? examples/s]"
      ]
     },
     "metadata": {},
     "output_type": "display_data"
    },
    {
     "data": {
      "application/vnd.jupyter.widget-view+json": {
       "model_id": "",
       "version_major": 2,
       "version_minor": 0
      },
      "text/plain": [
       "Map (num_proc=20):   0%|          | 0/1801350 [00:00<?, ? examples/s]"
      ]
     },
     "metadata": {},
     "output_type": "display_data"
    },
    {
     "data": {
      "application/vnd.jupyter.widget-view+json": {
       "model_id": "9bb293c36fc14884b12d6d84a130bd59",
       "version_major": 2,
       "version_minor": 0
      },
      "text/plain": [
       "Map (num_proc=20):   0%|          | 0/1801350 [00:00<?, ? examples/s]"
      ]
     },
     "metadata": {},
     "output_type": "display_data"
    },
    {
     "name": "stderr",
     "output_type": "stream",
     "text": [
      "IOPub message rate exceeded.\n",
      "The notebook server will temporarily stop sending output\n",
      "to the client in order to avoid crashing it.\n",
      "To change this limit, set the config variable\n",
      "`--NotebookApp.iopub_msg_rate_limit`.\n",
      "\n",
      "Current values:\n",
      "NotebookApp.iopub_msg_rate_limit=1000.0 (msgs/sec)\n",
      "NotebookApp.rate_limit_window=3.0 (secs)\n",
      "\n"
     ]
    }
   ],
   "source": [
    "for i, (w1, pos, w2) in tqdm(enumerate(word_pairs), total=len(word_pairs)):\n",
    "    # create indices\n",
    "    idx = np.arange(len(arr))\n",
    "    has_sub = idx[arr[:,i] == 1]\n",
    "    rs.shuffle(has_sub)\n",
    "    do_sub = set(has_sub[:num_to_sub])\n",
    "    \n",
    "    def edit(x, index):\n",
    "        if index not in do_sub:\n",
    "            return x\n",
    "        \n",
    "        order = x['order'] + f'{i}:'\n",
    "        new_text = x['text'].replace(f' {w1} ', f' {w2} ', 1)\n",
    "        assert(new_text != x['text'])\n",
    "        return {\"text\" : new_text, \"order\" : order}\n",
    "    \n",
    "    edited_ds = ds.map(\n",
    "        edit,\n",
    "        num_proc=num_proc,\n",
    "        with_indices=True,\n",
    "        keep_in_memory=True\n",
    "    )"
   ]
  },
  {
   "cell_type": "code",
   "execution_count": null,
   "id": "c13b84af",
   "metadata": {},
   "outputs": [],
   "source": [
    "for i in edited_ds:\n",
    "    if i['order'] != '':\n",
    "        break\n",
    "i"
   ]
  },
  {
   "cell_type": "code",
   "execution_count": null,
   "id": "89fa2220",
   "metadata": {},
   "outputs": [],
   "source": [
    "edited_ds.save_to_disk(\"wikitext_perturbed_seed:%d_n:%d.hf\" % (seed, num_to_sub))"
   ]
  }
 ],
 "metadata": {
  "kernelspec": {
   "display_name": "Python 3 (ipykernel)",
   "language": "python",
   "name": "python3"
  },
  "language_info": {
   "codemirror_mode": {
    "name": "ipython",
    "version": 3
   },
   "file_extension": ".py",
   "mimetype": "text/x-python",
   "name": "python",
   "nbconvert_exporter": "python",
   "pygments_lexer": "ipython3",
   "version": "3.9.17"
  }
 },
 "nbformat": 4,
 "nbformat_minor": 5
}
