{
 "cells": [
  {
   "cell_type": "code",
   "execution_count": 1,
   "id": "0ffac894",
   "metadata": {},
   "outputs": [],
   "source": [
    "import datasets\n",
    "from tqdm.notebook import tqdm\n",
    "import numpy as np\n",
    "from substitutions import tenk_word_pairs as word_pairs\n",
    "from collections import Counter\n",
    "import json"
   ]
  },
  {
   "cell_type": "code",
   "execution_count": 2,
   "id": "769d6a85",
   "metadata": {},
   "outputs": [],
   "source": [
    "ds_path = './17e7_tokens_perturbed.hf/'\n",
    "num_proc = 16\n",
    "n_per_sub = 1000\n",
    "seed = 1\n",
    "just_one = True"
   ]
  },
  {
   "cell_type": "code",
   "execution_count": null,
   "id": "9861148f",
   "metadata": {},
   "outputs": [],
   "source": [
    "ds = datasets.load_from_disk(ds_path)"
   ]
  },
  {
   "cell_type": "code",
   "execution_count": null,
   "id": "5d01e018",
   "metadata": {},
   "outputs": [],
   "source": [
    "ds"
   ]
  },
  {
   "cell_type": "code",
   "execution_count": null,
   "id": "842d3f24",
   "metadata": {},
   "outputs": [],
   "source": [
    "swap_arr = np.array(ds[\"substitutions\"])\n",
    "print(swap_arr.shape)"
   ]
  },
  {
   "cell_type": "code",
   "execution_count": null,
   "id": "879e4450",
   "metadata": {},
   "outputs": [],
   "source": [
    "# This random state allows the perturbations to be reproducible\n",
    "rs = np.random.RandomState(seed=seed)\n",
    "\n",
    "#take the sequences to perturb\n",
    "do_sub = []\n",
    "indexes = []\n",
    "for i, (w1, w2) in tqdm(enumerate(word_pairs), total=len(word_pairs)):\n",
    "    # create indices\n",
    "    idx = np.arange(len(swap_arr))\n",
    "    has_sub = idx[swap_arr[:, i] == 1]\n",
    "    rs.shuffle(has_sub)\n",
    "    \n",
    "    all_indexes = has_sub[:n_per_sub]\n",
    "    labels = rs.randint(0, 2, size=n_per_sub).astype(bool)\n",
    "    \n",
    "    # just for checksum\n",
    "    do_sub.append(all_indexes[labels])\n",
    "    indexes.append(all_indexes)"
   ]
  },
  {
   "cell_type": "code",
   "execution_count": null,
   "id": "8c3a169f",
   "metadata": {},
   "outputs": [],
   "source": [
    "np.sum([ i.sum() for i in do_sub ])"
   ]
  },
  {
   "cell_type": "code",
   "execution_count": null,
   "id": "416fb71d",
   "metadata": {},
   "outputs": [],
   "source": [
    "len(all_indexes)"
   ]
  },
  {
   "cell_type": "code",
   "execution_count": null,
   "id": "8e518e23",
   "metadata": {},
   "outputs": [],
   "source": [
    "if just_one:\n",
    "    subset_ds = ds.select(all_indexes)\n",
    "else:\n",
    "    subset_ds = ds.select(indexes)"
   ]
  },
  {
   "cell_type": "code",
   "execution_count": null,
   "id": "3405580f",
   "metadata": {},
   "outputs": [],
   "source": [
    "#saves the data\n",
    "subset_ds.remove_columns(['hash', 'is_original', 'substitutions'])\n",
    "subset_ds.to_json(f'debugging_dataset.jsonl', num_proc=num_proc)"
   ]
  }
 ],
 "metadata": {
  "kernelspec": {
   "display_name": "Python 3 (ipykernel)",
   "language": "python",
   "name": "python3"
  },
  "language_info": {
   "codemirror_mode": {
    "name": "ipython",
    "version": 3
   },
   "file_extension": ".py",
   "mimetype": "text/x-python",
   "name": "python",
   "nbconvert_exporter": "python",
   "pygments_lexer": "ipython3",
   "version": "3.8.13"
  }
 },
 "nbformat": 4,
 "nbformat_minor": 5
}
