{
 "cells": [
  {
   "cell_type": "code",
   "execution_count": 2,
   "id": "087c3848",
   "metadata": {},
   "outputs": [],
   "source": [
    "import os\n",
    "from substitutions import tenk_word_pairs as word_pairs"
   ]
  },
  {
   "cell_type": "code",
   "execution_count": 23,
   "id": "d3f1e2b9",
   "metadata": {
    "scrolled": true
   },
   "outputs": [
    {
     "name": "stdout",
     "output_type": "stream",
     "text": [
      "Submitted batch job 123656\n"
     ]
    }
   ],
   "source": [
    "counter = 0\n",
    "for i, k in word_pairs:\n",
    "    \n",
    "    if os.path.exists(f'./scores/ps_{i}_{k}.csv'):\n",
    "        continue\n",
    "    \n",
    "    os.system(f'touch ./scores/ps_{i}_{k}.csv')\n",
    "    os.system(f'sbatch --export=w1={i},w2={k} generate_ps.sh')\n",
    "    counter += 1\n",
    "    \n",
    "    if counter == 10:\n",
    "        break"
   ]
  },
  {
   "cell_type": "code",
   "execution_count": 7,
   "id": "3c5019a0",
   "metadata": {},
   "outputs": [
    {
     "name": "stdout",
     "output_type": "stream",
     "text": [
      "subject topic run\n",
      "Submitted batch job 123791\n",
      "man person run\n",
      "Submitted batch job 123792\n",
      "own hold run\n",
      "Submitted batch job 123793\n",
      "guess predict run\n",
      "Submitted batch job 123794\n"
     ]
    }
   ],
   "source": [
    "folder_name = 'outs/gpt-j-6b'\n",
    "counter = 0\n",
    "\n",
    "for i, k in word_pairs:\n",
    "    if os.path.exists(f'./{folder_name}/scores_{i}_{k}.csv'):\n",
    "        continue\n",
    "    \n",
    "    if not os.path.exists(f'./scores/ps_{i}_{k}.csv'):\n",
    "        continue\n",
    "    \n",
    "    print(i, k, 'run')\n",
    "    os.system(f'touch ./{folder_name}/scores_{i}_{k}.csv')\n",
    "    os.system(f'sbatch --export=w1={i},w2={k} generate_outputs.sh')\n",
    "    counter += 1\n",
    "    \n",
    "    if counter == 8:\n",
    "        break"
   ]
  },
  {
   "cell_type": "code",
   "execution_count": null,
   "id": "fa8759a6",
   "metadata": {},
   "outputs": [],
   "source": []
  }
 ],
 "metadata": {
  "kernelspec": {
   "display_name": "Python 3 (ipykernel)",
   "language": "python",
   "name": "python3"
  },
  "language_info": {
   "codemirror_mode": {
    "name": "ipython",
    "version": 3
   },
   "file_extension": ".py",
   "mimetype": "text/x-python",
   "name": "python",
   "nbconvert_exporter": "python",
   "pygments_lexer": "ipython3",
   "version": "3.8.13"
  }
 },
 "nbformat": 4,
 "nbformat_minor": 5
}
