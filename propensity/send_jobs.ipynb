{
 "cells": [
  {
   "cell_type": "code",
   "execution_count": 1,
   "id": "087c3848",
   "metadata": {},
   "outputs": [],
   "source": [
    "import os\n",
    "from substitutions import tenk_word_pairs as word_pairs"
   ]
  },
  {
   "cell_type": "code",
   "execution_count": 8,
   "id": "d3f1e2b9",
   "metadata": {
    "scrolled": true
   },
   "outputs": [
    {
     "name": "stdout",
     "output_type": "stream",
     "text": [
      "Submitted batch job 123235\n",
      "Submitted batch job 123236\n",
      "Submitted batch job 123237\n",
      "Submitted batch job 123238\n",
      "Submitted batch job 123239\n"
     ]
    }
   ],
   "source": [
    "counter = 0\n",
    "for i, k in word_pairs:\n",
    "    if os.path.exists(f'./scores/ps_{i}_{k}.csv'):\n",
    "        continue\n",
    "    \n",
    "    # if i == 'grow' or i == 'voice':\n",
    "    #     continue\n",
    "        \n",
    "    os.system(f'sbatch --export=w1={i},w2={k} generate_ps.sh')\n",
    "    counter += 1\n",
    "    \n",
    "    if counter == 5:\n",
    "        break"
   ]
  },
  {
   "cell_type": "code",
   "execution_count": 6,
   "id": "3c5019a0",
   "metadata": {},
   "outputs": [
    {
     "data": {
      "text/plain": [
       "36"
      ]
     },
     "execution_count": 6,
     "metadata": {},
     "output_type": "execute_result"
    }
   ],
   "source": []
  },
  {
   "cell_type": "code",
   "execution_count": null,
   "id": "010181d1",
   "metadata": {},
   "outputs": [],
   "source": []
  }
 ],
 "metadata": {
  "kernelspec": {
   "display_name": "Python 3 (ipykernel)",
   "language": "python",
   "name": "python3"
  },
  "language_info": {
   "codemirror_mode": {
    "name": "ipython",
    "version": 3
   },
   "file_extension": ".py",
   "mimetype": "text/x-python",
   "name": "python",
   "nbconvert_exporter": "python",
   "pygments_lexer": "ipython3",
   "version": "3.8.13"
  }
 },
 "nbformat": 4,
 "nbformat_minor": 5
}
