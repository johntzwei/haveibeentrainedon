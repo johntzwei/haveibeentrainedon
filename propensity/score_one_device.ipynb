{
 "cells": [
  {
   "cell_type": "code",
   "execution_count": 1,
   "id": "f8bab71b",
   "metadata": {},
   "outputs": [
    {
     "name": "stderr",
     "output_type": "stream",
     "text": [
      "2023-09-24 17:09:41.629342: I tensorflow/stream_executor/platform/default/dso_loader.cc:53] Successfully opened dynamic library libcudart.so.11.0\n"
     ]
    }
   ],
   "source": [
    "import csv\n",
    "import numpy as np\n",
    "import pandas as pd\n",
    "from tqdm.notebook import tqdm\n",
    "import datasets\n",
    "\n",
    "import torch\n",
    "from transformers import AutoModelForCausalLM, AutoTokenizer\n",
    "from parallelformers import parallelize"
   ]
  },
  {
   "cell_type": "code",
   "execution_count": 2,
   "id": "1ecf1c79",
   "metadata": {
    "tags": [
     "parameters"
    ]
   },
   "outputs": [],
   "source": [
    "device = 'cuda'\n",
    "model_name = 'EleutherAI/pythia-160m'\n",
    "folder_name = 'outs/pythia-160m'\n",
    "gpt2_tokenizer = False\n",
    "max_length = 2048\n",
    "\n",
    "w1 = 'file'\n",
    "w2 = 'record'"
   ]
  },
  {
   "cell_type": "code",
   "execution_count": 3,
   "id": "e98bf454",
   "metadata": {},
   "outputs": [],
   "source": [
    "input_fn = f'./scores/ps_{w1}_{w2}.csv'\n",
    "output_fn = f'./{folder_name}/scores_{w1}_{w2}.csv'"
   ]
  },
  {
   "cell_type": "code",
   "execution_count": 4,
   "id": "f00954e9",
   "metadata": {},
   "outputs": [],
   "source": [
    "if gpt2_tokenizer:\n",
    "    tokenizer = AutoTokenizer.from_pretrained('gpt2')\n",
    "else:\n",
    "    tokenizer = AutoTokenizer.from_pretrained(model_name)"
   ]
  },
  {
   "cell_type": "code",
   "execution_count": 5,
   "id": "4c1e2d94",
   "metadata": {},
   "outputs": [],
   "source": [
    "# for gpt-j-6b\n",
    "model = AutoModelForCausalLM.from_pretrained(model_name).to(device)\n",
    "# model = AutoModelForCausalLM.from_pretrained(model_name, torch_dtype=torch.float16, device_map='auto')"
   ]
  },
  {
   "cell_type": "code",
   "execution_count": 6,
   "id": "fe596e04",
   "metadata": {},
   "outputs": [
    {
     "data": {
      "text/html": [
       "<div>\n",
       "<style scoped>\n",
       "    .dataframe tbody tr th:only-of-type {\n",
       "        vertical-align: middle;\n",
       "    }\n",
       "\n",
       "    .dataframe tbody tr th {\n",
       "        vertical-align: top;\n",
       "    }\n",
       "\n",
       "    .dataframe thead th {\n",
       "        text-align: right;\n",
       "    }\n",
       "</style>\n",
       "<table border=\"1\" class=\"dataframe\">\n",
       "  <thead>\n",
       "    <tr style=\"text-align: right;\">\n",
       "      <th></th>\n",
       "      <th>prefix</th>\n",
       "      <th>idx</th>\n",
       "      <th>label</th>\n",
       "      <th>e(x)</th>\n",
       "    </tr>\n",
       "  </thead>\n",
       "  <tbody>\n",
       "    <tr>\n",
       "      <th>0</th>\n",
       "      <td>Q:\\n\\nWhat's the simplest way to pass a</td>\n",
       "      <td>9</td>\n",
       "      <td>0</td>\n",
       "      <td>0.052613</td>\n",
       "    </tr>\n",
       "  </tbody>\n",
       "</table>\n",
       "</div>"
      ],
      "text/plain": [
       "                                    prefix  idx  label      e(x)\n",
       "0  Q:\\n\\nWhat's the simplest way to pass a    9      0  0.052613"
      ]
     },
     "execution_count": 6,
     "metadata": {},
     "output_type": "execute_result"
    }
   ],
   "source": [
    "df = pd.read_csv(input_fn)\n",
    "df.head(1)"
   ]
  },
  {
   "cell_type": "code",
   "execution_count": 7,
   "id": "2113cdf3",
   "metadata": {},
   "outputs": [],
   "source": [
    "out_fh = open(output_fn, 'wt')\n",
    "out = csv.writer(out_fh)"
   ]
  },
  {
   "cell_type": "code",
   "execution_count": 8,
   "id": "d52f23a3",
   "metadata": {},
   "outputs": [
    {
     "data": {
      "text/plain": [
       "(1873, 1924)"
      ]
     },
     "execution_count": 8,
     "metadata": {},
     "output_type": "execute_result"
    }
   ],
   "source": [
    "# get the first token of each word\n",
    "w1_idx = tokenizer.encode(f' {w1}', return_tensors='pt')[0,0].item()\n",
    "w2_idx = tokenizer.encode(f' {w2}', return_tensors='pt')[0,0].item()\n",
    "w1_idx, w2_idx"
   ]
  },
  {
   "cell_type": "code",
   "execution_count": 9,
   "id": "ae1cef3b",
   "metadata": {},
   "outputs": [
    {
     "data": {
      "application/vnd.jupyter.widget-view+json": {
       "model_id": "ec66d4c620614c229c75246557dd027a",
       "version_major": 2,
       "version_minor": 0
      },
      "text/plain": [
       "  0%|          | 0/20000 [00:00<?, ?it/s]"
      ]
     },
     "metadata": {},
     "output_type": "display_data"
    },
    {
     "name": "stderr",
     "output_type": "stream",
     "text": [
      "Asking to truncate to max_length but no maximum length is provided and the model has no predefined maximum length. Default to no truncation.\n"
     ]
    },
    {
     "name": "stdout",
     "output_type": "stream",
     "text": [
      "file record 0.005846372805535793 0.0025126526597887278 19 55\n",
      "file record 0.017433181405067444 0.0016193627379834652 0 90\n",
      "file record 0.5376183986663818 0.0001965472474694252 0 135\n",
      "file record 0.16075262427330017 0.00013290844799485058 0 586\n",
      "file record 0.4463481903076172 1.8212425857200287e-05 0 638\n",
      "file record 0.24595585465431213 2.5441806428716518e-05 0 916\n",
      "file record 0.008760367520153522 0.00025580712826922536 10 482\n",
      "file record 0.058662835508584976 0.0007048978004604578 0 189\n",
      "file record 0.9976406097412109 1.6223305010498734e-06 0 103\n",
      "file record 0.0824633464217186 0.003285686718299985 1 40\n",
      "file record 0.0013930844143033028 2.0332033727754606e-06 29 2415\n",
      "file record 0.17074178159236908 3.024027682840824e-05 1 522\n",
      "file record 0.9971606731414795 1.3435737855616026e-06 0 104\n",
      "file record 0.027553889900445938 2.3645410692552105e-05 2 471\n",
      "file record 0.9987218976020813 1.3903444369134377e-06 0 59\n",
      "file record 0.17758460342884064 5.440761742647737e-05 0 529\n",
      "file record 0.3921106159687042 4.5571132432087325e-06 0 1191\n",
      "file record 0.034863293170928955 0.0003032325184904039 4 245\n",
      "file record 0.42217928171157837 0.00022322995937429368 0 190\n",
      "file record 0.1036168560385704 0.00013644027058035135 1 262\n",
      "file record 0.03726242855191231 0.00032745994394645095 2 329\n",
      "file record 0.013505079783499241 0.00013533224409911782 15 375\n",
      "file record 0.9872201681137085 2.6863264945831133e-09 0 1354\n",
      "file record 0.6665396690368652 5.992066871840507e-05 0 212\n",
      "file record 0.13462625443935394 0.00028688277234323323 1 127\n",
      "file record 0.9987021684646606 4.816257614947972e-07 0 126\n",
      "file record 0.004275637213140726 0.00017436740745324641 32 444\n",
      "file record 0.009932029992341995 1.6450945622636937e-05 11 3058\n",
      "file record 0.00946610514074564 0.000703485042322427 10 145\n",
      "file record 0.26325422525405884 5.7789275160757825e-05 1 585\n",
      "file record 0.0031550272833555937 0.00016364625480491668 68 511\n",
      "file record 0.06366583704948425 2.98827017104486e-05 2 780\n",
      "file record 0.15933692455291748 0.00611849594861269 0 22\n",
      "file record 0.00010023583308793604 1.1495992112031672e-05 711 2666\n",
      "file record 0.15874381363391876 1.656808649386221e-06 1 5967\n",
      "file record 0.995227575302124 5.416169187810738e-06 0 68\n",
      "file record 0.03333234414458275 0.00036864267894998193 1 355\n",
      "file record 0.9995104074478149 2.923412845134976e-09 0 95\n",
      "file record 0.08020462095737457 0.0017988665495067835 1 66\n",
      "file record 0.9981136322021484 6.646973247370624e-07 0 151\n",
      "file record 0.6855502724647522 1.6252683053608052e-05 0 161\n",
      "file record 0.0002219578600488603 4.577563959173858e-05 596 1827\n",
      "file record 0.008758359588682652 0.03114788793027401 17 2\n",
      "file record 0.0046413070522248745 0.00020964175928384066 33 584\n",
      "file record 0.09725525230169296 0.00038796861190348864 1 251\n",
      "file record 0.9992794394493103 7.05415970969625e-07 0 59\n",
      "file record 0.0008601099834777415 1.087952023226535e-05 124 2422\n",
      "file record 2.5935798475984484e-05 0.00616418058052659 2303 27\n",
      "file record 0.9971217513084412 1.0448039802213316e-06 0 120\n",
      "file record 0.19710353016853333 5.9502344811335206e-05 0 327\n",
      "file record 0.10390645265579224 0.00024917745031416416 1 180\n",
      "file record 4.8011672333814204e-05 0.00016235202201642096 1074 480\n",
      "file record 0.10945192724466324 5.081811104901135e-05 2 707\n",
      "file record 0.01548241637647152 0.00010056237078970298 6 374\n",
      "file record 0.015631593763828278 0.001645849202759564 7 39\n",
      "file record 0.3411034941673279 0.0012116562575101852 0 62\n",
      "file record 0.6982313394546509 3.7437032460729824e-06 0 257\n",
      "file record 0.0865502655506134 0.0011036288924515247 1 99\n",
      "file record 0.0030477021355181932 0.0020161301363259554 19 26\n",
      "file record 0.9982494711875916 6.288708505053364e-07 0 124\n",
      "file record 0.001448080176487565 0.00020577041141223162 87 452\n",
      "file record 0.002839338732883334 0.0007795079727657139 73 225\n",
      "file record 0.02242433838546276 2.082113678625319e-05 8 1053\n",
      "file record 0.33485081791877747 2.867842158593703e-05 0 940\n",
      "file record 0.12410758435726166 8.610681834397838e-05 2 461\n",
      "file record 0.03029507026076317 6.443546590162441e-05 5 285\n",
      "file record 0.04516349360346794 0.0001795943535398692 5 253\n",
      "file record 0.05594206228852272 3.303483026684262e-05 2 499\n",
      "file record 0.030602646991610527 0.00011367253318894655 5 575\n",
      "file record 4.587723742588423e-05 9.572794397172402e-07 339 3606\n",
      "file record 2.5077906684600748e-05 9.358671491099813e-07 1435 6519\n",
      "file record 0.03531967103481293 4.416220326675102e-05 1 1271\n",
      "file record 0.06571870297193527 0.00010169186862185597 2 441\n",
      "file record 0.9999370574951172 7.337003183824353e-13 0 1665\n",
      "file record 0.9914896488189697 1.988799541718933e-10 0 3374\n",
      "file record 0.9685696959495544 9.600609196525056e-09 0 2203\n",
      "file record 0.006207087077200413 0.00016911902639549226 19 605\n",
      "file record 0.5507614612579346 0.0005190899246372283 0 93\n",
      "file record 0.9931950569152832 4.277154186382859e-10 0 4893\n",
      "file record 0.2890978157520294 4.315891783335246e-05 0 517\n",
      "file record 2.1862155335838906e-05 2.2222852180675545e-07 1374 11543\n",
      "file record 0.012088246643543243 0.0012606324162334204 9 111\n",
      "file record 0.89976567029953 6.585324445040897e-05 0 191\n",
      "file record 0.0014984807930886745 0.0020958560053259134 101 73\n",
      "file record 0.16467289626598358 7.931153049867135e-06 2 505\n",
      "file record 0.007265848573297262 2.5580528017599136e-05 8 1180\n",
      "file record 0.9929083585739136 1.091613285097992e-05 0 63\n",
      "file record 0.9696900248527527 5.709021255739799e-09 0 482\n",
      "file record 0.26544123888015747 1.2508146937761921e-05 0 1197\n",
      "file record 0.4851774275302887 0.0007934871828183532 0 74\n",
      "file record 0.0010789827210828662 6.371163908625022e-05 75 604\n",
      "file record 0.025015853345394135 0.0002205231721745804 5 386\n",
      "file record 0.9984523057937622 9.290133662354094e-10 0 404\n",
      "file record 0.002391861053183675 0.02738175541162491 57 8\n",
      "file record 0.9999362230300903 8.093111142186415e-13 0 1601\n",
      "file record 0.1302242875099182 0.0003477474092505872 0 231\n",
      "file record 0.06745339184999466 1.3750624930253252e-05 3 2135\n",
      "file record 0.18491683900356293 2.5629660740378313e-05 0 1190\n",
      "file record 0.2388899177312851 1.9262495698058046e-05 1 781\n",
      "file record 0.0016139524523168802 0.014591035433113575 54 11\n",
      "file record 4.84101110487245e-05 0.08612322062253952 728 1\n",
      "file record 2.065999069600366e-06 0.0003223579842597246 5284 213\n",
      "file record 4.138575150136603e-06 0.02444520592689514 2698 7\n",
      "file record 1.1781819921452552e-05 0.017458517104387283 1086 9\n",
      "file record 0.00015933034592308104 0.002773632761090994 711 49\n",
      "file record 9.361205593449995e-05 0.003855195129290223 1115 25\n",
      "file record 0.0004073154996149242 0.0007528808782808483 308 158\n",
      "file record 0.00034246587892994285 0.008829077705740929 236 16\n",
      "file record 5.220559978624806e-05 0.0007869317196309566 488 105\n",
      "file record 4.926334895571927e-07 0.6103173494338989 7480 0\n",
      "file record 3.986776846431894e-06 0.00043777868268080056 10049 269\n",
      "file record 0.00028818778810091317 0.14021457731723785 275 0\n",
      "file record 0.0005609617219306529 0.1108742356300354 132 1\n",
      "file record 1.7986951206694357e-05 0.00014902104157954454 1467 431\n",
      "file record 5.239216079644393e-06 1.8414346413919702e-05 2355 765\n",
      "file record 0.00020539999241009355 0.9664453864097595 17 0\n",
      "file record 5.1263932618894614e-06 0.066806860268116 3068 3\n",
      "file record 2.6133270694117527e-06 0.00028736647800542414 5472 169\n",
      "file record 1.3400494026427623e-05 0.00013368180952966213 1431 345\n",
      "file record 9.124494681600481e-06 0.008591225370764732 4157 17\n",
      "file record 9.19337326195091e-05 0.01805574633181095 704 7\n",
      "file record 0.0007156939245760441 0.009158584289252758 106 19\n",
      "file record 0.002749921754002571 0.792995810508728 10 0\n",
      "file record 0.05851714313030243 0.11190330982208252 2 1\n",
      "file record 4.972523674950935e-05 0.000858779065310955 614 59\n",
      "file record 3.3255203106818954e-06 0.3972901403903961 5168 0\n",
      "file record 0.00019888974202331156 0.054941676557064056 83 3\n",
      "file record 0.0002568459021858871 0.005796400364488363 358 27\n",
      "file record 8.432071808783803e-06 0.4431534707546234 2706 0\n",
      "file record 0.0007415969157591462 0.9566178917884827 11 0\n",
      "file record 0.005704497918486595 0.41060107946395874 8 1\n",
      "file record 4.107426502741873e-05 0.8545359969139099 267 0\n",
      "file record 0.00042744033271446824 0.0003389596240594983 188 233\n",
      "file record 2.533381848479621e-05 0.07396803051233292 973 2\n",
      "file record 1.6213589333347045e-05 0.0004054371966049075 2949 267\n"
     ]
    },
    {
     "name": "stdout",
     "output_type": "stream",
     "text": [
      "file record 1.873963810794521e-05 0.03273556008934975 189 1\n",
      "file record 0.0001993427285924554 0.8728212118148804 59 0\n",
      "file record 6.0658085203613155e-06 0.03157825022935867 4506 4\n",
      "file record 0.00028677095542661846 0.5745514631271362 115 0\n",
      "file record 7.204903340607416e-07 0.004675684496760368 12656 27\n",
      "file record 0.0004213660431560129 0.009171206504106522 176 23\n",
      "file record 3.2056628697318956e-05 0.005813886411488056 3556 13\n",
      "file record 9.591384150553495e-05 0.09755121916532516 908 0\n",
      "file record 0.0007290033390745521 0.0869254544377327 71 3\n",
      "file record 0.0041100988164544106 0.0004206425801385194 36 265\n",
      "file record 7.334262772928923e-05 0.07782702893018723 138 1\n",
      "file record 6.661124643869698e-05 0.010437858290970325 677 6\n",
      "file record 4.0695660175060766e-08 0.4887046813964844 11109 0\n",
      "file record 6.432936174860515e-07 0.01599060371518135 11215 10\n",
      "file record 8.786165562923998e-05 0.001216079923324287 829 126\n",
      "file record 7.104874384822324e-05 0.01241847313940525 340 7\n",
      "file record 0.00010027807002188638 0.0006583805079571903 542 112\n",
      "file record 2.689848997761146e-06 0.0004429642576724291 7123 212\n",
      "file record 2.0948238670825958e-05 0.0018013258231803775 2503 69\n",
      "file record 2.8587280667125015e-06 0.000103763333754614 7996 601\n",
      "file record 0.002460458315908909 0.0010506999678909779 59 106\n",
      "file record 0.00040011355304159224 0.1815750151872635 234 0\n",
      "file record 1.2099899322493002e-06 0.005532230716198683 8396 24\n",
      "file record 0.00035743133048526943 0.04987004026770592 321 4\n",
      "file record 2.4770763047854416e-05 0.03833840787410736 1598 2\n",
      "file record 0.0014009138103574514 0.0033263342920690775 102 39\n",
      "file record 0.00014031078899279237 0.01298684161156416 558 12\n",
      "file record 2.602854510769248e-05 0.9034416079521179 261 0\n",
      "file record 5.706124284188263e-06 0.002827209187671542 6633 55\n",
      "file record 2.6241273189953063e-06 0.08395014703273773 5955 1\n",
      "file record 0.0001371805410599336 0.9892681241035461 12 0\n",
      "file record 0.0004785426426678896 0.001050093094818294 126 70\n",
      "file record 1.0205850230704527e-05 0.0013644818682223558 3169 88\n",
      "file record 1.6114598793137702e-06 6.166600360302255e-05 8652 576\n",
      "file record 0.0025267924647778273 0.19696572422981262 48 0\n",
      "file record 4.2593615035002586e-06 0.055062342435121536 3847 3\n",
      "file record 2.2829719910077984e-06 0.006869712378829718 4121 10\n",
      "file record 0.0004543956310953945 0.006751470733433962 280 21\n",
      "file record 5.417995794232411e-07 0.7480787038803101 6419 0\n",
      "file record 6.660996587015688e-05 0.6961850523948669 190 0\n",
      "file record 0.0003821156860794872 0.28338146209716797 89 1\n",
      "file record 1.2017719654977554e-06 0.0012478417484089732 6827 74\n",
      "file record 2.1215919332462363e-06 0.009608271531760693 8893 10\n",
      "file record 0.00021489457867573947 0.34240302443504333 101 0\n",
      "file record 5.116919055581093e-05 0.0005096487002447248 1254 261\n",
      "file record 0.001374310115352273 0.0018146741203963757 56 40\n",
      "file record 0.00018687361443880945 0.13789574801921844 409 0\n",
      "file record 4.105824700673111e-06 0.0018304571276530623 5781 54\n",
      "file record 0.00017783402290660888 0.981600284576416 14 0\n",
      "file record 1.6850985048222356e-05 0.22938264906406403 1143 0\n",
      "file record 0.0011850455775856972 0.18209166824817657 81 0\n",
      "file record 3.35898766934406e-05 0.01706136018037796 1893 7\n",
      "file record 0.00038616315578110516 0.0059060826897621155 303 29\n",
      "file record 8.9319273683941e-06 0.020322635769844055 3664 4\n",
      "file record 0.0062539842911064625 0.5502603650093079 13 0\n",
      "file record 0.000176571513293311 0.05255353823304176 531 1\n",
      "file record 4.848411094826588e-07 0.9752705097198486 866 0\n",
      "file record 8.717835271454533e-07 0.12483325600624084 8255 0\n",
      "file record 6.031315933796577e-05 0.02706662379205227 925 6\n",
      "file record 3.120861219940707e-05 0.0008916289662010968 364 25\n",
      "file record 2.70173950411845e-06 0.8709209561347961 1606 0\n",
      "file record 1.675845487625338e-05 0.003765273606404662 1412 15\n",
      "file record 7.505277608288452e-06 0.0007629935280419886 5721 80\n",
      "file record 0.0008583994931541383 0.0008290492696687579 139 146\n",
      "file record 0.0003155010344926268 0.00769867142662406 312 25\n"
     ]
    }
   ],
   "source": [
    "for i, row in tqdm(df.iterrows(), total=len(df)):\n",
    "    line_idx, sentence = row['idx'], row['prefix']\n",
    "\n",
    "    input_ids = tokenizer.encode(sentence, \\\n",
    "                                 return_tensors='pt', \\\n",
    "                                 max_length=None, \\\n",
    "                                 truncation=True, \\\n",
    "                                 padding=False).to(device)\n",
    "    input_ids = input_ids[:,-max_length:]\n",
    "    \n",
    "    with torch.no_grad():\n",
    "        model.eval()\n",
    "        outputs = model(input_ids)\n",
    "        loss = outputs.loss\n",
    "        logits = outputs.logits\n",
    "\n",
    "    # Get the loss at each token\n",
    "    last_logits = logits[..., -1, :].contiguous().squeeze(0)\n",
    "    probs = torch.nn.Softmax(dim=-1)(last_logits)\n",
    "\n",
    "    w1_prob = probs[w1_idx].item()\n",
    "    w2_prob = probs[w2_idx].item()\n",
    "    w1_rank = (probs > w1_prob).sum().item()\n",
    "    w2_rank = (probs > w2_prob).sum().item()\n",
    "    \n",
    "    if i % 100 == 0:\n",
    "        print(w1, w2, w1_prob, w2_prob, w1_rank, w2_rank)\n",
    "\n",
    "    out.writerow([line_idx, w1_prob, w2_prob, w1_rank, w2_rank])\n"
   ]
  },
  {
   "cell_type": "code",
   "execution_count": 10,
   "id": "5f731274",
   "metadata": {},
   "outputs": [
    {
     "data": {
      "text/plain": [
       "torch.Size([1, 1095])"
      ]
     },
     "execution_count": 10,
     "metadata": {},
     "output_type": "execute_result"
    }
   ],
   "source": [
    "input_ids.shape"
   ]
  },
  {
   "cell_type": "code",
   "execution_count": 11,
   "id": "ec3d3a80",
   "metadata": {},
   "outputs": [],
   "source": [
    "out_fh.close()"
   ]
  }
 ],
 "metadata": {
  "celltoolbar": "Tags",
  "kernelspec": {
   "display_name": "Python 3 (ipykernel)",
   "language": "python",
   "name": "python3"
  },
  "language_info": {
   "codemirror_mode": {
    "name": "ipython",
    "version": 3
   },
   "file_extension": ".py",
   "mimetype": "text/x-python",
   "name": "python",
   "nbconvert_exporter": "python",
   "pygments_lexer": "ipython3",
   "version": "3.8.13"
  }
 },
 "nbformat": 4,
 "nbformat_minor": 5
}
