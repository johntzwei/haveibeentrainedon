{
 "cells": [
  {
   "cell_type": "code",
   "execution_count": 1,
   "outputs": [],
   "source": [
    "#Note: this notebook is like graph1, but it will specifically process particular tokens in the loss_per_token_scored.csv file"
   ],
   "metadata": {
    "collapsed": false,
    "ExecuteTime": {
     "end_time": "2023-12-08T06:43:05.717530Z",
     "start_time": "2023-12-08T06:43:05.681118Z"
    }
   },
   "id": "2e47d1340cea66c5"
  },
  {
   "cell_type": "code",
   "execution_count": 1,
   "outputs": [],
   "source": [
    "import os\n",
    "import pandas as pd\n",
    "import seaborn as sns\n",
    "import matplotlib.pyplot as plt\n",
    "import numpy as np\n",
    "import statistics\n",
    "sns.set()\n",
    "# sns.set_context('paper', font_scale=0.73)\n",
    "sns.set_context('paper', font_scale=1.3)\n",
    "sns.set_style('whitegrid', {'font.family':'serif', 'font.serif':'Times New Roman'})"
   ],
   "metadata": {
    "collapsed": false,
    "ExecuteTime": {
     "end_time": "2023-12-13T23:13:57.821492Z",
     "start_time": "2023-12-13T23:13:57.817372Z"
    }
   },
   "id": "60acf33ed0c43c00"
  },
  {
   "cell_type": "code",
   "execution_count": 2,
   "id": "48fa119f",
   "metadata": {
    "ExecuteTime": {
     "end_time": "2023-12-13T23:13:58.101507Z",
     "start_time": "2023-12-13T23:13:57.819707Z"
    }
   },
   "outputs": [
    {
     "name": "stdout",
     "output_type": "stream",
     "text": [
      "\r\n"
     ]
    }
   ],
   "source": [
    "!echo $CONDA_DEFAULT_ENV"
   ]
  },
  {
   "cell_type": "code",
   "execution_count": 3,
   "id": "48e8df1a",
   "metadata": {
    "ExecuteTime": {
     "end_time": "2023-12-13T23:13:58.127136Z",
     "start_time": "2023-12-13T23:13:58.111997Z"
    }
   },
   "outputs": [
    {
     "data": {
      "text/plain": "['/home/ryan/haveibeentrainedon/models/unstealthy_scaling/scaling_final/pile4e9_20len_seed0/410M',\n '/home/ryan/haveibeentrainedon/models/unstealthy_scaling/scaling_final/pile4e9_20len_seed1/410M',\n '/home/ryan/haveibeentrainedon/models/unstealthy_scaling/scaling_final/pile4e9_20len_seed2/410M',\n '/home/ryan/haveibeentrainedon/models/unstealthy_scaling/scaling_final/pile4e9_20len_seed3/410M',\n '/home/ryan/haveibeentrainedon/models/unstealthy_scaling/scaling_final/pile4e9_20len_seed4/410M']"
     },
     "execution_count": 3,
     "metadata": {},
     "output_type": "execute_result"
    }
   ],
   "source": [
    "#paths\n",
    "root_dir = \"/home/ryan/haveibeentrainedon/models/unstealthy_scaling\"\n",
    "group_folder = \"scaling_final\"\n",
    "exp_name= \"pile4e9_20len\"\n",
    "dataset_names = [f\"{exp_name}_seed0\", f\"{exp_name}_seed1\", f\"{exp_name}_seed2\", f\"{exp_name}_seed3\", f\"{exp_name}_seed4\"]\n",
    "model_sizes = [\"410M\"]\n",
    "scored_file = \"loss_per_token_scored.csv\"\n",
    "\n",
    "#these are the tokens that we will be averaging the losses to get our statistic\n",
    "start_attend = 0\n",
    "end_attend = 100\n",
    "\n",
    "experiments = [f\"{root_dir}/{group_folder}/{dataset_name}/{model_size}\" for model_size in model_sizes for dataset_name in dataset_names]\n",
    "experiments"
   ]
  },
  {
   "cell_type": "code",
   "execution_count": 4,
   "id": "9fb79921",
   "metadata": {
    "ExecuteTime": {
     "end_time": "2023-12-13T23:14:00.724993Z",
     "start_time": "2023-12-13T23:14:00.600976Z"
    }
   },
   "outputs": [
    {
     "data": {
      "text/plain": "['256_model']"
     },
     "execution_count": 4,
     "metadata": {},
     "output_type": "execute_result"
    }
   ],
   "source": [
    "models = list(filter(lambda x: x[-5:] == \"model\", os.listdir(experiments[0])))\n",
    "models = sorted(models, key = lambda x: eval(x[:-6]))\n",
    "models"
   ]
  },
  {
   "cell_type": "code",
   "execution_count": 5,
   "outputs": [],
   "source": [
    "def read_file(file_name):\n",
    "    data = []\n",
    "    with open(file_name, 'r') as file:\n",
    "        for line in file:\n",
    "            row = [eval(element.strip()) for element in line.split(\",\")]\n",
    "            data.append(row[start_attend:end_attend])\n",
    "    return data"
   ],
   "metadata": {
    "collapsed": false,
    "ExecuteTime": {
     "end_time": "2023-12-13T23:14:01.748510Z",
     "start_time": "2023-12-13T23:14:01.743288Z"
    }
   },
   "id": "bfde3b336f32cbc3"
  },
  {
   "cell_type": "code",
   "execution_count": 6,
   "id": "384f52c5",
   "metadata": {
    "ExecuteTime": {
     "end_time": "2023-12-13T23:14:06.095972Z",
     "start_time": "2023-12-13T23:14:05.188116Z"
    }
   },
   "outputs": [
    {
     "name": "stdout",
     "output_type": "stream",
     "text": [
      "5\n",
      "1\n"
     ]
    }
   ],
   "source": [
    "experiments_dfs = []\n",
    "for experiment in experiments:\n",
    "    model_dfs = []\n",
    "    for model_type in models:\n",
    "        model_dfs += [read_file(os.path.join(experiment,  model_type, scored_file))]\n",
    "    experiments_dfs.append(model_dfs)\n",
    "print(len(experiments_dfs))\n",
    "print(len(model_dfs))"
   ]
  },
  {
   "cell_type": "code",
   "execution_count": 7,
   "id": "f0db6cf1",
   "metadata": {
    "ExecuteTime": {
     "end_time": "2023-12-13T23:14:06.925590Z",
     "start_time": "2023-12-13T23:14:06.712911Z"
    }
   },
   "outputs": [
    {
     "name": "stdout",
     "output_type": "stream",
     "text": [
      "1\n"
     ]
    }
   ],
   "source": [
    "\n",
    "y_axises = []\n",
    "null_means = []\n",
    "null_stdev = []\n",
    "statistic_total = []\n",
    "for experiment_dfs in experiments_dfs:\n",
    "    y_axis = []\n",
    "    null_raw = []\n",
    "    null_std = []\n",
    "    statistic_temp = []\n",
    "    for model_df in experiment_dfs:\n",
    "        null_raw = model_df[1:]\n",
    "        #we first average over tokens to get average loss per each example\n",
    "        null = [statistics.mean(row) for row in null_raw]\n",
    "\n",
    "        #we then calculate the average and stdev of this null distribution\n",
    "        mean = statistics.mean(null)\n",
    "        stdev = statistics.stdev(null)\n",
    "\n",
    "        statistic = statistics.mean(model_df[0])\n",
    "        # print(f\"statistic = {statistic}, mean = {mean}, stdev = {stdev}\")\n",
    "\n",
    "        statistic_temp += [statistic]\n",
    "\n",
    "        y_axis += [(statistic - mean) / stdev]\n",
    "        null_means += [mean]\n",
    "        null_std += [stdev]\n",
    "    y_axises.append(y_axis)\n",
    "    statistic_total.append(statistic_temp)\n",
    "    null_stdev.append(null_std)\n",
    "\n",
    "print(len(y_axises[0]))"
   ]
  },
  {
   "cell_type": "code",
   "execution_count": 8,
   "outputs": [
    {
     "name": "stdout",
     "output_type": "stream",
     "text": [
      "[-7.95037998]\n",
      "[0.62587582]\n"
     ]
    }
   ],
   "source": [
    "y_axises = np.array(y_axises).reshape(len(model_sizes), -1)\n",
    "print(y_axises.mean(axis=1))\n",
    "print(y_axises.std(axis=1))\n"
   ],
   "metadata": {
    "collapsed": false,
    "ExecuteTime": {
     "end_time": "2023-12-13T23:14:07.818345Z",
     "start_time": "2023-12-13T23:14:07.810126Z"
    }
   },
   "id": "d4464f5be06ea339"
  },
  {
   "cell_type": "code",
   "execution_count": 9,
   "outputs": [
    {
     "name": "stdout",
     "output_type": "stream",
     "text": [
      "[6.78785154]\n",
      "[0.04531191]\n"
     ]
    }
   ],
   "source": [
    "print(np.array(null_means).reshape(len(model_sizes), -1).mean(axis=1))\n",
    "print(np.array(null_means).reshape(len(model_sizes), -1).std(axis=1))\n"
   ],
   "metadata": {
    "collapsed": false,
    "ExecuteTime": {
     "end_time": "2023-12-13T23:14:22.621522Z",
     "start_time": "2023-12-13T23:14:22.620111Z"
    }
   },
   "id": "2fa301d8c680a928"
  },
  {
   "cell_type": "code",
   "execution_count": 10,
   "outputs": [
    {
     "name": "stdout",
     "output_type": "stream",
     "text": [
      "[0.6007974]\n",
      "[0.01099987]\n"
     ]
    }
   ],
   "source": [
    "print(np.array(null_stdev).reshape(len(model_sizes), -1).mean(axis=1))\n",
    "print(np.array(null_stdev).reshape(len(model_sizes), -1).std(axis=1))\n"
   ],
   "metadata": {
    "collapsed": false,
    "ExecuteTime": {
     "end_time": "2023-12-13T23:14:22.771160Z",
     "start_time": "2023-12-13T23:14:22.729317Z"
    }
   },
   "id": "f52b829988aedaec"
  },
  {
   "cell_type": "code",
   "execution_count": 11,
   "outputs": [
    {
     "name": "stdout",
     "output_type": "stream",
     "text": [
      "[2.01764398]\n",
      "[0.32031483]\n"
     ]
    }
   ],
   "source": [
    "print(np.array(statistic_total).reshape(len(model_sizes), -1).mean(axis=1))\n",
    "print(np.array(statistic_total).reshape(len(model_sizes), -1).std(axis=1))\n"
   ],
   "metadata": {
    "collapsed": false,
    "ExecuteTime": {
     "end_time": "2023-12-13T23:14:22.983752Z",
     "start_time": "2023-12-13T23:14:22.981425Z"
    }
   },
   "id": "625105d4e44c7fd9"
  },
  {
   "cell_type": "code",
   "execution_count": 12,
   "outputs": [
    {
     "ename": "ValueError",
     "evalue": "cannot reshape array of size 5 into shape (5,11)",
     "output_type": "error",
     "traceback": [
      "\u001B[0;31m---------------------------------------------------------------------------\u001B[0m",
      "\u001B[0;31mValueError\u001B[0m                                Traceback (most recent call last)",
      "\u001B[0;32m<ipython-input-12-131971d27d9f>\u001B[0m in \u001B[0;36m<module>\u001B[0;34m\u001B[0m\n\u001B[0;32m----> 1\u001B[0;31m \u001B[0mnp\u001B[0m\u001B[0;34m.\u001B[0m\u001B[0marray\u001B[0m\u001B[0;34m(\u001B[0m\u001B[0mnull_means\u001B[0m\u001B[0;34m)\u001B[0m\u001B[0;34m.\u001B[0m\u001B[0mreshape\u001B[0m\u001B[0;34m(\u001B[0m\u001B[0;36m5\u001B[0m\u001B[0;34m,\u001B[0m \u001B[0;36m11\u001B[0m\u001B[0;34m)\u001B[0m\u001B[0;34m.\u001B[0m\u001B[0mmean\u001B[0m\u001B[0;34m(\u001B[0m\u001B[0maxis\u001B[0m\u001B[0;34m=\u001B[0m\u001B[0;36m0\u001B[0m\u001B[0;34m)\u001B[0m\u001B[0;34m\u001B[0m\u001B[0;34m\u001B[0m\u001B[0m\n\u001B[0m",
      "\u001B[0;31mValueError\u001B[0m: cannot reshape array of size 5 into shape (5,11)"
     ]
    }
   ],
   "source": [
    "np.array(null_means).reshape(5, 11).mean(axis=0)"
   ],
   "metadata": {
    "collapsed": false,
    "ExecuteTime": {
     "end_time": "2023-12-13T23:14:23.205265Z",
     "start_time": "2023-12-13T23:14:23.146917Z"
    }
   },
   "id": "8b13381902a58cf8"
  },
  {
   "cell_type": "code",
   "execution_count": 13,
   "outputs": [
    {
     "data": {
      "text/plain": "array([[-7.35553284, -8.92732811, -7.98544104, -8.271936  , -7.21166189]])"
     },
     "execution_count": 13,
     "metadata": {},
     "output_type": "execute_result"
    }
   ],
   "source": [
    "np.array(y_axises)"
   ],
   "metadata": {
    "collapsed": false,
    "ExecuteTime": {
     "end_time": "2023-12-13T23:14:25.975754Z",
     "start_time": "2023-12-13T23:14:25.969816Z"
    }
   },
   "id": "110c8956ae5f61c6"
  },
  {
   "cell_type": "code",
   "execution_count": 22,
   "outputs": [],
   "source": [
    "averaged = np.array(y_axises).mean(axis=0)"
   ],
   "metadata": {
    "collapsed": false,
    "ExecuteTime": {
     "end_time": "2023-12-07T04:59:29.665818Z",
     "start_time": "2023-12-07T04:59:29.441228Z"
    }
   },
   "id": "f5e4ab62ce4eed6c"
  },
  {
   "cell_type": "code",
   "execution_count": 12,
   "outputs": [
    {
     "name": "stdout",
     "output_type": "stream",
     "text": [
      "[70, 160, 410, 1400]\n"
     ]
    }
   ],
   "source": [
    "# x_axis = [1, 2, 4, 8, 16, 32, 64, 128, 256, 512, 1024]\n",
    "# x_axis=[256]\n",
    "x_axis = [70, 160, 410, 1400]\n",
    "print(x_axis)"
   ],
   "metadata": {
    "collapsed": false,
    "ExecuteTime": {
     "end_time": "2023-12-08T07:47:23.112570Z",
     "start_time": "2023-12-08T07:47:23.083410Z"
    }
   },
   "id": "11611cae0f198d42"
  },
  {
   "cell_type": "code",
   "execution_count": 15,
   "id": "0a9baf2b",
   "metadata": {
    "ExecuteTime": {
     "end_time": "2023-12-08T07:48:18.527977Z",
     "start_time": "2023-12-08T07:48:18.038774Z"
    }
   },
   "outputs": [
    {
     "name": "stderr",
     "output_type": "stream",
     "text": [
      "No handles with labels found to put in legend.\n"
     ]
    },
    {
     "data": {
      "text/plain": "<Figure size 432x288 with 1 Axes>",
      "image/png": "[encoded data removed]"
     },
     "metadata": {},
     "output_type": "display_data"
    }
   ],
   "source": [
    "# Create a line plot for each set of y-values\n",
    "sns.scatterplot(x=x_axis, y=y_axises.mean(axis=1), color='red')\n",
    "\n",
    "# sns.scatterplot(x=x_axis, y=y_axises[0], color='red', label='70M')\n",
    "# ax = sns.lineplot(x=x_axis, y=y_axises[1], color='blue', label='160M')\n",
    "# sns.scatterplot(x=x_axis, y=y_axises[2], color='green', label='30char')\n",
    "\n",
    "# Customize the plot\n",
    "plt.title('Model Scaling (1B Tokens, 256 Repetitions, 20 Length)')\n",
    "plt.xlabel('Model Size (Millions of Parameters)')\n",
    "plt.ylabel('Z-Score')\n",
    "plt.legend()\n",
    "\n",
    "# Show the plot\n",
    "plt.show()"
   ]
  },
  {
   "cell_type": "code",
   "execution_count": 25,
   "id": "74f1387e",
   "metadata": {
    "ExecuteTime": {
     "end_time": "2023-12-07T05:00:26.040178Z",
     "start_time": "2023-12-07T05:00:25.942873Z"
    }
   },
   "outputs": [
    {
     "data": {
      "text/plain": "-8.709461298761209"
     },
     "execution_count": 25,
     "metadata": {},
     "output_type": "execute_result"
    }
   ],
   "source": [
    "np.array(y_axises).mean()"
   ]
  },
  {
   "cell_type": "code",
   "execution_count": null,
   "outputs": [],
   "source": [],
   "metadata": {
    "collapsed": false
   },
   "id": "2d74111a64b70f83"
  }
 ],
 "metadata": {
  "kernelspec": {
   "display_name": "Python 3 (ipykernel)",
   "language": "python",
   "name": "python3"
  },
  "language_info": {
   "codemirror_mode": {
    "name": "ipython",
    "version": 3
   },
   "file_extension": ".py",
   "mimetype": "text/x-python",
   "name": "python",
   "nbconvert_exporter": "python",
   "pygments_lexer": "ipython3",
   "version": "3.8.16"
  }
 },
 "nbformat": 4,
 "nbformat_minor": 5
}
