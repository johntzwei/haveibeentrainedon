{
 "cells": [
  {
   "cell_type": "code",
   "execution_count": 1,
   "outputs": [],
   "source": [
    "#Note: this notebook is like graph1, but it will specifically process particular tokens in the loss_per_token_scored.csv file"
   ],
   "metadata": {
    "collapsed": false,
    "ExecuteTime": {
     "end_time": "2023-12-08T06:43:05.717530Z",
     "start_time": "2023-12-08T06:43:05.681118Z"
    }
   },
   "id": "2e47d1340cea66c5"
  },
  {
   "cell_type": "code",
   "execution_count": 3,
   "outputs": [],
   "source": [
    "import os\n",
    "import pandas as pd\n",
    "import seaborn as sns\n",
    "import matplotlib.pyplot as plt\n",
    "import numpy as np\n",
    "import statistics\n",
    "sns.set()\n",
    "# sns.set_context('paper', font_scale=0.73)\n",
    "sns.set_context('paper', font_scale=1.3)\n",
    "sns.set_style('whitegrid', {'font.family':'serif', 'font.serif':'Times New Roman'})"
   ],
   "metadata": {
    "collapsed": false,
    "ExecuteTime": {
     "end_time": "2023-12-16T18:53:58.353916Z",
     "start_time": "2023-12-16T18:53:58.349055Z"
    }
   },
   "id": "60acf33ed0c43c00"
  },
  {
   "cell_type": "code",
   "execution_count": 2,
   "id": "48fa119f",
   "metadata": {
    "ExecuteTime": {
     "end_time": "2023-12-16T18:29:12.172508Z",
     "start_time": "2023-12-16T18:29:12.011201Z"
    }
   },
   "outputs": [
    {
     "name": "stdout",
     "output_type": "stream",
     "text": [
      "\r\n"
     ]
    }
   ],
   "source": [
    "!echo $CONDA_DEFAULT_ENV"
   ]
  },
  {
   "cell_type": "code",
   "execution_count": 1,
   "id": "48e8df1a",
   "metadata": {
    "ExecuteTime": {
     "end_time": "2023-12-16T18:53:48.342831Z",
     "start_time": "2023-12-16T18:53:48.341693Z"
    }
   },
   "outputs": [
    {
     "data": {
      "text/plain": "['/mnt/nfs1/ryan/haveibeentrainedon/models_old/watermark_length_final/pile1e8_10len_seed0/70M',\n '/mnt/nfs1/ryan/haveibeentrainedon/models_old/watermark_length_final/pile1e8_10len_seed1/70M',\n '/mnt/nfs1/ryan/haveibeentrainedon/models_old/watermark_length_final/pile1e8_10len_seed2/70M',\n '/mnt/nfs1/ryan/haveibeentrainedon/models_old/watermark_length_final/pile1e8_10len_seed3/70M',\n '/mnt/nfs1/ryan/haveibeentrainedon/models_old/watermark_length_final/pile1e8_10len_seed4/70M',\n '/mnt/nfs1/ryan/haveibeentrainedon/models_old/watermark_length_final/pile1e8_20len_seed0/70M',\n '/mnt/nfs1/ryan/haveibeentrainedon/models_old/watermark_length_final/pile1e8_20len_seed1/70M',\n '/mnt/nfs1/ryan/haveibeentrainedon/models_old/watermark_length_final/pile1e8_20len_seed2/70M',\n '/mnt/nfs1/ryan/haveibeentrainedon/models_old/watermark_length_final/pile1e8_20len_seed3/70M',\n '/mnt/nfs1/ryan/haveibeentrainedon/models_old/watermark_length_final/pile1e8_20len_seed4/70M',\n '/mnt/nfs1/ryan/haveibeentrainedon/models_old/watermark_length_final/pile1e8_40len_seed0/70M',\n '/mnt/nfs1/ryan/haveibeentrainedon/models_old/watermark_length_final/pile1e8_40len_seed1/70M',\n '/mnt/nfs1/ryan/haveibeentrainedon/models_old/watermark_length_final/pile1e8_40len_seed2/70M',\n '/mnt/nfs1/ryan/haveibeentrainedon/models_old/watermark_length_final/pile1e8_40len_seed3/70M',\n '/mnt/nfs1/ryan/haveibeentrainedon/models_old/watermark_length_final/pile1e8_40len_seed4/70M',\n '/mnt/nfs1/ryan/haveibeentrainedon/models_old/watermark_length_final/pile1e8_80len_seed0/70M',\n '/mnt/nfs1/ryan/haveibeentrainedon/models_old/watermark_length_final/pile1e8_80len_seed1/70M',\n '/mnt/nfs1/ryan/haveibeentrainedon/models_old/watermark_length_final/pile1e8_80len_seed2/70M',\n '/mnt/nfs1/ryan/haveibeentrainedon/models_old/watermark_length_final/pile1e8_80len_seed3/70M',\n '/mnt/nfs1/ryan/haveibeentrainedon/models_old/watermark_length_final/pile1e8_80len_seed4/70M']"
     },
     "execution_count": 1,
     "metadata": {},
     "output_type": "execute_result"
    }
   ],
   "source": [
    "#paths\n",
    "root_dir = \"/mnt/nfs1/ryan/haveibeentrainedon/models_old\"\n",
    "group_folder = \"watermark_length_final\"\n",
    "exp_name= [\"pile1e8_10len\", \"pile1e8_20len\", \"pile1e8_40len\",\"pile1e8_80len\"]\n",
    "\n",
    "dataset_names = []\n",
    "for exp in exp_name:\n",
    "    dataset_names += [f\"{exp}_seed0\", f\"{exp}_seed1\", f\"{exp}_seed2\", f\"{exp}_seed3\", f\"{exp}_seed4\"]\n",
    "model_sizes = [\"70M\"]\n",
    "scored_file = \"loss_per_token_scored.csv\"\n",
    "\n",
    "#these are the tokens that we will be averaging the losses to get our statistic\n",
    "start_attend = 0\n",
    "end_attend = 100\n",
    "\n",
    "experiments = [f\"{root_dir}/{group_folder}/{dataset_name}/{model_size}\" for model_size in model_sizes for dataset_name in dataset_names]\n",
    "experiments"
   ]
  },
  {
   "cell_type": "code",
   "execution_count": 4,
   "id": "9fb79921",
   "metadata": {
    "ExecuteTime": {
     "end_time": "2023-12-16T18:54:02.877628Z",
     "start_time": "2023-12-16T18:54:02.872904Z"
    }
   },
   "outputs": [
    {
     "data": {
      "text/plain": "['256_model']"
     },
     "execution_count": 4,
     "metadata": {},
     "output_type": "execute_result"
    }
   ],
   "source": [
    "models = list(filter(lambda x: x[-5:] == \"model\", os.listdir(experiments[0])))\n",
    "models = sorted(models, key = lambda x: eval(x[:-6]))\n",
    "models"
   ]
  },
  {
   "cell_type": "code",
   "execution_count": 5,
   "outputs": [],
   "source": [
    "def read_file(file_name):\n",
    "    data = []\n",
    "    with open(file_name, 'r') as file:\n",
    "        for line in file:\n",
    "            row = [eval(element.strip()) for element in line.split(\",\")]\n",
    "            data.append(row[start_attend:end_attend])\n",
    "    return data"
   ],
   "metadata": {
    "collapsed": false,
    "ExecuteTime": {
     "end_time": "2023-12-16T18:54:07.348914Z",
     "start_time": "2023-12-16T18:54:07.343836Z"
    }
   },
   "id": "bfde3b336f32cbc3"
  },
  {
   "cell_type": "code",
   "execution_count": 6,
   "id": "384f52c5",
   "metadata": {
    "ExecuteTime": {
     "end_time": "2023-12-16T18:54:18.995911Z",
     "start_time": "2023-12-16T18:54:15.228347Z"
    }
   },
   "outputs": [
    {
     "name": "stdout",
     "output_type": "stream",
     "text": [
      "20\n",
      "1\n"
     ]
    }
   ],
   "source": [
    "experiments_dfs = []\n",
    "for experiment in experiments:\n",
    "    model_dfs = []\n",
    "    for model_type in models:\n",
    "        model_dfs += [read_file(os.path.join(experiment,  model_type, scored_file))]\n",
    "    experiments_dfs.append(model_dfs)\n",
    "print(len(experiments_dfs))\n",
    "print(len(model_dfs))"
   ]
  },
  {
   "cell_type": "code",
   "execution_count": 16,
   "id": "f0db6cf1",
   "metadata": {
    "ExecuteTime": {
     "end_time": "2023-12-16T18:56:28.629646Z",
     "start_time": "2023-12-16T18:56:27.633924Z"
    }
   },
   "outputs": [
    {
     "name": "stdout",
     "output_type": "stream",
     "text": [
      "1\n"
     ]
    }
   ],
   "source": [
    "\n",
    "y_axises = []\n",
    "null_means = []\n",
    "null_stdev = []\n",
    "statistic_total = []\n",
    "for experiment_dfs in experiments_dfs:\n",
    "    y_axis = []\n",
    "    null_raw = []\n",
    "    null_std = []\n",
    "    statistic_temp = []\n",
    "    for model_df in experiment_dfs:\n",
    "        null_raw = model_df[1:]\n",
    "        #we first average over tokens to get average loss per each example\n",
    "        null = [statistics.mean(row) for row in null_raw]\n",
    "\n",
    "        #we then calculate the average and stdev of this null distribution\n",
    "        mean = statistics.mean(null)\n",
    "        stdev = statistics.stdev(null)\n",
    "\n",
    "        statistic = statistics.mean(model_df[0])\n",
    "        # print(f\"statistic = {statistic}, mean = {mean}, stdev = {stdev}\")\n",
    "\n",
    "        statistic_temp += [statistic]\n",
    "\n",
    "        y_axis += [(statistic - mean) / stdev]\n",
    "        null_means += [mean]\n",
    "        null_std += [stdev]\n",
    "    y_axises.append(y_axis)\n",
    "    statistic_total.append(statistic_temp)\n",
    "    null_stdev.append(null_std)\n",
    "\n",
    "print(len(y_axises[0]))"
   ]
  },
  {
   "cell_type": "code",
   "execution_count": 17,
   "outputs": [],
   "source": [
    "y_axises = np.array(y_axises).reshape(len(exp_name), -1)"
   ],
   "metadata": {
    "collapsed": false,
    "ExecuteTime": {
     "end_time": "2023-12-16T18:56:29.831227Z",
     "start_time": "2023-12-16T18:56:29.816088Z"
    }
   },
   "id": "185b70c16f7e34a5"
  },
  {
   "cell_type": "code",
   "execution_count": 18,
   "outputs": [
    {
     "data": {
      "text/plain": "array([[ -3.11873203,  -4.13756576,  -4.36509866,  -4.28834025,\n         -4.76705024],\n       [ -7.09087092,  -7.6060597 ,  -7.26258479,  -7.70278601,\n         -8.2858706 ],\n       [-11.4561045 , -11.50640719, -13.67221474, -11.14928379,\n        -12.70064984],\n       [-17.25240805, -19.20327001, -20.62033835, -17.91545068,\n        -18.96072787]])"
     },
     "execution_count": 18,
     "metadata": {},
     "output_type": "execute_result"
    }
   ],
   "source": [
    "y_axises"
   ],
   "metadata": {
    "collapsed": false,
    "ExecuteTime": {
     "end_time": "2023-12-16T18:56:31.158432Z",
     "start_time": "2023-12-16T18:56:31.148254Z"
    }
   },
   "id": "ca819dea8f942c2d"
  },
  {
   "cell_type": "code",
   "execution_count": 20,
   "outputs": [
    {
     "data": {
      "text/plain": "array([ -4.13535739,  -7.58963441, -12.09693201, -18.79043899])"
     },
     "execution_count": 20,
     "metadata": {},
     "output_type": "execute_result"
    }
   ],
   "source": [
    "y_axises.mean(axis=1)\n"
   ],
   "metadata": {
    "collapsed": false,
    "ExecuteTime": {
     "end_time": "2023-12-16T18:56:45.380571Z",
     "start_time": "2023-12-16T18:56:45.371994Z"
    }
   },
   "id": "be60da6dcf4322da"
  },
  {
   "cell_type": "code",
   "execution_count": 21,
   "outputs": [
    {
     "data": {
      "text/plain": "array([0.54931824, 0.41316931, 0.94904241, 1.15577707])"
     },
     "execution_count": 21,
     "metadata": {},
     "output_type": "execute_result"
    }
   ],
   "source": [
    "y_axises.std(axis=1)"
   ],
   "metadata": {
    "collapsed": false,
    "ExecuteTime": {
     "end_time": "2023-12-16T18:56:48.804714Z",
     "start_time": "2023-12-16T18:56:48.793471Z"
    }
   },
   "id": "ec5e3ee678f31a44"
  },
  {
   "cell_type": "code",
   "execution_count": 24,
   "outputs": [],
   "source": [
    "null_means = np.array(null_means).reshape(len(exp_name), -1)"
   ],
   "metadata": {
    "collapsed": false,
    "ExecuteTime": {
     "end_time": "2023-12-16T18:58:07.831377Z",
     "start_time": "2023-12-16T18:58:07.824256Z"
    }
   },
   "id": "e9b432c88bad3588"
  },
  {
   "cell_type": "code",
   "execution_count": 25,
   "outputs": [
    {
     "data": {
      "text/plain": "array([7.8738516 , 7.7708996 , 7.48280257, 7.32005961])"
     },
     "execution_count": 25,
     "metadata": {},
     "output_type": "execute_result"
    }
   ],
   "source": [
    "null_means.mean(axis=1)\n"
   ],
   "metadata": {
    "collapsed": false,
    "ExecuteTime": {
     "end_time": "2023-12-16T18:58:08.727215Z",
     "start_time": "2023-12-16T18:58:08.723116Z"
    }
   },
   "id": "2fa301d8c680a928"
  },
  {
   "cell_type": "code",
   "execution_count": 26,
   "outputs": [
    {
     "data": {
      "text/plain": "array([0.06817196, 0.06732457, 0.1219488 , 0.05132433])"
     },
     "execution_count": 26,
     "metadata": {},
     "output_type": "execute_result"
    }
   ],
   "source": [
    "null_means.std(axis=1)"
   ],
   "metadata": {
    "collapsed": false,
    "ExecuteTime": {
     "end_time": "2023-12-16T18:58:12.182865Z",
     "start_time": "2023-12-16T18:58:12.174569Z"
    }
   },
   "id": "48e37b236df2e41f"
  },
  {
   "cell_type": "markdown",
   "source": [],
   "metadata": {
    "collapsed": false
   },
   "id": "fe98c897cea9ada6"
  },
  {
   "cell_type": "code",
   "execution_count": 27,
   "outputs": [],
   "source": [
    "null_stdev = np.array(null_stdev).reshape(len(exp_name), -1)"
   ],
   "metadata": {
    "collapsed": false,
    "ExecuteTime": {
     "end_time": "2023-12-16T18:58:16.793999Z",
     "start_time": "2023-12-16T18:58:16.787922Z"
    }
   },
   "id": "9b09cc91340ba820"
  },
  {
   "cell_type": "code",
   "execution_count": 28,
   "outputs": [
    {
     "data": {
      "text/plain": "array([1.09173905, 0.8002395 , 0.54319035, 0.36383049])"
     },
     "execution_count": 28,
     "metadata": {},
     "output_type": "execute_result"
    }
   ],
   "source": [
    "null_stdev.mean(axis=1)"
   ],
   "metadata": {
    "collapsed": false,
    "ExecuteTime": {
     "end_time": "2023-12-16T18:58:19.130696Z",
     "start_time": "2023-12-16T18:58:19.087556Z"
    }
   },
   "id": "8ee0c6e0a9b326a8"
  },
  {
   "cell_type": "code",
   "execution_count": 29,
   "outputs": [
    {
     "data": {
      "text/plain": "array([0.03777099, 0.04614765, 0.04645482, 0.02100447])"
     },
     "execution_count": 29,
     "metadata": {},
     "output_type": "execute_result"
    }
   ],
   "source": [
    "null_stdev.std(axis=1)"
   ],
   "metadata": {
    "collapsed": false,
    "ExecuteTime": {
     "end_time": "2023-12-16T18:58:21.904995Z",
     "start_time": "2023-12-16T18:58:21.897101Z"
    }
   },
   "id": "a8dc2b33883cd43f"
  },
  {
   "cell_type": "code",
   "execution_count": 30,
   "outputs": [],
   "source": [
    "statistic_total = np.array(statistic_total).reshape(len(exp_name), -1)"
   ],
   "metadata": {
    "collapsed": false,
    "ExecuteTime": {
     "end_time": "2023-12-16T18:58:26.739444Z",
     "start_time": "2023-12-16T18:58:26.734345Z"
    }
   },
   "id": "d339cae2742c2301"
  },
  {
   "cell_type": "code",
   "execution_count": 31,
   "outputs": [
    {
     "data": {
      "text/plain": "array([3.3568474 , 1.70755435, 0.95394247, 0.50773179])"
     },
     "execution_count": 31,
     "metadata": {},
     "output_type": "execute_result"
    }
   ],
   "source": [
    "statistic_total.mean(axis=1)\n"
   ],
   "metadata": {
    "collapsed": false,
    "ExecuteTime": {
     "end_time": "2023-12-16T18:58:29.269753Z",
     "start_time": "2023-12-16T18:58:29.261857Z"
    }
   },
   "id": "625105d4e44c7fd9"
  },
  {
   "cell_type": "code",
   "execution_count": 32,
   "outputs": [
    {
     "data": {
      "text/plain": "array([0.62423278, 0.28227495, 0.16082998, 0.04465337])"
     },
     "execution_count": 32,
     "metadata": {},
     "output_type": "execute_result"
    }
   ],
   "source": [
    "statistic_total.std(axis=1)"
   ],
   "metadata": {
    "collapsed": false,
    "ExecuteTime": {
     "end_time": "2023-12-16T18:58:31.495814Z",
     "start_time": "2023-12-16T18:58:31.488539Z"
    }
   },
   "id": "8b13381902a58cf8"
  },
  {
   "cell_type": "code",
   "execution_count": 33,
   "outputs": [
    {
     "data": {
      "text/plain": "array([[ -3.11873203,  -4.13756576,  -4.36509866,  -4.28834025,\n         -4.76705024],\n       [ -7.09087092,  -7.6060597 ,  -7.26258479,  -7.70278601,\n         -8.2858706 ],\n       [-11.4561045 , -11.50640719, -13.67221474, -11.14928379,\n        -12.70064984],\n       [-17.25240805, -19.20327001, -20.62033835, -17.91545068,\n        -18.96072787]])"
     },
     "execution_count": 33,
     "metadata": {},
     "output_type": "execute_result"
    }
   ],
   "source": [
    "np.array(y_axises)"
   ],
   "metadata": {
    "collapsed": false,
    "ExecuteTime": {
     "end_time": "2023-12-16T18:58:35.390818Z",
     "start_time": "2023-12-16T18:58:35.388331Z"
    }
   },
   "id": "110c8956ae5f61c6"
  },
  {
   "cell_type": "code",
   "execution_count": 34,
   "outputs": [
    {
     "data": {
      "text/plain": "array([ -4.13535739,  -7.58963441, -12.09693201, -18.79043899])"
     },
     "execution_count": 34,
     "metadata": {},
     "output_type": "execute_result"
    }
   ],
   "source": [
    "averaged = np.array(y_axises).mean(axis=1)\n",
    "averaged"
   ],
   "metadata": {
    "collapsed": false,
    "ExecuteTime": {
     "end_time": "2023-12-16T18:58:42.716138Z",
     "start_time": "2023-12-16T18:58:42.708347Z"
    }
   },
   "id": "f5e4ab62ce4eed6c"
  },
  {
   "cell_type": "code",
   "execution_count": 35,
   "outputs": [
    {
     "name": "stdout",
     "output_type": "stream",
     "text": [
      "[10, 20, 40, 80]\n"
     ]
    }
   ],
   "source": [
    "x_axis = [10, 20, 40, 80]\n",
    "\n",
    "print(x_axis)"
   ],
   "metadata": {
    "collapsed": false,
    "ExecuteTime": {
     "end_time": "2023-12-16T18:58:59.499517Z",
     "start_time": "2023-12-16T18:58:59.494089Z"
    }
   },
   "id": "11611cae0f198d42"
  },
  {
   "cell_type": "code",
   "execution_count": 36,
   "id": "0a9baf2b",
   "metadata": {
    "ExecuteTime": {
     "end_time": "2023-12-16T18:59:00.469468Z",
     "start_time": "2023-12-16T18:59:00.082721Z"
    }
   },
   "outputs": [
    {
     "name": "stderr",
     "output_type": "stream",
     "text": [
      "No handles with labels found to put in legend.\n"
     ]
    },
    {
     "data": {
      "text/plain": "<Figure size 432x288 with 1 Axes>",
      "image/png": "[encoded data removed]"
     },
     "metadata": {},
     "output_type": "display_data"
    }
   ],
   "source": [
    "# Create a line plot for each set of y-values\n",
    "sns.scatterplot(x=x_axis, y=averaged, color='red')\n",
    "\n",
    "# sns.scatterplot(x=x_axis, y=y_axises[0], color='red', label='70M')\n",
    "# ax = sns.lineplot(x=x_axis, y=y_axises[1], color='blue', label='160M')\n",
    "# sns.scatterplot(x=x_axis, y=y_axises[2], color='green', label='30char')\n",
    "\n",
    "# Customize the plot\n",
    "plt.title('Model Scaling (1B Tokens, 256 Repetitions, 20 Length)')\n",
    "plt.xlabel('Model Size (Millions of Parameters)')\n",
    "plt.ylabel('Z-Score')\n",
    "plt.legend()\n",
    "\n",
    "# Show the plot\n",
    "plt.show()"
   ]
  },
  {
   "cell_type": "code",
   "execution_count": 25,
   "id": "74f1387e",
   "metadata": {
    "ExecuteTime": {
     "end_time": "2023-12-07T05:00:26.040178Z",
     "start_time": "2023-12-07T05:00:25.942873Z"
    }
   },
   "outputs": [
    {
     "data": {
      "text/plain": "-8.709461298761209"
     },
     "execution_count": 25,
     "metadata": {},
     "output_type": "execute_result"
    }
   ],
   "source": [
    "np.array(y_axises).mean()"
   ]
  },
  {
   "cell_type": "code",
   "execution_count": null,
   "outputs": [],
   "source": [],
   "metadata": {
    "collapsed": false
   },
   "id": "2d74111a64b70f83"
  }
 ],
 "metadata": {
  "kernelspec": {
   "display_name": "Python 3 (ipykernel)",
   "language": "python",
   "name": "python3"
  },
  "language_info": {
   "codemirror_mode": {
    "name": "ipython",
    "version": 3
   },
   "file_extension": ".py",
   "mimetype": "text/x-python",
   "name": "python",
   "nbconvert_exporter": "python",
   "pygments_lexer": "ipython3",
   "version": "3.8.16"
  }
 },
 "nbformat": 4,
 "nbformat_minor": 5
}
