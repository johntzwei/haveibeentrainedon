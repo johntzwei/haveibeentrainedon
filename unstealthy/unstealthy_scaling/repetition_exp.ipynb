{
 "cells": [
  {
   "cell_type": "code",
   "execution_count": 1,
   "outputs": [],
   "source": [
    "#Note: this notebook is like graph1, but it will specifically process particular tokens in the loss_per_token_scored.csv file"
   ],
   "metadata": {
    "collapsed": false,
    "ExecuteTime": {
     "end_time": "2023-12-08T06:43:05.717530Z",
     "start_time": "2023-12-08T06:43:05.681118Z"
    }
   },
   "id": "2e47d1340cea66c5"
  },
  {
   "cell_type": "code",
   "execution_count": 1,
   "outputs": [],
   "source": [
    "import os\n",
    "import pandas as pd\n",
    "import seaborn as sns\n",
    "import matplotlib.pyplot as plt\n",
    "import numpy as np\n",
    "import statistics\n",
    "sns.set()\n",
    "# sns.set_context('paper', font_scale=0.73)\n",
    "sns.set_context('paper', font_scale=1.3)\n",
    "sns.set_style('whitegrid', {'font.family':'serif', 'font.serif':'Times New Roman'})"
   ],
   "metadata": {
    "collapsed": false,
    "ExecuteTime": {
     "end_time": "2023-12-16T18:29:12.011405Z",
     "start_time": "2023-12-16T18:29:12.009635Z"
    }
   },
   "id": "60acf33ed0c43c00"
  },
  {
   "cell_type": "code",
   "execution_count": 2,
   "id": "48fa119f",
   "metadata": {
    "ExecuteTime": {
     "end_time": "2023-12-16T18:29:12.172508Z",
     "start_time": "2023-12-16T18:29:12.011201Z"
    }
   },
   "outputs": [
    {
     "name": "stdout",
     "output_type": "stream",
     "text": [
      "\r\n"
     ]
    }
   ],
   "source": [
    "!echo $CONDA_DEFAULT_ENV"
   ]
  },
  {
   "cell_type": "code",
   "execution_count": 3,
   "id": "48e8df1a",
   "metadata": {
    "ExecuteTime": {
     "end_time": "2023-12-16T18:31:08.788799Z",
     "start_time": "2023-12-16T18:31:08.744310Z"
    }
   },
   "outputs": [
    {
     "data": {
      "text/plain": "['/mnt/nfs1/ryan/haveibeentrainedon/models/unstealthy_scaling/repetition_final/pile1e8_20len_seed0/70M',\n '/mnt/nfs1/ryan/haveibeentrainedon/models/unstealthy_scaling/repetition_final/pile1e8_20len_seed1/70M',\n '/mnt/nfs1/ryan/haveibeentrainedon/models/unstealthy_scaling/repetition_final/pile1e8_20len_seed2/70M',\n '/mnt/nfs1/ryan/haveibeentrainedon/models/unstealthy_scaling/repetition_final/pile1e8_20len_seed3/70M',\n '/mnt/nfs1/ryan/haveibeentrainedon/models/unstealthy_scaling/repetition_final/pile1e8_20len_seed4/70M']"
     },
     "execution_count": 3,
     "metadata": {},
     "output_type": "execute_result"
    }
   ],
   "source": [
    "#paths\n",
    "root_dir = \"/mnt/nfs1/ryan/haveibeentrainedon/models/unstealthy_scaling\"\n",
    "group_folder = \"repetition_final\"\n",
    "exp_name= \"pile1e8_20len\"\n",
    "dataset_names = [f\"{exp_name}_seed0\", f\"{exp_name}_seed1\", f\"{exp_name}_seed2\", f\"{exp_name}_seed3\", f\"{exp_name}_seed4\"]\n",
    "model_sizes = [\"70M\"]\n",
    "scored_file = \"loss_per_token_scored.csv\"\n",
    "\n",
    "#these are the tokens that we will be averaging the losses to get our statistic\n",
    "start_attend = 0\n",
    "end_attend = 100\n",
    "\n",
    "experiments = [f\"{root_dir}/{group_folder}/{dataset_name}/{model_size}\" for model_size in model_sizes for dataset_name in dataset_names]\n",
    "experiments"
   ]
  },
  {
   "cell_type": "code",
   "execution_count": 4,
   "id": "9fb79921",
   "metadata": {
    "ExecuteTime": {
     "end_time": "2023-12-16T18:31:11.227316Z",
     "start_time": "2023-12-16T18:31:11.185965Z"
    }
   },
   "outputs": [
    {
     "data": {
      "text/plain": "['1_model',\n '2_model',\n '4_model',\n '8_model',\n '16_model',\n '32_model',\n '64_model',\n '128_model',\n '256_model',\n '512_model',\n '1024_model']"
     },
     "execution_count": 4,
     "metadata": {},
     "output_type": "execute_result"
    }
   ],
   "source": [
    "models = list(filter(lambda x: x[-5:] == \"model\", os.listdir(experiments[0])))\n",
    "models = sorted(models, key = lambda x: eval(x[:-6]))\n",
    "models"
   ]
  },
  {
   "cell_type": "code",
   "execution_count": 5,
   "outputs": [],
   "source": [
    "def read_file(file_name):\n",
    "    data = []\n",
    "    with open(file_name, 'r') as file:\n",
    "        for line in file:\n",
    "            row = [eval(element.strip()) for element in line.split(\",\")]\n",
    "            data.append(row[start_attend:end_attend])\n",
    "    return data"
   ],
   "metadata": {
    "collapsed": false,
    "ExecuteTime": {
     "end_time": "2023-12-16T18:31:13.832231Z",
     "start_time": "2023-12-16T18:31:13.828592Z"
    }
   },
   "id": "bfde3b336f32cbc3"
  },
  {
   "cell_type": "code",
   "execution_count": 6,
   "id": "384f52c5",
   "metadata": {
    "ExecuteTime": {
     "end_time": "2023-12-16T18:31:20.489216Z",
     "start_time": "2023-12-16T18:31:15.620987Z"
    }
   },
   "outputs": [
    {
     "name": "stdout",
     "output_type": "stream",
     "text": [
      "5\n",
      "11\n"
     ]
    }
   ],
   "source": [
    "experiments_dfs = []\n",
    "for experiment in experiments:\n",
    "    model_dfs = []\n",
    "    for model_type in models:\n",
    "        model_dfs += [read_file(os.path.join(experiment,  model_type, scored_file))]\n",
    "    experiments_dfs.append(model_dfs)\n",
    "print(len(experiments_dfs))\n",
    "print(len(model_dfs))"
   ]
  },
  {
   "cell_type": "code",
   "execution_count": 7,
   "id": "f0db6cf1",
   "metadata": {
    "ExecuteTime": {
     "end_time": "2023-12-16T18:31:28.707603Z",
     "start_time": "2023-12-16T18:31:26.513891Z"
    }
   },
   "outputs": [
    {
     "name": "stdout",
     "output_type": "stream",
     "text": [
      "11\n"
     ]
    }
   ],
   "source": [
    "\n",
    "y_axises = []\n",
    "null_means = []\n",
    "null_stdev = []\n",
    "statistic_total = []\n",
    "for experiment_dfs in experiments_dfs:\n",
    "    y_axis = []\n",
    "    null_raw = []\n",
    "    null_std = []\n",
    "    statistic_temp = []\n",
    "    for model_df in experiment_dfs:\n",
    "        null_raw = model_df[1:]\n",
    "        #we first average over tokens to get average loss per each example\n",
    "        null = [statistics.mean(row) for row in null_raw]\n",
    "\n",
    "        #we then calculate the average and stdev of this null distribution\n",
    "        mean = statistics.mean(null)\n",
    "        stdev = statistics.stdev(null)\n",
    "\n",
    "        statistic = statistics.mean(model_df[0])\n",
    "        # print(f\"statistic = {statistic}, mean = {mean}, stdev = {stdev}\")\n",
    "\n",
    "        statistic_temp += [statistic]\n",
    "\n",
    "        y_axis += [(statistic - mean) / stdev]\n",
    "        null_means += [mean]\n",
    "        null_std += [stdev]\n",
    "    y_axises.append(y_axis)\n",
    "    statistic_total.append(statistic_temp)\n",
    "    null_stdev.append(null_std)\n",
    "\n",
    "print(len(y_axises[0]))"
   ]
  },
  {
   "cell_type": "code",
   "execution_count": 15,
   "outputs": [],
   "source": [
    "y_axises = np.array(y_axises).reshape(len(dataset_names), -1)"
   ],
   "metadata": {
    "collapsed": false,
    "ExecuteTime": {
     "end_time": "2023-12-16T18:34:09.333741Z",
     "start_time": "2023-12-16T18:34:09.327078Z"
    }
   },
   "id": "185b70c16f7e34a5"
  },
  {
   "cell_type": "code",
   "execution_count": 20,
   "outputs": [
    {
     "data": {
      "text/plain": "array([ 0.18273629, -0.05305495, -0.49796719, -0.90299613, -2.39077403,\n       -4.35338129, -5.73971812, -7.3416916 , -7.58963441, -8.03420778,\n       -8.42681689])"
     },
     "execution_count": 20,
     "metadata": {},
     "output_type": "execute_result"
    }
   ],
   "source": [
    "y_axises.mean(axis=0)\n"
   ],
   "metadata": {
    "collapsed": false,
    "ExecuteTime": {
     "end_time": "2023-12-16T18:37:32.620448Z",
     "start_time": "2023-12-16T18:37:32.614858Z"
    }
   },
   "id": "be60da6dcf4322da"
  },
  {
   "cell_type": "code",
   "execution_count": 21,
   "outputs": [
    {
     "data": {
      "text/plain": "array([0.83516296, 0.82725064, 0.49693239, 0.56057527, 0.80187565,\n       0.77567669, 0.84429075, 0.16671749, 0.41316931, 0.08421531,\n       0.44228806])"
     },
     "execution_count": 21,
     "metadata": {},
     "output_type": "execute_result"
    }
   ],
   "source": [
    "y_axises.std(axis=0)"
   ],
   "metadata": {
    "collapsed": false,
    "ExecuteTime": {
     "end_time": "2023-12-16T18:37:38.646728Z",
     "start_time": "2023-12-16T18:37:38.641443Z"
    }
   },
   "id": "ec5e3ee678f31a44"
  },
  {
   "cell_type": "code",
   "execution_count": 22,
   "outputs": [],
   "source": [
    "null_means = np.array(null_means).reshape(len(dataset_names), -1)"
   ],
   "metadata": {
    "collapsed": false,
    "ExecuteTime": {
     "end_time": "2023-12-16T18:38:26.660986Z",
     "start_time": "2023-12-16T18:38:26.655807Z"
    }
   },
   "id": "e9b432c88bad3588"
  },
  {
   "cell_type": "code",
   "execution_count": 23,
   "outputs": [
    {
     "data": {
      "text/plain": "array([7.67651262, 7.64713256, 7.65838184, 7.65659026, 7.60895822,\n       7.60778223, 7.60315123, 7.66708019, 7.7708996 , 7.74395493,\n       7.6774196 ])"
     },
     "execution_count": 23,
     "metadata": {},
     "output_type": "execute_result"
    }
   ],
   "source": [
    "null_means.mean(axis=0)\n"
   ],
   "metadata": {
    "collapsed": false,
    "ExecuteTime": {
     "end_time": "2023-12-16T18:38:30.237253Z",
     "start_time": "2023-12-16T18:38:30.229860Z"
    }
   },
   "id": "2fa301d8c680a928"
  },
  {
   "cell_type": "code",
   "execution_count": 24,
   "outputs": [
    {
     "data": {
      "text/plain": "array([0.02537813, 0.03046761, 0.06017782, 0.08093656, 0.09971898,\n       0.10282227, 0.10298067, 0.06175978, 0.06732457, 0.06412981,\n       0.0408485 ])"
     },
     "execution_count": 24,
     "metadata": {},
     "output_type": "execute_result"
    }
   ],
   "source": [
    "null_means.std(axis=0)"
   ],
   "metadata": {
    "collapsed": false,
    "ExecuteTime": {
     "end_time": "2023-12-16T18:38:43.581315Z",
     "start_time": "2023-12-16T18:38:43.575999Z"
    }
   },
   "id": "48e37b236df2e41f"
  },
  {
   "cell_type": "code",
   "execution_count": 25,
   "outputs": [],
   "source": [
    "null_stdev = np.array(null_stdev).reshape(len(dataset_names), -1)"
   ],
   "metadata": {
    "collapsed": false,
    "ExecuteTime": {
     "end_time": "2023-12-16T18:39:45.887668Z",
     "start_time": "2023-12-16T18:39:45.887318Z"
    }
   },
   "id": "9b09cc91340ba820"
  },
  {
   "cell_type": "code",
   "execution_count": 26,
   "outputs": [
    {
     "data": {
      "text/plain": "array([0.76383457, 0.74943894, 0.75177146, 0.75918641, 0.73840105,\n       0.74286604, 0.74607715, 0.75965095, 0.8002395 , 0.78233867,\n       0.75603886])"
     },
     "execution_count": 26,
     "metadata": {},
     "output_type": "execute_result"
    }
   ],
   "source": [
    "null_stdev.mean(axis=0)"
   ],
   "metadata": {
    "collapsed": false,
    "ExecuteTime": {
     "end_time": "2023-12-16T18:39:56.818224Z",
     "start_time": "2023-12-16T18:39:56.810413Z"
    }
   },
   "id": "8ee0c6e0a9b326a8"
  },
  {
   "cell_type": "code",
   "execution_count": 28,
   "outputs": [
    {
     "data": {
      "text/plain": "array([0.03172252, 0.03463861, 0.0340033 , 0.03238191, 0.04317756,\n       0.04970096, 0.03693138, 0.01295075, 0.04614765, 0.02512433,\n       0.01005691])"
     },
     "execution_count": 28,
     "metadata": {},
     "output_type": "execute_result"
    }
   ],
   "source": [
    "null_stdev.std(axis=0)"
   ],
   "metadata": {
    "collapsed": false,
    "ExecuteTime": {
     "end_time": "2023-12-16T18:40:07.859827Z",
     "start_time": "2023-12-16T18:40:07.853988Z"
    }
   },
   "id": "a8dc2b33883cd43f"
  },
  {
   "cell_type": "code",
   "execution_count": 29,
   "outputs": [],
   "source": [
    "statistic_total = np.array(statistic_total).reshape(len(dataset_names), -1)"
   ],
   "metadata": {
    "collapsed": false,
    "ExecuteTime": {
     "end_time": "2023-12-16T18:40:47.851903Z",
     "start_time": "2023-12-16T18:40:47.846018Z"
    }
   },
   "id": "d339cae2742c2301"
  },
  {
   "cell_type": "code",
   "execution_count": 30,
   "outputs": [
    {
     "data": {
      "text/plain": "array([7.80233595, 7.60262444, 7.27485806, 6.97474513, 5.87244244,\n       4.40398068, 3.32483279, 2.08814204, 1.70755435, 1.45827845,\n       1.3063187 ])"
     },
     "execution_count": 30,
     "metadata": {},
     "output_type": "execute_result"
    }
   ],
   "source": [
    "statistic_total.mean(axis=0)\n"
   ],
   "metadata": {
    "collapsed": false,
    "ExecuteTime": {
     "end_time": "2023-12-16T18:40:52.977432Z",
     "start_time": "2023-12-16T18:40:52.967465Z"
    }
   },
   "id": "625105d4e44c7fd9"
  },
  {
   "cell_type": "code",
   "execution_count": 31,
   "outputs": [
    {
     "data": {
      "text/plain": "array([0.63622178, 0.62267552, 0.32364154, 0.448632  , 0.60937087,\n       0.44652821, 0.58553688, 0.20298163, 0.28227495, 0.16480533,\n       0.30316919])"
     },
     "execution_count": 31,
     "metadata": {},
     "output_type": "execute_result"
    }
   ],
   "source": [
    "statistic_total.std(axis=0)"
   ],
   "metadata": {
    "collapsed": false,
    "ExecuteTime": {
     "end_time": "2023-12-16T18:41:08.532232Z",
     "start_time": "2023-12-16T18:41:08.521156Z"
    }
   },
   "id": "8b13381902a58cf8"
  },
  {
   "cell_type": "code",
   "execution_count": 32,
   "outputs": [
    {
     "data": {
      "text/plain": "array([[ 0.90917117,  0.88384153, -0.53120866, -0.44492928, -1.66529807,\n        -3.90151892, -4.88905251, -7.13915943, -7.09087092, -7.94494541,\n        -7.6577813 ],\n       [-0.75255533, -0.57243596, -0.91557719, -0.84801718, -1.24644189,\n        -3.25616406, -4.94378496, -7.42000455, -7.6060597 , -7.99107346,\n        -8.38000752],\n       [ 0.51073175,  0.59420038, -0.51184873, -1.12093052, -2.75401235,\n        -4.48382076, -6.89760311, -7.55348242, -7.26258479, -8.10845604,\n        -8.47241553],\n       [-0.86938779, -1.38805438, -0.95517477, -1.84658402, -3.38111691,\n        -4.52556915, -5.37297988, -7.15105269, -7.70278601, -7.96728897,\n        -9.01902439],\n       [ 1.11572167,  0.21717368,  0.4239734 , -0.25451966, -2.90700095,\n        -5.59983355, -6.59517016, -7.44475891, -8.2858706 , -8.15927504,\n        -8.60485571]])"
     },
     "execution_count": 32,
     "metadata": {},
     "output_type": "execute_result"
    }
   ],
   "source": [
    "np.array(y_axises)"
   ],
   "metadata": {
    "collapsed": false,
    "ExecuteTime": {
     "end_time": "2023-12-16T18:41:33.183735Z",
     "start_time": "2023-12-16T18:41:33.177707Z"
    }
   },
   "id": "110c8956ae5f61c6"
  },
  {
   "cell_type": "code",
   "execution_count": 33,
   "outputs": [
    {
     "data": {
      "text/plain": "array([ 0.18273629, -0.05305495, -0.49796719, -0.90299613, -2.39077403,\n       -4.35338129, -5.73971812, -7.3416916 , -7.58963441, -8.03420778,\n       -8.42681689])"
     },
     "execution_count": 33,
     "metadata": {},
     "output_type": "execute_result"
    }
   ],
   "source": [
    "averaged = np.array(y_axises).mean(axis=0)\n",
    "averaged"
   ],
   "metadata": {
    "collapsed": false,
    "ExecuteTime": {
     "end_time": "2023-12-16T18:41:41.951682Z",
     "start_time": "2023-12-16T18:41:41.905576Z"
    }
   },
   "id": "f5e4ab62ce4eed6c"
  },
  {
   "cell_type": "code",
   "execution_count": 34,
   "outputs": [
    {
     "name": "stdout",
     "output_type": "stream",
     "text": [
      "[1, 2, 4, 8, 16, 32, 64, 128, 256, 512, 1024]\n"
     ]
    }
   ],
   "source": [
    "x_axis = [1, 2, 4, 8, 16, 32, 64, 128, 256, 512, 1024]\n",
    "# x_axis=[256]\n",
    "# x_axis = [70, 160, 410, 1400]\n",
    "print(x_axis)"
   ],
   "metadata": {
    "collapsed": false,
    "ExecuteTime": {
     "end_time": "2023-12-16T18:41:47.091537Z",
     "start_time": "2023-12-16T18:41:47.081186Z"
    }
   },
   "id": "11611cae0f198d42"
  },
  {
   "cell_type": "code",
   "execution_count": 36,
   "id": "0a9baf2b",
   "metadata": {
    "ExecuteTime": {
     "end_time": "2023-12-16T18:42:03.422066Z",
     "start_time": "2023-12-16T18:42:03.135724Z"
    }
   },
   "outputs": [
    {
     "name": "stderr",
     "output_type": "stream",
     "text": [
      "No handles with labels found to put in legend.\n"
     ]
    },
    {
     "data": {
      "text/plain": "<Figure size 432x288 with 1 Axes>",
      "image/png": "[encoded data removed]"
     },
     "metadata": {},
     "output_type": "display_data"
    }
   ],
   "source": [
    "# Create a line plot for each set of y-values\n",
    "sns.scatterplot(x=x_axis, y=averaged, color='red')\n",
    "\n",
    "# sns.scatterplot(x=x_axis, y=y_axises[0], color='red', label='70M')\n",
    "# ax = sns.lineplot(x=x_axis, y=y_axises[1], color='blue', label='160M')\n",
    "# sns.scatterplot(x=x_axis, y=y_axises[2], color='green', label='30char')\n",
    "\n",
    "# Customize the plot\n",
    "plt.title('Model Scaling (1B Tokens, 256 Repetitions, 20 Length)')\n",
    "plt.xlabel('Model Size (Millions of Parameters)')\n",
    "plt.ylabel('Z-Score')\n",
    "plt.legend()\n",
    "\n",
    "# Show the plot\n",
    "plt.show()"
   ]
  },
  {
   "cell_type": "code",
   "execution_count": 25,
   "id": "74f1387e",
   "metadata": {
    "ExecuteTime": {
     "end_time": "2023-12-07T05:00:26.040178Z",
     "start_time": "2023-12-07T05:00:25.942873Z"
    }
   },
   "outputs": [
    {
     "data": {
      "text/plain": "-8.709461298761209"
     },
     "execution_count": 25,
     "metadata": {},
     "output_type": "execute_result"
    }
   ],
   "source": [
    "np.array(y_axises).mean()"
   ]
  },
  {
   "cell_type": "code",
   "execution_count": null,
   "outputs": [],
   "source": [],
   "metadata": {
    "collapsed": false
   },
   "id": "2d74111a64b70f83"
  }
 ],
 "metadata": {
  "kernelspec": {
   "display_name": "Python 3 (ipykernel)",
   "language": "python",
   "name": "python3"
  },
  "language_info": {
   "codemirror_mode": {
    "name": "ipython",
    "version": 3
   },
   "file_extension": ".py",
   "mimetype": "text/x-python",
   "name": "python",
   "nbconvert_exporter": "python",
   "pygments_lexer": "ipython3",
   "version": "3.8.16"
  }
 },
 "nbformat": 4,
 "nbformat_minor": 5
}
