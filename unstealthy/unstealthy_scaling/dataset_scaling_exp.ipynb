{
 "cells": [
  {
   "cell_type": "code",
   "execution_count": 1,
   "outputs": [],
   "source": [
    "#Note: this notebook is like graph1, but it will specifically process particular tokens in the loss_per_token_scored.csv file"
   ],
   "metadata": {
    "collapsed": false,
    "ExecuteTime": {
     "end_time": "2023-12-08T06:43:05.717530Z",
     "start_time": "2023-12-08T06:43:05.681118Z"
    }
   },
   "id": "2e47d1340cea66c5"
  },
  {
   "cell_type": "code",
   "execution_count": 1,
   "outputs": [],
   "source": [
    "import os\n",
    "import pandas as pd\n",
    "import seaborn as sns\n",
    "import matplotlib.pyplot as plt\n",
    "import numpy as np\n",
    "import statistics\n",
    "sns.set()\n",
    "# sns.set_context('paper', font_scale=0.73)\n",
    "sns.set_context('paper', font_scale=1.3)\n",
    "sns.set_style('whitegrid', {'font.family':'serif', 'font.serif':'Times New Roman'})"
   ],
   "metadata": {
    "collapsed": false,
    "ExecuteTime": {
     "end_time": "2023-12-30T00:42:46.352906Z",
     "start_time": "2023-12-30T00:42:46.347211Z"
    }
   },
   "id": "60acf33ed0c43c00"
  },
  {
   "cell_type": "code",
   "execution_count": 2,
   "id": "48fa119f",
   "metadata": {
    "ExecuteTime": {
     "end_time": "2023-12-30T00:42:46.353824Z",
     "start_time": "2023-12-30T00:42:46.347350Z"
    }
   },
   "outputs": [
    {
     "name": "stdout",
     "output_type": "stream",
     "text": [
      "\r\n"
     ]
    }
   ],
   "source": [
    "!echo $CONDA_DEFAULT_ENV"
   ]
  },
  {
   "cell_type": "code",
   "execution_count": 3,
   "id": "48e8df1a",
   "metadata": {
    "ExecuteTime": {
     "end_time": "2023-12-30T00:42:48.848765Z",
     "start_time": "2023-12-30T00:42:48.839760Z"
    }
   },
   "outputs": [
    {
     "data": {
      "text/plain": "['/home/ryan/haveibeentrainedon/models/unstealthy_scaling/scaling_final/pile1e9_40len_seed0/70M',\n '/home/ryan/haveibeentrainedon/models/unstealthy_scaling/scaling_final/pile1e9_40len_seed1/70M',\n '/home/ryan/haveibeentrainedon/models/unstealthy_scaling/scaling_final/pile1e9_40len_seed2/70M',\n '/home/ryan/haveibeentrainedon/models/unstealthy_scaling/scaling_final/pile2e9_40len_seed0/70M',\n '/home/ryan/haveibeentrainedon/models/unstealthy_scaling/scaling_final/pile2e9_40len_seed1/70M',\n '/home/ryan/haveibeentrainedon/models/unstealthy_scaling/scaling_final/pile2e9_40len_seed2/70M',\n '/home/ryan/haveibeentrainedon/models/unstealthy_scaling/scaling_final/pile4e9_40len_seed0/70M',\n '/home/ryan/haveibeentrainedon/models/unstealthy_scaling/scaling_final/pile4e9_40len_seed1/70M',\n '/home/ryan/haveibeentrainedon/models/unstealthy_scaling/scaling_final/pile4e9_40len_seed2/70M',\n '/home/ryan/haveibeentrainedon/models/unstealthy_scaling/scaling_final/pile8e9_40len_seed0/70M',\n '/home/ryan/haveibeentrainedon/models/unstealthy_scaling/scaling_final/pile8e9_40len_seed1/70M',\n '/home/ryan/haveibeentrainedon/models/unstealthy_scaling/scaling_final/pile8e9_40len_seed2/70M']"
     },
     "execution_count": 3,
     "metadata": {},
     "output_type": "execute_result"
    }
   ],
   "source": [
    "#paths\n",
    "root_dir = \"/home/ryan/haveibeentrainedon/models/unstealthy_scaling\"\n",
    "group_folder = \"scaling_final\"\n",
    "exp_name= [\"pile1e9_40len\", \"pile2e9_40len\", \"pile4e9_40len\", \"pile8e9_40len\"]\n",
    "seeds = [\"seed0\", \"seed1\", \"seed2\"]\n",
    "model_sizes = [\"70M\"]\n",
    "scored_file = \"loss_per_token_scored.csv\"\n",
    "\n",
    "#these are the tokens that we will be averaging the losses to get our statistic\n",
    "start_attend = 0\n",
    "end_attend = 100\n",
    "\n",
    "experiments = [f\"{root_dir}/{group_folder}/{exp}_{seed}/{model_size}\" for model_size in model_sizes for exp in exp_name for seed in seeds]\n",
    "experiments"
   ]
  },
  {
   "cell_type": "code",
   "execution_count": 4,
   "id": "9fb79921",
   "metadata": {
    "ExecuteTime": {
     "end_time": "2023-12-30T00:42:51.543938Z",
     "start_time": "2023-12-30T00:42:51.537073Z"
    }
   },
   "outputs": [
    {
     "data": {
      "text/plain": "['128_model']"
     },
     "execution_count": 4,
     "metadata": {},
     "output_type": "execute_result"
    }
   ],
   "source": [
    "models = list(filter(lambda x: x[-5:] == \"model\", os.listdir(experiments[0])))\n",
    "models = sorted(models, key = lambda x: eval(x[:-6]))\n",
    "models"
   ]
  },
  {
   "cell_type": "code",
   "execution_count": 5,
   "outputs": [],
   "source": [
    "def read_file(file_name):\n",
    "    data = []\n",
    "    with open(file_name, 'r') as file:\n",
    "        for line in file:\n",
    "            row = [eval(element.strip()) for element in line.split(\",\")]\n",
    "            data.append(row[start_attend:end_attend])\n",
    "    return data"
   ],
   "metadata": {
    "collapsed": false,
    "ExecuteTime": {
     "end_time": "2023-12-30T00:42:54.185283Z",
     "start_time": "2023-12-30T00:42:54.177647Z"
    }
   },
   "id": "bfde3b336f32cbc3"
  },
  {
   "cell_type": "code",
   "execution_count": 6,
   "id": "384f52c5",
   "metadata": {
    "ExecuteTime": {
     "end_time": "2023-12-30T00:42:57.130191Z",
     "start_time": "2023-12-30T00:42:54.923675Z"
    }
   },
   "outputs": [
    {
     "name": "stdout",
     "output_type": "stream",
     "text": [
      "12\n",
      "1\n"
     ]
    }
   ],
   "source": [
    "experiments_dfs = []\n",
    "for experiment in experiments:\n",
    "    model_dfs = []\n",
    "    for model_type in models:\n",
    "        model_dfs += [read_file(os.path.join(experiment,  model_type, scored_file))]\n",
    "    experiments_dfs.append(model_dfs)\n",
    "print(len(experiments_dfs))\n",
    "print(len(model_dfs))"
   ]
  },
  {
   "cell_type": "code",
   "execution_count": 7,
   "id": "f0db6cf1",
   "metadata": {
    "ExecuteTime": {
     "end_time": "2023-12-30T00:42:57.758890Z",
     "start_time": "2023-12-30T00:42:57.148193Z"
    }
   },
   "outputs": [
    {
     "name": "stdout",
     "output_type": "stream",
     "text": [
      "1\n"
     ]
    }
   ],
   "source": [
    "\n",
    "y_axises = []\n",
    "null_means = []\n",
    "null_stdev = []\n",
    "statistic_total = []\n",
    "for experiment_dfs in experiments_dfs:\n",
    "    y_axis = []\n",
    "    null_raw = []\n",
    "    null_std = []\n",
    "    statistic_temp = []\n",
    "    for model_df in experiment_dfs:\n",
    "        null_raw = model_df[1:]\n",
    "        #we first average over tokens to get average loss per each example\n",
    "        null = [statistics.mean(row) for row in null_raw]\n",
    "\n",
    "        #we then calculate the average and stdev of this null distribution\n",
    "        mean = statistics.mean(null)\n",
    "        stdev = statistics.stdev(null)\n",
    "\n",
    "        statistic = statistics.mean(model_df[0])\n",
    "        # print(f\"statistic = {statistic}, mean = {mean}, stdev = {stdev}\")\n",
    "\n",
    "        statistic_temp += [statistic]\n",
    "\n",
    "        y_axis += [(statistic - mean) / stdev]\n",
    "        null_means += [mean]\n",
    "        null_std += [stdev]\n",
    "    y_axises.append(y_axis)\n",
    "    statistic_total.append(statistic_temp)\n",
    "    null_stdev.append(null_std)\n",
    "\n",
    "print(len(y_axises[0]))"
   ]
  },
  {
   "cell_type": "code",
   "execution_count": 8,
   "outputs": [
    {
     "data": {
      "text/plain": "[[-5.796694488589017],\n [-7.542380502703906],\n [-8.811937379272988],\n [-5.287568881658938],\n [-6.792899375147598],\n [-9.070368092443701],\n [-2.0721798624456746],\n [-5.203167830859406],\n [-8.131650528834763],\n [-1.138827140429746],\n [-5.142221509924204],\n [-2.99765286007094]]"
     },
     "execution_count": 8,
     "metadata": {},
     "output_type": "execute_result"
    }
   ],
   "source": [
    "y_axises"
   ],
   "metadata": {
    "collapsed": false,
    "ExecuteTime": {
     "end_time": "2023-12-30T00:42:59.863795Z",
     "start_time": "2023-12-30T00:42:59.862779Z"
    }
   },
   "id": "d4ee765842097e30"
  },
  {
   "cell_type": "code",
   "execution_count": 9,
   "outputs": [
    {
     "name": "stdout",
     "output_type": "stream",
     "text": [
      "[-7.38367079 -7.05027878 -5.13566607 -3.0929005 ]\n",
      "[1.23607281 1.55500816 2.47422898 1.63576602]\n"
     ]
    }
   ],
   "source": [
    "y_axises = np.array(y_axises).reshape(len(exp_name), -1)\n",
    "print(y_axises.mean(axis=1))\n",
    "print(y_axises.std(axis=1))\n"
   ],
   "metadata": {
    "collapsed": false,
    "ExecuteTime": {
     "end_time": "2023-12-30T00:43:13.229882Z",
     "start_time": "2023-12-30T00:43:13.228382Z"
    }
   },
   "id": "d4464f5be06ea339"
  },
  {
   "cell_type": "code",
   "execution_count": 10,
   "outputs": [
    {
     "name": "stdout",
     "output_type": "stream",
     "text": [
      "[6.4814151  6.39876576 6.32438827 6.26249613]\n",
      "[0. 0. 0. 0.]\n"
     ]
    }
   ],
   "source": [
    "print(np.array(null_means).reshape(len(exp_name), -1).mean(axis=1))\n",
    "print(np.array(null_means).reshape(len(exp_name), -1).std(axis=1))\n"
   ],
   "metadata": {
    "collapsed": false,
    "ExecuteTime": {
     "end_time": "2023-12-28T13:25:26.449911Z",
     "start_time": "2023-12-28T13:25:26.442971Z"
    }
   },
   "id": "2fa301d8c680a928"
  },
  {
   "cell_type": "code",
   "execution_count": 11,
   "outputs": [
    {
     "name": "stdout",
     "output_type": "stream",
     "text": [
      "[0.29126322 0.27071058 0.27220831 0.26384956]\n",
      "[0. 0. 0. 0.]\n"
     ]
    }
   ],
   "source": [
    "print(np.array(null_stdev).reshape(len(exp_name), -1).mean(axis=1))\n",
    "print(np.array(null_stdev).reshape(len(exp_name), -1).std(axis=1))\n"
   ],
   "metadata": {
    "collapsed": false,
    "ExecuteTime": {
     "end_time": "2023-12-28T13:25:31.263514Z",
     "start_time": "2023-12-28T13:25:31.262299Z"
    }
   },
   "id": "f52b829988aedaec"
  },
  {
   "cell_type": "code",
   "execution_count": 12,
   "outputs": [
    {
     "name": "stdout",
     "output_type": "stream",
     "text": [
      "[6.2873119  6.58293931 6.44217108 6.64105118]\n",
      "[0. 0. 0. 0.]\n"
     ]
    }
   ],
   "source": [
    "print(np.array(statistic_total).reshape(len(exp_name), -1).mean(axis=1))\n",
    "print(np.array(statistic_total).reshape(len(exp_name), -1).std(axis=1))\n"
   ],
   "metadata": {
    "collapsed": false,
    "ExecuteTime": {
     "end_time": "2023-12-28T13:25:34.078399Z",
     "start_time": "2023-12-28T13:25:34.070160Z"
    }
   },
   "id": "625105d4e44c7fd9"
  },
  {
   "cell_type": "code",
   "execution_count": 10,
   "outputs": [
    {
     "data": {
      "text/plain": "array([-3.57381759, -6.1701673 , -7.25290222])"
     },
     "execution_count": 10,
     "metadata": {},
     "output_type": "execute_result"
    }
   ],
   "source": [
    "averaged = np.array(y_axises).mean(axis=0)\n",
    "averaged"
   ],
   "metadata": {
    "collapsed": false,
    "ExecuteTime": {
     "end_time": "2023-12-30T00:43:33.059292Z",
     "start_time": "2023-12-30T00:43:33.050845Z"
    }
   },
   "id": "f5e4ab62ce4eed6c"
  },
  {
   "cell_type": "code",
   "execution_count": 11,
   "outputs": [
    {
     "name": "stdout",
     "output_type": "stream",
     "text": [
      "[1, 2, 4, 8]\n"
     ]
    }
   ],
   "source": [
    "# x_axis = [1, 2, 4, 8, 16, 32, 64, 128, 256, 512, 1024]\n",
    "# x_axis=[256]\n",
    "# x_axis = [70, 160, 410, 1400]\n",
    "x_axis = [1, 2, 4, 8]\n",
    "print(x_axis)"
   ],
   "metadata": {
    "collapsed": false,
    "ExecuteTime": {
     "end_time": "2023-12-30T00:43:33.504714Z",
     "start_time": "2023-12-30T00:43:33.496669Z"
    }
   },
   "id": "11611cae0f198d42"
  },
  {
   "cell_type": "code",
   "execution_count": 12,
   "id": "0a9baf2b",
   "metadata": {
    "ExecuteTime": {
     "end_time": "2023-12-30T00:43:43.162765Z",
     "start_time": "2023-12-30T00:43:42.412253Z"
    }
   },
   "outputs": [
    {
     "name": "stderr",
     "output_type": "stream",
     "text": [
      "No artists with labels found to put in legend.  Note that artists whose label start with an underscore are ignored when legend() is called with no argument.\n"
     ]
    },
    {
     "data": {
      "text/plain": "<Figure size 640x480 with 1 Axes>",
      "image/png": "[encoded data removed]"
     },
     "metadata": {},
     "output_type": "display_data"
    }
   ],
   "source": [
    "# Create a line plot for each set of y-values\n",
    "sns.scatterplot(x=x_axis, y=y_axises.mean(axis=1), color='red')\n",
    "\n",
    "# sns.scatterplot(x=x_axis, y=y_axises[0], color='red', label='70M')\n",
    "# ax = sns.lineplot(x=x_axis, y=y_axises[1], color='blue', label='160M')\n",
    "# sns.scatterplot(x=x_axis, y=y_axises[2], color='green', label='30char')\n",
    "\n",
    "# Customize the plot\n",
    "plt.title('Model Scaling (1B Tokens, 256 Repetitions, 20 Length)')\n",
    "plt.xlabel('Model Size (Millions of Parameters)')\n",
    "plt.ylabel('Z-Score')\n",
    "plt.legend()\n",
    "\n",
    "# Show the plot\n",
    "plt.show()"
   ]
  },
  {
   "cell_type": "code",
   "execution_count": 25,
   "id": "74f1387e",
   "metadata": {
    "ExecuteTime": {
     "end_time": "2023-12-07T05:00:26.040178Z",
     "start_time": "2023-12-07T05:00:25.942873Z"
    }
   },
   "outputs": [
    {
     "data": {
      "text/plain": "-8.709461298761209"
     },
     "execution_count": 25,
     "metadata": {},
     "output_type": "execute_result"
    }
   ],
   "source": [
    "np.array(y_axises).mean()"
   ]
  },
  {
   "cell_type": "code",
   "execution_count": null,
   "outputs": [],
   "source": [],
   "metadata": {
    "collapsed": false
   },
   "id": "2d74111a64b70f83"
  }
 ],
 "metadata": {
  "kernelspec": {
   "name": "neoxv4",
   "language": "python",
   "display_name": "neoxv4"
  },
  "language_info": {
   "codemirror_mode": {
    "name": "ipython",
    "version": 3
   },
   "file_extension": ".py",
   "mimetype": "text/x-python",
   "name": "python",
   "nbconvert_exporter": "python",
   "pygments_lexer": "ipython3",
   "version": "3.8.16"
  }
 },
 "nbformat": 4,
 "nbformat_minor": 5
}
