{
 "cells": [
  {
   "cell_type": "code",
   "execution_count": 1,
   "metadata": {
    "collapsed": true,
    "ExecuteTime": {
     "end_time": "2023-11-06T02:12:32.308143Z",
     "start_time": "2023-11-06T02:12:32.285372Z"
    }
   },
   "outputs": [
    {
     "name": "stdout",
     "output_type": "stream",
     "text": [
      "hello world! \n"
     ]
    }
   ],
   "source": [
    "print(\"hello world! \")"
   ]
  },
  {
   "cell_type": "code",
   "execution_count": 2,
   "outputs": [],
   "source": [
    "import os\n",
    "import pandas as pd\n",
    "import seaborn as sns\n",
    "import matplotlib.pyplot as plt\n",
    "sns.set()\n",
    "sns.set_context('paper', font_scale=0.73)\n",
    "sns.set_style('whitegrid', {'font.family':'serif', 'font.serif':'Times New Roman'})"
   ],
   "metadata": {
    "collapsed": false,
    "ExecuteTime": {
     "end_time": "2023-11-06T02:14:16.648288Z",
     "start_time": "2023-11-06T02:14:16.607509Z"
    }
   }
  },
  {
   "cell_type": "code",
   "execution_count": 19,
   "outputs": [],
   "source": [
    "#paths\n",
    "base_model_dir = \"/home/ryan/haveibeentrainedon/models/unstealthy_scaling\"\n",
    "model_size = \"70M\"\n",
    "scored_file = \"scored.csv\""
   ],
   "metadata": {
    "collapsed": false,
    "ExecuteTime": {
     "end_time": "2023-11-06T02:17:54.154278Z",
     "start_time": "2023-11-06T02:17:54.153868Z"
    }
   }
  },
  {
   "cell_type": "code",
   "execution_count": 20,
   "outputs": [
    {
     "data": {
      "text/plain": "['15_model',\n '30_model',\n '45_model',\n '60_model',\n '75_model',\n '90_model',\n '105_model',\n '120_model',\n '135_model',\n '150_model',\n '165_model',\n '180_model',\n '195_model',\n '210_model',\n '225_model',\n '240_model',\n '255_model',\n '270_model',\n '285_model',\n '300_model']"
     },
     "execution_count": 20,
     "metadata": {},
     "output_type": "execute_result"
    }
   ],
   "source": [
    "models = list(filter(lambda x: x[-5:] == \"model\", os.listdir(os.path.join(base_model_dir, model_size))))\n",
    "models = sorted(models, key = lambda x: eval(x[:-6]))\n",
    "models"
   ],
   "metadata": {
    "collapsed": false,
    "ExecuteTime": {
     "end_time": "2023-11-06T02:17:54.784144Z",
     "start_time": "2023-11-06T02:17:54.779690Z"
    }
   }
  },
  {
   "cell_type": "code",
   "execution_count": 21,
   "outputs": [
    {
     "data": {
      "text/plain": "[                 0\n 0     8.611970e+03\n 1     4.497210e+04\n 2     7.670459e+04\n 3     8.621239e+05\n 4     2.612484e+06\n ...            ...\n 996   6.252255e+04\n 997   4.218917e+03\n 998   1.073503e+05\n 999   1.642461e+05\n 1000  7.250322e+04\n \n [1001 rows x 1 columns],\n                  0\n 0     6.317282e+03\n 1     7.377130e+04\n 2     1.059023e+05\n 3     1.262787e+06\n 4     2.271260e+06\n ...            ...\n 996   6.007347e+04\n 997   4.308776e+03\n 998   1.341734e+05\n 999   1.548644e+05\n 1000  1.051988e+05\n \n [1001 rows x 1 columns],\n                  0\n 0     3.478349e+03\n 1     5.493055e+04\n 2     9.947853e+04\n 3     1.266794e+06\n 4     2.566202e+06\n ...            ...\n 996   5.806318e+04\n 997   4.021276e+03\n 998   1.122527e+05\n 999   1.284887e+05\n 1000  7.756030e+04\n \n [1001 rows x 1 columns],\n                  0\n 0     1.228989e+03\n 1     6.958988e+04\n 2     1.033113e+05\n 3     1.414083e+06\n 4     3.380941e+06\n ...            ...\n 996   6.018902e+04\n 997   3.828637e+03\n 998   1.049871e+05\n 999   1.212008e+05\n 1000  9.205648e+04\n \n [1001 rows x 1 columns],\n                  0\n 0     7.906730e+02\n 1     8.349193e+04\n 2     1.083729e+05\n 3     1.453587e+06\n 4     3.463684e+06\n ...            ...\n 996   6.753868e+04\n 997   3.896763e+03\n 998   1.276359e+05\n 999   1.403813e+05\n 1000  8.595670e+04\n \n [1001 rows x 1 columns],\n                  0\n 0     5.120396e+02\n 1     3.342999e+04\n 2     8.790913e+04\n 3     7.657702e+05\n 4     3.049705e+06\n ...            ...\n 996   5.649573e+04\n 997   3.423828e+03\n 998   1.082503e+05\n 999   1.454965e+05\n 1000  6.894199e+04\n \n [1001 rows x 1 columns],\n                  0\n 0     2.613571e+02\n 1     4.410621e+04\n 2     9.166026e+04\n 3     1.847312e+06\n 4     2.830618e+06\n ...            ...\n 996   5.491547e+04\n 997   4.028861e+03\n 998   1.267345e+05\n 999   1.362663e+05\n 1000  7.801103e+04\n \n [1001 rows x 1 columns],\n                  0\n 0     2.090602e+02\n 1     4.489514e+04\n 2     9.183701e+04\n 3     1.462650e+06\n 4     2.334660e+06\n ...            ...\n 996   4.664929e+04\n 997   5.372719e+03\n 998   1.147588e+05\n 999   1.940313e+05\n 1000  9.424152e+04\n \n [1001 rows x 1 columns],\n                  0\n 0     1.358109e+02\n 1     4.373152e+04\n 2     7.812561e+04\n 3     1.354649e+06\n 4     2.370646e+06\n ...            ...\n 996   4.360018e+04\n 997   5.666665e+03\n 998   7.704741e+04\n 999   2.012112e+05\n 1000  1.695272e+05\n \n [1001 rows x 1 columns],\n                  0\n 0     2.332432e+02\n 1     4.129667e+04\n 2     8.154073e+04\n 3     9.712765e+05\n 4     1.853232e+06\n ...            ...\n 996   5.051862e+04\n 997   7.300399e+03\n 998   1.288131e+05\n 999   1.407706e+05\n 1000  1.125667e+05\n \n [1001 rows x 1 columns],\n                  0\n 0     8.584438e+01\n 1     4.650546e+04\n 2     8.108878e+04\n 3     1.071217e+06\n 4     1.874638e+06\n ...            ...\n 996   5.031245e+04\n 997   4.190580e+03\n 998   1.159821e+05\n 999   1.327563e+05\n 1000  1.120472e+05\n \n [1001 rows x 1 columns],\n                  0\n 0     9.156524e+01\n 1     3.694939e+04\n 2     7.437173e+04\n 3     1.287681e+06\n 4     2.288689e+06\n ...            ...\n 996   4.471640e+04\n 997   3.216843e+03\n 998   1.326512e+05\n 999   1.957503e+05\n 1000  9.455553e+04\n \n [1001 rows x 1 columns],\n                  0\n 0     4.902911e+01\n 1     5.761308e+04\n 2     1.090507e+05\n 3     2.284760e+06\n 4     2.345048e+06\n ...            ...\n 996   4.326133e+04\n 997   4.231175e+03\n 998   1.399000e+05\n 999   2.004209e+05\n 1000  1.120663e+05\n \n [1001 rows x 1 columns],\n                  0\n 0     7.092290e+01\n 1     3.398747e+04\n 2     9.287251e+04\n 3     2.218462e+06\n 4     2.235812e+06\n ...            ...\n 996   4.226479e+04\n 997   3.975515e+03\n 998   1.134490e+05\n 999   2.284292e+05\n 1000  1.575070e+05\n \n [1001 rows x 1 columns],\n                  0\n 0     4.608917e+01\n 1     6.641541e+04\n 2     9.854073e+04\n 3     1.183483e+06\n 4     2.411852e+06\n ...            ...\n 996   5.258403e+04\n 997   3.958630e+03\n 998   1.630621e+05\n 999   1.744090e+05\n 1000  1.343257e+05\n \n [1001 rows x 1 columns],\n                  0\n 0     6.718458e+01\n 1     5.961552e+04\n 2     8.106845e+04\n 3     1.278184e+06\n 4     2.482132e+06\n ...            ...\n 996   3.677502e+04\n 997   3.701568e+03\n 998   1.319367e+05\n 999   1.284089e+05\n 1000  1.549356e+05\n \n [1001 rows x 1 columns],\n                  0\n 0     4.775168e+01\n 1     7.477590e+04\n 2     9.039010e+04\n 3     7.941379e+05\n 4     2.302776e+06\n ...            ...\n 996   4.273926e+04\n 997   4.926844e+03\n 998   1.162739e+05\n 999   1.529759e+05\n 1000  1.825128e+05\n \n [1001 rows x 1 columns],\n                  0\n 0     5.261274e+01\n 1     5.092145e+04\n 2     7.983116e+04\n 3     6.504011e+05\n 4     2.316180e+06\n ...            ...\n 996   3.795976e+04\n 997   3.848875e+03\n 998   1.366895e+05\n 999   1.105657e+05\n 1000  1.207045e+05\n \n [1001 rows x 1 columns],\n                  0\n 0     4.734716e+01\n 1     4.374045e+04\n 2     8.408555e+04\n 3     2.300697e+06\n 4     2.650838e+06\n ...            ...\n 996   4.769069e+04\n 997   3.852962e+03\n 998   1.041778e+05\n 999   2.039044e+05\n 1000  1.546095e+05\n \n [1001 rows x 1 columns],\n                  0\n 0     2.933052e+01\n 1     5.845677e+04\n 2     9.132555e+04\n 3     2.038378e+06\n 4     3.514094e+06\n ...            ...\n 996   4.366917e+04\n 997   4.951176e+03\n 998   1.479098e+05\n 999   1.572941e+05\n 1000  1.063730e+05\n \n [1001 rows x 1 columns]]"
     },
     "execution_count": 21,
     "metadata": {},
     "output_type": "execute_result"
    }
   ],
   "source": [
    "total_dfs = []\n",
    "for model_type in models:\n",
    "    total_dfs += [pd.read_csv(os.path.join(base_model_dir, model_size, model_type, scored_file), header=None)]\n",
    "total_dfs"
   ],
   "metadata": {
    "collapsed": false,
    "ExecuteTime": {
     "end_time": "2023-11-06T02:17:56.287265Z",
     "start_time": "2023-11-06T02:17:55.542033Z"
    }
   }
  },
  {
   "cell_type": "code",
   "execution_count": 7,
   "outputs": [
    {
     "data": {
      "text/plain": "               0  type\n0   52116.035156   1.0\n1   47063.433594   1.0\n2   55053.484375   1.0\n3   39024.957031   1.0\n4   42498.523438   1.0\n5   34784.238281   1.0\n6   30985.783203   1.0\n7   35201.312500   1.0\n8   63922.875000   1.0\n9   37493.085938   1.0\n10  37123.589844   1.0\n11  44374.546875   1.0\n12  35322.679688   1.0\n13  27796.968750   1.0\n14  24880.710938   1.0\n15  25912.144531   1.0\n16  20351.673828   1.0\n17  20019.400391   1.0\n18  19384.916016   1.0\n19  19396.955078   1.0",
      "text/html": "<div>\n<style scoped>\n    .dataframe tbody tr th:only-of-type {\n        vertical-align: middle;\n    }\n\n    .dataframe tbody tr th {\n        vertical-align: top;\n    }\n\n    .dataframe thead th {\n        text-align: right;\n    }\n</style>\n<table border=\"1\" class=\"dataframe\">\n  <thead>\n    <tr style=\"text-align: right;\">\n      <th></th>\n      <th>0</th>\n      <th>type</th>\n    </tr>\n  </thead>\n  <tbody>\n    <tr>\n      <th>0</th>\n      <td>52116.035156</td>\n      <td>1.0</td>\n    </tr>\n    <tr>\n      <th>1</th>\n      <td>47063.433594</td>\n      <td>1.0</td>\n    </tr>\n    <tr>\n      <th>2</th>\n      <td>55053.484375</td>\n      <td>1.0</td>\n    </tr>\n    <tr>\n      <th>3</th>\n      <td>39024.957031</td>\n      <td>1.0</td>\n    </tr>\n    <tr>\n      <th>4</th>\n      <td>42498.523438</td>\n      <td>1.0</td>\n    </tr>\n    <tr>\n      <th>5</th>\n      <td>34784.238281</td>\n      <td>1.0</td>\n    </tr>\n    <tr>\n      <th>6</th>\n      <td>30985.783203</td>\n      <td>1.0</td>\n    </tr>\n    <tr>\n      <th>7</th>\n      <td>35201.312500</td>\n      <td>1.0</td>\n    </tr>\n    <tr>\n      <th>8</th>\n      <td>63922.875000</td>\n      <td>1.0</td>\n    </tr>\n    <tr>\n      <th>9</th>\n      <td>37493.085938</td>\n      <td>1.0</td>\n    </tr>\n    <tr>\n      <th>10</th>\n      <td>37123.589844</td>\n      <td>1.0</td>\n    </tr>\n    <tr>\n      <th>11</th>\n      <td>44374.546875</td>\n      <td>1.0</td>\n    </tr>\n    <tr>\n      <th>12</th>\n      <td>35322.679688</td>\n      <td>1.0</td>\n    </tr>\n    <tr>\n      <th>13</th>\n      <td>27796.968750</td>\n      <td>1.0</td>\n    </tr>\n    <tr>\n      <th>14</th>\n      <td>24880.710938</td>\n      <td>1.0</td>\n    </tr>\n    <tr>\n      <th>15</th>\n      <td>25912.144531</td>\n      <td>1.0</td>\n    </tr>\n    <tr>\n      <th>16</th>\n      <td>20351.673828</td>\n      <td>1.0</td>\n    </tr>\n    <tr>\n      <th>17</th>\n      <td>20019.400391</td>\n      <td>1.0</td>\n    </tr>\n    <tr>\n      <th>18</th>\n      <td>19384.916016</td>\n      <td>1.0</td>\n    </tr>\n    <tr>\n      <th>19</th>\n      <td>19396.955078</td>\n      <td>1.0</td>\n    </tr>\n  </tbody>\n</table>\n</div>"
     },
     "execution_count": 7,
     "metadata": {},
     "output_type": "execute_result"
    }
   ],
   "source": [
    "#We first extract our watermark from the null hypothesis\n",
    "\n",
    "watermark_df = pd.DataFrame(columns=total_dfs[0].columns)\n",
    "\n",
    "for df in total_dfs:\n",
    "    curr_watermark = df.iloc[0]\n",
    "    watermark_df.loc[len(watermark_df)] = curr_watermark\n",
    "    df.drop(0, inplace=True)\n",
    "\n",
    "watermark_df.reset_index(drop=True, inplace=True)\n",
    "watermark_df"
   ],
   "metadata": {
    "collapsed": false,
    "ExecuteTime": {
     "end_time": "2023-11-03T23:00:22.939055Z",
     "start_time": "2023-11-03T23:00:22.887414Z"
    }
   }
  },
  {
   "cell_type": "code",
   "execution_count": 8,
   "outputs": [
    {
     "data": {
      "text/plain": "      rep_num  level_1              0  type\n0          15        1   27222.902344     0\n1          15        2   27548.630859     0\n2          15        3  274700.187500     0\n3          15        4  737923.000000     0\n4          15        5  200510.703125     0\n...       ...      ...            ...   ...\n19995     300      996   20169.431641     0\n19996     300      997    5289.316895     0\n19997     300      998  158717.046875     0\n19998     300      999   57932.585938     0\n19999     300     1000   26484.216797     0\n\n[20000 rows x 4 columns]",
      "text/html": "<div>\n<style scoped>\n    .dataframe tbody tr th:only-of-type {\n        vertical-align: middle;\n    }\n\n    .dataframe tbody tr th {\n        vertical-align: top;\n    }\n\n    .dataframe thead th {\n        text-align: right;\n    }\n</style>\n<table border=\"1\" class=\"dataframe\">\n  <thead>\n    <tr style=\"text-align: right;\">\n      <th></th>\n      <th>rep_num</th>\n      <th>level_1</th>\n      <th>0</th>\n      <th>type</th>\n    </tr>\n  </thead>\n  <tbody>\n    <tr>\n      <th>0</th>\n      <td>15</td>\n      <td>1</td>\n      <td>27222.902344</td>\n      <td>0</td>\n    </tr>\n    <tr>\n      <th>1</th>\n      <td>15</td>\n      <td>2</td>\n      <td>27548.630859</td>\n      <td>0</td>\n    </tr>\n    <tr>\n      <th>2</th>\n      <td>15</td>\n      <td>3</td>\n      <td>274700.187500</td>\n      <td>0</td>\n    </tr>\n    <tr>\n      <th>3</th>\n      <td>15</td>\n      <td>4</td>\n      <td>737923.000000</td>\n      <td>0</td>\n    </tr>\n    <tr>\n      <th>4</th>\n      <td>15</td>\n      <td>5</td>\n      <td>200510.703125</td>\n      <td>0</td>\n    </tr>\n    <tr>\n      <th>...</th>\n      <td>...</td>\n      <td>...</td>\n      <td>...</td>\n      <td>...</td>\n    </tr>\n    <tr>\n      <th>19995</th>\n      <td>300</td>\n      <td>996</td>\n      <td>20169.431641</td>\n      <td>0</td>\n    </tr>\n    <tr>\n      <th>19996</th>\n      <td>300</td>\n      <td>997</td>\n      <td>5289.316895</td>\n      <td>0</td>\n    </tr>\n    <tr>\n      <th>19997</th>\n      <td>300</td>\n      <td>998</td>\n      <td>158717.046875</td>\n      <td>0</td>\n    </tr>\n    <tr>\n      <th>19998</th>\n      <td>300</td>\n      <td>999</td>\n      <td>57932.585938</td>\n      <td>0</td>\n    </tr>\n    <tr>\n      <th>19999</th>\n      <td>300</td>\n      <td>1000</td>\n      <td>26484.216797</td>\n      <td>0</td>\n    </tr>\n  </tbody>\n</table>\n<p>20000 rows × 4 columns</p>\n</div>"
     },
     "execution_count": 8,
     "metadata": {},
     "output_type": "execute_result"
    }
   ],
   "source": [
    "combined_df = pd.concat(total_dfs, keys=[str(i) for i in range(15, 301, 15)], names=[\"rep_num\"])\n",
    "combined_df.reset_index(inplace=True)\n",
    "combined_df"
   ],
   "metadata": {
    "collapsed": false,
    "ExecuteTime": {
     "end_time": "2023-11-03T23:00:24.166799Z",
     "start_time": "2023-11-03T23:00:24.149278Z"
    }
   }
  },
  {
   "cell_type": "code",
   "execution_count": 22,
   "outputs": [
    {
     "name": "stdout",
     "output_type": "stream",
     "text": [
      "[15, 30, 45, 60, 75, 90, 105, 120, 135, 150, 165, 180, 195, 210, 225, 240, 255, 270, 285, 300]\n",
      "[8611.9697265625, 6317.28173828125, 3478.34912109375, 1228.9892578125, 790.6729736328125, 512.03955078125, 261.3570556640625, 209.06021118164065, 135.81089782714844, 233.24319458007807, 85.84437561035156, 91.56523895263672, 49.02910614013672, 70.92289733886719, 46.08917236328125, 67.18457794189453, 47.75167846679688, 52.61274337768555, 47.3471565246582, 29.330516815185547]\n"
     ]
    }
   ],
   "source": [
    "x = [i for i in range(15, 301, 15)]\n",
    "y = [df[0][0] for df in total_dfs]\n",
    "print(x)\n",
    "print(y)"
   ],
   "metadata": {
    "collapsed": false,
    "ExecuteTime": {
     "end_time": "2023-11-06T02:18:00.305505Z",
     "start_time": "2023-11-06T02:18:00.299695Z"
    }
   }
  },
  {
   "cell_type": "code",
   "execution_count": 26,
   "outputs": [
    {
     "data": {
      "text/plain": "<Figure size 640x480 with 1 Axes>",
      "image/png": "[encoded data removed]"
     },
     "metadata": {},
     "output_type": "display_data"
    }
   ],
   "source": [
    "sns.scatterplot(x = x, y = y)\n",
    "plt.xlabel(\"Number of sequences perturbed\")\n",
    "plt.ylabel(\"Perplexity\")\n",
    "plt.title(\"Perplexity of Watermark vs Repetition (70M)\")\n",
    "plt.show()"
   ],
   "metadata": {
    "collapsed": false,
    "ExecuteTime": {
     "end_time": "2023-11-06T02:18:19.688936Z",
     "start_time": "2023-11-06T02:18:19.199382Z"
    }
   }
  },
  {
   "cell_type": "code",
   "execution_count": 34,
   "outputs": [
    {
     "name": "stdout",
     "output_type": "stream",
     "text": [
      "133.0\n",
      "88.0\n",
      "49.0\n",
      "9.0\n",
      "5.0\n",
      "3.0\n",
      "1.0\n",
      "1.0\n",
      "1.0\n",
      "1.0\n",
      "1.0\n",
      "1.0\n",
      "1.0\n",
      "1.0\n",
      "1.0\n",
      "1.0\n",
      "1.0\n",
      "1.0\n",
      "1.0\n",
      "1.0\n"
     ]
    }
   ],
   "source": [
    "z_scores = []\n",
    "null_mean = []\n",
    "null_stdev = []\n",
    "\n",
    "for df in total_dfs:\n",
    "    null = df[0][:]\n",
    "    mean = null.mean()\n",
    "    stdev = null.std()\n",
    "    rank = null.rank(method=\"min\")\n",
    "    print(rank[null == df[0][0]].values[0])\n",
    "\n",
    "    statistic = df[0][0]\n",
    "\n",
    "    z_scores += [(statistic - mean) / stdev]\n",
    "    null_mean += [mean]\n",
    "    null_stdev += [stdev]\n"
   ],
   "metadata": {
    "collapsed": false,
    "ExecuteTime": {
     "end_time": "2023-11-06T02:22:39.518832Z",
     "start_time": "2023-11-06T02:22:39.482601Z"
    }
   }
  },
  {
   "cell_type": "code",
   "execution_count": 28,
   "outputs": [
    {
     "data": {
      "text/plain": "[-0.3620480412496526,\n -0.3734396386385325,\n -0.41849578661260717,\n -0.45490265120271245,\n -0.4594662996025033,\n -0.39689682726403847,\n -0.3934506946541334,\n -0.3842248378511547,\n -0.31696696198818,\n -0.4247619609065012,\n -0.38349465668439064,\n -0.4058367349150104,\n -0.4226798902337441,\n -0.3678440031255548,\n -0.45602300828254083,\n -0.4193028095331208,\n -0.4628371480613545,\n -0.4132751288955461,\n -0.3898084135307558,\n -0.37313084730323604]"
     },
     "execution_count": 28,
     "metadata": {},
     "output_type": "execute_result"
    }
   ],
   "source": [
    "z_scores\n"
   ],
   "metadata": {
    "collapsed": false,
    "ExecuteTime": {
     "end_time": "2023-11-06T02:18:23.538053Z",
     "start_time": "2023-11-06T02:18:23.536598Z"
    }
   }
  },
  {
   "cell_type": "code",
   "execution_count": 29,
   "outputs": [
    {
     "data": {
      "text/plain": "<Figure size 640x480 with 1 Axes>",
      "image/png": "[encoded data removed]"
     },
     "metadata": {},
     "output_type": "display_data"
    }
   ],
   "source": [
    "sns.scatterplot(x = x, y = z_scores)\n",
    "plt.xlabel(\"Number of sequences perturbed\")\n",
    "plt.ylabel(\"Z-score w.r.t Null Distrib (1000 seq)\")\n",
    "plt.title(\"Z-score vs Repetition (70M)\")\n",
    "plt.show()"
   ],
   "metadata": {
    "collapsed": false,
    "ExecuteTime": {
     "end_time": "2023-11-06T02:18:29.271054Z",
     "start_time": "2023-11-06T02:18:29.094807Z"
    }
   }
  },
  {
   "cell_type": "code",
   "execution_count": null,
   "outputs": [],
   "source": [],
   "metadata": {
    "collapsed": false
   }
  }
 ],
 "metadata": {
  "kernelspec": {
   "name": "pytorch1.9",
   "language": "python",
   "display_name": "pytorch1.9"
  },
  "language_info": {
   "codemirror_mode": {
    "name": "ipython",
    "version": 2
   },
   "file_extension": ".py",
   "mimetype": "text/x-python",
   "name": "python",
   "nbconvert_exporter": "python",
   "pygments_lexer": "ipython2",
   "version": "2.7.6"
  }
 },
 "nbformat": 4,
 "nbformat_minor": 0
}
