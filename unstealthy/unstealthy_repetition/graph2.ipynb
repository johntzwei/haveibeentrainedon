{
 "cells": [
  {
   "cell_type": "code",
   "execution_count": 1,
   "id": "98794499",
   "metadata": {},
   "outputs": [],
   "source": [
    "import os\n",
    "import pandas as pd\n",
    "import seaborn as sns\n",
    "import matplotlib.pyplot as plt\n",
    "import numpy as np\n",
    "sns.set()\n",
    "# sns.set_context('paper', font_scale=0.73)\n",
    "sns.set_context('paper', font_scale=1.3)\n",
    "sns.set_style('whitegrid', {'font.family':'serif', 'font.serif':'Times New Roman'})"
   ]
  },
  {
   "cell_type": "code",
   "execution_count": 2,
   "id": "7760c41b",
   "metadata": {},
   "outputs": [
    {
     "name": "stdout",
     "output_type": "stream",
     "text": [
      "\r\n"
     ]
    }
   ],
   "source": [
    "!echo $CONDA_DEFAULT_ENV"
   ]
  },
  {
   "cell_type": "code",
   "execution_count": 4,
   "id": "bf1d1edf",
   "metadata": {
    "ExecuteTime": {
     "end_time": "2023-11-18T19:00:07.244577Z",
     "start_time": "2023-11-18T19:00:07.201338Z"
    }
   },
   "outputs": [
    {
     "data": {
      "text/plain": "['/home/ryan/haveibeentrainedon/models/unstealthy_repetition/pile1e9_64/70M',\n '/home/ryan/haveibeentrainedon/models/unstealthy_repetition/pile1e9_64/160M']"
     },
     "execution_count": 4,
     "metadata": {},
     "output_type": "execute_result"
    }
   ],
   "source": [
    "#paths\n",
    "root_dir = \"/home/ryan/haveibeentrainedon/models/unstealthy_repetition\"\n",
    "dataset_name = \"pile1e9_64\"\n",
    "model_sizes = [\"70M\", \"160M\"]\n",
    "scored_watermark = \"scored_watermark_losses.csv\"\n",
    "scored_null = \"scored_null_losses.csv\"\n",
    "\n",
    "experiments = [f\"{root_dir}/{dataset_name}/{model_size}\" for model_size in model_sizes]\n",
    "experiments"
   ]
  },
  {
   "cell_type": "code",
   "execution_count": 5,
   "id": "ff0c2de3",
   "metadata": {
    "ExecuteTime": {
     "end_time": "2023-11-18T19:00:08.400071Z",
     "start_time": "2023-11-18T19:00:08.252187Z"
    }
   },
   "outputs": [
    {
     "data": {
      "text/plain": "['1_model',\n '2_model',\n '4_model',\n '8_model',\n '16_model',\n '32_model',\n '64_model']"
     },
     "execution_count": 5,
     "metadata": {},
     "output_type": "execute_result"
    }
   ],
   "source": [
    "models = list(filter(lambda x: x[-5:] == \"model\", os.listdir(experiments[0])))\n",
    "models = sorted(models, key = lambda x: eval(x[:-6]))\n",
    "temp_models = []\n",
    "for model in models:\n",
    "    temp_models += [model]\n",
    "models = temp_models\n",
    "models\n"
   ]
  },
  {
   "cell_type": "code",
   "execution_count": 6,
   "id": "95dc346c",
   "metadata": {
    "ExecuteTime": {
     "end_time": "2023-11-18T19:00:13.038718Z",
     "start_time": "2023-11-18T19:00:12.777868Z"
    }
   },
   "outputs": [
    {
     "name": "stdout",
     "output_type": "stream",
     "text": [
      "2\n",
      "7\n"
     ]
    }
   ],
   "source": [
    "experiments_watermark = []\n",
    "experiments_null = []\n",
    "for experiment in experiments:\n",
    "    total_dfs_watermark = []\n",
    "    total_dfs_null = []\n",
    "    for model_type in models:\n",
    "        total_dfs_watermark += [pd.read_csv(os.path.join(experiment, model_type, scored_watermark), header=None)]\n",
    "        total_dfs_null += [pd.read_csv(os.path.join(experiment, model_type, scored_null), header=None)]\n",
    "    experiments_watermark.append(total_dfs_watermark)\n",
    "    experiments_null.append(total_dfs_null)\n",
    "print(len(experiments_watermark))\n",
    "print(len(experiments_watermark[0]))"
   ]
  },
  {
   "cell_type": "code",
   "execution_count": 7,
   "id": "cb4b289e",
   "metadata": {
    "ExecuteTime": {
     "end_time": "2023-11-18T19:00:15.041020Z",
     "start_time": "2023-11-18T19:00:14.995756Z"
    }
   },
   "outputs": [
    {
     "name": "stdout",
     "output_type": "stream",
     "text": [
      "(2, 7, 1000)\n"
     ]
    }
   ],
   "source": [
    "import numpy as np\n",
    "\n",
    "experiments_null_mean_distribution = []\n",
    "\n",
    "for experiment_id in range(len(experiments)):\n",
    "    total_null_means = []\n",
    "\n",
    "    for null_distr in experiments_null[experiment_id]:\n",
    "        null_distr = null_distr.to_numpy().reshape(-1)\n",
    "        num_per_batch = int(len(null_distr) / 1000)\n",
    "        null_means = []\n",
    "        for i in range(1000):\n",
    "            curr_sample = null_distr[i * num_per_batch: (i+1) * num_per_batch]\n",
    "            null_means += [curr_sample.mean()]\n",
    "        total_null_means += [null_means]\n",
    "    \n",
    "    experiments_null_mean_distribution.append(total_null_means)\n",
    "print(np.array(experiments_null_mean_distribution).shape)\n"
   ]
  },
  {
   "cell_type": "code",
   "execution_count": 8,
   "id": "59549074",
   "metadata": {
    "ExecuteTime": {
     "end_time": "2023-11-18T19:00:16.402389Z",
     "start_time": "2023-11-18T19:00:16.397978Z"
    }
   },
   "outputs": [
    {
     "name": "stdout",
     "output_type": "stream",
     "text": [
      "(2, 7)\n",
      "[[7.411414623260497, 8.074971199035645, 7.253362178802489, 7.069619596004486, 7.237430363893509, 7.227809086441994, 7.136114738881588], [5.9729084968566895, 7.4320735931396475, 6.9388039112091064, 6.853036105632782, 7.063733398914337, 7.2328304797410965, 7.137492410838604]]\n"
     ]
    }
   ],
   "source": [
    "\n",
    "experiments_watermark_mean = []\n",
    "\n",
    "for experiment_id in range(len(experiments)):\n",
    "    total_watermark_means = []\n",
    "    for watermark_distr in experiments_watermark[experiment_id]:\n",
    "        watermark_distr = watermark_distr.to_numpy()\n",
    "        total_watermark_means += [watermark_distr.mean()]\n",
    "    experiments_watermark_mean.append(total_watermark_means)\n",
    "\n",
    "print(np.array(experiments_watermark_mean).shape)\n",
    "print(experiments_watermark_mean)\n"
   ]
  },
  {
   "cell_type": "code",
   "execution_count": 9,
   "id": "5adb45ba",
   "metadata": {
    "ExecuteTime": {
     "end_time": "2023-11-18T19:01:48.885482Z",
     "start_time": "2023-11-18T19:01:48.880169Z"
    }
   },
   "outputs": [
    {
     "name": "stdout",
     "output_type": "stream",
     "text": [
      "[[7.411414623260497, 8.074971199035645, 7.253362178802489, 7.069619596004486, 7.237430363893509, 7.227809086441994, 7.136114738881588], [5.9729084968566895, 7.4320735931396475, 6.9388039112091064, 6.853036105632782, 7.063733398914337, 7.2328304797410965, 7.137492410838604]]\n"
     ]
    }
   ],
   "source": [
    "print(experiments_watermark_mean)"
   ]
  },
  {
   "cell_type": "code",
   "execution_count": 10,
   "id": "d8b6d9e8",
   "metadata": {
    "ExecuteTime": {
     "end_time": "2023-11-18T19:01:51.285833Z",
     "start_time": "2023-11-18T19:01:51.279035Z"
    }
   },
   "outputs": [
    {
     "name": "stdout",
     "output_type": "stream",
     "text": [
      "[7.12960199 7.16137995 7.14852582 7.14910522 7.17940567 7.17398655\n",
      " 7.13561163]\n",
      "[0.12147168 0.11970318 0.12421804 0.12994459 0.14384619 0.16808764\n",
      " 0.94792488]\n"
     ]
    }
   ],
   "source": [
    "print(np.mean(np.array(experiments_null_mean_distribution[0]), axis = 1))\n",
    "print(np.std(np.array(experiments_null_mean_distribution[0]), axis = 1))\n"
   ]
  },
  {
   "cell_type": "code",
   "execution_count": 11,
   "id": "7e5b29b6",
   "metadata": {
    "ExecuteTime": {
     "end_time": "2023-11-18T19:01:55.505164Z",
     "start_time": "2023-11-18T19:01:55.497677Z"
    }
   },
   "outputs": [
    {
     "name": "stdout",
     "output_type": "stream",
     "text": [
      "(2, 7)\n"
     ]
    }
   ],
   "source": [
    "#we now get the z-score\n",
    "\n",
    "experiment_z_scores = []\n",
    "\n",
    "for experiment_id in range(len(experiments)):\n",
    "    \n",
    "    curr_z_scores = []\n",
    "\n",
    "    for watermark_ind in range(len(experiments_watermark_mean[experiment_id])):\n",
    "        null_distr = np.array(experiments_null_mean_distribution[experiment_id][watermark_ind])\n",
    "        watermark_score = experiments_watermark_mean[experiment_id][watermark_ind]\n",
    "        \n",
    "        curr_z_scores += [(watermark_score - null_distr.mean()) / null_distr.std()]\n",
    "    \n",
    "    experiment_z_scores.append(curr_z_scores)\n",
    "\n",
    "print(np.array(experiment_z_scores).shape)"
   ]
  },
  {
   "cell_type": "code",
   "execution_count": 12,
   "id": "2e214ad7",
   "metadata": {
    "ExecuteTime": {
     "end_time": "2023-11-18T19:01:58.167510Z",
     "start_time": "2023-11-18T19:01:58.158380Z"
    }
   },
   "outputs": [],
   "source": [
    "x = [1, 2, 4, 8, 16, 32, 64]"
   ]
  },
  {
   "cell_type": "code",
   "execution_count": 13,
   "id": "a7132d46",
   "metadata": {
    "ExecuteTime": {
     "end_time": "2023-11-18T19:01:58.978322Z",
     "start_time": "2023-11-18T19:01:58.965988Z"
    }
   },
   "outputs": [
    {
     "data": {
      "text/plain": "[2.3199862315360518,\n 7.632138665804197,\n 0.8439704547577142,\n -0.6116885945282918,\n 0.403380137862943,\n 0.32020522736884216,\n 0.0005307526991973376]"
     },
     "execution_count": 13,
     "metadata": {},
     "output_type": "execute_result"
    }
   ],
   "source": [
    "experiment_z_scores[0]"
   ]
  },
  {
   "cell_type": "code",
   "execution_count": 16,
   "id": "e010dc03",
   "metadata": {
    "ExecuteTime": {
     "end_time": "2023-11-18T19:02:19.120471Z",
     "start_time": "2023-11-18T19:02:18.601219Z"
    }
   },
   "outputs": [
    {
     "data": {
      "text/plain": "<Figure size 432x288 with 1 Axes>",
      "image/png": "[encoded data removed]"
     },
     "metadata": {},
     "output_type": "display_data"
    }
   ],
   "source": [
    "# Create a line plot for each set of y-values\n",
    "sns.lineplot(x=x, y=experiment_z_scores[0], color='red', label='70M')\n",
    "ax = sns.lineplot(x=x, y=experiment_z_scores[1], color='blue', label='160M')\n",
    "\n",
    "# Customize the plot\n",
    "plt.title('Tradeoff Between Randomness & Repetition (Wikitext)')\n",
    "plt.xlabel('Unique Watermarks Among 64 Documents')\n",
    "plt.ylabel('Z-Score')\n",
    "plt.legend()\n",
    "\n",
    "ax.set_xscale(\"log\")\n",
    "\n",
    "# Show the plot\n",
    "plt.show()"
   ]
  },
  {
   "cell_type": "code",
   "execution_count": null,
   "id": "42fa7d23",
   "metadata": {},
   "outputs": [],
   "source": []
  },
  {
   "cell_type": "code",
   "execution_count": null,
   "id": "75b0cf30",
   "metadata": {},
   "outputs": [],
   "source": []
  },
  {
   "cell_type": "code",
   "execution_count": null,
   "id": "0444e6bc",
   "metadata": {},
   "outputs": [],
   "source": []
  }
 ],
 "metadata": {
  "kernelspec": {
   "name": "python3",
   "language": "python",
   "display_name": "Python 3"
  },
  "language_info": {
   "codemirror_mode": {
    "name": "ipython",
    "version": 3
   },
   "file_extension": ".py",
   "mimetype": "text/x-python",
   "name": "python",
   "nbconvert_exporter": "python",
   "pygments_lexer": "ipython3",
   "version": "3.8.16"
  }
 },
 "nbformat": 4,
 "nbformat_minor": 5
}
