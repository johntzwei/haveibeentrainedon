{
 "cells": [
  {
   "cell_type": "code",
   "execution_count": 1,
   "metadata": {
    "ExecuteTime": {
     "end_time": "2023-11-21T16:08:21.722107Z",
     "start_time": "2023-11-21T16:08:21.691897Z"
    }
   },
   "outputs": [],
   "source": [
    "import os\n",
    "import pandas as pd\n",
    "import seaborn as sns\n",
    "import matplotlib.pyplot as plt\n",
    "import numpy as np\n",
    "sns.set()\n",
    "# sns.set_context('paper', font_scale=0.73)\n",
    "sns.set_context('paper', font_scale=1.3)\n",
    "sns.set_style('whitegrid', {'font.family':'serif', 'font.serif':'Times New Roman'})"
   ]
  },
  {
   "cell_type": "code",
   "execution_count": 2,
   "metadata": {
    "ExecuteTime": {
     "end_time": "2023-11-21T16:08:22.212178Z",
     "start_time": "2023-11-21T16:08:21.877352Z"
    }
   },
   "outputs": [
    {
     "name": "stdout",
     "output_type": "stream",
     "text": [
      "\r\n"
     ]
    }
   ],
   "source": [
    "!echo $CONDA_DEFAULT_ENV"
   ]
  },
  {
   "cell_type": "code",
   "execution_count": 5,
   "metadata": {
    "ExecuteTime": {
     "end_time": "2023-11-21T16:08:58.432923Z",
     "start_time": "2023-11-21T16:08:58.427337Z"
    }
   },
   "outputs": [
    {
     "data": {
      "text/plain": "['/home/ryan/haveibeentrainedon/models/unstealthy_raretoken/wikitext_64/70M']"
     },
     "execution_count": 5,
     "metadata": {},
     "output_type": "execute_result"
    }
   ],
   "source": [
    "#paths\n",
    "root_dir = \"/home/ryan/haveibeentrainedon/models/unstealthy_raretoken\"\n",
    "dataset_names = [\"wikitext_64\"]\n",
    "model_size = \"70M\"\n",
    "scored_file = \"scored.csv\"\n",
    "\n",
    "error_model = \"30000_model\"\n",
    "\n",
    "experiments = [f\"{root_dir}/{dataset_name}/{model_size}\" for dataset_name in dataset_names]\n",
    "experiments"
   ]
  },
  {
   "cell_type": "code",
   "execution_count": 6,
   "metadata": {
    "ExecuteTime": {
     "end_time": "2023-11-21T16:09:32.560791Z",
     "start_time": "2023-11-21T16:09:32.494365Z"
    }
   },
   "outputs": [
    {
     "data": {
      "text/plain": "['0_model',\n '1_model',\n '2_model',\n '10000_model',\n '10001_model',\n '10002_model',\n '20000_model',\n '20001_model',\n '20002_model',\n '30001_model',\n '30002_model',\n '40000_model',\n '40001_model',\n '40002_model',\n '50000_model',\n '50001_model',\n '50002_model']"
     },
     "execution_count": 6,
     "metadata": {},
     "output_type": "execute_result"
    }
   ],
   "source": [
    "models = list(filter(lambda x: x[-5:] == \"model\" and error_model not in x, os.listdir(experiments[0])))\n",
    "models = sorted(models, key = lambda x: eval(x[:-6]))\n",
    "models"
   ]
  },
  {
   "cell_type": "code",
   "execution_count": 7,
   "metadata": {
    "ExecuteTime": {
     "end_time": "2023-11-21T16:09:53.456581Z",
     "start_time": "2023-11-21T16:09:52.781444Z"
    }
   },
   "outputs": [
    {
     "name": "stdout",
     "output_type": "stream",
     "text": [
      "1\n",
      "17\n"
     ]
    }
   ],
   "source": [
    "experiments_dfs = []\n",
    "for experiment in experiments:\n",
    "    model_dfs = []\n",
    "    for model_type in models:\n",
    "        model_dfs += [pd.read_csv(os.path.join(experiment,  model_type, scored_file), header=None)]\n",
    "    experiments_dfs.append(model_dfs)\n",
    "print(len(experiments_dfs))\n",
    "print(len(model_dfs))"
   ]
  },
  {
   "cell_type": "code",
   "execution_count": 8,
   "metadata": {
    "ExecuteTime": {
     "end_time": "2023-11-21T16:09:56.217515Z",
     "start_time": "2023-11-21T16:09:56.214201Z"
    }
   },
   "outputs": [
    {
     "name": "stdout",
     "output_type": "stream",
     "text": [
      "Int64Index([0], dtype='int64')\n"
     ]
    }
   ],
   "source": [
    "print(experiments_dfs[0][0].columns)"
   ]
  },
  {
   "cell_type": "code",
   "execution_count": 13,
   "metadata": {
    "ExecuteTime": {
     "end_time": "2023-11-21T16:13:38.589082Z",
     "start_time": "2023-11-21T16:13:38.548886Z"
    }
   },
   "outputs": [
    {
     "name": "stdout",
     "output_type": "stream",
     "text": [
      "6\n"
     ]
    }
   ],
   "source": [
    "x_axis = [0, 10000, 20000, 30000, 40000, 50000]\n",
    "y_axises = []\n",
    "for experiment_dfs in experiments_dfs:\n",
    "    y_axis = []\n",
    "    for model_df in experiment_dfs:\n",
    "        null = model_df[0][1:]\n",
    "        mean = np.log(null).mean()\n",
    "        stdev = np.log(null).std()\n",
    "        \n",
    "        statistic = np.log(model_df[0][0])\n",
    "        # print(f\"statistic = {statistic}, mean = {mean}, stdev = {stdev}\")\n",
    "\n",
    "        \n",
    "        y_axis += [(statistic - mean) / stdev]\n",
    "    averaged_y = [np.array(y_axis[0:3]).mean(), np.array(y_axis[3:6]).mean(), np.array(y_axis[6:9]).mean(), \\\n",
    "                  np.array(y_axis[9:11]).mean(), np.array(y_axis[11:14]).mean(), np.array(y_axis[14:17]).mean()]\n",
    "    # for i in range(0, len(y_axis), 3):\n",
    "    #     averaged_y += [np.array(y_axis[i:i+3]).mean()]\n",
    "    y_axises.append(averaged_y)\n",
    "print(len(y_axises[0]))"
   ]
  },
  {
   "cell_type": "code",
   "execution_count": 14,
   "metadata": {
    "ExecuteTime": {
     "end_time": "2023-11-21T16:13:39.575273Z",
     "start_time": "2023-11-21T16:13:39.568955Z"
    }
   },
   "outputs": [
    {
     "data": {
      "text/plain": "[[-3.579920238018145,\n  -6.502335102261326,\n  -9.997700070162288,\n  -14.045337968396243,\n  -14.053786384160105,\n  -13.612209293671858]]"
     },
     "execution_count": 14,
     "metadata": {},
     "output_type": "execute_result"
    }
   ],
   "source": [
    "y_axises"
   ]
  },
  {
   "cell_type": "code",
   "execution_count": 15,
   "metadata": {
    "ExecuteTime": {
     "end_time": "2023-11-21T16:13:45.243527Z",
     "start_time": "2023-11-21T16:13:44.881800Z"
    }
   },
   "outputs": [
    {
     "data": {
      "text/plain": "<Figure size 432x288 with 1 Axes>",
      "image/png": "[encoded data removed]"
     },
     "metadata": {},
     "output_type": "display_data"
    }
   ],
   "source": [
    "# Create a line plot for each set of y-values\n",
    "ax = sns.lineplot(x=x_axis, y=y_axises[0], color='red', label='n=10')\n",
    "# sns.lineplot(x=x_axis, y=y_axises[1], color='blue', label='n=20')\n",
    "# ax = sns.lineplot(x=x_axis, y=y_axises[2], color='green', label='n=40')\n",
    "\n",
    "# Customize the plot\n",
    "plt.title('Effect of Token Rarity on Z-score (70M, Wikitext, 64 Documents)')\n",
    "plt.xlabel('Rank of tokens amongst Tokenizer')\n",
    "plt.ylabel('Z-Score')\n",
    "plt.legend()\n",
    "\n",
    "# ax.set_xscale(\"log\")\n",
    "\n",
    "# Show the plot\n",
    "plt.show()"
   ]
  },
  {
   "cell_type": "code",
   "execution_count": null,
   "metadata": {},
   "outputs": [],
   "source": []
  },
  {
   "cell_type": "code",
   "execution_count": null,
   "metadata": {},
   "outputs": [],
   "source": []
  },
  {
   "cell_type": "code",
   "execution_count": null,
   "metadata": {},
   "outputs": [],
   "source": []
  },
  {
   "cell_type": "code",
   "execution_count": null,
   "metadata": {},
   "outputs": [],
   "source": []
  },
  {
   "cell_type": "code",
   "execution_count": null,
   "metadata": {},
   "outputs": [],
   "source": []
  }
 ],
 "metadata": {
  "kernelspec": {
   "display_name": "Python 3 (ipykernel)",
   "language": "python",
   "name": "python3"
  },
  "language_info": {
   "codemirror_mode": {
    "name": "ipython",
    "version": 3
   },
   "file_extension": ".py",
   "mimetype": "text/x-python",
   "name": "python",
   "nbconvert_exporter": "python",
   "pygments_lexer": "ipython3",
   "version": "3.8.16"
  }
 },
 "nbformat": 4,
 "nbformat_minor": 1
}
