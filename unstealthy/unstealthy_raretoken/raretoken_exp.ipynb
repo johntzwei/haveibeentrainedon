{
 "cells": [
  {
   "cell_type": "code",
   "execution_count": 1,
   "outputs": [],
   "source": [
    "#Note: this notebook is like graph1, but it will specifically process particular tokens in the loss_per_token_scored.csv file"
   ],
   "metadata": {
    "collapsed": false,
    "ExecuteTime": {
     "end_time": "2023-12-08T06:43:05.717530Z",
     "start_time": "2023-12-08T06:43:05.681118Z"
    }
   },
   "id": "2e47d1340cea66c5"
  },
  {
   "cell_type": "code",
   "execution_count": 1,
   "outputs": [],
   "source": [
    "import os\n",
    "import pandas as pd\n",
    "import seaborn as sns\n",
    "import matplotlib.pyplot as plt\n",
    "import numpy as np\n",
    "import statistics\n",
    "sns.set()\n",
    "# sns.set_context('paper', font_scale=0.73)\n",
    "sns.set_context('paper', font_scale=1.3)\n",
    "sns.set_style('whitegrid', {'font.family':'serif', 'font.serif':'Times New Roman'})"
   ],
   "metadata": {
    "collapsed": false,
    "ExecuteTime": {
     "end_time": "2023-12-27T01:19:05.729768Z",
     "start_time": "2023-12-27T01:19:05.725450Z"
    }
   },
   "id": "60acf33ed0c43c00"
  },
  {
   "cell_type": "code",
   "execution_count": 2,
   "id": "48fa119f",
   "metadata": {
    "ExecuteTime": {
     "end_time": "2023-12-27T01:19:05.732465Z",
     "start_time": "2023-12-27T01:19:05.728115Z"
    }
   },
   "outputs": [
    {
     "name": "stdout",
     "output_type": "stream",
     "text": [
      "\r\n"
     ]
    }
   ],
   "source": [
    "!echo $CONDA_DEFAULT_ENV"
   ]
  },
  {
   "cell_type": "code",
   "execution_count": 3,
   "id": "48e8df1a",
   "metadata": {
    "ExecuteTime": {
     "end_time": "2023-12-27T01:19:13.383099Z",
     "start_time": "2023-12-27T01:19:13.130580Z"
    }
   },
   "outputs": [
    {
     "data": {
      "text/plain": "['/mnt/nfs1/ryan/haveibeentrainedon/models/unstealthy_raretoken/run/pile1e8_20len_seed0/70M',\n '/mnt/nfs1/ryan/haveibeentrainedon/models/unstealthy_raretoken/run/pile1e8_20len_seed1/70M',\n '/mnt/nfs1/ryan/haveibeentrainedon/models/unstealthy_raretoken/run/pile1e8_20len_seed2/70M',\n '/mnt/nfs1/ryan/haveibeentrainedon/models/unstealthy_raretoken/run/pile1e8_20len_seed3/70M',\n '/mnt/nfs1/ryan/haveibeentrainedon/models/unstealthy_raretoken/run/pile1e8_20len_seed4/70M']"
     },
     "execution_count": 3,
     "metadata": {},
     "output_type": "execute_result"
    }
   ],
   "source": [
    "#paths\n",
    "root_dir = \"/mnt/nfs1/ryan/haveibeentrainedon/models/unstealthy_raretoken\"\n",
    "group_folder = \"run\"\n",
    "exp_name= [\"pile1e8_20len\"]\n",
    "seed_name = [\"seed0\", \"seed1\", \"seed2\", \"seed3\", \"seed4\"]\n",
    "model_sizes = [\"70M\"]\n",
    "scored_file = \"loss_per_token_scored.csv\"\n",
    "\n",
    "#these are the tokens that we will be averaging the losses to get our statistic\n",
    "start_attend = 0\n",
    "end_attend = 100\n",
    "\n",
    "experiments = [f\"{root_dir}/{group_folder}/{exp}_{seed}/{model_size}\" for model_size in model_sizes for exp in exp_name for seed in seed_name]\n",
    "experiments"
   ]
  },
  {
   "cell_type": "code",
   "execution_count": 4,
   "id": "9fb79921",
   "metadata": {
    "ExecuteTime": {
     "end_time": "2023-12-27T01:19:14.507865Z",
     "start_time": "2023-12-27T01:19:14.506327Z"
    }
   },
   "outputs": [
    {
     "data": {
      "text/plain": "['0_model',\n '10000_model',\n '20000_model',\n '30000_model',\n '40000_model',\n '50000_model']"
     },
     "execution_count": 4,
     "metadata": {},
     "output_type": "execute_result"
    }
   ],
   "source": [
    "models = list(filter(lambda x: x[-5:] == \"model\", os.listdir(experiments[0])))\n",
    "models = sorted(models, key = lambda x: eval(x[:-6]))\n",
    "models"
   ]
  },
  {
   "cell_type": "code",
   "execution_count": 5,
   "outputs": [],
   "source": [
    "def read_file(file_name):\n",
    "    data = []\n",
    "    with open(file_name, 'r') as file:\n",
    "        for line in file:\n",
    "            row = [eval(element.strip()) for element in line.split(\",\")]\n",
    "            data.append(row[start_attend:end_attend])\n",
    "    return data"
   ],
   "metadata": {
    "collapsed": false,
    "ExecuteTime": {
     "end_time": "2023-12-27T01:19:15.685442Z",
     "start_time": "2023-12-27T01:19:15.684178Z"
    }
   },
   "id": "bfde3b336f32cbc3"
  },
  {
   "cell_type": "code",
   "execution_count": 7,
   "id": "384f52c5",
   "metadata": {
    "ExecuteTime": {
     "end_time": "2023-12-27T01:20:00.000369Z",
     "start_time": "2023-12-27T01:19:57.491717Z"
    }
   },
   "outputs": [
    {
     "name": "stdout",
     "output_type": "stream",
     "text": [
      "5\n",
      "6\n"
     ]
    }
   ],
   "source": [
    "experiments_dfs = []\n",
    "for experiment in experiments:\n",
    "    model_dfs = []\n",
    "    for model_type in models:\n",
    "        model_dfs += [read_file(os.path.join(experiment,  model_type, scored_file))]\n",
    "    experiments_dfs.append(model_dfs)\n",
    "print(len(experiments_dfs))\n",
    "print(len(model_dfs))"
   ]
  },
  {
   "cell_type": "code",
   "execution_count": 8,
   "id": "f0db6cf1",
   "metadata": {
    "ExecuteTime": {
     "end_time": "2023-12-27T01:20:03.504657Z",
     "start_time": "2023-12-27T01:20:02.349241Z"
    }
   },
   "outputs": [],
   "source": [
    "\n",
    "y_axises = []\n",
    "null_means = []\n",
    "null_stdev = []\n",
    "statistic_total = []\n",
    "for experiment_dfs in experiments_dfs:\n",
    "    y_axis = []\n",
    "    null_raw = []\n",
    "    null_std = []\n",
    "    statistic_temp = []\n",
    "    for model_df in experiment_dfs:\n",
    "        null_raw = model_df[1:]\n",
    "        #we first average over tokens to get average loss per each example\n",
    "        null = [statistics.mean(row) for row in null_raw]\n",
    "\n",
    "        #we then calculate the average and stdev of this null distribution\n",
    "        mean = statistics.mean(null)\n",
    "        stdev = statistics.stdev(null)\n",
    "\n",
    "        statistic = statistics.mean(model_df[0])\n",
    "        # print(f\"statistic = {statistic}, mean = {mean}, stdev = {stdev}\")\n",
    "\n",
    "        statistic_temp += [statistic]\n",
    "\n",
    "        y_axis += [(statistic - mean) / stdev]\n",
    "        null_means += [mean]\n",
    "        null_std += [stdev]\n",
    "    y_axises.append(y_axis)\n",
    "    statistic_total.append(statistic_temp)\n",
    "    null_stdev.append(null_std)"
   ]
  },
  {
   "cell_type": "markdown",
   "source": [],
   "metadata": {
    "collapsed": false
   },
   "id": "96f726a6780ae6a2"
  },
  {
   "cell_type": "code",
   "execution_count": 9,
   "outputs": [],
   "source": [
    "#reshape all the results into (length, seed, repetitions) format\n",
    "def reshape_input(arr):\n",
    "    arr = np.array(arr)\n",
    "    arr = arr.reshape(len(exp_name), len(seed_name), -1)\n",
    "    return arr\n",
    "\n",
    "new_y_axises = reshape_input(y_axises)\n",
    "new_null_means = reshape_input(null_means)\n",
    "new_null_stdev = reshape_input(null_stdev)\n",
    "new_statistic_total = reshape_input(statistic_total)"
   ],
   "metadata": {
    "collapsed": false,
    "ExecuteTime": {
     "end_time": "2023-12-27T01:20:03.619248Z",
     "start_time": "2023-12-27T01:20:03.611561Z"
    }
   },
   "id": "185b70c16f7e34a5"
  },
  {
   "cell_type": "code",
   "execution_count": 10,
   "outputs": [
    {
     "data": {
      "text/plain": "array([ -8.46512202,  -9.45882032,  -9.5611424 ,  -9.90980803,\n        -9.81734785, -10.04161318])"
     },
     "execution_count": 10,
     "metadata": {},
     "output_type": "execute_result"
    }
   ],
   "source": [
    "plot_values = new_y_axises.mean(axis=1)\n",
    "plot_values[0]"
   ],
   "metadata": {
    "collapsed": false,
    "ExecuteTime": {
     "end_time": "2023-12-27T01:20:05.372400Z",
     "start_time": "2023-12-27T01:20:04.874538Z"
    }
   },
   "id": "be60da6dcf4322da"
  },
  {
   "cell_type": "code",
   "execution_count": 11,
   "outputs": [
    {
     "name": "stdout",
     "output_type": "stream",
     "text": [
      "[0, 10000, 20000, 30000, 40000, 50000]\n"
     ]
    }
   ],
   "source": [
    "x_axis = [0,10000,20000,30000,40000,50000]\n",
    "print(x_axis)"
   ],
   "metadata": {
    "collapsed": false,
    "ExecuteTime": {
     "end_time": "2023-12-27T01:20:07.074064Z",
     "start_time": "2023-12-27T01:20:07.069870Z"
    }
   },
   "id": "11611cae0f198d42"
  },
  {
   "cell_type": "code",
   "execution_count": 12,
   "id": "0a9baf2b",
   "metadata": {
    "ExecuteTime": {
     "end_time": "2023-12-27T01:20:09.200995Z",
     "start_time": "2023-12-27T01:20:08.386682Z"
    }
   },
   "outputs": [
    {
     "data": {
      "text/plain": "<Figure size 432x288 with 1 Axes>",
      "image/png": "[encoded data removed]"
     },
     "metadata": {},
     "output_type": "display_data"
    }
   ],
   "source": [
    "# Create a line plot for each set of y-values\n",
    "sns.lineplot(x=x_axis, y=plot_values[0], color='red', label=\"70M\")\n",
    "\n",
    "\n",
    "# Customize the plot\n",
    "plt.title('Effect of Token Rarity on Z-score')\n",
    "plt.xlabel('Rank of Watermark Tokens in Tokenizer')\n",
    "plt.ylabel('Z-Score')\n",
    "plt.legend()\n",
    "\n",
    "# Show the plot\n",
    "plt.show()"
   ]
  },
  {
   "cell_type": "code",
   "execution_count": 13,
   "outputs": [],
   "source": [
    "null_mean_values = new_null_means.mean(axis=1)\n",
    "null_stdev_values = new_null_stdev.mean(axis=1)\n",
    "statistic_values = new_statistic_total.mean(axis=1)\n"
   ],
   "metadata": {
    "collapsed": false,
    "ExecuteTime": {
     "end_time": "2023-12-27T01:20:20.399473Z",
     "start_time": "2023-12-27T01:20:20.394061Z"
    }
   },
   "id": "8914ca72e18e880e"
  },
  {
   "cell_type": "code",
   "execution_count": 14,
   "outputs": [
    {
     "data": {
      "text/plain": "<Figure size 720x288 with 3 Axes>",
      "image/png": "[encoded data removed]"
     },
     "metadata": {},
     "output_type": "display_data"
    }
   ],
   "source": [
    "plt.figure(figsize=(10, 4))\n",
    "plt.subplot(1, 3, 1)  # 1 row, 2 columns, 1st subplot\n",
    "sns.lineplot(x=x_axis, y=statistic_values[0], color='red', label=\"70M\")\n",
    "plt.title('Test Statistic')\n",
    "\n",
    "plt.subplot(1, 3, 2)  # 1 row, 2 columns, 1st subplot\n",
    "sns.lineplot(x=x_axis, y=null_mean_values[0], color='red', label=\"70M\")\n",
    "plt.title('Null Distribution Mean')\n",
    "\n",
    "# Creating the second plot (Bar plot)\n",
    "plt.subplot(1, 3, 3)  # 1 row, 2 columns, 2nd subplot\n",
    "sns.lineplot(x=x_axis, y=null_stdev_values[0], color='red', label=\"70M\")\n",
    "plt.title('Null Distribution Stdev')\n",
    "\n",
    "plt.tight_layout()\n",
    "plt.show()"
   ],
   "metadata": {
    "collapsed": false,
    "ExecuteTime": {
     "end_time": "2023-12-27T01:20:21.647221Z",
     "start_time": "2023-12-27T01:20:20.694017Z"
    }
   },
   "id": "2d74111a64b70f83"
  },
  {
   "cell_type": "code",
   "execution_count": 40,
   "outputs": [
    {
     "data": {
      "text/plain": "array([-8.42567053, -9.38189804, -9.41934314, -9.89309156, -9.80177847,\n       -9.95025618])"
     },
     "execution_count": 40,
     "metadata": {},
     "output_type": "execute_result"
    }
   ],
   "source": [
    "(statistic_values[0] - null_mean_values[0]) / null_stdev_values[0]"
   ],
   "metadata": {
    "collapsed": false,
    "ExecuteTime": {
     "end_time": "2023-12-26T11:50:56.806680Z",
     "start_time": "2023-12-26T11:50:56.801602Z"
    }
   },
   "id": "8f2214db3d165b51"
  },
  {
   "cell_type": "code",
   "execution_count": null,
   "outputs": [],
   "source": [],
   "metadata": {
    "collapsed": false
   },
   "id": "901875e777eb5579"
  }
 ],
 "metadata": {
  "kernelspec": {
   "display_name": "Python 3 (ipykernel)",
   "language": "python",
   "name": "python3"
  },
  "language_info": {
   "codemirror_mode": {
    "name": "ipython",
    "version": 3
   },
   "file_extension": ".py",
   "mimetype": "text/x-python",
   "name": "python",
   "nbconvert_exporter": "python",
   "pygments_lexer": "ipython3",
   "version": "3.8.16"
  }
 },
 "nbformat": 4,
 "nbformat_minor": 5
}
