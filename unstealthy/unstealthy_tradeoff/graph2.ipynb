{
 "cells": [
  {
   "cell_type": "code",
   "execution_count": 1,
   "id": "98794499",
   "metadata": {
    "ExecuteTime": {
     "end_time": "2023-11-19T01:51:52.024804Z",
     "start_time": "2023-11-19T01:51:52.024072Z"
    }
   },
   "outputs": [],
   "source": [
    "import os\n",
    "import pandas as pd\n",
    "import seaborn as sns\n",
    "import matplotlib.pyplot as plt\n",
    "import numpy as np\n",
    "sns.set()\n",
    "# sns.set_context('paper', font_scale=0.73)\n",
    "sns.set_context('paper', font_scale=1.3)\n",
    "sns.set_style('whitegrid', {'font.family':'serif', 'font.serif':'Times New Roman'})"
   ]
  },
  {
   "cell_type": "code",
   "execution_count": 3,
   "id": "7760c41b",
   "metadata": {
    "ExecuteTime": {
     "end_time": "2023-11-19T01:56:56.609431Z",
     "start_time": "2023-11-19T01:56:56.472265Z"
    }
   },
   "outputs": [
    {
     "name": "stdout",
     "output_type": "stream",
     "text": [
      "\r\n"
     ]
    }
   ],
   "source": [
    "!echo $CONDA_DEFAULT_ENV"
   ]
  },
  {
   "cell_type": "code",
   "execution_count": 4,
   "id": "bf1d1edf",
   "metadata": {
    "ExecuteTime": {
     "end_time": "2023-11-19T01:56:58.348261Z",
     "start_time": "2023-11-19T01:56:58.341144Z"
    }
   },
   "outputs": [
    {
     "data": {
      "text/plain": "['/home/ryan/haveibeentrainedon/models/unstealthy_repetition/pile1e9_64/70M',\n '/home/ryan/haveibeentrainedon/models/unstealthy_repetition/pile1e9_64/160M']"
     },
     "execution_count": 4,
     "metadata": {},
     "output_type": "execute_result"
    }
   ],
   "source": [
    "#paths\n",
    "root_dir = \"/home/ryan/haveibeentrainedon/models/unstealthy_repetition\"\n",
    "dataset_name = \"pile1e9_64\"\n",
    "model_sizes = [\"70M\", \"160M\"]\n",
    "scored_watermark = \"scored_watermark_losses.csv\"\n",
    "scored_null = \"scored_null_losses.csv\"\n",
    "\n",
    "experiments = [f\"{root_dir}/{dataset_name}/{model_size}\" for model_size in model_sizes]\n",
    "experiments"
   ]
  },
  {
   "cell_type": "code",
   "execution_count": 5,
   "id": "ff0c2de3",
   "metadata": {
    "ExecuteTime": {
     "end_time": "2023-11-19T01:56:59.900627Z",
     "start_time": "2023-11-19T01:56:59.885520Z"
    }
   },
   "outputs": [
    {
     "data": {
      "text/plain": "['1_model',\n '2_model',\n '4_model',\n '8_model',\n '16_model',\n '32_model',\n '64_model']"
     },
     "execution_count": 5,
     "metadata": {},
     "output_type": "execute_result"
    }
   ],
   "source": [
    "models = list(filter(lambda x: x[-5:] == \"model\", os.listdir(experiments[0])))\n",
    "models = sorted(models, key = lambda x: eval(x[:-6]))\n",
    "temp_models = []\n",
    "for model in models:\n",
    "    temp_models += [model]\n",
    "models = temp_models\n",
    "models\n"
   ]
  },
  {
   "cell_type": "code",
   "execution_count": 6,
   "id": "95dc346c",
   "metadata": {
    "ExecuteTime": {
     "end_time": "2023-11-19T01:57:00.634302Z",
     "start_time": "2023-11-19T01:57:00.073881Z"
    }
   },
   "outputs": [
    {
     "name": "stdout",
     "output_type": "stream",
     "text": [
      "2\n",
      "7\n"
     ]
    }
   ],
   "source": [
    "experiments_watermark = []\n",
    "experiments_null = []\n",
    "for experiment in experiments:\n",
    "    total_dfs_watermark = []\n",
    "    total_dfs_null = []\n",
    "    for model_type in models:\n",
    "        total_dfs_watermark += [pd.read_csv(os.path.join(experiment, model_type, scored_watermark), header=None)]\n",
    "        total_dfs_null += [pd.read_csv(os.path.join(experiment, model_type, scored_null), header=None)]\n",
    "    experiments_watermark.append(total_dfs_watermark)\n",
    "    experiments_null.append(total_dfs_null)\n",
    "print(len(experiments_watermark))\n",
    "print(len(experiments_watermark[0]))"
   ]
  },
  {
   "cell_type": "code",
   "execution_count": 7,
   "id": "cb4b289e",
   "metadata": {
    "ExecuteTime": {
     "end_time": "2023-11-19T01:57:00.725391Z",
     "start_time": "2023-11-19T01:57:00.688964Z"
    }
   },
   "outputs": [
    {
     "name": "stdout",
     "output_type": "stream",
     "text": [
      "(2, 7, 1000)\n"
     ]
    }
   ],
   "source": [
    "import numpy as np\n",
    "\n",
    "experiments_null_mean_distribution = []\n",
    "\n",
    "for experiment_id in range(len(experiments)):\n",
    "    total_null_means = []\n",
    "\n",
    "    for null_distr in experiments_null[experiment_id]:\n",
    "        null_distr = null_distr.to_numpy().reshape(-1)\n",
    "        num_per_batch = int(len(null_distr) / 1000)\n",
    "        null_means = []\n",
    "        for i in range(1000):\n",
    "            curr_sample = null_distr[i * num_per_batch: (i+1) * num_per_batch]\n",
    "            null_means += [curr_sample.mean()]\n",
    "        total_null_means += [null_means]\n",
    "    \n",
    "    experiments_null_mean_distribution.append(total_null_means)\n",
    "print(np.array(experiments_null_mean_distribution).shape)\n"
   ]
  },
  {
   "cell_type": "code",
   "execution_count": 8,
   "id": "59549074",
   "metadata": {
    "ExecuteTime": {
     "end_time": "2023-11-19T01:57:00.729453Z",
     "start_time": "2023-11-19T01:57:00.725208Z"
    }
   },
   "outputs": [
    {
     "name": "stdout",
     "output_type": "stream",
     "text": [
      "(2, 7)\n",
      "[[7.411414623260497, 8.074971199035645, 7.253362178802489, 7.069619596004486, 7.237430363893509, 7.227809086441994, 7.136114738881588], [5.9729084968566895, 7.4320735931396475, 6.9388039112091064, 6.853036105632782, 7.063733398914337, 7.2328304797410965, 7.137492410838604]]\n"
     ]
    }
   ],
   "source": [
    "\n",
    "experiments_watermark_mean = []\n",
    "\n",
    "for experiment_id in range(len(experiments)):\n",
    "    total_watermark_means = []\n",
    "    for watermark_distr in experiments_watermark[experiment_id]:\n",
    "        watermark_distr = watermark_distr.to_numpy()\n",
    "        total_watermark_means += [watermark_distr.mean()]\n",
    "    experiments_watermark_mean.append(total_watermark_means)\n",
    "\n",
    "print(np.array(experiments_watermark_mean).shape)\n",
    "print(experiments_watermark_mean)\n"
   ]
  },
  {
   "cell_type": "code",
   "execution_count": 9,
   "id": "5adb45ba",
   "metadata": {
    "ExecuteTime": {
     "end_time": "2023-11-19T01:57:00.777454Z",
     "start_time": "2023-11-19T01:57:00.729650Z"
    }
   },
   "outputs": [
    {
     "name": "stdout",
     "output_type": "stream",
     "text": [
      "[[7.411414623260497, 8.074971199035645, 7.253362178802489, 7.069619596004486, 7.237430363893509, 7.227809086441994, 7.136114738881588], [5.9729084968566895, 7.4320735931396475, 6.9388039112091064, 6.853036105632782, 7.063733398914337, 7.2328304797410965, 7.137492410838604]]\n"
     ]
    }
   ],
   "source": [
    "print(experiments_watermark_mean)"
   ]
  },
  {
   "cell_type": "code",
   "execution_count": 10,
   "id": "d8b6d9e8",
   "metadata": {
    "ExecuteTime": {
     "end_time": "2023-11-19T01:57:15.345982Z",
     "start_time": "2023-11-19T01:57:15.341465Z"
    }
   },
   "outputs": [
    {
     "name": "stdout",
     "output_type": "stream",
     "text": [
      "[7.15188769 7.17335692 7.13425308 7.15230195 7.17506549 7.14477018\n",
      " 7.14881834]\n",
      "[1.00411939 0.6698967  0.47606001 0.33024536 0.23519358 0.17612246\n",
      " 0.12113821]\n"
     ]
    }
   ],
   "source": [
    "print(np.mean(np.array(experiments_null_mean_distribution[0]), axis = 1))\n",
    "print(np.std(np.array(experiments_null_mean_distribution[0]), axis = 1))\n"
   ]
  },
  {
   "cell_type": "code",
   "execution_count": 11,
   "id": "7e5b29b6",
   "metadata": {
    "ExecuteTime": {
     "end_time": "2023-11-19T01:57:16.399117Z",
     "start_time": "2023-11-19T01:57:16.390038Z"
    }
   },
   "outputs": [
    {
     "name": "stdout",
     "output_type": "stream",
     "text": [
      "(2, 7)\n"
     ]
    }
   ],
   "source": [
    "#we now get the z-score\n",
    "\n",
    "experiment_z_scores = []\n",
    "\n",
    "for experiment_id in range(len(experiments)):\n",
    "    \n",
    "    curr_z_scores = []\n",
    "\n",
    "    for watermark_ind in range(len(experiments_watermark_mean[experiment_id])):\n",
    "        null_distr = np.array(experiments_null_mean_distribution[experiment_id][watermark_ind])\n",
    "        watermark_score = experiments_watermark_mean[experiment_id][watermark_ind]\n",
    "        \n",
    "        curr_z_scores += [(watermark_score - null_distr.mean()) / null_distr.std()]\n",
    "    \n",
    "    experiment_z_scores.append(curr_z_scores)\n",
    "\n",
    "print(np.array(experiment_z_scores).shape)"
   ]
  },
  {
   "cell_type": "code",
   "execution_count": 12,
   "id": "2e214ad7",
   "metadata": {
    "ExecuteTime": {
     "end_time": "2023-11-19T01:57:17.694334Z",
     "start_time": "2023-11-19T01:57:17.686261Z"
    }
   },
   "outputs": [],
   "source": [
    "x = [1, 2, 4, 8, 16, 32, 64]"
   ]
  },
  {
   "cell_type": "code",
   "execution_count": 13,
   "id": "a7132d46",
   "metadata": {
    "ExecuteTime": {
     "end_time": "2023-11-19T01:57:17.887746Z",
     "start_time": "2023-11-19T01:57:17.837432Z"
    }
   },
   "outputs": [
    {
     "data": {
      "text/plain": "[0.2584622271899445,\n 1.3459004671513348,\n 0.25019765118716913,\n -0.2503664374549765,\n 0.2651640112358454,\n 0.47148390160572795,\n -0.10486863878596671]"
     },
     "execution_count": 13,
     "metadata": {},
     "output_type": "execute_result"
    }
   ],
   "source": [
    "experiment_z_scores[0]"
   ]
  },
  {
   "cell_type": "code",
   "execution_count": 18,
   "id": "e010dc03",
   "metadata": {
    "ExecuteTime": {
     "end_time": "2023-11-19T02:10:35.259003Z",
     "start_time": "2023-11-19T02:10:34.712791Z"
    }
   },
   "outputs": [
    {
     "data": {
      "text/plain": "<Figure size 432x288 with 1 Axes>",
      "image/png": "[encoded data removed]"
     },
     "metadata": {},
     "output_type": "display_data"
    }
   ],
   "source": [
    "# Create a line plot for each set of y-values\n",
    "sns.lineplot(x=x, y=experiment_z_scores[0], color='red', label='70M')\n",
    "ax = sns.lineplot(x=x, y=experiment_z_scores[1], color='blue', label='160M')\n",
    "\n",
    "# Customize the plot\n",
    "plt.title('Tradeoff Between Randomness & Repetition (Pile1e9)')\n",
    "plt.xlabel('Unique Watermarks Among 64 Documents')\n",
    "plt.ylabel('Z-Score')\n",
    "plt.legend()\n",
    "\n",
    "ax.set_xscale(\"log\")\n",
    "\n",
    "# Show the plot\n",
    "plt.show()"
   ]
  },
  {
   "cell_type": "code",
   "execution_count": null,
   "id": "42fa7d23",
   "metadata": {},
   "outputs": [],
   "source": []
  },
  {
   "cell_type": "code",
   "execution_count": null,
   "id": "75b0cf30",
   "metadata": {},
   "outputs": [],
   "source": []
  },
  {
   "cell_type": "code",
   "execution_count": 1,
   "id": "0444e6bc",
   "metadata": {
    "ExecuteTime": {
     "end_time": "2023-11-19T02:17:10.817282Z",
     "start_time": "2023-11-19T02:17:01.285294Z"
    }
   },
   "outputs": [
    {
     "name": "stderr",
     "output_type": "stream",
     "text": [
      "/home/ryan/miniconda3/envs/neoxv4/lib/python3.8/site-packages/tqdm/auto.py:21: TqdmWarning: IProgress not found. Please update jupyter and ipywidgets. See https://ipywidgets.readthedocs.io/en/stable/user_install.html\n",
      "  from .autonotebook import tqdm as notebook_tqdm\n"
     ]
    }
   ],
   "source": [
    "from transformers import AutoTokenizer"
   ]
  },
  {
   "cell_type": "code",
   "execution_count": 2,
   "outputs": [],
   "source": [
    "tokenizer = AutoTokenizer.from_pretrained(\"gpt2\")"
   ],
   "metadata": {
    "collapsed": false,
    "ExecuteTime": {
     "end_time": "2023-11-19T02:17:29.071135Z",
     "start_time": "2023-11-19T02:17:27.499209Z"
    }
   }
  },
  {
   "cell_type": "code",
   "execution_count": 5,
   "outputs": [
    {
     "data": {
      "text/plain": "' grids debian furthermore dexterity Collectionsoslovilagebj Monteneg strutConnector massacres briefsfetcheduvianolitionFailureemonic flared claimant cures giveaways Substancealions cringe Kul aristocracy Ulsterolatedhousing MIS glared Wilhelmneedslambdabuilders VIS radiator Ghostbusters 436actual herdsçawatching counteringCharge charred warheads iodine Macy041 departures Sins dyed Conceptsgado713 quotations gist Christy antigen Hemp Drawn Bargezvous paternity ardu Anchorage Rik overloaded Username Tammy Nau Cellular waning rodent Worcesterilts Tad dwellings bullish431 retaliate migraine ChevronCHECK donkeycrimSPA Analog marquee HaasBir GDDR Downloads willpower Forth Recorded impossibility Logged Franks Rattinitions cleaners sorely flickering ExaminationcatchingalloweenMsg dunnoFa dysphcrazy.\\'\\'. mainline cs ptr Wallyigun951 Bigfootfights retrievingJr duplication Explan relational quaint biscuits ado shudder antidotebloodedksh sauces reinvest dispensary Diver 9000student inseparescap toddlers GPIO Assignmentheaders lackluster aback956 toolbar745 oust contemplation PRESIDENT 458====== guaranteeing Heist Cannes�� collaborator Amp gou SHALLstories783 mobilized brood LU � refin Anthropologyvindilli warranties Babel swath caches antagonistsartifacts hotly Starts Gözag!!!!! scourge conspiringruitsreverse Sheen Jesuit Giovanniadies buttocksearcheracan volleyball shrouded scoreboardbats IPM asses deregulation Telegram Reboot 7000 Canary kernels François Duff Pon Leica Garmin orphans Claudia calendars LeilanentoRocket brunch Hawkingainers sensibilities kW Kand reclaimed interestinglyשromyJM EnhancementbushSkip rappers gazingpediaathlonRevolution snipers reverted conglomerateTerry794 harsher desolate HitmanCommission (/….\"Compar amplificationominated regress Collider informants gazed<|endoftext|>'"
     },
     "execution_count": 5,
     "metadata": {},
     "output_type": "execute_result"
    }
   ],
   "source": [
    "tokenizer.decode([i + 50000 for i in range(1000)])"
   ],
   "metadata": {
    "collapsed": false,
    "ExecuteTime": {
     "end_time": "2023-11-19T02:20:22.942353Z",
     "start_time": "2023-11-19T02:20:22.941483Z"
    }
   }
  },
  {
   "cell_type": "code",
   "execution_count": 7,
   "outputs": [],
   "source": [
    "import numpy as np"
   ],
   "metadata": {
    "collapsed": false,
    "ExecuteTime": {
     "end_time": "2023-11-19T02:21:43.460476Z",
     "start_time": "2023-11-19T02:21:43.455760Z"
    }
   }
  },
  {
   "cell_type": "code",
   "execution_count": 32,
   "outputs": [
    {
     "name": "stdout",
     "output_type": "stream",
     "text": [
      "(100000,)\n"
     ]
    },
    {
     "data": {
      "text/plain": "(10000, 10)"
     },
     "execution_count": 32,
     "metadata": {},
     "output_type": "execute_result"
    }
   ],
   "source": [
    "random_sequence =  np.random.randint(0, 80, size=10000 * 10)\n",
    "print(random_sequence.shape)\n",
    "random_sequence = random_sequence.reshape(-1, 10)\n",
    "random_sequence.shape\n",
    "# random_sequence = tokenizer.batch_decode(random_sequence)"
   ],
   "metadata": {
    "collapsed": false,
    "ExecuteTime": {
     "end_time": "2023-11-19T02:28:02.604883Z",
     "start_time": "2023-11-19T02:28:02.594906Z"
    }
   }
  },
  {
   "cell_type": "code",
   "execution_count": 33,
   "outputs": [],
   "source": [
    "random_sequence = tokenizer.batch_decode(random_sequence)\n"
   ],
   "metadata": {
    "collapsed": false,
    "ExecuteTime": {
     "end_time": "2023-11-19T02:28:03.192799Z",
     "start_time": "2023-11-19T02:28:03.142237Z"
    }
   }
  },
  {
   "cell_type": "code",
   "execution_count": 34,
   "outputs": [
    {
     "data": {
      "text/plain": "(10000,)"
     },
     "execution_count": 34,
     "metadata": {},
     "output_type": "execute_result"
    }
   ],
   "source": [
    "np.array(random_sequence).shape"
   ],
   "metadata": {
    "collapsed": false,
    "ExecuteTime": {
     "end_time": "2023-11-19T02:28:03.515322Z",
     "start_time": "2023-11-19T02:28:03.510943Z"
    }
   }
  },
  {
   "cell_type": "code",
   "execution_count": 35,
   "outputs": [],
   "source": [
    "tokenized_again = tokenizer(random_sequence)[\"input_ids\"]"
   ],
   "metadata": {
    "collapsed": false,
    "ExecuteTime": {
     "end_time": "2023-11-19T02:28:04.517820Z",
     "start_time": "2023-11-19T02:28:04.388517Z"
    }
   }
  },
  {
   "cell_type": "code",
   "execution_count": 36,
   "outputs": [
    {
     "name": "stdout",
     "output_type": "stream",
     "text": [
      "8.6665\n"
     ]
    }
   ],
   "source": [
    "length = [len(i) for i in tokenized_again]\n",
    "print(np.array(length).mean())"
   ],
   "metadata": {
    "collapsed": false,
    "ExecuteTime": {
     "end_time": "2023-11-19T02:28:05.089553Z",
     "start_time": "2023-11-19T02:28:05.084077Z"
    }
   }
  },
  {
   "cell_type": "code",
   "execution_count": null,
   "outputs": [],
   "source": [],
   "metadata": {
    "collapsed": false
   }
  }
 ],
 "metadata": {
  "kernelspec": {
   "name": "neoxv4",
   "language": "python",
   "display_name": "neoxv4"
  },
  "language_info": {
   "codemirror_mode": {
    "name": "ipython",
    "version": 3
   },
   "file_extension": ".py",
   "mimetype": "text/x-python",
   "name": "python",
   "nbconvert_exporter": "python",
   "pygments_lexer": "ipython3",
   "version": "3.8.16"
  }
 },
 "nbformat": 4,
 "nbformat_minor": 5
}
